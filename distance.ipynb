{
 "cells": [
  {
   "cell_type": "code",
   "execution_count": null,
   "metadata": {
    "colab": {
     "base_uri": "https://localhost:8080/"
    },
    "executionInfo": {
     "elapsed": 3361,
     "status": "ok",
     "timestamp": 1622379399138,
     "user": {
      "displayName": "J.C. Kim",
      "photoUrl": "",
      "userId": "10725600617312619545"
     },
     "user_tz": -540
    },
    "id": "iRMmyI3lWHzM",
    "outputId": "c81abc15-d0cd-46c7-e3f7-02ee795f4ef2"
   },
   "outputs": [
    {
     "name": "stdout",
     "output_type": "stream",
     "text": [
      "Requirement already satisfied: haversine in /usr/local/lib/python3.7/dist-packages (2.3.1)\n"
     ]
    }
   ],
   "source": [
    "pip install haversine"
   ]
  },
  {
   "cell_type": "code",
   "execution_count": null,
   "metadata": {
    "id": "L34ONzPkWPkH"
   },
   "outputs": [],
   "source": [
    "from haversine import haversine"
   ]
  },
  {
   "cell_type": "code",
   "execution_count": null,
   "metadata": {
    "id": "eZyvnaaVWXx3"
   },
   "outputs": [],
   "source": [
    "ubasebucheon = (37.486817, 126.783556) # 유베이스 부천 위도/경도\n",
    "covidbucheon = (37.497437, 126.777227) # 부천최근확진자 위도/경도"
   ]
  },
  {
   "cell_type": "code",
   "execution_count": null,
   "metadata": {
    "colab": {
     "base_uri": "https://localhost:8080/"
    },
    "executionInfo": {
     "elapsed": 307,
     "status": "ok",
     "timestamp": 1622379727861,
     "user": {
      "displayName": "J.C. Kim",
      "photoUrl": "",
      "userId": "10725600617312619545"
     },
     "user_tz": -540
    },
    "id": "u7AntWsrXYgo",
    "outputId": "0430d8f5-72d6-493e-deaa-e07ab65a966b"
   },
   "outputs": [
    {
     "data": {
      "text/plain": [
       "1306.2535064128313"
      ]
     },
     "execution_count": 5,
     "metadata": {
      "tags": []
     },
     "output_type": "execute_result"
    }
   ],
   "source": [
    "haversine(ubasebucheon, covidbucheon) * 1000"
   ]
  },
  {
   "cell_type": "code",
   "execution_count": null,
   "metadata": {
    "colab": {
     "base_uri": "https://localhost:8080/"
    },
    "executionInfo": {
     "elapsed": 3408,
     "status": "ok",
     "timestamp": 1622383363496,
     "user": {
      "displayName": "J.C. Kim",
      "photoUrl": "",
      "userId": "10725600617312619545"
     },
     "user_tz": -540
    },
    "id": "Wc5TU5TQlWpN",
    "outputId": "4fedd378-7344-479c-9a6b-e6f4e0c08de9"
   },
   "outputs": [
    {
     "name": "stdout",
     "output_type": "stream",
     "text": [
      "Requirement already satisfied: beautifulsoup4 in /usr/local/lib/python3.7/dist-packages (4.6.3)\n"
     ]
    }
   ],
   "source": [
    "pip install beautifulsoup4"
   ]
  },
  {
   "cell_type": "code",
   "execution_count": null,
   "metadata": {
    "id": "q8Eq6OcUlcj6"
   },
   "outputs": [],
   "source": [
    "from bs4 import BeautifulSoup as bs"
   ]
  },
  {
   "cell_type": "code",
   "execution_count": null,
   "metadata": {
    "colab": {
     "base_uri": "https://localhost:8080/"
    },
    "executionInfo": {
     "elapsed": 294,
     "status": "ok",
     "timestamp": 1622383479484,
     "user": {
      "displayName": "J.C. Kim",
      "photoUrl": "",
      "userId": "10725600617312619545"
     },
     "user_tz": -540
    },
    "id": "94uxILrglc-S",
    "outputId": "9b973bc3-a3f6-4d77-8b18-5d2825d3f867"
   },
   "outputs": [
    {
     "name": "stdout",
     "output_type": "stream",
     "text": [
      "\u001b[H\u001b[2J"
     ]
    }
   ],
   "source": [
    "clear"
   ]
  },
  {
   "cell_type": "code",
   "execution_count": null,
   "metadata": {
    "id": "CmE_pwIaliV6"
   },
   "outputs": [],
   "source": []
  }
 ],
 "metadata": {
  "colab": {
   "authorship_tag": "ABX9TyOY7l1BrLDcuCygW3eMZ7jS",
   "collapsed_sections": [],
   "name": "UBASE1",
   "provenance": []
  },
  "kernelspec": {
   "display_name": "Python 3",
   "language": "python",
   "name": "python3"
  },
  "language_info": {
   "codemirror_mode": {
    "name": "ipython",
    "version": 3
   },
   "file_extension": ".py",
   "mimetype": "text/x-python",
   "name": "python",
   "nbconvert_exporter": "python",
   "pygments_lexer": "ipython3",
   "version": "3.8.8"
  }
 },
 "nbformat": 4,
 "nbformat_minor": 1
}
