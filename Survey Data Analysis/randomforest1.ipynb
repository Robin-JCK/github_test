{
 "cells": [
  {
   "cell_type": "code",
   "execution_count": 15,
   "id": "e28c0fd1",
   "metadata": {
    "scrolled": true
   },
   "outputs": [
    {
     "name": "stdout",
     "output_type": "stream",
     "text": [
      "[ 8  2  9 10  7  6  4  5  3  1]\n",
      "7     21\n",
      "5     10\n",
      "8     10\n",
      "6      7\n",
      "9      7\n",
      "3      5\n",
      "1      3\n",
      "4      3\n",
      "10     3\n",
      "2      2\n",
      "Name: mens_cramp, dtype: int64\n"
     ]
    },
    {
     "name": "stderr",
     "output_type": "stream",
     "text": [
      "D:\\Programs\\anaconda3\\envs\\robinconda\\lib\\site-packages\\matplotlib\\backends\\backend_agg.py:238: RuntimeWarning: Glyph 50900 missing from current font.\n",
      "  font.set_text(s, 0.0, flags=flags)\n",
      "D:\\Programs\\anaconda3\\envs\\robinconda\\lib\\site-packages\\matplotlib\\backends\\backend_agg.py:238: RuntimeWarning: Glyph 44221 missing from current font.\n",
      "  font.set_text(s, 0.0, flags=flags)\n",
      "D:\\Programs\\anaconda3\\envs\\robinconda\\lib\\site-packages\\matplotlib\\backends\\backend_agg.py:238: RuntimeWarning: Glyph 53685 missing from current font.\n",
      "  font.set_text(s, 0.0, flags=flags)\n",
      "D:\\Programs\\anaconda3\\envs\\robinconda\\lib\\site-packages\\matplotlib\\backends\\backend_agg.py:238: RuntimeWarning: Glyph 48712 missing from current font.\n",
      "  font.set_text(s, 0.0, flags=flags)\n",
      "D:\\Programs\\anaconda3\\envs\\robinconda\\lib\\site-packages\\matplotlib\\backends\\backend_agg.py:238: RuntimeWarning: Glyph 46020 missing from current font.\n",
      "  font.set_text(s, 0.0, flags=flags)\n",
      "D:\\Programs\\anaconda3\\envs\\robinconda\\lib\\site-packages\\matplotlib\\backends\\backend_agg.py:201: RuntimeWarning: Glyph 50900 missing from current font.\n",
      "  font.set_text(s, 0, flags=flags)\n",
      "D:\\Programs\\anaconda3\\envs\\robinconda\\lib\\site-packages\\matplotlib\\backends\\backend_agg.py:201: RuntimeWarning: Glyph 44221 missing from current font.\n",
      "  font.set_text(s, 0, flags=flags)\n",
      "D:\\Programs\\anaconda3\\envs\\robinconda\\lib\\site-packages\\matplotlib\\backends\\backend_agg.py:201: RuntimeWarning: Glyph 53685 missing from current font.\n",
      "  font.set_text(s, 0, flags=flags)\n",
      "D:\\Programs\\anaconda3\\envs\\robinconda\\lib\\site-packages\\matplotlib\\backends\\backend_agg.py:201: RuntimeWarning: Glyph 48712 missing from current font.\n",
      "  font.set_text(s, 0, flags=flags)\n",
      "D:\\Programs\\anaconda3\\envs\\robinconda\\lib\\site-packages\\matplotlib\\backends\\backend_agg.py:201: RuntimeWarning: Glyph 46020 missing from current font.\n",
      "  font.set_text(s, 0, flags=flags)\n"
     ]
    },
    {
     "data": {
      "image/png": "[encoded data removed]",
      "text/plain": [
       "<Figure size 432x288 with 1 Axes>"
      ]
     },
     "metadata": {
      "needs_background": "light"
     },
     "output_type": "display_data"
    },
    {
     "name": "stdout",
     "output_type": "stream",
     "text": [
      "*빈도 array : [ 3.  2.  5.  3. 10.  7. 21. 10.  7.  3.]\n",
      "*구간 array : [ 1.   1.9  2.8  3.7  4.6  5.5  6.4  7.3  8.2  9.1 10. ]\n"
     ]
    }
   ],
   "source": [
    "import pandas as pd\n",
    "import numpy as np\n",
    "import matplotlib.pyplot as plt\n",
    "\n",
    "df = pd.read_csv(\"data/test1.csv\")\n",
    "\n",
    "print(df['mens_cramp'].unique())\n",
    "print(df['mens_cramp'].value_counts())\n",
    "\n",
    "plt.title(\"Histogram\", fontsize=15)\n",
    "frq, bins, fig = plt.hist(df[\"mens_cramp\"], bins=10, alpha=.8, color='grey')\n",
    "plt.ylabel(\"빈도\", fontsize=13)\n",
    "plt.xlabel(\"월경통\", fontsize=13)\n",
    "plt.grid()\n",
    "plt.show()\n",
    "print(\"*빈도 array :\", frq)\n",
    "print(\"*구간 array :\", bins)"
   ]
  },
  {
   "cell_type": "markdown",
   "id": "a43b11f0",
   "metadata": {},
   "source": [
    "# 2021서베이 예측"
   ]
  },
  {
   "cell_type": "code",
   "execution_count": 11,
   "id": "75355182",
   "metadata": {
    "scrolled": true
   },
   "outputs": [
    {
     "data": {
      "text/html": [
       "        <script type=\"text/javascript\">\n",
       "        window.PlotlyConfig = {MathJaxConfig: 'local'};\n",
       "        if (window.MathJax) {MathJax.Hub.Config({SVG: {font: \"STIX-Web\"}});}\n",
       "        if (typeof require !== 'undefined') {\n",
       "        require.undef(\"plotly\");\n",
       "        requirejs.config({\n",
       "            paths: {\n",
       "                'plotly': ['https://cdn.plot.ly/plotly-2.2.0.min']\n",
       "            }\n",
       "        });\n",
       "        require(['plotly'], function(Plotly) {\n",
       "            window._Plotly = Plotly;\n",
       "        });\n",
       "        }\n",
       "        </script>\n",
       "        "
      ]
     },
     "metadata": {},
     "output_type": "display_data"
    },
    {
     "name": "stdout",
     "output_type": "stream",
     "text": [
      "Accuracy is:  0.5\n",
      "[[6 0 1]\n",
      " [5 2 2]\n",
      " [1 2 3]]\n",
      "              precision    recall  f1-score   support\n",
      "\n",
      "           0       0.50      0.86      0.63         7\n",
      "           1       0.50      0.22      0.31         9\n",
      "           2       0.50      0.50      0.50         6\n",
      "\n",
      "    accuracy                           0.50        22\n",
      "   macro avg       0.50      0.53      0.48        22\n",
      "weighted avg       0.50      0.50      0.46        22\n",
      "\n",
      "---- Training Done ----\n"
     ]
    },
    {
     "data": {
      "application/vnd.plotly.v1+json": {
       "config": {
        "linkText": "Export to plot.ly",
        "plotlyServerURL": "https://plot.ly",
        "showLink": false
       },
       "data": [
        {
         "marker": {
          "color": [
           0.02401020575929377,
           0.029009685488771957,
           0.016270970695904625,
           0.018032777430011943,
           0.015443909074464407,
           0.029951870356983896,
           0.004319826119573511,
           0.001872753078094141,
           0.0057267075326364785,
           0.004479983068797631,
           0.0023081394837456515,
           0.03459684262699101,
           0.003531724102220179,
           0.006583497105383793,
           0.003171461197960795,
           0.0046403385959247305,
           0.006976002126059977,
           0.005681210019631028,
           0.006546284707023635,
           0.00161711392721891,
           0.006269815065273065,
           0.012770878631833604,
           0.004134744326504195,
           0.0004370714305402243,
           0.005281458441347559,
           0.0022683641099063598,
           0.004445312472881884,
           0.006717398356964044,
           0.001241738784701155,
           0.0010114999511907881,
           0,
           0,
           0.009477268608173226,
           0.008059427277240523,
           0.0009263980559655823,
           0.0012368868975161749,
           0.008670644890375034,
           0.006312354974283298,
           0.0038196500200751477,
           0,
           0.010510464009055915,
           0.005632461045612924,
           0.007290650828893611,
           0.001563817735757072,
           0.0012340202190892502,
           0.026989533313329542,
           0.0078058699346315276,
           0.005622788188315585,
           0.0043550195506526146,
           0.0038485318645212355,
           0.0067011224274530195,
           0.0051458137380362935,
           0.004420204706650018,
           0.00914041650140633,
           0.004710142662596842,
           0.0034366592206274407,
           0.005940625601530125,
           0.0007604493178233714,
           0.004765350951341917,
           0.00681525940665014,
           0.004195295186636795,
           0.012474864690907934,
           0.007152002204444999,
           0.003228458650367968,
           0.002559119473782605,
           0.0058484882056586305,
           0.016951959243930025,
           0.005773292443737433,
           0.01474368271388595,
           0.008557414902722106,
           0.005918307678313692,
           0.006994990730327523,
           0.006112969532241681,
           0.023242665707572264,
           0.00270489859250243,
           0.005686656430008717,
           0.007761056544423674,
           0.0076400713213633075,
           0.0073165055917270684,
           0.0012006966495715628,
           0.004946466550855885,
           0.00308070020610157,
           0.009859735866937546,
           0.0027086889736821843,
           0.003195660901748788,
           0.0003804727275357049,
           0.00019804568824491716,
           0.0050831206572730875,
           0.009316783779803632,
           0.005620692337155449,
           0.026561915315155508,
           0.0067787975896038185,
           0.0006671442375176394,
           0.005129182388212914,
           0.0015915005759599208,
           0.0030186501345868776,
           0.005326622981414245,
           0.003676309749045855,
           0.005534252442056131,
           0.011047695426206256,
           0.005864225296581768,
           0.003014739021614288,
           0.014771238002338741,
           0.004055120442432985,
           0.015041442073848107,
           0.011211661043287755,
           0.00700782889762971,
           0.004232780983174057,
           0.0041091992338471136,
           0.005445641995191939,
           0.0031476069205512106,
           0.008807090873136978,
           0.005753129525406314,
           0.0038973440562901683,
           0.0029336759342963557,
           0.003465052528292749,
           0.0027365159826449135,
           0.0057378492085249045,
           0.004268617624622033,
           0.006320152390973156,
           0.0040755783907258985,
           0.0019570638204408717,
           0.004968256184018017,
           0.005513438251450807,
           0.002062250213717354,
           0.005148817199006946,
           0.0035285519448521427,
           0.00845839964055053,
           0.014335678355030182,
           0.006217969450897852,
           0.004678391782780581,
           0.0010569368757796353,
           0.0013137916337968324,
           0.00030418172735020095,
           0.01706904484498414,
           0.006890983708350815,
           0.0003163405002530067,
           0.0009441045220633104,
           0.0038049245127572454,
           0.008355469910143904,
           0.011479788970934922,
           0.002351819903319058,
           0.010920198518867823,
           0.018694968806321773,
           0.0035529677867193383,
           0.003588756295207831,
           0.004218445983846422,
           0.012434276210776371,
           0.005610440981708087
          ],
          "colorscale": [
           [
            0,
            "rgb(12,51,131)"
           ],
           [
            0.25,
            "rgb(10,136,186)"
           ],
           [
            0.5,
            "rgb(242,211,56)"
           ],
           [
            0.75,
            "rgb(242,143,56)"
           ],
           [
            1,
            "rgb(217,30,30)"
           ]
          ],
          "showscale": true,
          "size": 13,
          "sizemode": "diameter",
          "sizeref": 1
         },
         "mode": "markers",
         "text": [
          "height",
          "weight",
          "mens_cycle",
          "mens_period",
          "menarche_age",
          "bmi",
          "diet_with_product",
          "diet_no",
          "diet_meal+exercise",
          "diet_meal",
          "diet_exercise",
          "age",
          "options_tension",
          "options_stiffness",
          "options_diarrhea",
          "options_insomnia",
          "options_abdominal_obesity",
          "options_swelling",
          "options_cold",
          "exercise_type_walking",
          "exercise_type_running",
          "exercise_type_hiking",
          "exercise_type_bicycle",
          "exercise_type_golf",
          "exercise_type_yoga_pilates",
          "exercise_type_swimming",
          "exercise_type_dance",
          "exercise_type_fitness",
          "thyroid_no",
          "thyroid_hypothyroidism",
          "thyroid_hyperthyroidism",
          "thyroid_cancer",
          "mens_disease_no",
          "mens_disease_pms",
          "mens_disease_fibroids",
          "mens_disease_uterine_adenoma",
          "mens_cramp_peak_before",
          "mens_cramp_peak_first_day",
          "mens_cramp_peak_second_day",
          "mens_cramp_peak_third_day",
          "mens_stress_peak_before",
          "mens_stress_peak_first_day",
          "mens_stressp_peak_second_day",
          "mens_stress_peak_third_day",
          "mens_cramp_part_belly",
          "mens_cramp_part_pelvis",
          "mens_cramp_part_waist",
          "mens_cramp_part_below_thigh",
          "mens_cramp_symptoms_swelling",
          "mens_cramp_symptoms_emotion",
          "mens_cramp_symptoms_belly_pain",
          "mens_cramp_symptoms_constipation",
          "mens_cramp_symptoms_lethargy",
          "mens_cramp_symptoms_nervousness",
          "mens_cramp_symptoms_indigestion",
          "mens_cramp_symptoms_gas",
          "mens_cramp_symptoms_diarrhea",
          "mens_cramp_symptoms_digestive_upset",
          "mens_cramp_symptoms_back_pain",
          "mens_cramp_symptoms_chest_pain",
          "mens_cramp_symptoms_increased_appetite",
          "mens_cramp_symptoms_headache",
          "mens_cramp_symptoms_depression",
          "mens_cramp_symptoms_reduced_temperance",
          "mens_cramp_symptoms_migraine",
          "mens_cramp_symptoms_drowsiness",
          "mens_cramp_symptoms_sensitive_temperature",
          "mens_cramp_symptoms_colic",
          "mens_cramp_symptoms_leg_numbness",
          "mens_cramp_symptoms_leg_swelling",
          "mens_cramp_symptoms_voracity",
          "mens_cramp_symptoms_insomnia",
          "mens_cramp_symptoms_anxiety",
          "mens_cramp_symptoms_nausea",
          "mens_cramp_symptoms_decreased_appetite",
          "mens_cramp_symptoms_excessive_sleep",
          "mens_cramp_symptoms_pimple",
          "mens_cramp_symptoms_sickness",
          "mens_cramp_symptoms_exhaustion",
          "mens_cramp_symptoms_breathing_problem",
          "mens_cramp_symptoms_dull_movement",
          "mens_cramp_symptoms_gastrointestinal_disorder",
          "mens_cramp_symptoms_muscle_pain",
          "mens_cramp_symptoms_increased_libido",
          "mens_cramp_symptoms_cold_sweat",
          "mens_cramp_symptoms_dizziness",
          "mens_cramp_symptoms_throw_up",
          "mens_cramp_symptoms_abdominal_swelling",
          "mens_cramp_symptoms_anemia",
          "mens_cramp_symptoms_whirl",
          "mens_cramp_symptoms_joint_pain",
          "mens_cramp_symptoms_sweet",
          "mens_cramp_symptoms_fever",
          "mens_cramp_symptoms_chill",
          "mens_cramp_symptoms_orthostatic_hypotension",
          "mens_cramps_family_mother",
          "mens_cramps_family_older_sister",
          "mens_cramps_family_younger_sister",
          "mens_cramps_family_relatives",
          "mens_cramps_family_no",
          "mens_symptoms_3_ovulation_cramps",
          "mens_symptoms_3_long_cramps",
          "mens_symptoms_3_abnormal",
          "mens_symptoms_3_pressure",
          "mens_symptoms_3_lump",
          "mens_symptoms_3_abdominal_pain",
          "mens_symptoms_3_gas",
          "mens_symptoms_3_pelvis_pain",
          "mens_symptoms_3_long_period",
          "mens_symptoms_3_irregular_blood",
          "mens_symptoms_3_waist_pain",
          "mens_symptoms_3_stressful",
          "mens_symptoms_3_cluster_blood",
          "mens_symptoms_3_diarrhea",
          "mens_symptoms_3_urination",
          "mens_symptoms_3_irregular_blood_amount",
          "mens_symptoms_3_intense_pain",
          "mens_symptoms_3_stomachache",
          "mens_before_after_pattern_toilet",
          "mens_before_after_pattern_app",
          "mens_before_after_pattern_embarrassment",
          "mens_before_after_pattern_sex_nervousness",
          "mens_before_after_pattern_sex_calculate_date",
          "mens_before_after_pattern_sexual_desire",
          "mens_before_after_pattern_accommodation",
          "mens_before_after_pattern_keen",
          "mens_before_after_pattern_cancellation",
          "mens_before_after_pattern_work",
          "mens_before_after_pattern_withstand",
          "mens_before_after_pattern_urgent_cancellation",
          "mens_before_after_pattern_sweet_spicy",
          "mens_before_after_pattern_buy_comfy",
          "mens_before_after_pattern_fancy",
          "mens_before_after_pattern_partying",
          "mens_before_after_pattern_comfy_clothes",
          "mens_before_after_pattern_dark_clothes",
          "mens_before_after_pattern_accessory",
          "mens_before_after_pattern_heavy_makeup",
          "mens_before_after_pattern_deceive",
          "mens_before_after_pattern_help",
          "mens_before_after_pattern_buy_pads",
          "mens_before_after_pattern_borrow_pads",
          "mens_before_after_pattern_bulk_purchase_pads",
          "mens_before_after_pattern_excitement",
          "mens_before_after_pattern_panty_blood",
          "mens_before_after_pattern_throw_out_panty",
          "mens_before_after_pattern_chest_lump",
          "mens_before_after_pattern_weight_changes",
          "mens_before_after_pattern_same_weight"
         ],
         "type": "scatter",
         "x": [
          "height",
          "weight",
          "mens_cycle",
          "mens_period",
          "menarche_age",
          "bmi",
          "diet_with_product",
          "diet_no",
          "diet_meal+exercise",
          "diet_meal",
          "diet_exercise",
          "age",
          "options_tension",
          "options_stiffness",
          "options_diarrhea",
          "options_insomnia",
          "options_abdominal_obesity",
          "options_swelling",
          "options_cold",
          "exercise_type_walking",
          "exercise_type_running",
          "exercise_type_hiking",
          "exercise_type_bicycle",
          "exercise_type_golf",
          "exercise_type_yoga_pilates",
          "exercise_type_swimming",
          "exercise_type_dance",
          "exercise_type_fitness",
          "thyroid_no",
          "thyroid_hypothyroidism",
          "thyroid_hyperthyroidism",
          "thyroid_cancer",
          "mens_disease_no",
          "mens_disease_pms",
          "mens_disease_fibroids",
          "mens_disease_uterine_adenoma",
          "mens_cramp_peak_before",
          "mens_cramp_peak_first_day",
          "mens_cramp_peak_second_day",
          "mens_cramp_peak_third_day",
          "mens_stress_peak_before",
          "mens_stress_peak_first_day",
          "mens_stressp_peak_second_day",
          "mens_stress_peak_third_day",
          "mens_cramp_part_belly",
          "mens_cramp_part_pelvis",
          "mens_cramp_part_waist",
          "mens_cramp_part_below_thigh",
          "mens_cramp_symptoms_swelling",
          "mens_cramp_symptoms_emotion",
          "mens_cramp_symptoms_belly_pain",
          "mens_cramp_symptoms_constipation",
          "mens_cramp_symptoms_lethargy",
          "mens_cramp_symptoms_nervousness",
          "mens_cramp_symptoms_indigestion",
          "mens_cramp_symptoms_gas",
          "mens_cramp_symptoms_diarrhea",
          "mens_cramp_symptoms_digestive_upset",
          "mens_cramp_symptoms_back_pain",
          "mens_cramp_symptoms_chest_pain",
          "mens_cramp_symptoms_increased_appetite",
          "mens_cramp_symptoms_headache",
          "mens_cramp_symptoms_depression",
          "mens_cramp_symptoms_reduced_temperance",
          "mens_cramp_symptoms_migraine",
          "mens_cramp_symptoms_drowsiness",
          "mens_cramp_symptoms_sensitive_temperature",
          "mens_cramp_symptoms_colic",
          "mens_cramp_symptoms_leg_numbness",
          "mens_cramp_symptoms_leg_swelling",
          "mens_cramp_symptoms_voracity",
          "mens_cramp_symptoms_insomnia",
          "mens_cramp_symptoms_anxiety",
          "mens_cramp_symptoms_nausea",
          "mens_cramp_symptoms_decreased_appetite",
          "mens_cramp_symptoms_excessive_sleep",
          "mens_cramp_symptoms_pimple",
          "mens_cramp_symptoms_sickness",
          "mens_cramp_symptoms_exhaustion",
          "mens_cramp_symptoms_breathing_problem",
          "mens_cramp_symptoms_dull_movement",
          "mens_cramp_symptoms_gastrointestinal_disorder",
          "mens_cramp_symptoms_muscle_pain",
          "mens_cramp_symptoms_increased_libido",
          "mens_cramp_symptoms_cold_sweat",
          "mens_cramp_symptoms_dizziness",
          "mens_cramp_symptoms_throw_up",
          "mens_cramp_symptoms_abdominal_swelling",
          "mens_cramp_symptoms_anemia",
          "mens_cramp_symptoms_whirl",
          "mens_cramp_symptoms_joint_pain",
          "mens_cramp_symptoms_sweet",
          "mens_cramp_symptoms_fever",
          "mens_cramp_symptoms_chill",
          "mens_cramp_symptoms_orthostatic_hypotension",
          "mens_cramps_family_mother",
          "mens_cramps_family_older_sister",
          "mens_cramps_family_younger_sister",
          "mens_cramps_family_relatives",
          "mens_cramps_family_no",
          "mens_symptoms_3_ovulation_cramps",
          "mens_symptoms_3_long_cramps",
          "mens_symptoms_3_abnormal",
          "mens_symptoms_3_pressure",
          "mens_symptoms_3_lump",
          "mens_symptoms_3_abdominal_pain",
          "mens_symptoms_3_gas",
          "mens_symptoms_3_pelvis_pain",
          "mens_symptoms_3_long_period",
          "mens_symptoms_3_irregular_blood",
          "mens_symptoms_3_waist_pain",
          "mens_symptoms_3_stressful",
          "mens_symptoms_3_cluster_blood",
          "mens_symptoms_3_diarrhea",
          "mens_symptoms_3_urination",
          "mens_symptoms_3_irregular_blood_amount",
          "mens_symptoms_3_intense_pain",
          "mens_symptoms_3_stomachache",
          "mens_before_after_pattern_toilet",
          "mens_before_after_pattern_app",
          "mens_before_after_pattern_embarrassment",
          "mens_before_after_pattern_sex_nervousness",
          "mens_before_after_pattern_sex_calculate_date",
          "mens_before_after_pattern_sexual_desire",
          "mens_before_after_pattern_accommodation",
          "mens_before_after_pattern_keen",
          "mens_before_after_pattern_cancellation",
          "mens_before_after_pattern_work",
          "mens_before_after_pattern_withstand",
          "mens_before_after_pattern_urgent_cancellation",
          "mens_before_after_pattern_sweet_spicy",
          "mens_before_after_pattern_buy_comfy",
          "mens_before_after_pattern_fancy",
          "mens_before_after_pattern_partying",
          "mens_before_after_pattern_comfy_clothes",
          "mens_before_after_pattern_dark_clothes",
          "mens_before_after_pattern_accessory",
          "mens_before_after_pattern_heavy_makeup",
          "mens_before_after_pattern_deceive",
          "mens_before_after_pattern_help",
          "mens_before_after_pattern_buy_pads",
          "mens_before_after_pattern_borrow_pads",
          "mens_before_after_pattern_bulk_purchase_pads",
          "mens_before_after_pattern_excitement",
          "mens_before_after_pattern_panty_blood",
          "mens_before_after_pattern_throw_out_panty",
          "mens_before_after_pattern_chest_lump",
          "mens_before_after_pattern_weight_changes",
          "mens_before_after_pattern_same_weight"
         ],
         "y": [
          0.02401020575929377,
          0.029009685488771957,
          0.016270970695904625,
          0.018032777430011943,
          0.015443909074464407,
          0.029951870356983896,
          0.004319826119573511,
          0.001872753078094141,
          0.0057267075326364785,
          0.004479983068797631,
          0.0023081394837456515,
          0.03459684262699101,
          0.003531724102220179,
          0.006583497105383793,
          0.003171461197960795,
          0.0046403385959247305,
          0.006976002126059977,
          0.005681210019631028,
          0.006546284707023635,
          0.00161711392721891,
          0.006269815065273065,
          0.012770878631833604,
          0.004134744326504195,
          0.0004370714305402243,
          0.005281458441347559,
          0.0022683641099063598,
          0.004445312472881884,
          0.006717398356964044,
          0.001241738784701155,
          0.0010114999511907881,
          0,
          0,
          0.009477268608173226,
          0.008059427277240523,
          0.0009263980559655823,
          0.0012368868975161749,
          0.008670644890375034,
          0.006312354974283298,
          0.0038196500200751477,
          0,
          0.010510464009055915,
          0.005632461045612924,
          0.007290650828893611,
          0.001563817735757072,
          0.0012340202190892502,
          0.026989533313329542,
          0.0078058699346315276,
          0.005622788188315585,
          0.0043550195506526146,
          0.0038485318645212355,
          0.0067011224274530195,
          0.0051458137380362935,
          0.004420204706650018,
          0.00914041650140633,
          0.004710142662596842,
          0.0034366592206274407,
          0.005940625601530125,
          0.0007604493178233714,
          0.004765350951341917,
          0.00681525940665014,
          0.004195295186636795,
          0.012474864690907934,
          0.007152002204444999,
          0.003228458650367968,
          0.002559119473782605,
          0.0058484882056586305,
          0.016951959243930025,
          0.005773292443737433,
          0.01474368271388595,
          0.008557414902722106,
          0.005918307678313692,
          0.006994990730327523,
          0.006112969532241681,
          0.023242665707572264,
          0.00270489859250243,
          0.005686656430008717,
          0.007761056544423674,
          0.0076400713213633075,
          0.0073165055917270684,
          0.0012006966495715628,
          0.004946466550855885,
          0.00308070020610157,
          0.009859735866937546,
          0.0027086889736821843,
          0.003195660901748788,
          0.0003804727275357049,
          0.00019804568824491716,
          0.0050831206572730875,
          0.009316783779803632,
          0.005620692337155449,
          0.026561915315155508,
          0.0067787975896038185,
          0.0006671442375176394,
          0.005129182388212914,
          0.0015915005759599208,
          0.0030186501345868776,
          0.005326622981414245,
          0.003676309749045855,
          0.005534252442056131,
          0.011047695426206256,
          0.005864225296581768,
          0.003014739021614288,
          0.014771238002338741,
          0.004055120442432985,
          0.015041442073848107,
          0.011211661043287755,
          0.00700782889762971,
          0.004232780983174057,
          0.0041091992338471136,
          0.005445641995191939,
          0.0031476069205512106,
          0.008807090873136978,
          0.005753129525406314,
          0.0038973440562901683,
          0.0029336759342963557,
          0.003465052528292749,
          0.0027365159826449135,
          0.0057378492085249045,
          0.004268617624622033,
          0.006320152390973156,
          0.0040755783907258985,
          0.0019570638204408717,
          0.004968256184018017,
          0.005513438251450807,
          0.002062250213717354,
          0.005148817199006946,
          0.0035285519448521427,
          0.00845839964055053,
          0.014335678355030182,
          0.006217969450897852,
          0.004678391782780581,
          0.0010569368757796353,
          0.0013137916337968324,
          0.00030418172735020095,
          0.01706904484498414,
          0.006890983708350815,
          0.0003163405002530067,
          0.0009441045220633104,
          0.0038049245127572454,
          0.008355469910143904,
          0.011479788970934922,
          0.002351819903319058,
          0.010920198518867823,
          0.018694968806321773,
          0.0035529677867193383,
          0.003588756295207831,
          0.004218445983846422,
          0.012434276210776371,
          0.005610440981708087
         ]
        }
       ],
       "layout": {
        "autosize": true,
        "hovermode": "closest",
        "showlegend": false,
        "template": {
         "data": {
          "bar": [
           {
            "error_x": {
             "color": "#2a3f5f"
            },
            "error_y": {
             "color": "#2a3f5f"
            },
            "marker": {
             "line": {
              "color": "#E5ECF6",
              "width": 0.5
             },
             "pattern": {
              "fillmode": "overlay",
              "size": 10,
              "solidity": 0.2
             }
            },
            "type": "bar"
           }
          ],
          "barpolar": [
           {
            "marker": {
             "line": {
              "color": "#E5ECF6",
              "width": 0.5
             },
             "pattern": {
              "fillmode": "overlay",
              "size": 10,
              "solidity": 0.2
             }
            },
            "type": "barpolar"
           }
          ],
          "carpet": [
           {
            "aaxis": {
             "endlinecolor": "#2a3f5f",
             "gridcolor": "white",
             "linecolor": "white",
             "minorgridcolor": "white",
             "startlinecolor": "#2a3f5f"
            },
            "baxis": {
             "endlinecolor": "#2a3f5f",
             "gridcolor": "white",
             "linecolor": "white",
             "minorgridcolor": "white",
             "startlinecolor": "#2a3f5f"
            },
            "type": "carpet"
           }
          ],
          "choropleth": [
           {
            "colorbar": {
             "outlinewidth": 0,
             "ticks": ""
            },
            "type": "choropleth"
           }
          ],
          "contour": [
           {
            "colorbar": {
             "outlinewidth": 0,
             "ticks": ""
            },
            "colorscale": [
             [
              0,
              "#0d0887"
             ],
             [
              0.1111111111111111,
              "#46039f"
             ],
             [
              0.2222222222222222,
              "#7201a8"
             ],
             [
              0.3333333333333333,
              "#9c179e"
             ],
             [
              0.4444444444444444,
              "#bd3786"
             ],
             [
              0.5555555555555556,
              "#d8576b"
             ],
             [
              0.6666666666666666,
              "#ed7953"
             ],
             [
              0.7777777777777778,
              "#fb9f3a"
             ],
             [
              0.8888888888888888,
              "#fdca26"
             ],
             [
              1,
              "#f0f921"
             ]
            ],
            "type": "contour"
           }
          ],
          "contourcarpet": [
           {
            "colorbar": {
             "outlinewidth": 0,
             "ticks": ""
            },
            "type": "contourcarpet"
           }
          ],
          "heatmap": [
           {
            "colorbar": {
             "outlinewidth": 0,
             "ticks": ""
            },
            "colorscale": [
             [
              0,
              "#0d0887"
             ],
             [
              0.1111111111111111,
              "#46039f"
             ],
             [
              0.2222222222222222,
              "#7201a8"
             ],
             [
              0.3333333333333333,
              "#9c179e"
             ],
             [
              0.4444444444444444,
              "#bd3786"
             ],
             [
              0.5555555555555556,
              "#d8576b"
             ],
             [
              0.6666666666666666,
              "#ed7953"
             ],
             [
              0.7777777777777778,
              "#fb9f3a"
             ],
             [
              0.8888888888888888,
              "#fdca26"
             ],
             [
              1,
              "#f0f921"
             ]
            ],
            "type": "heatmap"
           }
          ],
          "heatmapgl": [
           {
            "colorbar": {
             "outlinewidth": 0,
             "ticks": ""
            },
            "colorscale": [
             [
              0,
              "#0d0887"
             ],
             [
              0.1111111111111111,
              "#46039f"
             ],
             [
              0.2222222222222222,
              "#7201a8"
             ],
             [
              0.3333333333333333,
              "#9c179e"
             ],
             [
              0.4444444444444444,
              "#bd3786"
             ],
             [
              0.5555555555555556,
              "#d8576b"
             ],
             [
              0.6666666666666666,
              "#ed7953"
             ],
             [
              0.7777777777777778,
              "#fb9f3a"
             ],
             [
              0.8888888888888888,
              "#fdca26"
             ],
             [
              1,
              "#f0f921"
             ]
            ],
            "type": "heatmapgl"
           }
          ],
          "histogram": [
           {
            "marker": {
             "pattern": {
              "fillmode": "overlay",
              "size": 10,
              "solidity": 0.2
             }
            },
            "type": "histogram"
           }
          ],
          "histogram2d": [
           {
            "colorbar": {
             "outlinewidth": 0,
             "ticks": ""
            },
            "colorscale": [
             [
              0,
              "#0d0887"
             ],
             [
              0.1111111111111111,
              "#46039f"
             ],
             [
              0.2222222222222222,
              "#7201a8"
             ],
             [
              0.3333333333333333,
              "#9c179e"
             ],
             [
              0.4444444444444444,
              "#bd3786"
             ],
             [
              0.5555555555555556,
              "#d8576b"
             ],
             [
              0.6666666666666666,
              "#ed7953"
             ],
             [
              0.7777777777777778,
              "#fb9f3a"
             ],
             [
              0.8888888888888888,
              "#fdca26"
             ],
             [
              1,
              "#f0f921"
             ]
            ],
            "type": "histogram2d"
           }
          ],
          "histogram2dcontour": [
           {
            "colorbar": {
             "outlinewidth": 0,
             "ticks": ""
            },
            "colorscale": [
             [
              0,
              "#0d0887"
             ],
             [
              0.1111111111111111,
              "#46039f"
             ],
             [
              0.2222222222222222,
              "#7201a8"
             ],
             [
              0.3333333333333333,
              "#9c179e"
             ],
             [
              0.4444444444444444,
              "#bd3786"
             ],
             [
              0.5555555555555556,
              "#d8576b"
             ],
             [
              0.6666666666666666,
              "#ed7953"
             ],
             [
              0.7777777777777778,
              "#fb9f3a"
             ],
             [
              0.8888888888888888,
              "#fdca26"
             ],
             [
              1,
              "#f0f921"
             ]
            ],
            "type": "histogram2dcontour"
           }
          ],
          "mesh3d": [
           {
            "colorbar": {
             "outlinewidth": 0,
             "ticks": ""
            },
            "type": "mesh3d"
           }
          ],
          "parcoords": [
           {
            "line": {
             "colorbar": {
              "outlinewidth": 0,
              "ticks": ""
             }
            },
            "type": "parcoords"
           }
          ],
          "pie": [
           {
            "automargin": true,
            "type": "pie"
           }
          ],
          "scatter": [
           {
            "marker": {
             "colorbar": {
              "outlinewidth": 0,
              "ticks": ""
             }
            },
            "type": "scatter"
           }
          ],
          "scatter3d": [
           {
            "line": {
             "colorbar": {
              "outlinewidth": 0,
              "ticks": ""
             }
            },
            "marker": {
             "colorbar": {
              "outlinewidth": 0,
              "ticks": ""
             }
            },
            "type": "scatter3d"
           }
          ],
          "scattercarpet": [
           {
            "marker": {
             "colorbar": {
              "outlinewidth": 0,
              "ticks": ""
             }
            },
            "type": "scattercarpet"
           }
          ],
          "scattergeo": [
           {
            "marker": {
             "colorbar": {
              "outlinewidth": 0,
              "ticks": ""
             }
            },
            "type": "scattergeo"
           }
          ],
          "scattergl": [
           {
            "marker": {
             "colorbar": {
              "outlinewidth": 0,
              "ticks": ""
             }
            },
            "type": "scattergl"
           }
          ],
          "scattermapbox": [
           {
            "marker": {
             "colorbar": {
              "outlinewidth": 0,
              "ticks": ""
             }
            },
            "type": "scattermapbox"
           }
          ],
          "scatterpolar": [
           {
            "marker": {
             "colorbar": {
              "outlinewidth": 0,
              "ticks": ""
             }
            },
            "type": "scatterpolar"
           }
          ],
          "scatterpolargl": [
           {
            "marker": {
             "colorbar": {
              "outlinewidth": 0,
              "ticks": ""
             }
            },
            "type": "scatterpolargl"
           }
          ],
          "scatterternary": [
           {
            "marker": {
             "colorbar": {
              "outlinewidth": 0,
              "ticks": ""
             }
            },
            "type": "scatterternary"
           }
          ],
          "surface": [
           {
            "colorbar": {
             "outlinewidth": 0,
             "ticks": ""
            },
            "colorscale": [
             [
              0,
              "#0d0887"
             ],
             [
              0.1111111111111111,
              "#46039f"
             ],
             [
              0.2222222222222222,
              "#7201a8"
             ],
             [
              0.3333333333333333,
              "#9c179e"
             ],
             [
              0.4444444444444444,
              "#bd3786"
             ],
             [
              0.5555555555555556,
              "#d8576b"
             ],
             [
              0.6666666666666666,
              "#ed7953"
             ],
             [
              0.7777777777777778,
              "#fb9f3a"
             ],
             [
              0.8888888888888888,
              "#fdca26"
             ],
             [
              1,
              "#f0f921"
             ]
            ],
            "type": "surface"
           }
          ],
          "table": [
           {
            "cells": {
             "fill": {
              "color": "#EBF0F8"
             },
             "line": {
              "color": "white"
             }
            },
            "header": {
             "fill": {
              "color": "#C8D4E3"
             },
             "line": {
              "color": "white"
             }
            },
            "type": "table"
           }
          ]
         },
         "layout": {
          "annotationdefaults": {
           "arrowcolor": "#2a3f5f",
           "arrowhead": 0,
           "arrowwidth": 1
          },
          "autotypenumbers": "strict",
          "coloraxis": {
           "colorbar": {
            "outlinewidth": 0,
            "ticks": ""
           }
          },
          "colorscale": {
           "diverging": [
            [
             0,
             "#8e0152"
            ],
            [
             0.1,
             "#c51b7d"
            ],
            [
             0.2,
             "#de77ae"
            ],
            [
             0.3,
             "#f1b6da"
            ],
            [
             0.4,
             "#fde0ef"
            ],
            [
             0.5,
             "#f7f7f7"
            ],
            [
             0.6,
             "#e6f5d0"
            ],
            [
             0.7,
             "#b8e186"
            ],
            [
             0.8,
             "#7fbc41"
            ],
            [
             0.9,
             "#4d9221"
            ],
            [
             1,
             "#276419"
            ]
           ],
           "sequential": [
            [
             0,
             "#0d0887"
            ],
            [
             0.1111111111111111,
             "#46039f"
            ],
            [
             0.2222222222222222,
             "#7201a8"
            ],
            [
             0.3333333333333333,
             "#9c179e"
            ],
            [
             0.4444444444444444,
             "#bd3786"
            ],
            [
             0.5555555555555556,
             "#d8576b"
            ],
            [
             0.6666666666666666,
             "#ed7953"
            ],
            [
             0.7777777777777778,
             "#fb9f3a"
            ],
            [
             0.8888888888888888,
             "#fdca26"
            ],
            [
             1,
             "#f0f921"
            ]
           ],
           "sequentialminus": [
            [
             0,
             "#0d0887"
            ],
            [
             0.1111111111111111,
             "#46039f"
            ],
            [
             0.2222222222222222,
             "#7201a8"
            ],
            [
             0.3333333333333333,
             "#9c179e"
            ],
            [
             0.4444444444444444,
             "#bd3786"
            ],
            [
             0.5555555555555556,
             "#d8576b"
            ],
            [
             0.6666666666666666,
             "#ed7953"
            ],
            [
             0.7777777777777778,
             "#fb9f3a"
            ],
            [
             0.8888888888888888,
             "#fdca26"
            ],
            [
             1,
             "#f0f921"
            ]
           ]
          },
          "colorway": [
           "#636efa",
           "#EF553B",
           "#00cc96",
           "#ab63fa",
           "#FFA15A",
           "#19d3f3",
           "#FF6692",
           "#B6E880",
           "#FF97FF",
           "#FECB52"
          ],
          "font": {
           "color": "#2a3f5f"
          },
          "geo": {
           "bgcolor": "white",
           "lakecolor": "white",
           "landcolor": "#E5ECF6",
           "showlakes": true,
           "showland": true,
           "subunitcolor": "white"
          },
          "hoverlabel": {
           "align": "left"
          },
          "hovermode": "closest",
          "mapbox": {
           "style": "light"
          },
          "paper_bgcolor": "white",
          "plot_bgcolor": "#E5ECF6",
          "polar": {
           "angularaxis": {
            "gridcolor": "white",
            "linecolor": "white",
            "ticks": ""
           },
           "bgcolor": "#E5ECF6",
           "radialaxis": {
            "gridcolor": "white",
            "linecolor": "white",
            "ticks": ""
           }
          },
          "scene": {
           "xaxis": {
            "backgroundcolor": "#E5ECF6",
            "gridcolor": "white",
            "gridwidth": 2,
            "linecolor": "white",
            "showbackground": true,
            "ticks": "",
            "zerolinecolor": "white"
           },
           "yaxis": {
            "backgroundcolor": "#E5ECF6",
            "gridcolor": "white",
            "gridwidth": 2,
            "linecolor": "white",
            "showbackground": true,
            "ticks": "",
            "zerolinecolor": "white"
           },
           "zaxis": {
            "backgroundcolor": "#E5ECF6",
            "gridcolor": "white",
            "gridwidth": 2,
            "linecolor": "white",
            "showbackground": true,
            "ticks": "",
            "zerolinecolor": "white"
           }
          },
          "shapedefaults": {
           "line": {
            "color": "#2a3f5f"
           }
          },
          "ternary": {
           "aaxis": {
            "gridcolor": "white",
            "linecolor": "white",
            "ticks": ""
           },
           "baxis": {
            "gridcolor": "white",
            "linecolor": "white",
            "ticks": ""
           },
           "bgcolor": "#E5ECF6",
           "caxis": {
            "gridcolor": "white",
            "linecolor": "white",
            "ticks": ""
           }
          },
          "title": {
           "x": 0.05
          },
          "xaxis": {
           "automargin": true,
           "gridcolor": "white",
           "linecolor": "white",
           "ticks": "",
           "title": {
            "standoff": 15
           },
           "zerolinecolor": "white",
           "zerolinewidth": 2
          },
          "yaxis": {
           "automargin": true,
           "gridcolor": "white",
           "linecolor": "white",
           "ticks": "",
           "title": {
            "standoff": 15
           },
           "zerolinecolor": "white",
           "zerolinewidth": 2
          }
         }
        },
        "title": {
         "text": "Random Forest Feature Importance"
        },
        "xaxis": {
         "showgrid": false,
         "showline": false,
         "ticklen": 5,
         "zeroline": false
        },
        "yaxis": {
         "gridwidth": 2,
         "showgrid": false,
         "ticklen": 5,
         "title": {
          "text": "Feature Importance"
         },
         "zeroline": false
        }
       }
      },
      "text/html": [
       "<div>                            <div id=\"527352c1-1d4f-488b-a9d6-f04ceb05cb6e\" class=\"plotly-graph-div\" style=\"height:525px; width:100%;\"></div>            <script type=\"text/javascript\">                require([\"plotly\"], function(Plotly) {                    window.PLOTLYENV=window.PLOTLYENV || {};                                    if (document.getElementById(\"527352c1-1d4f-488b-a9d6-f04ceb05cb6e\")) {                    Plotly.newPlot(                        \"527352c1-1d4f-488b-a9d6-f04ceb05cb6e\",                        [{\"marker\":{\"color\":[0.02401020575929377,0.029009685488771957,0.016270970695904625,0.018032777430011943,0.015443909074464407,0.029951870356983896,0.004319826119573511,0.001872753078094141,0.0057267075326364785,0.004479983068797631,0.0023081394837456515,0.03459684262699101,0.003531724102220179,0.006583497105383793,0.003171461197960795,0.0046403385959247305,0.006976002126059977,0.005681210019631028,0.006546284707023635,0.00161711392721891,0.006269815065273065,0.012770878631833604,0.004134744326504195,0.0004370714305402243,0.005281458441347559,0.0022683641099063598,0.004445312472881884,0.006717398356964044,0.001241738784701155,0.0010114999511907881,0.0,0.0,0.009477268608173226,0.008059427277240523,0.0009263980559655823,0.0012368868975161749,0.008670644890375034,0.006312354974283298,0.0038196500200751477,0.0,0.010510464009055915,0.005632461045612924,0.007290650828893611,0.001563817735757072,0.0012340202190892502,0.026989533313329542,0.0078058699346315276,0.005622788188315585,0.0043550195506526146,0.0038485318645212355,0.0067011224274530195,0.0051458137380362935,0.004420204706650018,0.00914041650140633,0.004710142662596842,0.0034366592206274407,0.005940625601530125,0.0007604493178233714,0.004765350951341917,0.00681525940665014,0.004195295186636795,0.012474864690907934,0.007152002204444999,0.003228458650367968,0.002559119473782605,0.0058484882056586305,0.016951959243930025,0.005773292443737433,0.01474368271388595,0.008557414902722106,0.005918307678313692,0.006994990730327523,0.006112969532241681,0.023242665707572264,0.00270489859250243,0.005686656430008717,0.007761056544423674,0.0076400713213633075,0.0073165055917270684,0.0012006966495715628,0.004946466550855885,0.00308070020610157,0.009859735866937546,0.0027086889736821843,0.003195660901748788,0.0003804727275357049,0.00019804568824491716,0.0050831206572730875,0.009316783779803632,0.005620692337155449,0.026561915315155508,0.0067787975896038185,0.0006671442375176394,0.005129182388212914,0.0015915005759599208,0.0030186501345868776,0.005326622981414245,0.003676309749045855,0.005534252442056131,0.011047695426206256,0.005864225296581768,0.003014739021614288,0.014771238002338741,0.004055120442432985,0.015041442073848107,0.011211661043287755,0.00700782889762971,0.004232780983174057,0.0041091992338471136,0.005445641995191939,0.0031476069205512106,0.008807090873136978,0.005753129525406314,0.0038973440562901683,0.0029336759342963557,0.003465052528292749,0.0027365159826449135,0.0057378492085249045,0.004268617624622033,0.006320152390973156,0.0040755783907258985,0.0019570638204408717,0.004968256184018017,0.005513438251450807,0.002062250213717354,0.005148817199006946,0.0035285519448521427,0.00845839964055053,0.014335678355030182,0.006217969450897852,0.004678391782780581,0.0010569368757796353,0.0013137916337968324,0.00030418172735020095,0.01706904484498414,0.006890983708350815,0.0003163405002530067,0.0009441045220633104,0.0038049245127572454,0.008355469910143904,0.011479788970934922,0.002351819903319058,0.010920198518867823,0.018694968806321773,0.0035529677867193383,0.003588756295207831,0.004218445983846422,0.012434276210776371,0.005610440981708087],\"colorscale\":[[0.0,\"rgb(12,51,131)\"],[0.25,\"rgb(10,136,186)\"],[0.5,\"rgb(242,211,56)\"],[0.75,\"rgb(242,143,56)\"],[1.0,\"rgb(217,30,30)\"]],\"showscale\":true,\"size\":13,\"sizemode\":\"diameter\",\"sizeref\":1},\"mode\":\"markers\",\"text\":[\"height\",\"weight\",\"mens_cycle\",\"mens_period\",\"menarche_age\",\"bmi\",\"diet_with_product\",\"diet_no\",\"diet_meal+exercise\",\"diet_meal\",\"diet_exercise\",\"age\",\"options_tension\",\"options_stiffness\",\"options_diarrhea\",\"options_insomnia\",\"options_abdominal_obesity\",\"options_swelling\",\"options_cold\",\"exercise_type_walking\",\"exercise_type_running\",\"exercise_type_hiking\",\"exercise_type_bicycle\",\"exercise_type_golf\",\"exercise_type_yoga_pilates\",\"exercise_type_swimming\",\"exercise_type_dance\",\"exercise_type_fitness\",\"thyroid_no\",\"thyroid_hypothyroidism\",\"thyroid_hyperthyroidism\",\"thyroid_cancer\",\"mens_disease_no\",\"mens_disease_pms\",\"mens_disease_fibroids\",\"mens_disease_uterine_adenoma\",\"mens_cramp_peak_before\",\"mens_cramp_peak_first_day\",\"mens_cramp_peak_second_day\",\"mens_cramp_peak_third_day\",\"mens_stress_peak_before\",\"mens_stress_peak_first_day\",\"mens_stressp_peak_second_day\",\"mens_stress_peak_third_day\",\"mens_cramp_part_belly\",\"mens_cramp_part_pelvis\",\"mens_cramp_part_waist\",\"mens_cramp_part_below_thigh\",\"mens_cramp_symptoms_swelling\",\"mens_cramp_symptoms_emotion\",\"mens_cramp_symptoms_belly_pain\",\"mens_cramp_symptoms_constipation\",\"mens_cramp_symptoms_lethargy\",\"mens_cramp_symptoms_nervousness\",\"mens_cramp_symptoms_indigestion\",\"mens_cramp_symptoms_gas\",\"mens_cramp_symptoms_diarrhea\",\"mens_cramp_symptoms_digestive_upset\",\"mens_cramp_symptoms_back_pain\",\"mens_cramp_symptoms_chest_pain\",\"mens_cramp_symptoms_increased_appetite\",\"mens_cramp_symptoms_headache\",\"mens_cramp_symptoms_depression\",\"mens_cramp_symptoms_reduced_temperance\",\"mens_cramp_symptoms_migraine\",\"mens_cramp_symptoms_drowsiness\",\"mens_cramp_symptoms_sensitive_temperature\",\"mens_cramp_symptoms_colic\",\"mens_cramp_symptoms_leg_numbness\",\"mens_cramp_symptoms_leg_swelling\",\"mens_cramp_symptoms_voracity\",\"mens_cramp_symptoms_insomnia\",\"mens_cramp_symptoms_anxiety\",\"mens_cramp_symptoms_nausea\",\"mens_cramp_symptoms_decreased_appetite\",\"mens_cramp_symptoms_excessive_sleep\",\"mens_cramp_symptoms_pimple\",\"mens_cramp_symptoms_sickness\",\"mens_cramp_symptoms_exhaustion\",\"mens_cramp_symptoms_breathing_problem\",\"mens_cramp_symptoms_dull_movement\",\"mens_cramp_symptoms_gastrointestinal_disorder\",\"mens_cramp_symptoms_muscle_pain\",\"mens_cramp_symptoms_increased_libido\",\"mens_cramp_symptoms_cold_sweat\",\"mens_cramp_symptoms_dizziness\",\"mens_cramp_symptoms_throw_up\",\"mens_cramp_symptoms_abdominal_swelling\",\"mens_cramp_symptoms_anemia\",\"mens_cramp_symptoms_whirl\",\"mens_cramp_symptoms_joint_pain\",\"mens_cramp_symptoms_sweet\",\"mens_cramp_symptoms_fever\",\"mens_cramp_symptoms_chill\",\"mens_cramp_symptoms_orthostatic_hypotension\",\"mens_cramps_family_mother\",\"mens_cramps_family_older_sister\",\"mens_cramps_family_younger_sister\",\"mens_cramps_family_relatives\",\"mens_cramps_family_no\",\"mens_symptoms_3_ovulation_cramps\",\"mens_symptoms_3_long_cramps\",\"mens_symptoms_3_abnormal\",\"mens_symptoms_3_pressure\",\"mens_symptoms_3_lump\",\"mens_symptoms_3_abdominal_pain\",\"mens_symptoms_3_gas\",\"mens_symptoms_3_pelvis_pain\",\"mens_symptoms_3_long_period\",\"mens_symptoms_3_irregular_blood\",\"mens_symptoms_3_waist_pain\",\"mens_symptoms_3_stressful\",\"mens_symptoms_3_cluster_blood\",\"mens_symptoms_3_diarrhea\",\"mens_symptoms_3_urination\",\"mens_symptoms_3_irregular_blood_amount\",\"mens_symptoms_3_intense_pain\",\"mens_symptoms_3_stomachache\",\"mens_before_after_pattern_toilet\",\"mens_before_after_pattern_app\",\"mens_before_after_pattern_embarrassment\",\"mens_before_after_pattern_sex_nervousness\",\"mens_before_after_pattern_sex_calculate_date\",\"mens_before_after_pattern_sexual_desire\",\"mens_before_after_pattern_accommodation\",\"mens_before_after_pattern_keen\",\"mens_before_after_pattern_cancellation\",\"mens_before_after_pattern_work\",\"mens_before_after_pattern_withstand\",\"mens_before_after_pattern_urgent_cancellation\",\"mens_before_after_pattern_sweet_spicy\",\"mens_before_after_pattern_buy_comfy\",\"mens_before_after_pattern_fancy\",\"mens_before_after_pattern_partying\",\"mens_before_after_pattern_comfy_clothes\",\"mens_before_after_pattern_dark_clothes\",\"mens_before_after_pattern_accessory\",\"mens_before_after_pattern_heavy_makeup\",\"mens_before_after_pattern_deceive\",\"mens_before_after_pattern_help\",\"mens_before_after_pattern_buy_pads\",\"mens_before_after_pattern_borrow_pads\",\"mens_before_after_pattern_bulk_purchase_pads\",\"mens_before_after_pattern_excitement\",\"mens_before_after_pattern_panty_blood\",\"mens_before_after_pattern_throw_out_panty\",\"mens_before_after_pattern_chest_lump\",\"mens_before_after_pattern_weight_changes\",\"mens_before_after_pattern_same_weight\"],\"type\":\"scatter\",\"x\":[\"height\",\"weight\",\"mens_cycle\",\"mens_period\",\"menarche_age\",\"bmi\",\"diet_with_product\",\"diet_no\",\"diet_meal+exercise\",\"diet_meal\",\"diet_exercise\",\"age\",\"options_tension\",\"options_stiffness\",\"options_diarrhea\",\"options_insomnia\",\"options_abdominal_obesity\",\"options_swelling\",\"options_cold\",\"exercise_type_walking\",\"exercise_type_running\",\"exercise_type_hiking\",\"exercise_type_bicycle\",\"exercise_type_golf\",\"exercise_type_yoga_pilates\",\"exercise_type_swimming\",\"exercise_type_dance\",\"exercise_type_fitness\",\"thyroid_no\",\"thyroid_hypothyroidism\",\"thyroid_hyperthyroidism\",\"thyroid_cancer\",\"mens_disease_no\",\"mens_disease_pms\",\"mens_disease_fibroids\",\"mens_disease_uterine_adenoma\",\"mens_cramp_peak_before\",\"mens_cramp_peak_first_day\",\"mens_cramp_peak_second_day\",\"mens_cramp_peak_third_day\",\"mens_stress_peak_before\",\"mens_stress_peak_first_day\",\"mens_stressp_peak_second_day\",\"mens_stress_peak_third_day\",\"mens_cramp_part_belly\",\"mens_cramp_part_pelvis\",\"mens_cramp_part_waist\",\"mens_cramp_part_below_thigh\",\"mens_cramp_symptoms_swelling\",\"mens_cramp_symptoms_emotion\",\"mens_cramp_symptoms_belly_pain\",\"mens_cramp_symptoms_constipation\",\"mens_cramp_symptoms_lethargy\",\"mens_cramp_symptoms_nervousness\",\"mens_cramp_symptoms_indigestion\",\"mens_cramp_symptoms_gas\",\"mens_cramp_symptoms_diarrhea\",\"mens_cramp_symptoms_digestive_upset\",\"mens_cramp_symptoms_back_pain\",\"mens_cramp_symptoms_chest_pain\",\"mens_cramp_symptoms_increased_appetite\",\"mens_cramp_symptoms_headache\",\"mens_cramp_symptoms_depression\",\"mens_cramp_symptoms_reduced_temperance\",\"mens_cramp_symptoms_migraine\",\"mens_cramp_symptoms_drowsiness\",\"mens_cramp_symptoms_sensitive_temperature\",\"mens_cramp_symptoms_colic\",\"mens_cramp_symptoms_leg_numbness\",\"mens_cramp_symptoms_leg_swelling\",\"mens_cramp_symptoms_voracity\",\"mens_cramp_symptoms_insomnia\",\"mens_cramp_symptoms_anxiety\",\"mens_cramp_symptoms_nausea\",\"mens_cramp_symptoms_decreased_appetite\",\"mens_cramp_symptoms_excessive_sleep\",\"mens_cramp_symptoms_pimple\",\"mens_cramp_symptoms_sickness\",\"mens_cramp_symptoms_exhaustion\",\"mens_cramp_symptoms_breathing_problem\",\"mens_cramp_symptoms_dull_movement\",\"mens_cramp_symptoms_gastrointestinal_disorder\",\"mens_cramp_symptoms_muscle_pain\",\"mens_cramp_symptoms_increased_libido\",\"mens_cramp_symptoms_cold_sweat\",\"mens_cramp_symptoms_dizziness\",\"mens_cramp_symptoms_throw_up\",\"mens_cramp_symptoms_abdominal_swelling\",\"mens_cramp_symptoms_anemia\",\"mens_cramp_symptoms_whirl\",\"mens_cramp_symptoms_joint_pain\",\"mens_cramp_symptoms_sweet\",\"mens_cramp_symptoms_fever\",\"mens_cramp_symptoms_chill\",\"mens_cramp_symptoms_orthostatic_hypotension\",\"mens_cramps_family_mother\",\"mens_cramps_family_older_sister\",\"mens_cramps_family_younger_sister\",\"mens_cramps_family_relatives\",\"mens_cramps_family_no\",\"mens_symptoms_3_ovulation_cramps\",\"mens_symptoms_3_long_cramps\",\"mens_symptoms_3_abnormal\",\"mens_symptoms_3_pressure\",\"mens_symptoms_3_lump\",\"mens_symptoms_3_abdominal_pain\",\"mens_symptoms_3_gas\",\"mens_symptoms_3_pelvis_pain\",\"mens_symptoms_3_long_period\",\"mens_symptoms_3_irregular_blood\",\"mens_symptoms_3_waist_pain\",\"mens_symptoms_3_stressful\",\"mens_symptoms_3_cluster_blood\",\"mens_symptoms_3_diarrhea\",\"mens_symptoms_3_urination\",\"mens_symptoms_3_irregular_blood_amount\",\"mens_symptoms_3_intense_pain\",\"mens_symptoms_3_stomachache\",\"mens_before_after_pattern_toilet\",\"mens_before_after_pattern_app\",\"mens_before_after_pattern_embarrassment\",\"mens_before_after_pattern_sex_nervousness\",\"mens_before_after_pattern_sex_calculate_date\",\"mens_before_after_pattern_sexual_desire\",\"mens_before_after_pattern_accommodation\",\"mens_before_after_pattern_keen\",\"mens_before_after_pattern_cancellation\",\"mens_before_after_pattern_work\",\"mens_before_after_pattern_withstand\",\"mens_before_after_pattern_urgent_cancellation\",\"mens_before_after_pattern_sweet_spicy\",\"mens_before_after_pattern_buy_comfy\",\"mens_before_after_pattern_fancy\",\"mens_before_after_pattern_partying\",\"mens_before_after_pattern_comfy_clothes\",\"mens_before_after_pattern_dark_clothes\",\"mens_before_after_pattern_accessory\",\"mens_before_after_pattern_heavy_makeup\",\"mens_before_after_pattern_deceive\",\"mens_before_after_pattern_help\",\"mens_before_after_pattern_buy_pads\",\"mens_before_after_pattern_borrow_pads\",\"mens_before_after_pattern_bulk_purchase_pads\",\"mens_before_after_pattern_excitement\",\"mens_before_after_pattern_panty_blood\",\"mens_before_after_pattern_throw_out_panty\",\"mens_before_after_pattern_chest_lump\",\"mens_before_after_pattern_weight_changes\",\"mens_before_after_pattern_same_weight\"],\"y\":[0.02401020575929377,0.029009685488771957,0.016270970695904625,0.018032777430011943,0.015443909074464407,0.029951870356983896,0.004319826119573511,0.001872753078094141,0.0057267075326364785,0.004479983068797631,0.0023081394837456515,0.03459684262699101,0.003531724102220179,0.006583497105383793,0.003171461197960795,0.0046403385959247305,0.006976002126059977,0.005681210019631028,0.006546284707023635,0.00161711392721891,0.006269815065273065,0.012770878631833604,0.004134744326504195,0.0004370714305402243,0.005281458441347559,0.0022683641099063598,0.004445312472881884,0.006717398356964044,0.001241738784701155,0.0010114999511907881,0.0,0.0,0.009477268608173226,0.008059427277240523,0.0009263980559655823,0.0012368868975161749,0.008670644890375034,0.006312354974283298,0.0038196500200751477,0.0,0.010510464009055915,0.005632461045612924,0.007290650828893611,0.001563817735757072,0.0012340202190892502,0.026989533313329542,0.0078058699346315276,0.005622788188315585,0.0043550195506526146,0.0038485318645212355,0.0067011224274530195,0.0051458137380362935,0.004420204706650018,0.00914041650140633,0.004710142662596842,0.0034366592206274407,0.005940625601530125,0.0007604493178233714,0.004765350951341917,0.00681525940665014,0.004195295186636795,0.012474864690907934,0.007152002204444999,0.003228458650367968,0.002559119473782605,0.0058484882056586305,0.016951959243930025,0.005773292443737433,0.01474368271388595,0.008557414902722106,0.005918307678313692,0.006994990730327523,0.006112969532241681,0.023242665707572264,0.00270489859250243,0.005686656430008717,0.007761056544423674,0.0076400713213633075,0.0073165055917270684,0.0012006966495715628,0.004946466550855885,0.00308070020610157,0.009859735866937546,0.0027086889736821843,0.003195660901748788,0.0003804727275357049,0.00019804568824491716,0.0050831206572730875,0.009316783779803632,0.005620692337155449,0.026561915315155508,0.0067787975896038185,0.0006671442375176394,0.005129182388212914,0.0015915005759599208,0.0030186501345868776,0.005326622981414245,0.003676309749045855,0.005534252442056131,0.011047695426206256,0.005864225296581768,0.003014739021614288,0.014771238002338741,0.004055120442432985,0.015041442073848107,0.011211661043287755,0.00700782889762971,0.004232780983174057,0.0041091992338471136,0.005445641995191939,0.0031476069205512106,0.008807090873136978,0.005753129525406314,0.0038973440562901683,0.0029336759342963557,0.003465052528292749,0.0027365159826449135,0.0057378492085249045,0.004268617624622033,0.006320152390973156,0.0040755783907258985,0.0019570638204408717,0.004968256184018017,0.005513438251450807,0.002062250213717354,0.005148817199006946,0.0035285519448521427,0.00845839964055053,0.014335678355030182,0.006217969450897852,0.004678391782780581,0.0010569368757796353,0.0013137916337968324,0.00030418172735020095,0.01706904484498414,0.006890983708350815,0.0003163405002530067,0.0009441045220633104,0.0038049245127572454,0.008355469910143904,0.011479788970934922,0.002351819903319058,0.010920198518867823,0.018694968806321773,0.0035529677867193383,0.003588756295207831,0.004218445983846422,0.012434276210776371,0.005610440981708087]}],                        {\"autosize\":true,\"hovermode\":\"closest\",\"showlegend\":false,\"template\":{\"data\":{\"bar\":[{\"error_x\":{\"color\":\"#2a3f5f\"},\"error_y\":{\"color\":\"#2a3f5f\"},\"marker\":{\"line\":{\"color\":\"#E5ECF6\",\"width\":0.5},\"pattern\":{\"fillmode\":\"overlay\",\"size\":10,\"solidity\":0.2}},\"type\":\"bar\"}],\"barpolar\":[{\"marker\":{\"line\":{\"color\":\"#E5ECF6\",\"width\":0.5},\"pattern\":{\"fillmode\":\"overlay\",\"size\":10,\"solidity\":0.2}},\"type\":\"barpolar\"}],\"carpet\":[{\"aaxis\":{\"endlinecolor\":\"#2a3f5f\",\"gridcolor\":\"white\",\"linecolor\":\"white\",\"minorgridcolor\":\"white\",\"startlinecolor\":\"#2a3f5f\"},\"baxis\":{\"endlinecolor\":\"#2a3f5f\",\"gridcolor\":\"white\",\"linecolor\":\"white\",\"minorgridcolor\":\"white\",\"startlinecolor\":\"#2a3f5f\"},\"type\":\"carpet\"}],\"choropleth\":[{\"colorbar\":{\"outlinewidth\":0,\"ticks\":\"\"},\"type\":\"choropleth\"}],\"contour\":[{\"colorbar\":{\"outlinewidth\":0,\"ticks\":\"\"},\"colorscale\":[[0.0,\"#0d0887\"],[0.1111111111111111,\"#46039f\"],[0.2222222222222222,\"#7201a8\"],[0.3333333333333333,\"#9c179e\"],[0.4444444444444444,\"#bd3786\"],[0.5555555555555556,\"#d8576b\"],[0.6666666666666666,\"#ed7953\"],[0.7777777777777778,\"#fb9f3a\"],[0.8888888888888888,\"#fdca26\"],[1.0,\"#f0f921\"]],\"type\":\"contour\"}],\"contourcarpet\":[{\"colorbar\":{\"outlinewidth\":0,\"ticks\":\"\"},\"type\":\"contourcarpet\"}],\"heatmap\":[{\"colorbar\":{\"outlinewidth\":0,\"ticks\":\"\"},\"colorscale\":[[0.0,\"#0d0887\"],[0.1111111111111111,\"#46039f\"],[0.2222222222222222,\"#7201a8\"],[0.3333333333333333,\"#9c179e\"],[0.4444444444444444,\"#bd3786\"],[0.5555555555555556,\"#d8576b\"],[0.6666666666666666,\"#ed7953\"],[0.7777777777777778,\"#fb9f3a\"],[0.8888888888888888,\"#fdca26\"],[1.0,\"#f0f921\"]],\"type\":\"heatmap\"}],\"heatmapgl\":[{\"colorbar\":{\"outlinewidth\":0,\"ticks\":\"\"},\"colorscale\":[[0.0,\"#0d0887\"],[0.1111111111111111,\"#46039f\"],[0.2222222222222222,\"#7201a8\"],[0.3333333333333333,\"#9c179e\"],[0.4444444444444444,\"#bd3786\"],[0.5555555555555556,\"#d8576b\"],[0.6666666666666666,\"#ed7953\"],[0.7777777777777778,\"#fb9f3a\"],[0.8888888888888888,\"#fdca26\"],[1.0,\"#f0f921\"]],\"type\":\"heatmapgl\"}],\"histogram\":[{\"marker\":{\"pattern\":{\"fillmode\":\"overlay\",\"size\":10,\"solidity\":0.2}},\"type\":\"histogram\"}],\"histogram2d\":[{\"colorbar\":{\"outlinewidth\":0,\"ticks\":\"\"},\"colorscale\":[[0.0,\"#0d0887\"],[0.1111111111111111,\"#46039f\"],[0.2222222222222222,\"#7201a8\"],[0.3333333333333333,\"#9c179e\"],[0.4444444444444444,\"#bd3786\"],[0.5555555555555556,\"#d8576b\"],[0.6666666666666666,\"#ed7953\"],[0.7777777777777778,\"#fb9f3a\"],[0.8888888888888888,\"#fdca26\"],[1.0,\"#f0f921\"]],\"type\":\"histogram2d\"}],\"histogram2dcontour\":[{\"colorbar\":{\"outlinewidth\":0,\"ticks\":\"\"},\"colorscale\":[[0.0,\"#0d0887\"],[0.1111111111111111,\"#46039f\"],[0.2222222222222222,\"#7201a8\"],[0.3333333333333333,\"#9c179e\"],[0.4444444444444444,\"#bd3786\"],[0.5555555555555556,\"#d8576b\"],[0.6666666666666666,\"#ed7953\"],[0.7777777777777778,\"#fb9f3a\"],[0.8888888888888888,\"#fdca26\"],[1.0,\"#f0f921\"]],\"type\":\"histogram2dcontour\"}],\"mesh3d\":[{\"colorbar\":{\"outlinewidth\":0,\"ticks\":\"\"},\"type\":\"mesh3d\"}],\"parcoords\":[{\"line\":{\"colorbar\":{\"outlinewidth\":0,\"ticks\":\"\"}},\"type\":\"parcoords\"}],\"pie\":[{\"automargin\":true,\"type\":\"pie\"}],\"scatter\":[{\"marker\":{\"colorbar\":{\"outlinewidth\":0,\"ticks\":\"\"}},\"type\":\"scatter\"}],\"scatter3d\":[{\"line\":{\"colorbar\":{\"outlinewidth\":0,\"ticks\":\"\"}},\"marker\":{\"colorbar\":{\"outlinewidth\":0,\"ticks\":\"\"}},\"type\":\"scatter3d\"}],\"scattercarpet\":[{\"marker\":{\"colorbar\":{\"outlinewidth\":0,\"ticks\":\"\"}},\"type\":\"scattercarpet\"}],\"scattergeo\":[{\"marker\":{\"colorbar\":{\"outlinewidth\":0,\"ticks\":\"\"}},\"type\":\"scattergeo\"}],\"scattergl\":[{\"marker\":{\"colorbar\":{\"outlinewidth\":0,\"ticks\":\"\"}},\"type\":\"scattergl\"}],\"scattermapbox\":[{\"marker\":{\"colorbar\":{\"outlinewidth\":0,\"ticks\":\"\"}},\"type\":\"scattermapbox\"}],\"scatterpolar\":[{\"marker\":{\"colorbar\":{\"outlinewidth\":0,\"ticks\":\"\"}},\"type\":\"scatterpolar\"}],\"scatterpolargl\":[{\"marker\":{\"colorbar\":{\"outlinewidth\":0,\"ticks\":\"\"}},\"type\":\"scatterpolargl\"}],\"scatterternary\":[{\"marker\":{\"colorbar\":{\"outlinewidth\":0,\"ticks\":\"\"}},\"type\":\"scatterternary\"}],\"surface\":[{\"colorbar\":{\"outlinewidth\":0,\"ticks\":\"\"},\"colorscale\":[[0.0,\"#0d0887\"],[0.1111111111111111,\"#46039f\"],[0.2222222222222222,\"#7201a8\"],[0.3333333333333333,\"#9c179e\"],[0.4444444444444444,\"#bd3786\"],[0.5555555555555556,\"#d8576b\"],[0.6666666666666666,\"#ed7953\"],[0.7777777777777778,\"#fb9f3a\"],[0.8888888888888888,\"#fdca26\"],[1.0,\"#f0f921\"]],\"type\":\"surface\"}],\"table\":[{\"cells\":{\"fill\":{\"color\":\"#EBF0F8\"},\"line\":{\"color\":\"white\"}},\"header\":{\"fill\":{\"color\":\"#C8D4E3\"},\"line\":{\"color\":\"white\"}},\"type\":\"table\"}]},\"layout\":{\"annotationdefaults\":{\"arrowcolor\":\"#2a3f5f\",\"arrowhead\":0,\"arrowwidth\":1},\"autotypenumbers\":\"strict\",\"coloraxis\":{\"colorbar\":{\"outlinewidth\":0,\"ticks\":\"\"}},\"colorscale\":{\"diverging\":[[0,\"#8e0152\"],[0.1,\"#c51b7d\"],[0.2,\"#de77ae\"],[0.3,\"#f1b6da\"],[0.4,\"#fde0ef\"],[0.5,\"#f7f7f7\"],[0.6,\"#e6f5d0\"],[0.7,\"#b8e186\"],[0.8,\"#7fbc41\"],[0.9,\"#4d9221\"],[1,\"#276419\"]],\"sequential\":[[0.0,\"#0d0887\"],[0.1111111111111111,\"#46039f\"],[0.2222222222222222,\"#7201a8\"],[0.3333333333333333,\"#9c179e\"],[0.4444444444444444,\"#bd3786\"],[0.5555555555555556,\"#d8576b\"],[0.6666666666666666,\"#ed7953\"],[0.7777777777777778,\"#fb9f3a\"],[0.8888888888888888,\"#fdca26\"],[1.0,\"#f0f921\"]],\"sequentialminus\":[[0.0,\"#0d0887\"],[0.1111111111111111,\"#46039f\"],[0.2222222222222222,\"#7201a8\"],[0.3333333333333333,\"#9c179e\"],[0.4444444444444444,\"#bd3786\"],[0.5555555555555556,\"#d8576b\"],[0.6666666666666666,\"#ed7953\"],[0.7777777777777778,\"#fb9f3a\"],[0.8888888888888888,\"#fdca26\"],[1.0,\"#f0f921\"]]},\"colorway\":[\"#636efa\",\"#EF553B\",\"#00cc96\",\"#ab63fa\",\"#FFA15A\",\"#19d3f3\",\"#FF6692\",\"#B6E880\",\"#FF97FF\",\"#FECB52\"],\"font\":{\"color\":\"#2a3f5f\"},\"geo\":{\"bgcolor\":\"white\",\"lakecolor\":\"white\",\"landcolor\":\"#E5ECF6\",\"showlakes\":true,\"showland\":true,\"subunitcolor\":\"white\"},\"hoverlabel\":{\"align\":\"left\"},\"hovermode\":\"closest\",\"mapbox\":{\"style\":\"light\"},\"paper_bgcolor\":\"white\",\"plot_bgcolor\":\"#E5ECF6\",\"polar\":{\"angularaxis\":{\"gridcolor\":\"white\",\"linecolor\":\"white\",\"ticks\":\"\"},\"bgcolor\":\"#E5ECF6\",\"radialaxis\":{\"gridcolor\":\"white\",\"linecolor\":\"white\",\"ticks\":\"\"}},\"scene\":{\"xaxis\":{\"backgroundcolor\":\"#E5ECF6\",\"gridcolor\":\"white\",\"gridwidth\":2,\"linecolor\":\"white\",\"showbackground\":true,\"ticks\":\"\",\"zerolinecolor\":\"white\"},\"yaxis\":{\"backgroundcolor\":\"#E5ECF6\",\"gridcolor\":\"white\",\"gridwidth\":2,\"linecolor\":\"white\",\"showbackground\":true,\"ticks\":\"\",\"zerolinecolor\":\"white\"},\"zaxis\":{\"backgroundcolor\":\"#E5ECF6\",\"gridcolor\":\"white\",\"gridwidth\":2,\"linecolor\":\"white\",\"showbackground\":true,\"ticks\":\"\",\"zerolinecolor\":\"white\"}},\"shapedefaults\":{\"line\":{\"color\":\"#2a3f5f\"}},\"ternary\":{\"aaxis\":{\"gridcolor\":\"white\",\"linecolor\":\"white\",\"ticks\":\"\"},\"baxis\":{\"gridcolor\":\"white\",\"linecolor\":\"white\",\"ticks\":\"\"},\"bgcolor\":\"#E5ECF6\",\"caxis\":{\"gridcolor\":\"white\",\"linecolor\":\"white\",\"ticks\":\"\"}},\"title\":{\"x\":0.05},\"xaxis\":{\"automargin\":true,\"gridcolor\":\"white\",\"linecolor\":\"white\",\"ticks\":\"\",\"title\":{\"standoff\":15},\"zerolinecolor\":\"white\",\"zerolinewidth\":2},\"yaxis\":{\"automargin\":true,\"gridcolor\":\"white\",\"linecolor\":\"white\",\"ticks\":\"\",\"title\":{\"standoff\":15},\"zerolinecolor\":\"white\",\"zerolinewidth\":2}}},\"title\":{\"text\":\"Random Forest Feature Importance\"},\"xaxis\":{\"showgrid\":false,\"showline\":false,\"ticklen\":5,\"zeroline\":false},\"yaxis\":{\"gridwidth\":2,\"showgrid\":false,\"ticklen\":5,\"title\":{\"text\":\"Feature Importance\"},\"zeroline\":false}},                        {\"responsive\": true}                    ).then(function(){\n",
       "                            \n",
       "var gd = document.getElementById('527352c1-1d4f-488b-a9d6-f04ceb05cb6e');\n",
       "var x = new MutationObserver(function (mutations, observer) {{\n",
       "        var display = window.getComputedStyle(gd).display;\n",
       "        if (!display || display === 'none') {{\n",
       "            console.log([gd, 'removed!']);\n",
       "            Plotly.purge(gd);\n",
       "            observer.disconnect();\n",
       "        }}\n",
       "}});\n",
       "\n",
       "// Listen for the removal of the full notebook cells\n",
       "var notebookContainer = gd.closest('#notebook-container');\n",
       "if (notebookContainer) {{\n",
       "    x.observe(notebookContainer, {childList: true});\n",
       "}}\n",
       "\n",
       "// Listen for the clearing of the current output cell\n",
       "var outputEl = gd.closest('.output');\n",
       "if (outputEl) {{\n",
       "    x.observe(outputEl, {childList: true});\n",
       "}}\n",
       "\n",
       "                        })                };                });            </script>        </div>"
      ]
     },
     "metadata": {},
     "output_type": "display_data"
    },
    {
     "data": {
      "application/vnd.plotly.v1+json": {
       "config": {
        "linkText": "Export to plot.ly",
        "plotlyServerURL": "https://plot.ly",
        "showLink": false
       },
       "data": [
        {
         "marker": {
          "color": [
           0,
           0,
           0,
           0.00019804568824491716,
           0.00030418172735020095,
           0.0003163405002530067,
           0.0003804727275357049,
           0.0004370714305402243,
           0.0006671442375176394,
           0.0007604493178233714,
           0.0009263980559655823,
           0.0009441045220633104,
           0.0010114999511907881,
           0.0010569368757796353,
           0.0012006966495715628,
           0.0012340202190892502,
           0.0012368868975161749,
           0.001241738784701155,
           0.0013137916337968324,
           0.001563817735757072,
           0.0015915005759599208,
           0.00161711392721891,
           0.001872753078094141,
           0.0019570638204408717,
           0.002062250213717354,
           0.0022683641099063598,
           0.0023081394837456515,
           0.002351819903319058,
           0.002559119473782605,
           0.00270489859250243,
           0.0027086889736821843,
           0.0027365159826449135,
           0.0029336759342963557,
           0.003014739021614288,
           0.0030186501345868776,
           0.00308070020610157,
           0.0031476069205512106,
           0.003171461197960795,
           0.003195660901748788,
           0.003228458650367968,
           0.0034366592206274407,
           0.003465052528292749,
           0.0035285519448521427,
           0.003531724102220179,
           0.0035529677867193383,
           0.003588756295207831,
           0.003676309749045855,
           0.0038049245127572454,
           0.0038196500200751477,
           0.0038485318645212355,
           0.0038973440562901683,
           0.004055120442432985,
           0.0040755783907258985,
           0.0041091992338471136,
           0.004134744326504195,
           0.004195295186636795,
           0.004218445983846422,
           0.004232780983174057,
           0.004268617624622033,
           0.004319826119573511,
           0.0043550195506526146,
           0.004420204706650018,
           0.004445312472881884,
           0.004479983068797631,
           0.0046403385959247305,
           0.004678391782780581,
           0.004710142662596842,
           0.004765350951341917,
           0.004946466550855885,
           0.004968256184018017,
           0.0050831206572730875,
           0.005129182388212914,
           0.0051458137380362935,
           0.005148817199006946,
           0.005281458441347559,
           0.005326622981414245,
           0.005445641995191939,
           0.005513438251450807,
           0.005534252442056131,
           0.005610440981708087,
           0.005620692337155449,
           0.005622788188315585,
           0.005632461045612924,
           0.005681210019631028,
           0.005686656430008717,
           0.0057267075326364785,
           0.0057378492085249045,
           0.005753129525406314,
           0.005773292443737433,
           0.0058484882056586305,
           0.005864225296581768,
           0.005918307678313692,
           0.005940625601530125,
           0.006112969532241681,
           0.006217969450897852,
           0.006269815065273065,
           0.006312354974283298,
           0.006320152390973156,
           0.006546284707023635,
           0.006583497105383793,
           0.0067011224274530195,
           0.006717398356964044,
           0.0067787975896038185,
           0.00681525940665014,
           0.006890983708350815,
           0.006976002126059977,
           0.006994990730327523,
           0.00700782889762971,
           0.007152002204444999,
           0.007290650828893611,
           0.0073165055917270684,
           0.0076400713213633075,
           0.007761056544423674,
           0.0078058699346315276,
           0.008059427277240523,
           0.008355469910143904,
           0.00845839964055053,
           0.008557414902722106,
           0.008670644890375034,
           0.008807090873136978,
           0.00914041650140633,
           0.009316783779803632,
           0.009477268608173226,
           0.009859735866937546,
           0.010510464009055915,
           0.010920198518867823,
           0.011047695426206256,
           0.011211661043287755,
           0.011479788970934922,
           0.012434276210776371,
           0.012474864690907934,
           0.012770878631833604,
           0.014335678355030182,
           0.01474368271388595,
           0.014771238002338741,
           0.015041442073848107,
           0.015443909074464407,
           0.016270970695904625,
           0.016951959243930025,
           0.01706904484498414,
           0.018032777430011943,
           0.018694968806321773,
           0.023242665707572264,
           0.02401020575929377,
           0.026561915315155508,
           0.026989533313329542,
           0.029009685488771957,
           0.029951870356983896,
           0.03459684262699101
          ],
          "colorscale": [
           [
            0,
            "#440154"
           ],
           [
            0.1111111111111111,
            "#482878"
           ],
           [
            0.2222222222222222,
            "#3e4989"
           ],
           [
            0.3333333333333333,
            "#31688e"
           ],
           [
            0.4444444444444444,
            "#26828e"
           ],
           [
            0.5555555555555556,
            "#1f9e89"
           ],
           [
            0.6666666666666666,
            "#35b779"
           ],
           [
            0.7777777777777778,
            "#6ece58"
           ],
           [
            0.8888888888888888,
            "#b5de2b"
           ],
           [
            1,
            "#fde725"
           ]
          ],
          "reversescale": true
         },
         "name": "Random Forest Feature importance",
         "orientation": "h",
         "type": "bar",
         "x": [
          0,
          0,
          0,
          0.00019804568824491716,
          0.00030418172735020095,
          0.0003163405002530067,
          0.0003804727275357049,
          0.0004370714305402243,
          0.0006671442375176394,
          0.0007604493178233714,
          0.0009263980559655823,
          0.0009441045220633104,
          0.0010114999511907881,
          0.0010569368757796353,
          0.0012006966495715628,
          0.0012340202190892502,
          0.0012368868975161749,
          0.001241738784701155,
          0.0013137916337968324,
          0.001563817735757072,
          0.0015915005759599208,
          0.00161711392721891,
          0.001872753078094141,
          0.0019570638204408717,
          0.002062250213717354,
          0.0022683641099063598,
          0.0023081394837456515,
          0.002351819903319058,
          0.002559119473782605,
          0.00270489859250243,
          0.0027086889736821843,
          0.0027365159826449135,
          0.0029336759342963557,
          0.003014739021614288,
          0.0030186501345868776,
          0.00308070020610157,
          0.0031476069205512106,
          0.003171461197960795,
          0.003195660901748788,
          0.003228458650367968,
          0.0034366592206274407,
          0.003465052528292749,
          0.0035285519448521427,
          0.003531724102220179,
          0.0035529677867193383,
          0.003588756295207831,
          0.003676309749045855,
          0.0038049245127572454,
          0.0038196500200751477,
          0.0038485318645212355,
          0.0038973440562901683,
          0.004055120442432985,
          0.0040755783907258985,
          0.0041091992338471136,
          0.004134744326504195,
          0.004195295186636795,
          0.004218445983846422,
          0.004232780983174057,
          0.004268617624622033,
          0.004319826119573511,
          0.0043550195506526146,
          0.004420204706650018,
          0.004445312472881884,
          0.004479983068797631,
          0.0046403385959247305,
          0.004678391782780581,
          0.004710142662596842,
          0.004765350951341917,
          0.004946466550855885,
          0.004968256184018017,
          0.0050831206572730875,
          0.005129182388212914,
          0.0051458137380362935,
          0.005148817199006946,
          0.005281458441347559,
          0.005326622981414245,
          0.005445641995191939,
          0.005513438251450807,
          0.005534252442056131,
          0.005610440981708087,
          0.005620692337155449,
          0.005622788188315585,
          0.005632461045612924,
          0.005681210019631028,
          0.005686656430008717,
          0.0057267075326364785,
          0.0057378492085249045,
          0.005753129525406314,
          0.005773292443737433,
          0.0058484882056586305,
          0.005864225296581768,
          0.005918307678313692,
          0.005940625601530125,
          0.006112969532241681,
          0.006217969450897852,
          0.006269815065273065,
          0.006312354974283298,
          0.006320152390973156,
          0.006546284707023635,
          0.006583497105383793,
          0.0067011224274530195,
          0.006717398356964044,
          0.0067787975896038185,
          0.00681525940665014,
          0.006890983708350815,
          0.006976002126059977,
          0.006994990730327523,
          0.00700782889762971,
          0.007152002204444999,
          0.007290650828893611,
          0.0073165055917270684,
          0.0076400713213633075,
          0.007761056544423674,
          0.0078058699346315276,
          0.008059427277240523,
          0.008355469910143904,
          0.00845839964055053,
          0.008557414902722106,
          0.008670644890375034,
          0.008807090873136978,
          0.00914041650140633,
          0.009316783779803632,
          0.009477268608173226,
          0.009859735866937546,
          0.010510464009055915,
          0.010920198518867823,
          0.011047695426206256,
          0.011211661043287755,
          0.011479788970934922,
          0.012434276210776371,
          0.012474864690907934,
          0.012770878631833604,
          0.014335678355030182,
          0.01474368271388595,
          0.014771238002338741,
          0.015041442073848107,
          0.015443909074464407,
          0.016270970695904625,
          0.016951959243930025,
          0.01706904484498414,
          0.018032777430011943,
          0.018694968806321773,
          0.023242665707572264,
          0.02401020575929377,
          0.026561915315155508,
          0.026989533313329542,
          0.029009685488771957,
          0.029951870356983896,
          0.03459684262699101
         ],
         "y": [
          "mens_cramp_peak_third_day",
          "thyroid_cancer",
          "thyroid_hyperthyroidism",
          "mens_cramp_symptoms_throw_up",
          "mens_before_after_pattern_partying",
          "mens_before_after_pattern_accessory",
          "mens_cramp_symptoms_dizziness",
          "exercise_type_golf",
          "mens_cramp_symptoms_fever",
          "mens_cramp_symptoms_digestive_upset",
          "mens_disease_fibroids",
          "mens_before_after_pattern_heavy_makeup",
          "thyroid_hypothyroidism",
          "mens_before_after_pattern_buy_comfy",
          "mens_cramp_symptoms_breathing_problem",
          "mens_cramp_part_belly",
          "mens_disease_uterine_adenoma",
          "thyroid_no",
          "mens_before_after_pattern_fancy",
          "mens_stress_peak_third_day",
          "mens_cramp_symptoms_orthostatic_hypotension",
          "exercise_type_walking",
          "diet_no",
          "mens_before_after_pattern_sex_nervousness",
          "mens_before_after_pattern_accommodation",
          "exercise_type_swimming",
          "diet_exercise",
          "mens_before_after_pattern_borrow_pads",
          "mens_cramp_symptoms_migraine",
          "mens_cramp_symptoms_decreased_appetite",
          "mens_cramp_symptoms_increased_libido",
          "mens_symptoms_3_intense_pain",
          "mens_symptoms_3_urination",
          "mens_symptoms_3_long_cramps",
          "mens_cramps_family_mother",
          "mens_cramp_symptoms_gastrointestinal_disorder",
          "mens_symptoms_3_waist_pain",
          "options_diarrhea",
          "mens_cramp_symptoms_cold_sweat",
          "mens_cramp_symptoms_reduced_temperance",
          "mens_cramp_symptoms_gas",
          "mens_symptoms_3_irregular_blood_amount",
          "mens_before_after_pattern_cancellation",
          "options_tension",
          "mens_before_after_pattern_panty_blood",
          "mens_before_after_pattern_throw_out_panty",
          "mens_cramps_family_younger_sister",
          "mens_before_after_pattern_deceive",
          "mens_cramp_peak_second_day",
          "mens_cramp_symptoms_emotion",
          "mens_symptoms_3_diarrhea",
          "mens_symptoms_3_pressure",
          "mens_before_after_pattern_embarrassment",
          "mens_symptoms_3_long_period",
          "exercise_type_bicycle",
          "mens_cramp_symptoms_increased_appetite",
          "mens_before_after_pattern_chest_lump",
          "mens_symptoms_3_pelvis_pain",
          "mens_before_after_pattern_toilet",
          "diet_with_product",
          "mens_cramp_symptoms_swelling",
          "mens_cramp_symptoms_lethargy",
          "exercise_type_dance",
          "diet_meal",
          "options_insomnia",
          "mens_before_after_pattern_sweet_spicy",
          "mens_cramp_symptoms_indigestion",
          "mens_cramp_symptoms_back_pain",
          "mens_cramp_symptoms_dull_movement",
          "mens_before_after_pattern_sex_calculate_date",
          "mens_cramp_symptoms_abdominal_swelling",
          "mens_cramp_symptoms_chill",
          "mens_cramp_symptoms_constipation",
          "mens_before_after_pattern_keen",
          "exercise_type_yoga_pilates",
          "mens_cramps_family_older_sister",
          "mens_symptoms_3_irregular_blood",
          "mens_before_after_pattern_sexual_desire",
          "mens_cramps_family_relatives",
          "mens_before_after_pattern_same_weight",
          "mens_cramp_symptoms_whirl",
          "mens_cramp_part_below_thigh",
          "mens_stress_peak_first_day",
          "options_swelling",
          "mens_cramp_symptoms_excessive_sleep",
          "diet_meal+exercise",
          "mens_symptoms_3_stomachache",
          "mens_symptoms_3_cluster_blood",
          "mens_cramp_symptoms_colic",
          "mens_cramp_symptoms_drowsiness",
          "mens_symptoms_3_ovulation_cramps",
          "mens_cramp_symptoms_voracity",
          "mens_cramp_symptoms_diarrhea",
          "mens_cramp_symptoms_anxiety",
          "mens_before_after_pattern_urgent_cancellation",
          "exercise_type_running",
          "mens_cramp_peak_first_day",
          "mens_before_after_pattern_app",
          "options_cold",
          "options_stiffness",
          "mens_cramp_symptoms_belly_pain",
          "exercise_type_fitness",
          "mens_cramp_symptoms_sweet",
          "mens_cramp_symptoms_chest_pain",
          "mens_before_after_pattern_dark_clothes",
          "options_abdominal_obesity",
          "mens_cramp_symptoms_insomnia",
          "mens_symptoms_3_gas",
          "mens_cramp_symptoms_depression",
          "mens_stressp_peak_second_day",
          "mens_cramp_symptoms_exhaustion",
          "mens_cramp_symptoms_sickness",
          "mens_cramp_symptoms_pimple",
          "mens_cramp_part_waist",
          "mens_disease_pms",
          "mens_before_after_pattern_help",
          "mens_before_after_pattern_work",
          "mens_cramp_symptoms_leg_swelling",
          "mens_cramp_peak_before",
          "mens_symptoms_3_stressful",
          "mens_cramp_symptoms_nervousness",
          "mens_cramp_symptoms_anemia",
          "mens_disease_no",
          "mens_cramp_symptoms_muscle_pain",
          "mens_stress_peak_before",
          "mens_before_after_pattern_bulk_purchase_pads",
          "mens_cramps_family_no",
          "mens_symptoms_3_abdominal_pain",
          "mens_before_after_pattern_buy_pads",
          "mens_before_after_pattern_weight_changes",
          "mens_cramp_symptoms_headache",
          "exercise_type_hiking",
          "mens_before_after_pattern_withstand",
          "mens_cramp_symptoms_leg_numbness",
          "mens_symptoms_3_abnormal",
          "mens_symptoms_3_lump",
          "menarche_age",
          "mens_cycle",
          "mens_cramp_symptoms_sensitive_temperature",
          "mens_before_after_pattern_comfy_clothes",
          "mens_period",
          "mens_before_after_pattern_excitement",
          "mens_cramp_symptoms_nausea",
          "height",
          "mens_cramp_symptoms_joint_pain",
          "mens_cramp_part_pelvis",
          "weight",
          "bmi",
          "age"
         ]
        }
       ],
       "layout": {
        "height": 2000,
        "template": {
         "data": {
          "bar": [
           {
            "error_x": {
             "color": "#2a3f5f"
            },
            "error_y": {
             "color": "#2a3f5f"
            },
            "marker": {
             "line": {
              "color": "#E5ECF6",
              "width": 0.5
             },
             "pattern": {
              "fillmode": "overlay",
              "size": 10,
              "solidity": 0.2
             }
            },
            "type": "bar"
           }
          ],
          "barpolar": [
           {
            "marker": {
             "line": {
              "color": "#E5ECF6",
              "width": 0.5
             },
             "pattern": {
              "fillmode": "overlay",
              "size": 10,
              "solidity": 0.2
             }
            },
            "type": "barpolar"
           }
          ],
          "carpet": [
           {
            "aaxis": {
             "endlinecolor": "#2a3f5f",
             "gridcolor": "white",
             "linecolor": "white",
             "minorgridcolor": "white",
             "startlinecolor": "#2a3f5f"
            },
            "baxis": {
             "endlinecolor": "#2a3f5f",
             "gridcolor": "white",
             "linecolor": "white",
             "minorgridcolor": "white",
             "startlinecolor": "#2a3f5f"
            },
            "type": "carpet"
           }
          ],
          "choropleth": [
           {
            "colorbar": {
             "outlinewidth": 0,
             "ticks": ""
            },
            "type": "choropleth"
           }
          ],
          "contour": [
           {
            "colorbar": {
             "outlinewidth": 0,
             "ticks": ""
            },
            "colorscale": [
             [
              0,
              "#0d0887"
             ],
             [
              0.1111111111111111,
              "#46039f"
             ],
             [
              0.2222222222222222,
              "#7201a8"
             ],
             [
              0.3333333333333333,
              "#9c179e"
             ],
             [
              0.4444444444444444,
              "#bd3786"
             ],
             [
              0.5555555555555556,
              "#d8576b"
             ],
             [
              0.6666666666666666,
              "#ed7953"
             ],
             [
              0.7777777777777778,
              "#fb9f3a"
             ],
             [
              0.8888888888888888,
              "#fdca26"
             ],
             [
              1,
              "#f0f921"
             ]
            ],
            "type": "contour"
           }
          ],
          "contourcarpet": [
           {
            "colorbar": {
             "outlinewidth": 0,
             "ticks": ""
            },
            "type": "contourcarpet"
           }
          ],
          "heatmap": [
           {
            "colorbar": {
             "outlinewidth": 0,
             "ticks": ""
            },
            "colorscale": [
             [
              0,
              "#0d0887"
             ],
             [
              0.1111111111111111,
              "#46039f"
             ],
             [
              0.2222222222222222,
              "#7201a8"
             ],
             [
              0.3333333333333333,
              "#9c179e"
             ],
             [
              0.4444444444444444,
              "#bd3786"
             ],
             [
              0.5555555555555556,
              "#d8576b"
             ],
             [
              0.6666666666666666,
              "#ed7953"
             ],
             [
              0.7777777777777778,
              "#fb9f3a"
             ],
             [
              0.8888888888888888,
              "#fdca26"
             ],
             [
              1,
              "#f0f921"
             ]
            ],
            "type": "heatmap"
           }
          ],
          "heatmapgl": [
           {
            "colorbar": {
             "outlinewidth": 0,
             "ticks": ""
            },
            "colorscale": [
             [
              0,
              "#0d0887"
             ],
             [
              0.1111111111111111,
              "#46039f"
             ],
             [
              0.2222222222222222,
              "#7201a8"
             ],
             [
              0.3333333333333333,
              "#9c179e"
             ],
             [
              0.4444444444444444,
              "#bd3786"
             ],
             [
              0.5555555555555556,
              "#d8576b"
             ],
             [
              0.6666666666666666,
              "#ed7953"
             ],
             [
              0.7777777777777778,
              "#fb9f3a"
             ],
             [
              0.8888888888888888,
              "#fdca26"
             ],
             [
              1,
              "#f0f921"
             ]
            ],
            "type": "heatmapgl"
           }
          ],
          "histogram": [
           {
            "marker": {
             "pattern": {
              "fillmode": "overlay",
              "size": 10,
              "solidity": 0.2
             }
            },
            "type": "histogram"
           }
          ],
          "histogram2d": [
           {
            "colorbar": {
             "outlinewidth": 0,
             "ticks": ""
            },
            "colorscale": [
             [
              0,
              "#0d0887"
             ],
             [
              0.1111111111111111,
              "#46039f"
             ],
             [
              0.2222222222222222,
              "#7201a8"
             ],
             [
              0.3333333333333333,
              "#9c179e"
             ],
             [
              0.4444444444444444,
              "#bd3786"
             ],
             [
              0.5555555555555556,
              "#d8576b"
             ],
             [
              0.6666666666666666,
              "#ed7953"
             ],
             [
              0.7777777777777778,
              "#fb9f3a"
             ],
             [
              0.8888888888888888,
              "#fdca26"
             ],
             [
              1,
              "#f0f921"
             ]
            ],
            "type": "histogram2d"
           }
          ],
          "histogram2dcontour": [
           {
            "colorbar": {
             "outlinewidth": 0,
             "ticks": ""
            },
            "colorscale": [
             [
              0,
              "#0d0887"
             ],
             [
              0.1111111111111111,
              "#46039f"
             ],
             [
              0.2222222222222222,
              "#7201a8"
             ],
             [
              0.3333333333333333,
              "#9c179e"
             ],
             [
              0.4444444444444444,
              "#bd3786"
             ],
             [
              0.5555555555555556,
              "#d8576b"
             ],
             [
              0.6666666666666666,
              "#ed7953"
             ],
             [
              0.7777777777777778,
              "#fb9f3a"
             ],
             [
              0.8888888888888888,
              "#fdca26"
             ],
             [
              1,
              "#f0f921"
             ]
            ],
            "type": "histogram2dcontour"
           }
          ],
          "mesh3d": [
           {
            "colorbar": {
             "outlinewidth": 0,
             "ticks": ""
            },
            "type": "mesh3d"
           }
          ],
          "parcoords": [
           {
            "line": {
             "colorbar": {
              "outlinewidth": 0,
              "ticks": ""
             }
            },
            "type": "parcoords"
           }
          ],
          "pie": [
           {
            "automargin": true,
            "type": "pie"
           }
          ],
          "scatter": [
           {
            "marker": {
             "colorbar": {
              "outlinewidth": 0,
              "ticks": ""
             }
            },
            "type": "scatter"
           }
          ],
          "scatter3d": [
           {
            "line": {
             "colorbar": {
              "outlinewidth": 0,
              "ticks": ""
             }
            },
            "marker": {
             "colorbar": {
              "outlinewidth": 0,
              "ticks": ""
             }
            },
            "type": "scatter3d"
           }
          ],
          "scattercarpet": [
           {
            "marker": {
             "colorbar": {
              "outlinewidth": 0,
              "ticks": ""
             }
            },
            "type": "scattercarpet"
           }
          ],
          "scattergeo": [
           {
            "marker": {
             "colorbar": {
              "outlinewidth": 0,
              "ticks": ""
             }
            },
            "type": "scattergeo"
           }
          ],
          "scattergl": [
           {
            "marker": {
             "colorbar": {
              "outlinewidth": 0,
              "ticks": ""
             }
            },
            "type": "scattergl"
           }
          ],
          "scattermapbox": [
           {
            "marker": {
             "colorbar": {
              "outlinewidth": 0,
              "ticks": ""
             }
            },
            "type": "scattermapbox"
           }
          ],
          "scatterpolar": [
           {
            "marker": {
             "colorbar": {
              "outlinewidth": 0,
              "ticks": ""
             }
            },
            "type": "scatterpolar"
           }
          ],
          "scatterpolargl": [
           {
            "marker": {
             "colorbar": {
              "outlinewidth": 0,
              "ticks": ""
             }
            },
            "type": "scatterpolargl"
           }
          ],
          "scatterternary": [
           {
            "marker": {
             "colorbar": {
              "outlinewidth": 0,
              "ticks": ""
             }
            },
            "type": "scatterternary"
           }
          ],
          "surface": [
           {
            "colorbar": {
             "outlinewidth": 0,
             "ticks": ""
            },
            "colorscale": [
             [
              0,
              "#0d0887"
             ],
             [
              0.1111111111111111,
              "#46039f"
             ],
             [
              0.2222222222222222,
              "#7201a8"
             ],
             [
              0.3333333333333333,
              "#9c179e"
             ],
             [
              0.4444444444444444,
              "#bd3786"
             ],
             [
              0.5555555555555556,
              "#d8576b"
             ],
             [
              0.6666666666666666,
              "#ed7953"
             ],
             [
              0.7777777777777778,
              "#fb9f3a"
             ],
             [
              0.8888888888888888,
              "#fdca26"
             ],
             [
              1,
              "#f0f921"
             ]
            ],
            "type": "surface"
           }
          ],
          "table": [
           {
            "cells": {
             "fill": {
              "color": "#EBF0F8"
             },
             "line": {
              "color": "white"
             }
            },
            "header": {
             "fill": {
              "color": "#C8D4E3"
             },
             "line": {
              "color": "white"
             }
            },
            "type": "table"
           }
          ]
         },
         "layout": {
          "annotationdefaults": {
           "arrowcolor": "#2a3f5f",
           "arrowhead": 0,
           "arrowwidth": 1
          },
          "autotypenumbers": "strict",
          "coloraxis": {
           "colorbar": {
            "outlinewidth": 0,
            "ticks": ""
           }
          },
          "colorscale": {
           "diverging": [
            [
             0,
             "#8e0152"
            ],
            [
             0.1,
             "#c51b7d"
            ],
            [
             0.2,
             "#de77ae"
            ],
            [
             0.3,
             "#f1b6da"
            ],
            [
             0.4,
             "#fde0ef"
            ],
            [
             0.5,
             "#f7f7f7"
            ],
            [
             0.6,
             "#e6f5d0"
            ],
            [
             0.7,
             "#b8e186"
            ],
            [
             0.8,
             "#7fbc41"
            ],
            [
             0.9,
             "#4d9221"
            ],
            [
             1,
             "#276419"
            ]
           ],
           "sequential": [
            [
             0,
             "#0d0887"
            ],
            [
             0.1111111111111111,
             "#46039f"
            ],
            [
             0.2222222222222222,
             "#7201a8"
            ],
            [
             0.3333333333333333,
             "#9c179e"
            ],
            [
             0.4444444444444444,
             "#bd3786"
            ],
            [
             0.5555555555555556,
             "#d8576b"
            ],
            [
             0.6666666666666666,
             "#ed7953"
            ],
            [
             0.7777777777777778,
             "#fb9f3a"
            ],
            [
             0.8888888888888888,
             "#fdca26"
            ],
            [
             1,
             "#f0f921"
            ]
           ],
           "sequentialminus": [
            [
             0,
             "#0d0887"
            ],
            [
             0.1111111111111111,
             "#46039f"
            ],
            [
             0.2222222222222222,
             "#7201a8"
            ],
            [
             0.3333333333333333,
             "#9c179e"
            ],
            [
             0.4444444444444444,
             "#bd3786"
            ],
            [
             0.5555555555555556,
             "#d8576b"
            ],
            [
             0.6666666666666666,
             "#ed7953"
            ],
            [
             0.7777777777777778,
             "#fb9f3a"
            ],
            [
             0.8888888888888888,
             "#fdca26"
            ],
            [
             1,
             "#f0f921"
            ]
           ]
          },
          "colorway": [
           "#636efa",
           "#EF553B",
           "#00cc96",
           "#ab63fa",
           "#FFA15A",
           "#19d3f3",
           "#FF6692",
           "#B6E880",
           "#FF97FF",
           "#FECB52"
          ],
          "font": {
           "color": "#2a3f5f"
          },
          "geo": {
           "bgcolor": "white",
           "lakecolor": "white",
           "landcolor": "#E5ECF6",
           "showlakes": true,
           "showland": true,
           "subunitcolor": "white"
          },
          "hoverlabel": {
           "align": "left"
          },
          "hovermode": "closest",
          "mapbox": {
           "style": "light"
          },
          "paper_bgcolor": "white",
          "plot_bgcolor": "#E5ECF6",
          "polar": {
           "angularaxis": {
            "gridcolor": "white",
            "linecolor": "white",
            "ticks": ""
           },
           "bgcolor": "#E5ECF6",
           "radialaxis": {
            "gridcolor": "white",
            "linecolor": "white",
            "ticks": ""
           }
          },
          "scene": {
           "xaxis": {
            "backgroundcolor": "#E5ECF6",
            "gridcolor": "white",
            "gridwidth": 2,
            "linecolor": "white",
            "showbackground": true,
            "ticks": "",
            "zerolinecolor": "white"
           },
           "yaxis": {
            "backgroundcolor": "#E5ECF6",
            "gridcolor": "white",
            "gridwidth": 2,
            "linecolor": "white",
            "showbackground": true,
            "ticks": "",
            "zerolinecolor": "white"
           },
           "zaxis": {
            "backgroundcolor": "#E5ECF6",
            "gridcolor": "white",
            "gridwidth": 2,
            "linecolor": "white",
            "showbackground": true,
            "ticks": "",
            "zerolinecolor": "white"
           }
          },
          "shapedefaults": {
           "line": {
            "color": "#2a3f5f"
           }
          },
          "ternary": {
           "aaxis": {
            "gridcolor": "white",
            "linecolor": "white",
            "ticks": ""
           },
           "baxis": {
            "gridcolor": "white",
            "linecolor": "white",
            "ticks": ""
           },
           "bgcolor": "#E5ECF6",
           "caxis": {
            "gridcolor": "white",
            "linecolor": "white",
            "ticks": ""
           }
          },
          "title": {
           "x": 0.05
          },
          "xaxis": {
           "automargin": true,
           "gridcolor": "white",
           "linecolor": "white",
           "ticks": "",
           "title": {
            "standoff": 15
           },
           "zerolinecolor": "white",
           "zerolinewidth": 2
          },
          "yaxis": {
           "automargin": true,
           "gridcolor": "white",
           "linecolor": "white",
           "ticks": "",
           "title": {
            "standoff": 15
           },
           "zerolinecolor": "white",
           "zerolinewidth": 2
          }
         }
        },
        "title": {
         "text": "Barplot of Feature importances"
        },
        "width": 900,
        "yaxis": {
         "showgrid": false,
         "showline": false,
         "showticklabels": true
        }
       }
      },
      "text/html": [
       "<div>                            <div id=\"8fa715e7-93e2-4030-81c8-2a9f542c523f\" class=\"plotly-graph-div\" style=\"height:2000px; width:900px;\"></div>            <script type=\"text/javascript\">                require([\"plotly\"], function(Plotly) {                    window.PLOTLYENV=window.PLOTLYENV || {};                                    if (document.getElementById(\"8fa715e7-93e2-4030-81c8-2a9f542c523f\")) {                    Plotly.newPlot(                        \"8fa715e7-93e2-4030-81c8-2a9f542c523f\",                        [{\"marker\":{\"color\":[0.0,0.0,0.0,0.00019804568824491716,0.00030418172735020095,0.0003163405002530067,0.0003804727275357049,0.0004370714305402243,0.0006671442375176394,0.0007604493178233714,0.0009263980559655823,0.0009441045220633104,0.0010114999511907881,0.0010569368757796353,0.0012006966495715628,0.0012340202190892502,0.0012368868975161749,0.001241738784701155,0.0013137916337968324,0.001563817735757072,0.0015915005759599208,0.00161711392721891,0.001872753078094141,0.0019570638204408717,0.002062250213717354,0.0022683641099063598,0.0023081394837456515,0.002351819903319058,0.002559119473782605,0.00270489859250243,0.0027086889736821843,0.0027365159826449135,0.0029336759342963557,0.003014739021614288,0.0030186501345868776,0.00308070020610157,0.0031476069205512106,0.003171461197960795,0.003195660901748788,0.003228458650367968,0.0034366592206274407,0.003465052528292749,0.0035285519448521427,0.003531724102220179,0.0035529677867193383,0.003588756295207831,0.003676309749045855,0.0038049245127572454,0.0038196500200751477,0.0038485318645212355,0.0038973440562901683,0.004055120442432985,0.0040755783907258985,0.0041091992338471136,0.004134744326504195,0.004195295186636795,0.004218445983846422,0.004232780983174057,0.004268617624622033,0.004319826119573511,0.0043550195506526146,0.004420204706650018,0.004445312472881884,0.004479983068797631,0.0046403385959247305,0.004678391782780581,0.004710142662596842,0.004765350951341917,0.004946466550855885,0.004968256184018017,0.0050831206572730875,0.005129182388212914,0.0051458137380362935,0.005148817199006946,0.005281458441347559,0.005326622981414245,0.005445641995191939,0.005513438251450807,0.005534252442056131,0.005610440981708087,0.005620692337155449,0.005622788188315585,0.005632461045612924,0.005681210019631028,0.005686656430008717,0.0057267075326364785,0.0057378492085249045,0.005753129525406314,0.005773292443737433,0.0058484882056586305,0.005864225296581768,0.005918307678313692,0.005940625601530125,0.006112969532241681,0.006217969450897852,0.006269815065273065,0.006312354974283298,0.006320152390973156,0.006546284707023635,0.006583497105383793,0.0067011224274530195,0.006717398356964044,0.0067787975896038185,0.00681525940665014,0.006890983708350815,0.006976002126059977,0.006994990730327523,0.00700782889762971,0.007152002204444999,0.007290650828893611,0.0073165055917270684,0.0076400713213633075,0.007761056544423674,0.0078058699346315276,0.008059427277240523,0.008355469910143904,0.00845839964055053,0.008557414902722106,0.008670644890375034,0.008807090873136978,0.00914041650140633,0.009316783779803632,0.009477268608173226,0.009859735866937546,0.010510464009055915,0.010920198518867823,0.011047695426206256,0.011211661043287755,0.011479788970934922,0.012434276210776371,0.012474864690907934,0.012770878631833604,0.014335678355030182,0.01474368271388595,0.014771238002338741,0.015041442073848107,0.015443909074464407,0.016270970695904625,0.016951959243930025,0.01706904484498414,0.018032777430011943,0.018694968806321773,0.023242665707572264,0.02401020575929377,0.026561915315155508,0.026989533313329542,0.029009685488771957,0.029951870356983896,0.03459684262699101],\"colorscale\":[[0.0,\"#440154\"],[0.1111111111111111,\"#482878\"],[0.2222222222222222,\"#3e4989\"],[0.3333333333333333,\"#31688e\"],[0.4444444444444444,\"#26828e\"],[0.5555555555555556,\"#1f9e89\"],[0.6666666666666666,\"#35b779\"],[0.7777777777777778,\"#6ece58\"],[0.8888888888888888,\"#b5de2b\"],[1.0,\"#fde725\"]],\"reversescale\":true},\"name\":\"Random Forest Feature importance\",\"orientation\":\"h\",\"type\":\"bar\",\"x\":[0.0,0.0,0.0,0.00019804568824491716,0.00030418172735020095,0.0003163405002530067,0.0003804727275357049,0.0004370714305402243,0.0006671442375176394,0.0007604493178233714,0.0009263980559655823,0.0009441045220633104,0.0010114999511907881,0.0010569368757796353,0.0012006966495715628,0.0012340202190892502,0.0012368868975161749,0.001241738784701155,0.0013137916337968324,0.001563817735757072,0.0015915005759599208,0.00161711392721891,0.001872753078094141,0.0019570638204408717,0.002062250213717354,0.0022683641099063598,0.0023081394837456515,0.002351819903319058,0.002559119473782605,0.00270489859250243,0.0027086889736821843,0.0027365159826449135,0.0029336759342963557,0.003014739021614288,0.0030186501345868776,0.00308070020610157,0.0031476069205512106,0.003171461197960795,0.003195660901748788,0.003228458650367968,0.0034366592206274407,0.003465052528292749,0.0035285519448521427,0.003531724102220179,0.0035529677867193383,0.003588756295207831,0.003676309749045855,0.0038049245127572454,0.0038196500200751477,0.0038485318645212355,0.0038973440562901683,0.004055120442432985,0.0040755783907258985,0.0041091992338471136,0.004134744326504195,0.004195295186636795,0.004218445983846422,0.004232780983174057,0.004268617624622033,0.004319826119573511,0.0043550195506526146,0.004420204706650018,0.004445312472881884,0.004479983068797631,0.0046403385959247305,0.004678391782780581,0.004710142662596842,0.004765350951341917,0.004946466550855885,0.004968256184018017,0.0050831206572730875,0.005129182388212914,0.0051458137380362935,0.005148817199006946,0.005281458441347559,0.005326622981414245,0.005445641995191939,0.005513438251450807,0.005534252442056131,0.005610440981708087,0.005620692337155449,0.005622788188315585,0.005632461045612924,0.005681210019631028,0.005686656430008717,0.0057267075326364785,0.0057378492085249045,0.005753129525406314,0.005773292443737433,0.0058484882056586305,0.005864225296581768,0.005918307678313692,0.005940625601530125,0.006112969532241681,0.006217969450897852,0.006269815065273065,0.006312354974283298,0.006320152390973156,0.006546284707023635,0.006583497105383793,0.0067011224274530195,0.006717398356964044,0.0067787975896038185,0.00681525940665014,0.006890983708350815,0.006976002126059977,0.006994990730327523,0.00700782889762971,0.007152002204444999,0.007290650828893611,0.0073165055917270684,0.0076400713213633075,0.007761056544423674,0.0078058699346315276,0.008059427277240523,0.008355469910143904,0.00845839964055053,0.008557414902722106,0.008670644890375034,0.008807090873136978,0.00914041650140633,0.009316783779803632,0.009477268608173226,0.009859735866937546,0.010510464009055915,0.010920198518867823,0.011047695426206256,0.011211661043287755,0.011479788970934922,0.012434276210776371,0.012474864690907934,0.012770878631833604,0.014335678355030182,0.01474368271388595,0.014771238002338741,0.015041442073848107,0.015443909074464407,0.016270970695904625,0.016951959243930025,0.01706904484498414,0.018032777430011943,0.018694968806321773,0.023242665707572264,0.02401020575929377,0.026561915315155508,0.026989533313329542,0.029009685488771957,0.029951870356983896,0.03459684262699101],\"y\":[\"mens_cramp_peak_third_day\",\"thyroid_cancer\",\"thyroid_hyperthyroidism\",\"mens_cramp_symptoms_throw_up\",\"mens_before_after_pattern_partying\",\"mens_before_after_pattern_accessory\",\"mens_cramp_symptoms_dizziness\",\"exercise_type_golf\",\"mens_cramp_symptoms_fever\",\"mens_cramp_symptoms_digestive_upset\",\"mens_disease_fibroids\",\"mens_before_after_pattern_heavy_makeup\",\"thyroid_hypothyroidism\",\"mens_before_after_pattern_buy_comfy\",\"mens_cramp_symptoms_breathing_problem\",\"mens_cramp_part_belly\",\"mens_disease_uterine_adenoma\",\"thyroid_no\",\"mens_before_after_pattern_fancy\",\"mens_stress_peak_third_day\",\"mens_cramp_symptoms_orthostatic_hypotension\",\"exercise_type_walking\",\"diet_no\",\"mens_before_after_pattern_sex_nervousness\",\"mens_before_after_pattern_accommodation\",\"exercise_type_swimming\",\"diet_exercise\",\"mens_before_after_pattern_borrow_pads\",\"mens_cramp_symptoms_migraine\",\"mens_cramp_symptoms_decreased_appetite\",\"mens_cramp_symptoms_increased_libido\",\"mens_symptoms_3_intense_pain\",\"mens_symptoms_3_urination\",\"mens_symptoms_3_long_cramps\",\"mens_cramps_family_mother\",\"mens_cramp_symptoms_gastrointestinal_disorder\",\"mens_symptoms_3_waist_pain\",\"options_diarrhea\",\"mens_cramp_symptoms_cold_sweat\",\"mens_cramp_symptoms_reduced_temperance\",\"mens_cramp_symptoms_gas\",\"mens_symptoms_3_irregular_blood_amount\",\"mens_before_after_pattern_cancellation\",\"options_tension\",\"mens_before_after_pattern_panty_blood\",\"mens_before_after_pattern_throw_out_panty\",\"mens_cramps_family_younger_sister\",\"mens_before_after_pattern_deceive\",\"mens_cramp_peak_second_day\",\"mens_cramp_symptoms_emotion\",\"mens_symptoms_3_diarrhea\",\"mens_symptoms_3_pressure\",\"mens_before_after_pattern_embarrassment\",\"mens_symptoms_3_long_period\",\"exercise_type_bicycle\",\"mens_cramp_symptoms_increased_appetite\",\"mens_before_after_pattern_chest_lump\",\"mens_symptoms_3_pelvis_pain\",\"mens_before_after_pattern_toilet\",\"diet_with_product\",\"mens_cramp_symptoms_swelling\",\"mens_cramp_symptoms_lethargy\",\"exercise_type_dance\",\"diet_meal\",\"options_insomnia\",\"mens_before_after_pattern_sweet_spicy\",\"mens_cramp_symptoms_indigestion\",\"mens_cramp_symptoms_back_pain\",\"mens_cramp_symptoms_dull_movement\",\"mens_before_after_pattern_sex_calculate_date\",\"mens_cramp_symptoms_abdominal_swelling\",\"mens_cramp_symptoms_chill\",\"mens_cramp_symptoms_constipation\",\"mens_before_after_pattern_keen\",\"exercise_type_yoga_pilates\",\"mens_cramps_family_older_sister\",\"mens_symptoms_3_irregular_blood\",\"mens_before_after_pattern_sexual_desire\",\"mens_cramps_family_relatives\",\"mens_before_after_pattern_same_weight\",\"mens_cramp_symptoms_whirl\",\"mens_cramp_part_below_thigh\",\"mens_stress_peak_first_day\",\"options_swelling\",\"mens_cramp_symptoms_excessive_sleep\",\"diet_meal+exercise\",\"mens_symptoms_3_stomachache\",\"mens_symptoms_3_cluster_blood\",\"mens_cramp_symptoms_colic\",\"mens_cramp_symptoms_drowsiness\",\"mens_symptoms_3_ovulation_cramps\",\"mens_cramp_symptoms_voracity\",\"mens_cramp_symptoms_diarrhea\",\"mens_cramp_symptoms_anxiety\",\"mens_before_after_pattern_urgent_cancellation\",\"exercise_type_running\",\"mens_cramp_peak_first_day\",\"mens_before_after_pattern_app\",\"options_cold\",\"options_stiffness\",\"mens_cramp_symptoms_belly_pain\",\"exercise_type_fitness\",\"mens_cramp_symptoms_sweet\",\"mens_cramp_symptoms_chest_pain\",\"mens_before_after_pattern_dark_clothes\",\"options_abdominal_obesity\",\"mens_cramp_symptoms_insomnia\",\"mens_symptoms_3_gas\",\"mens_cramp_symptoms_depression\",\"mens_stressp_peak_second_day\",\"mens_cramp_symptoms_exhaustion\",\"mens_cramp_symptoms_sickness\",\"mens_cramp_symptoms_pimple\",\"mens_cramp_part_waist\",\"mens_disease_pms\",\"mens_before_after_pattern_help\",\"mens_before_after_pattern_work\",\"mens_cramp_symptoms_leg_swelling\",\"mens_cramp_peak_before\",\"mens_symptoms_3_stressful\",\"mens_cramp_symptoms_nervousness\",\"mens_cramp_symptoms_anemia\",\"mens_disease_no\",\"mens_cramp_symptoms_muscle_pain\",\"mens_stress_peak_before\",\"mens_before_after_pattern_bulk_purchase_pads\",\"mens_cramps_family_no\",\"mens_symptoms_3_abdominal_pain\",\"mens_before_after_pattern_buy_pads\",\"mens_before_after_pattern_weight_changes\",\"mens_cramp_symptoms_headache\",\"exercise_type_hiking\",\"mens_before_after_pattern_withstand\",\"mens_cramp_symptoms_leg_numbness\",\"mens_symptoms_3_abnormal\",\"mens_symptoms_3_lump\",\"menarche_age\",\"mens_cycle\",\"mens_cramp_symptoms_sensitive_temperature\",\"mens_before_after_pattern_comfy_clothes\",\"mens_period\",\"mens_before_after_pattern_excitement\",\"mens_cramp_symptoms_nausea\",\"height\",\"mens_cramp_symptoms_joint_pain\",\"mens_cramp_part_pelvis\",\"weight\",\"bmi\",\"age\"]}],                        {\"height\":2000,\"template\":{\"data\":{\"bar\":[{\"error_x\":{\"color\":\"#2a3f5f\"},\"error_y\":{\"color\":\"#2a3f5f\"},\"marker\":{\"line\":{\"color\":\"#E5ECF6\",\"width\":0.5},\"pattern\":{\"fillmode\":\"overlay\",\"size\":10,\"solidity\":0.2}},\"type\":\"bar\"}],\"barpolar\":[{\"marker\":{\"line\":{\"color\":\"#E5ECF6\",\"width\":0.5},\"pattern\":{\"fillmode\":\"overlay\",\"size\":10,\"solidity\":0.2}},\"type\":\"barpolar\"}],\"carpet\":[{\"aaxis\":{\"endlinecolor\":\"#2a3f5f\",\"gridcolor\":\"white\",\"linecolor\":\"white\",\"minorgridcolor\":\"white\",\"startlinecolor\":\"#2a3f5f\"},\"baxis\":{\"endlinecolor\":\"#2a3f5f\",\"gridcolor\":\"white\",\"linecolor\":\"white\",\"minorgridcolor\":\"white\",\"startlinecolor\":\"#2a3f5f\"},\"type\":\"carpet\"}],\"choropleth\":[{\"colorbar\":{\"outlinewidth\":0,\"ticks\":\"\"},\"type\":\"choropleth\"}],\"contour\":[{\"colorbar\":{\"outlinewidth\":0,\"ticks\":\"\"},\"colorscale\":[[0.0,\"#0d0887\"],[0.1111111111111111,\"#46039f\"],[0.2222222222222222,\"#7201a8\"],[0.3333333333333333,\"#9c179e\"],[0.4444444444444444,\"#bd3786\"],[0.5555555555555556,\"#d8576b\"],[0.6666666666666666,\"#ed7953\"],[0.7777777777777778,\"#fb9f3a\"],[0.8888888888888888,\"#fdca26\"],[1.0,\"#f0f921\"]],\"type\":\"contour\"}],\"contourcarpet\":[{\"colorbar\":{\"outlinewidth\":0,\"ticks\":\"\"},\"type\":\"contourcarpet\"}],\"heatmap\":[{\"colorbar\":{\"outlinewidth\":0,\"ticks\":\"\"},\"colorscale\":[[0.0,\"#0d0887\"],[0.1111111111111111,\"#46039f\"],[0.2222222222222222,\"#7201a8\"],[0.3333333333333333,\"#9c179e\"],[0.4444444444444444,\"#bd3786\"],[0.5555555555555556,\"#d8576b\"],[0.6666666666666666,\"#ed7953\"],[0.7777777777777778,\"#fb9f3a\"],[0.8888888888888888,\"#fdca26\"],[1.0,\"#f0f921\"]],\"type\":\"heatmap\"}],\"heatmapgl\":[{\"colorbar\":{\"outlinewidth\":0,\"ticks\":\"\"},\"colorscale\":[[0.0,\"#0d0887\"],[0.1111111111111111,\"#46039f\"],[0.2222222222222222,\"#7201a8\"],[0.3333333333333333,\"#9c179e\"],[0.4444444444444444,\"#bd3786\"],[0.5555555555555556,\"#d8576b\"],[0.6666666666666666,\"#ed7953\"],[0.7777777777777778,\"#fb9f3a\"],[0.8888888888888888,\"#fdca26\"],[1.0,\"#f0f921\"]],\"type\":\"heatmapgl\"}],\"histogram\":[{\"marker\":{\"pattern\":{\"fillmode\":\"overlay\",\"size\":10,\"solidity\":0.2}},\"type\":\"histogram\"}],\"histogram2d\":[{\"colorbar\":{\"outlinewidth\":0,\"ticks\":\"\"},\"colorscale\":[[0.0,\"#0d0887\"],[0.1111111111111111,\"#46039f\"],[0.2222222222222222,\"#7201a8\"],[0.3333333333333333,\"#9c179e\"],[0.4444444444444444,\"#bd3786\"],[0.5555555555555556,\"#d8576b\"],[0.6666666666666666,\"#ed7953\"],[0.7777777777777778,\"#fb9f3a\"],[0.8888888888888888,\"#fdca26\"],[1.0,\"#f0f921\"]],\"type\":\"histogram2d\"}],\"histogram2dcontour\":[{\"colorbar\":{\"outlinewidth\":0,\"ticks\":\"\"},\"colorscale\":[[0.0,\"#0d0887\"],[0.1111111111111111,\"#46039f\"],[0.2222222222222222,\"#7201a8\"],[0.3333333333333333,\"#9c179e\"],[0.4444444444444444,\"#bd3786\"],[0.5555555555555556,\"#d8576b\"],[0.6666666666666666,\"#ed7953\"],[0.7777777777777778,\"#fb9f3a\"],[0.8888888888888888,\"#fdca26\"],[1.0,\"#f0f921\"]],\"type\":\"histogram2dcontour\"}],\"mesh3d\":[{\"colorbar\":{\"outlinewidth\":0,\"ticks\":\"\"},\"type\":\"mesh3d\"}],\"parcoords\":[{\"line\":{\"colorbar\":{\"outlinewidth\":0,\"ticks\":\"\"}},\"type\":\"parcoords\"}],\"pie\":[{\"automargin\":true,\"type\":\"pie\"}],\"scatter\":[{\"marker\":{\"colorbar\":{\"outlinewidth\":0,\"ticks\":\"\"}},\"type\":\"scatter\"}],\"scatter3d\":[{\"line\":{\"colorbar\":{\"outlinewidth\":0,\"ticks\":\"\"}},\"marker\":{\"colorbar\":{\"outlinewidth\":0,\"ticks\":\"\"}},\"type\":\"scatter3d\"}],\"scattercarpet\":[{\"marker\":{\"colorbar\":{\"outlinewidth\":0,\"ticks\":\"\"}},\"type\":\"scattercarpet\"}],\"scattergeo\":[{\"marker\":{\"colorbar\":{\"outlinewidth\":0,\"ticks\":\"\"}},\"type\":\"scattergeo\"}],\"scattergl\":[{\"marker\":{\"colorbar\":{\"outlinewidth\":0,\"ticks\":\"\"}},\"type\":\"scattergl\"}],\"scattermapbox\":[{\"marker\":{\"colorbar\":{\"outlinewidth\":0,\"ticks\":\"\"}},\"type\":\"scattermapbox\"}],\"scatterpolar\":[{\"marker\":{\"colorbar\":{\"outlinewidth\":0,\"ticks\":\"\"}},\"type\":\"scatterpolar\"}],\"scatterpolargl\":[{\"marker\":{\"colorbar\":{\"outlinewidth\":0,\"ticks\":\"\"}},\"type\":\"scatterpolargl\"}],\"scatterternary\":[{\"marker\":{\"colorbar\":{\"outlinewidth\":0,\"ticks\":\"\"}},\"type\":\"scatterternary\"}],\"surface\":[{\"colorbar\":{\"outlinewidth\":0,\"ticks\":\"\"},\"colorscale\":[[0.0,\"#0d0887\"],[0.1111111111111111,\"#46039f\"],[0.2222222222222222,\"#7201a8\"],[0.3333333333333333,\"#9c179e\"],[0.4444444444444444,\"#bd3786\"],[0.5555555555555556,\"#d8576b\"],[0.6666666666666666,\"#ed7953\"],[0.7777777777777778,\"#fb9f3a\"],[0.8888888888888888,\"#fdca26\"],[1.0,\"#f0f921\"]],\"type\":\"surface\"}],\"table\":[{\"cells\":{\"fill\":{\"color\":\"#EBF0F8\"},\"line\":{\"color\":\"white\"}},\"header\":{\"fill\":{\"color\":\"#C8D4E3\"},\"line\":{\"color\":\"white\"}},\"type\":\"table\"}]},\"layout\":{\"annotationdefaults\":{\"arrowcolor\":\"#2a3f5f\",\"arrowhead\":0,\"arrowwidth\":1},\"autotypenumbers\":\"strict\",\"coloraxis\":{\"colorbar\":{\"outlinewidth\":0,\"ticks\":\"\"}},\"colorscale\":{\"diverging\":[[0,\"#8e0152\"],[0.1,\"#c51b7d\"],[0.2,\"#de77ae\"],[0.3,\"#f1b6da\"],[0.4,\"#fde0ef\"],[0.5,\"#f7f7f7\"],[0.6,\"#e6f5d0\"],[0.7,\"#b8e186\"],[0.8,\"#7fbc41\"],[0.9,\"#4d9221\"],[1,\"#276419\"]],\"sequential\":[[0.0,\"#0d0887\"],[0.1111111111111111,\"#46039f\"],[0.2222222222222222,\"#7201a8\"],[0.3333333333333333,\"#9c179e\"],[0.4444444444444444,\"#bd3786\"],[0.5555555555555556,\"#d8576b\"],[0.6666666666666666,\"#ed7953\"],[0.7777777777777778,\"#fb9f3a\"],[0.8888888888888888,\"#fdca26\"],[1.0,\"#f0f921\"]],\"sequentialminus\":[[0.0,\"#0d0887\"],[0.1111111111111111,\"#46039f\"],[0.2222222222222222,\"#7201a8\"],[0.3333333333333333,\"#9c179e\"],[0.4444444444444444,\"#bd3786\"],[0.5555555555555556,\"#d8576b\"],[0.6666666666666666,\"#ed7953\"],[0.7777777777777778,\"#fb9f3a\"],[0.8888888888888888,\"#fdca26\"],[1.0,\"#f0f921\"]]},\"colorway\":[\"#636efa\",\"#EF553B\",\"#00cc96\",\"#ab63fa\",\"#FFA15A\",\"#19d3f3\",\"#FF6692\",\"#B6E880\",\"#FF97FF\",\"#FECB52\"],\"font\":{\"color\":\"#2a3f5f\"},\"geo\":{\"bgcolor\":\"white\",\"lakecolor\":\"white\",\"landcolor\":\"#E5ECF6\",\"showlakes\":true,\"showland\":true,\"subunitcolor\":\"white\"},\"hoverlabel\":{\"align\":\"left\"},\"hovermode\":\"closest\",\"mapbox\":{\"style\":\"light\"},\"paper_bgcolor\":\"white\",\"plot_bgcolor\":\"#E5ECF6\",\"polar\":{\"angularaxis\":{\"gridcolor\":\"white\",\"linecolor\":\"white\",\"ticks\":\"\"},\"bgcolor\":\"#E5ECF6\",\"radialaxis\":{\"gridcolor\":\"white\",\"linecolor\":\"white\",\"ticks\":\"\"}},\"scene\":{\"xaxis\":{\"backgroundcolor\":\"#E5ECF6\",\"gridcolor\":\"white\",\"gridwidth\":2,\"linecolor\":\"white\",\"showbackground\":true,\"ticks\":\"\",\"zerolinecolor\":\"white\"},\"yaxis\":{\"backgroundcolor\":\"#E5ECF6\",\"gridcolor\":\"white\",\"gridwidth\":2,\"linecolor\":\"white\",\"showbackground\":true,\"ticks\":\"\",\"zerolinecolor\":\"white\"},\"zaxis\":{\"backgroundcolor\":\"#E5ECF6\",\"gridcolor\":\"white\",\"gridwidth\":2,\"linecolor\":\"white\",\"showbackground\":true,\"ticks\":\"\",\"zerolinecolor\":\"white\"}},\"shapedefaults\":{\"line\":{\"color\":\"#2a3f5f\"}},\"ternary\":{\"aaxis\":{\"gridcolor\":\"white\",\"linecolor\":\"white\",\"ticks\":\"\"},\"baxis\":{\"gridcolor\":\"white\",\"linecolor\":\"white\",\"ticks\":\"\"},\"bgcolor\":\"#E5ECF6\",\"caxis\":{\"gridcolor\":\"white\",\"linecolor\":\"white\",\"ticks\":\"\"}},\"title\":{\"x\":0.05},\"xaxis\":{\"automargin\":true,\"gridcolor\":\"white\",\"linecolor\":\"white\",\"ticks\":\"\",\"title\":{\"standoff\":15},\"zerolinecolor\":\"white\",\"zerolinewidth\":2},\"yaxis\":{\"automargin\":true,\"gridcolor\":\"white\",\"linecolor\":\"white\",\"ticks\":\"\",\"title\":{\"standoff\":15},\"zerolinecolor\":\"white\",\"zerolinewidth\":2}}},\"title\":{\"text\":\"Barplot of Feature importances\"},\"width\":900,\"yaxis\":{\"showgrid\":false,\"showline\":false,\"showticklabels\":true}},                        {\"responsive\": true}                    ).then(function(){\n",
       "                            \n",
       "var gd = document.getElementById('8fa715e7-93e2-4030-81c8-2a9f542c523f');\n",
       "var x = new MutationObserver(function (mutations, observer) {{\n",
       "        var display = window.getComputedStyle(gd).display;\n",
       "        if (!display || display === 'none') {{\n",
       "            console.log([gd, 'removed!']);\n",
       "            Plotly.purge(gd);\n",
       "            observer.disconnect();\n",
       "        }}\n",
       "}});\n",
       "\n",
       "// Listen for the removal of the full notebook cells\n",
       "var notebookContainer = gd.closest('#notebook-container');\n",
       "if (notebookContainer) {{\n",
       "    x.observe(notebookContainer, {childList: true});\n",
       "}}\n",
       "\n",
       "// Listen for the clearing of the current output cell\n",
       "var outputEl = gd.closest('.output');\n",
       "if (outputEl) {{\n",
       "    x.observe(outputEl, {childList: true});\n",
       "}}\n",
       "\n",
       "                        })                };                });            </script>        </div>"
      ]
     },
     "metadata": {},
     "output_type": "display_data"
    },
    {
     "name": "stdout",
     "output_type": "stream",
     "text": [
      "Feature: 0, Score: 0.02401\n",
      "Feature: 1, Score: 0.02901\n",
      "Feature: 2, Score: 0.01627\n",
      "Feature: 3, Score: 0.01803\n",
      "Feature: 4, Score: 0.01544\n",
      "Feature: 5, Score: 0.02995\n",
      "Feature: 6, Score: 0.00432\n",
      "Feature: 7, Score: 0.00187\n",
      "Feature: 8, Score: 0.00573\n",
      "Feature: 9, Score: 0.00448\n",
      "Feature: 10, Score: 0.00231\n",
      "Feature: 11, Score: 0.03460\n",
      "Feature: 12, Score: 0.00353\n",
      "Feature: 13, Score: 0.00658\n",
      "Feature: 14, Score: 0.00317\n",
      "Feature: 15, Score: 0.00464\n",
      "Feature: 16, Score: 0.00698\n",
      "Feature: 17, Score: 0.00568\n",
      "Feature: 18, Score: 0.00655\n",
      "Feature: 19, Score: 0.00162\n",
      "Feature: 20, Score: 0.00627\n",
      "Feature: 21, Score: 0.01277\n",
      "Feature: 22, Score: 0.00413\n",
      "Feature: 23, Score: 0.00044\n",
      "Feature: 24, Score: 0.00528\n",
      "Feature: 25, Score: 0.00227\n",
      "Feature: 26, Score: 0.00445\n",
      "Feature: 27, Score: 0.00672\n",
      "Feature: 28, Score: 0.00124\n",
      "Feature: 29, Score: 0.00101\n",
      "Feature: 30, Score: 0.00000\n",
      "Feature: 31, Score: 0.00000\n",
      "Feature: 32, Score: 0.00948\n",
      "Feature: 33, Score: 0.00806\n",
      "Feature: 34, Score: 0.00093\n",
      "Feature: 35, Score: 0.00124\n",
      "Feature: 36, Score: 0.00867\n",
      "Feature: 37, Score: 0.00631\n",
      "Feature: 38, Score: 0.00382\n",
      "Feature: 39, Score: 0.00000\n",
      "Feature: 40, Score: 0.01051\n",
      "Feature: 41, Score: 0.00563\n",
      "Feature: 42, Score: 0.00729\n",
      "Feature: 43, Score: 0.00156\n",
      "Feature: 44, Score: 0.00123\n",
      "Feature: 45, Score: 0.02699\n",
      "Feature: 46, Score: 0.00781\n",
      "Feature: 47, Score: 0.00562\n",
      "Feature: 48, Score: 0.00436\n",
      "Feature: 49, Score: 0.00385\n",
      "Feature: 50, Score: 0.00670\n",
      "Feature: 51, Score: 0.00515\n",
      "Feature: 52, Score: 0.00442\n",
      "Feature: 53, Score: 0.00914\n",
      "Feature: 54, Score: 0.00471\n",
      "Feature: 55, Score: 0.00344\n",
      "Feature: 56, Score: 0.00594\n",
      "Feature: 57, Score: 0.00076\n",
      "Feature: 58, Score: 0.00477\n",
      "Feature: 59, Score: 0.00682\n",
      "Feature: 60, Score: 0.00420\n",
      "Feature: 61, Score: 0.01247\n",
      "Feature: 62, Score: 0.00715\n",
      "Feature: 63, Score: 0.00323\n",
      "Feature: 64, Score: 0.00256\n",
      "Feature: 65, Score: 0.00585\n",
      "Feature: 66, Score: 0.01695\n",
      "Feature: 67, Score: 0.00577\n",
      "Feature: 68, Score: 0.01474\n",
      "Feature: 69, Score: 0.00856\n",
      "Feature: 70, Score: 0.00592\n",
      "Feature: 71, Score: 0.00699\n",
      "Feature: 72, Score: 0.00611\n",
      "Feature: 73, Score: 0.02324\n",
      "Feature: 74, Score: 0.00270\n",
      "Feature: 75, Score: 0.00569\n",
      "Feature: 76, Score: 0.00776\n",
      "Feature: 77, Score: 0.00764\n",
      "Feature: 78, Score: 0.00732\n",
      "Feature: 79, Score: 0.00120\n",
      "Feature: 80, Score: 0.00495\n",
      "Feature: 81, Score: 0.00308\n",
      "Feature: 82, Score: 0.00986\n",
      "Feature: 83, Score: 0.00271\n",
      "Feature: 84, Score: 0.00320\n",
      "Feature: 85, Score: 0.00038\n",
      "Feature: 86, Score: 0.00020\n",
      "Feature: 87, Score: 0.00508\n",
      "Feature: 88, Score: 0.00932\n",
      "Feature: 89, Score: 0.00562\n",
      "Feature: 90, Score: 0.02656\n",
      "Feature: 91, Score: 0.00678\n",
      "Feature: 92, Score: 0.00067\n",
      "Feature: 93, Score: 0.00513\n",
      "Feature: 94, Score: 0.00159\n",
      "Feature: 95, Score: 0.00302\n",
      "Feature: 96, Score: 0.00533\n",
      "Feature: 97, Score: 0.00368\n",
      "Feature: 98, Score: 0.00553\n",
      "Feature: 99, Score: 0.01105\n",
      "Feature: 100, Score: 0.00586\n",
      "Feature: 101, Score: 0.00301\n",
      "Feature: 102, Score: 0.01477\n",
      "Feature: 103, Score: 0.00406\n",
      "Feature: 104, Score: 0.01504\n",
      "Feature: 105, Score: 0.01121\n",
      "Feature: 106, Score: 0.00701\n",
      "Feature: 107, Score: 0.00423\n",
      "Feature: 108, Score: 0.00411\n",
      "Feature: 109, Score: 0.00545\n",
      "Feature: 110, Score: 0.00315\n",
      "Feature: 111, Score: 0.00881\n",
      "Feature: 112, Score: 0.00575\n",
      "Feature: 113, Score: 0.00390\n",
      "Feature: 114, Score: 0.00293\n",
      "Feature: 115, Score: 0.00347\n",
      "Feature: 116, Score: 0.00274\n",
      "Feature: 117, Score: 0.00574\n",
      "Feature: 118, Score: 0.00427\n",
      "Feature: 119, Score: 0.00632\n",
      "Feature: 120, Score: 0.00408\n",
      "Feature: 121, Score: 0.00196\n",
      "Feature: 122, Score: 0.00497\n",
      "Feature: 123, Score: 0.00551\n",
      "Feature: 124, Score: 0.00206\n",
      "Feature: 125, Score: 0.00515\n",
      "Feature: 126, Score: 0.00353\n",
      "Feature: 127, Score: 0.00846\n",
      "Feature: 128, Score: 0.01434\n",
      "Feature: 129, Score: 0.00622\n",
      "Feature: 130, Score: 0.00468\n",
      "Feature: 131, Score: 0.00106\n",
      "Feature: 132, Score: 0.00131\n",
      "Feature: 133, Score: 0.00030\n",
      "Feature: 134, Score: 0.01707\n",
      "Feature: 135, Score: 0.00689\n",
      "Feature: 136, Score: 0.00032\n",
      "Feature: 137, Score: 0.00094\n",
      "Feature: 138, Score: 0.00380\n",
      "Feature: 139, Score: 0.00836\n",
      "Feature: 140, Score: 0.01148\n",
      "Feature: 141, Score: 0.00235\n",
      "Feature: 142, Score: 0.01092\n",
      "Feature: 143, Score: 0.01869\n",
      "Feature: 144, Score: 0.00355\n",
      "Feature: 145, Score: 0.00359\n",
      "Feature: 146, Score: 0.00422\n",
      "Feature: 147, Score: 0.01243\n",
      "Feature: 148, Score: 0.00561\n"
     ]
    },
    {
     "data": {
      "image/png": "[encoded data removed]",
      "text/plain": [
       "<Figure size 432x288 with 1 Axes>"
      ]
     },
     "metadata": {
      "needs_background": "light"
     },
     "output_type": "display_data"
    }
   ],
   "source": [
    "import matplotlib.pyplot as plt\n",
    "%matplotlib inline\n",
    "import plotly.offline as py\n",
    "py.init_notebook_mode(connected=True)\n",
    "import plotly.graph_objs as go\n",
    "import plotly.tools as tls\n",
    "import pandas as pd\n",
    "import numpy as np\n",
    "from matplotlib import pyplot\n",
    "from sklearn.model_selection import train_test_split\n",
    "from sklearn.ensemble import RandomForestClassifier\n",
    "from sklearn.model_selection import train_test_split # train/test\n",
    "from sklearn.datasets import load_wine # dataset \n",
    "from sklearn.metrics import accuracy_score, confusion_matrix # 평가 : 분류정확도 \n",
    "from sklearn.metrics import classification_report # 평가 : 정확률, 재현율, f1_score\n",
    "from sklearn.model_selection import train_test_split\n",
    "df = pd.read_csv(\"data/test1.csv\")\n",
    "def rating(mens_cramp):\n",
    "    if mens_cramp >= 8: return 2\n",
    "    elif mens_cramp >= 7: return 1\n",
    "    else: return 0\n",
    "df['mens_cramp_rank'] = df.apply(lambda x: rating(x['mens_cramp']),axis=1)\n",
    "\n",
    "X = df[['height', 'weight', 'mens_cycle', 'mens_period', 'menarche_age', 'bmi', 'diet_with_product', 'diet_no', 'diet_meal+exercise', 'diet_meal', 'diet_exercise', 'age', 'options_tension', 'options_stiffness', 'options_diarrhea', 'options_insomnia', 'options_abdominal_obesity', 'options_swelling', 'options_cold', 'exercise_type_walking', 'exercise_type_running', 'exercise_type_hiking', 'exercise_type_bicycle', 'exercise_type_golf', 'exercise_type_yoga_pilates', 'exercise_type_swimming', 'exercise_type_dance', 'exercise_type_fitness', 'thyroid_no', 'thyroid_hypothyroidism', 'thyroid_hyperthyroidism', 'thyroid_cancer', 'mens_disease_no', 'mens_disease_pms', 'mens_disease_fibroids', 'mens_disease_uterine_adenoma', 'mens_cramp_peak_before', 'mens_cramp_peak_first_day', 'mens_cramp_peak_second_day', 'mens_cramp_peak_third_day', 'mens_stress_peak_before', 'mens_stress_peak_first_day', 'mens_stressp_peak_second_day', 'mens_stress_peak_third_day', 'mens_cramp_part_belly', 'mens_cramp_part_pelvis', 'mens_cramp_part_waist', 'mens_cramp_part_below_thigh', 'mens_cramp_symptoms_swelling', 'mens_cramp_symptoms_emotion', 'mens_cramp_symptoms_belly_pain', 'mens_cramp_symptoms_constipation', 'mens_cramp_symptoms_lethargy', 'mens_cramp_symptoms_nervousness', 'mens_cramp_symptoms_indigestion', 'mens_cramp_symptoms_gas', 'mens_cramp_symptoms_diarrhea', 'mens_cramp_symptoms_digestive_upset', 'mens_cramp_symptoms_back_pain', 'mens_cramp_symptoms_chest_pain', 'mens_cramp_symptoms_increased_appetite', 'mens_cramp_symptoms_headache', 'mens_cramp_symptoms_depression', 'mens_cramp_symptoms_reduced_temperance', 'mens_cramp_symptoms_migraine', 'mens_cramp_symptoms_drowsiness', 'mens_cramp_symptoms_sensitive_temperature', 'mens_cramp_symptoms_colic', 'mens_cramp_symptoms_leg_numbness', 'mens_cramp_symptoms_leg_swelling', 'mens_cramp_symptoms_voracity', 'mens_cramp_symptoms_insomnia', 'mens_cramp_symptoms_anxiety', 'mens_cramp_symptoms_nausea', 'mens_cramp_symptoms_decreased_appetite', 'mens_cramp_symptoms_excessive_sleep', 'mens_cramp_symptoms_pimple', 'mens_cramp_symptoms_sickness', 'mens_cramp_symptoms_exhaustion', 'mens_cramp_symptoms_breathing_problem', 'mens_cramp_symptoms_dull_movement', 'mens_cramp_symptoms_gastrointestinal_disorder', 'mens_cramp_symptoms_muscle_pain', 'mens_cramp_symptoms_increased_libido', 'mens_cramp_symptoms_cold_sweat', 'mens_cramp_symptoms_dizziness', 'mens_cramp_symptoms_throw_up', 'mens_cramp_symptoms_abdominal_swelling', 'mens_cramp_symptoms_anemia', 'mens_cramp_symptoms_whirl', 'mens_cramp_symptoms_joint_pain', 'mens_cramp_symptoms_sweet', 'mens_cramp_symptoms_fever', 'mens_cramp_symptoms_chill', 'mens_cramp_symptoms_orthostatic_hypotension', 'mens_cramps_family_mother', 'mens_cramps_family_older_sister', 'mens_cramps_family_younger_sister', 'mens_cramps_family_relatives', 'mens_cramps_family_no', 'mens_symptoms_3_ovulation_cramps', 'mens_symptoms_3_long_cramps', 'mens_symptoms_3_abnormal', 'mens_symptoms_3_pressure', 'mens_symptoms_3_lump', 'mens_symptoms_3_abdominal_pain', 'mens_symptoms_3_gas', 'mens_symptoms_3_pelvis_pain', 'mens_symptoms_3_long_period', 'mens_symptoms_3_irregular_blood', 'mens_symptoms_3_waist_pain', 'mens_symptoms_3_stressful', 'mens_symptoms_3_cluster_blood', 'mens_symptoms_3_diarrhea', 'mens_symptoms_3_urination', 'mens_symptoms_3_irregular_blood_amount', 'mens_symptoms_3_intense_pain', 'mens_symptoms_3_stomachache', 'mens_before_after_pattern_toilet', 'mens_before_after_pattern_app', 'mens_before_after_pattern_embarrassment', 'mens_before_after_pattern_sex_nervousness', 'mens_before_after_pattern_sex_calculate_date', 'mens_before_after_pattern_sexual_desire', 'mens_before_after_pattern_accommodation', 'mens_before_after_pattern_keen', 'mens_before_after_pattern_cancellation', 'mens_before_after_pattern_work', 'mens_before_after_pattern_withstand', 'mens_before_after_pattern_urgent_cancellation', 'mens_before_after_pattern_sweet_spicy', 'mens_before_after_pattern_buy_comfy', 'mens_before_after_pattern_fancy', 'mens_before_after_pattern_partying', 'mens_before_after_pattern_comfy_clothes', 'mens_before_after_pattern_dark_clothes', 'mens_before_after_pattern_accessory', 'mens_before_after_pattern_heavy_makeup', 'mens_before_after_pattern_deceive', 'mens_before_after_pattern_help', 'mens_before_after_pattern_buy_pads', 'mens_before_after_pattern_borrow_pads', 'mens_before_after_pattern_bulk_purchase_pads', 'mens_before_after_pattern_excitement', 'mens_before_after_pattern_panty_blood', 'mens_before_after_pattern_throw_out_panty', 'mens_before_after_pattern_chest_lump', 'mens_before_after_pattern_weight_changes', 'mens_before_after_pattern_same_weight']]\n",
    "y = df['mens_cramp_rank']\n",
    "X_train, X_test, y_train, y_test = train_test_split(X, y, test_size = 0.3)\n",
    "\n",
    "model = RandomForestClassifier(n_estimators = 400)\n",
    "model.fit(X_train, y_train)\n",
    "\n",
    "y_pred = model.predict(X_test)\n",
    "print(\"Accuracy is: \", accuracy_score(y_pred, y_test))\n",
    "\n",
    "con_mat = confusion_matrix(y_pred, y_test)\n",
    "print(con_mat)\n",
    "\n",
    "report = classification_report(y_pred, y_test)\n",
    "print(report)\n",
    "\n",
    "features = X_train.columns.values\n",
    "print(\"---- Training Done ----\")\n",
    "\n",
    "trace = go.Scatter(\n",
    "    y = model.feature_importances_,\n",
    "    x = features,\n",
    "    mode = 'markers',\n",
    "    marker = dict(\n",
    "        sizemode = 'diameter',\n",
    "        sizeref = 1,\n",
    "        size = 13,\n",
    "        color = model.feature_importances_,\n",
    "        colorscale='Portland',\n",
    "        showscale = True\n",
    "    ),\n",
    "    text = features\n",
    ")\n",
    "data = [trace]\n",
    "\n",
    "layout = go.Layout(\n",
    "    autosize = True,\n",
    "    title = 'Random Forest Feature Importance',\n",
    "    hovermode = 'closest',\n",
    "    xaxis = dict(\n",
    "        ticklen = 5,\n",
    "        showgrid = False,\n",
    "        zeroline = False,\n",
    "        showline = False\n",
    "    ),\n",
    "    yaxis = dict(\n",
    "        title = 'Feature Importance',\n",
    "        showgrid = False,\n",
    "        zeroline = False,\n",
    "        ticklen = 5,\n",
    "        gridwidth = 2\n",
    "    ),\n",
    "    showlegend = False\n",
    ")\n",
    "fig = go.Figure(data, layout = layout)\n",
    "py.iplot(fig, filename = 'scatter2010')\n",
    "\n",
    "x, y = (list(x) for x in zip(*sorted(zip(model.feature_importances_, features), reverse = False)))\n",
    "trace2 = go.Bar(\n",
    "    x = x,\n",
    "    y = y,\n",
    "    marker = dict(\n",
    "        color = x,\n",
    "        colorscale = 'Viridis',\n",
    "        reversescale = True\n",
    "    ),\n",
    "    name = 'Random Forest Feature importance',\n",
    "    orientation = 'h'\n",
    ")\n",
    "\n",
    "layout = dict(\n",
    "    title = 'Barplot of Feature importances',\n",
    "    width = 900, height = 2000,\n",
    "    yaxis = dict(\n",
    "        showgrid = False,\n",
    "        showline = False,\n",
    "        showticklabels = True\n",
    "    )\n",
    ")\n",
    "\n",
    "fig1 = go.Figure(data = [trace2])\n",
    "fig1['layout'].update(layout)\n",
    "py.iplot(fig1, filename = 'plots')\n",
    "\n",
    "result = pd.DataFrame({'pred' : y_pred, 'real' : y_test})\n",
    "result\n",
    "\n",
    "# get importance\n",
    "importance = model.feature_importances_\n",
    "# summarize feature importance\n",
    "for i,v in enumerate(importance):\n",
    "\tprint('Feature: %0d, Score: %.5f' % (i,v))\n",
    "# plot feature importance\n",
    "pyplot.bar([x for x in range(len(importance))], importance)\n",
    "pyplot.show()\n"
   ]
  },
  {
   "cell_type": "code",
   "execution_count": 31,
   "id": "2d8f98ce",
   "metadata": {
    "scrolled": false
   },
   "outputs": [
    {
     "data": {
      "text/html": [
       "        <script type=\"text/javascript\">\n",
       "        window.PlotlyConfig = {MathJaxConfig: 'local'};\n",
       "        if (window.MathJax) {MathJax.Hub.Config({SVG: {font: \"STIX-Web\"}});}\n",
       "        if (typeof require !== 'undefined') {\n",
       "        require.undef(\"plotly\");\n",
       "        requirejs.config({\n",
       "            paths: {\n",
       "                'plotly': ['https://cdn.plot.ly/plotly-2.2.0.min']\n",
       "            }\n",
       "        });\n",
       "        require(['plotly'], function(Plotly) {\n",
       "            window._Plotly = Plotly;\n",
       "        });\n",
       "        }\n",
       "        </script>\n",
       "        "
      ]
     },
     "metadata": {},
     "output_type": "display_data"
    },
    {
     "name": "stdout",
     "output_type": "stream",
     "text": [
      "Accuracy is:  0.6363636363636364\n",
      "[[8 5 0]\n",
      " [0 2 2]\n",
      " [1 0 4]]\n",
      "              precision    recall  f1-score   support\n",
      "\n",
      "           0       0.89      0.62      0.73        13\n",
      "           1       0.29      0.50      0.36         4\n",
      "           2       0.67      0.80      0.73         5\n",
      "\n",
      "    accuracy                           0.64        22\n",
      "   macro avg       0.61      0.64      0.61        22\n",
      "weighted avg       0.73      0.64      0.66        22\n",
      "\n",
      "---- Training Done ----\n"
     ]
    },
    {
     "data": {
      "application/vnd.plotly.v1+json": {
       "config": {
        "linkText": "Export to plot.ly",
        "plotlyServerURL": "https://plot.ly",
        "showLink": false
       },
       "data": [
        {
         "marker": {
          "color": [
           0.05219011304201743,
           0.07211158851417174,
           0.06563652528529848,
           0.08576861594621057,
           0.03465269999982721,
           0.06970533638594623,
           0.042186898833514785,
           0.03618766583672665,
           0.040275447937477754,
           0.03898697358234061,
           0.01426152039937061,
           0.0475774857093,
           0.042000490236075175,
           0.03661312966972266,
           0.02936527732115211,
           0.013154631553328107,
           0.03930119457934068,
           0.015393392344597285,
           0.018507180443268687,
           0.01341522650914725,
           0.01286694915223085,
           0.018355659733023687,
           0.02305228988561871,
           0.019635334063113682,
           0.012702815435372834,
           0.008661289186196994,
           0.03526364507866584,
           0.019989011978547456,
           0.02191127461536121,
           0.020270336743034644
          ],
          "colorscale": [
           [
            0,
            "rgb(12,51,131)"
           ],
           [
            0.25,
            "rgb(10,136,186)"
           ],
           [
            0.5,
            "rgb(242,211,56)"
           ],
           [
            0.75,
            "rgb(242,143,56)"
           ],
           [
            1,
            "rgb(217,30,30)"
           ]
          ],
          "showscale": true,
          "size": 13,
          "sizemode": "diameter",
          "sizeref": 1
         },
         "mode": "markers",
         "text": [
          "age",
          "bmi",
          "weight",
          "mens_cramp_part_pelvis",
          "mens_cramp_symptoms_joint_pain",
          "height",
          "mens_cramp_symptoms_nausea",
          "mens_before_after_pattern_excitement",
          "mens_period",
          "mens_before_after_pattern_comfy_clothes",
          "mens_cramp_symptoms_sensitive_temperature",
          "mens_cycle",
          "menarche_age",
          "mens_symptoms_3_lump",
          "mens_symptoms_3_abnormal",
          "mens_cramp_symptoms_leg_numbness",
          "mens_before_after_pattern_withstand",
          "exercise_type_hiking",
          "mens_cramp_symptoms_headache",
          "mens_before_after_pattern_weight_changes",
          "mens_before_after_pattern_buy_pads",
          "mens_symptoms_3_abdominal_pain",
          "mens_cramps_family_no",
          "mens_before_after_pattern_bulk_purchase_pads",
          "mens_stress_peak_before",
          "mens_cramp_symptoms_muscle_pain",
          "mens_disease_no",
          "mens_cramp_symptoms_anemia",
          "mens_cramp_symptoms_nervousness",
          "mens_symptoms_3_stressful"
         ],
         "type": "scatter",
         "x": [
          "age",
          "bmi",
          "weight",
          "mens_cramp_part_pelvis",
          "mens_cramp_symptoms_joint_pain",
          "height",
          "mens_cramp_symptoms_nausea",
          "mens_before_after_pattern_excitement",
          "mens_period",
          "mens_before_after_pattern_comfy_clothes",
          "mens_cramp_symptoms_sensitive_temperature",
          "mens_cycle",
          "menarche_age",
          "mens_symptoms_3_lump",
          "mens_symptoms_3_abnormal",
          "mens_cramp_symptoms_leg_numbness",
          "mens_before_after_pattern_withstand",
          "exercise_type_hiking",
          "mens_cramp_symptoms_headache",
          "mens_before_after_pattern_weight_changes",
          "mens_before_after_pattern_buy_pads",
          "mens_symptoms_3_abdominal_pain",
          "mens_cramps_family_no",
          "mens_before_after_pattern_bulk_purchase_pads",
          "mens_stress_peak_before",
          "mens_cramp_symptoms_muscle_pain",
          "mens_disease_no",
          "mens_cramp_symptoms_anemia",
          "mens_cramp_symptoms_nervousness",
          "mens_symptoms_3_stressful"
         ],
         "y": [
          0.05219011304201743,
          0.07211158851417174,
          0.06563652528529848,
          0.08576861594621057,
          0.03465269999982721,
          0.06970533638594623,
          0.042186898833514785,
          0.03618766583672665,
          0.040275447937477754,
          0.03898697358234061,
          0.01426152039937061,
          0.0475774857093,
          0.042000490236075175,
          0.03661312966972266,
          0.02936527732115211,
          0.013154631553328107,
          0.03930119457934068,
          0.015393392344597285,
          0.018507180443268687,
          0.01341522650914725,
          0.01286694915223085,
          0.018355659733023687,
          0.02305228988561871,
          0.019635334063113682,
          0.012702815435372834,
          0.008661289186196994,
          0.03526364507866584,
          0.019989011978547456,
          0.02191127461536121,
          0.020270336743034644
         ]
        }
       ],
       "layout": {
        "autosize": true,
        "hovermode": "closest",
        "showlegend": false,
        "template": {
         "data": {
          "bar": [
           {
            "error_x": {
             "color": "#2a3f5f"
            },
            "error_y": {
             "color": "#2a3f5f"
            },
            "marker": {
             "line": {
              "color": "#E5ECF6",
              "width": 0.5
             },
             "pattern": {
              "fillmode": "overlay",
              "size": 10,
              "solidity": 0.2
             }
            },
            "type": "bar"
           }
          ],
          "barpolar": [
           {
            "marker": {
             "line": {
              "color": "#E5ECF6",
              "width": 0.5
             },
             "pattern": {
              "fillmode": "overlay",
              "size": 10,
              "solidity": 0.2
             }
            },
            "type": "barpolar"
           }
          ],
          "carpet": [
           {
            "aaxis": {
             "endlinecolor": "#2a3f5f",
             "gridcolor": "white",
             "linecolor": "white",
             "minorgridcolor": "white",
             "startlinecolor": "#2a3f5f"
            },
            "baxis": {
             "endlinecolor": "#2a3f5f",
             "gridcolor": "white",
             "linecolor": "white",
             "minorgridcolor": "white",
             "startlinecolor": "#2a3f5f"
            },
            "type": "carpet"
           }
          ],
          "choropleth": [
           {
            "colorbar": {
             "outlinewidth": 0,
             "ticks": ""
            },
            "type": "choropleth"
           }
          ],
          "contour": [
           {
            "colorbar": {
             "outlinewidth": 0,
             "ticks": ""
            },
            "colorscale": [
             [
              0,
              "#0d0887"
             ],
             [
              0.1111111111111111,
              "#46039f"
             ],
             [
              0.2222222222222222,
              "#7201a8"
             ],
             [
              0.3333333333333333,
              "#9c179e"
             ],
             [
              0.4444444444444444,
              "#bd3786"
             ],
             [
              0.5555555555555556,
              "#d8576b"
             ],
             [
              0.6666666666666666,
              "#ed7953"
             ],
             [
              0.7777777777777778,
              "#fb9f3a"
             ],
             [
              0.8888888888888888,
              "#fdca26"
             ],
             [
              1,
              "#f0f921"
             ]
            ],
            "type": "contour"
           }
          ],
          "contourcarpet": [
           {
            "colorbar": {
             "outlinewidth": 0,
             "ticks": ""
            },
            "type": "contourcarpet"
           }
          ],
          "heatmap": [
           {
            "colorbar": {
             "outlinewidth": 0,
             "ticks": ""
            },
            "colorscale": [
             [
              0,
              "#0d0887"
             ],
             [
              0.1111111111111111,
              "#46039f"
             ],
             [
              0.2222222222222222,
              "#7201a8"
             ],
             [
              0.3333333333333333,
              "#9c179e"
             ],
             [
              0.4444444444444444,
              "#bd3786"
             ],
             [
              0.5555555555555556,
              "#d8576b"
             ],
             [
              0.6666666666666666,
              "#ed7953"
             ],
             [
              0.7777777777777778,
              "#fb9f3a"
             ],
             [
              0.8888888888888888,
              "#fdca26"
             ],
             [
              1,
              "#f0f921"
             ]
            ],
            "type": "heatmap"
           }
          ],
          "heatmapgl": [
           {
            "colorbar": {
             "outlinewidth": 0,
             "ticks": ""
            },
            "colorscale": [
             [
              0,
              "#0d0887"
             ],
             [
              0.1111111111111111,
              "#46039f"
             ],
             [
              0.2222222222222222,
              "#7201a8"
             ],
             [
              0.3333333333333333,
              "#9c179e"
             ],
             [
              0.4444444444444444,
              "#bd3786"
             ],
             [
              0.5555555555555556,
              "#d8576b"
             ],
             [
              0.6666666666666666,
              "#ed7953"
             ],
             [
              0.7777777777777778,
              "#fb9f3a"
             ],
             [
              0.8888888888888888,
              "#fdca26"
             ],
             [
              1,
              "#f0f921"
             ]
            ],
            "type": "heatmapgl"
           }
          ],
          "histogram": [
           {
            "marker": {
             "pattern": {
              "fillmode": "overlay",
              "size": 10,
              "solidity": 0.2
             }
            },
            "type": "histogram"
           }
          ],
          "histogram2d": [
           {
            "colorbar": {
             "outlinewidth": 0,
             "ticks": ""
            },
            "colorscale": [
             [
              0,
              "#0d0887"
             ],
             [
              0.1111111111111111,
              "#46039f"
             ],
             [
              0.2222222222222222,
              "#7201a8"
             ],
             [
              0.3333333333333333,
              "#9c179e"
             ],
             [
              0.4444444444444444,
              "#bd3786"
             ],
             [
              0.5555555555555556,
              "#d8576b"
             ],
             [
              0.6666666666666666,
              "#ed7953"
             ],
             [
              0.7777777777777778,
              "#fb9f3a"
             ],
             [
              0.8888888888888888,
              "#fdca26"
             ],
             [
              1,
              "#f0f921"
             ]
            ],
            "type": "histogram2d"
           }
          ],
          "histogram2dcontour": [
           {
            "colorbar": {
             "outlinewidth": 0,
             "ticks": ""
            },
            "colorscale": [
             [
              0,
              "#0d0887"
             ],
             [
              0.1111111111111111,
              "#46039f"
             ],
             [
              0.2222222222222222,
              "#7201a8"
             ],
             [
              0.3333333333333333,
              "#9c179e"
             ],
             [
              0.4444444444444444,
              "#bd3786"
             ],
             [
              0.5555555555555556,
              "#d8576b"
             ],
             [
              0.6666666666666666,
              "#ed7953"
             ],
             [
              0.7777777777777778,
              "#fb9f3a"
             ],
             [
              0.8888888888888888,
              "#fdca26"
             ],
             [
              1,
              "#f0f921"
             ]
            ],
            "type": "histogram2dcontour"
           }
          ],
          "mesh3d": [
           {
            "colorbar": {
             "outlinewidth": 0,
             "ticks": ""
            },
            "type": "mesh3d"
           }
          ],
          "parcoords": [
           {
            "line": {
             "colorbar": {
              "outlinewidth": 0,
              "ticks": ""
             }
            },
            "type": "parcoords"
           }
          ],
          "pie": [
           {
            "automargin": true,
            "type": "pie"
           }
          ],
          "scatter": [
           {
            "marker": {
             "colorbar": {
              "outlinewidth": 0,
              "ticks": ""
             }
            },
            "type": "scatter"
           }
          ],
          "scatter3d": [
           {
            "line": {
             "colorbar": {
              "outlinewidth": 0,
              "ticks": ""
             }
            },
            "marker": {
             "colorbar": {
              "outlinewidth": 0,
              "ticks": ""
             }
            },
            "type": "scatter3d"
           }
          ],
          "scattercarpet": [
           {
            "marker": {
             "colorbar": {
              "outlinewidth": 0,
              "ticks": ""
             }
            },
            "type": "scattercarpet"
           }
          ],
          "scattergeo": [
           {
            "marker": {
             "colorbar": {
              "outlinewidth": 0,
              "ticks": ""
             }
            },
            "type": "scattergeo"
           }
          ],
          "scattergl": [
           {
            "marker": {
             "colorbar": {
              "outlinewidth": 0,
              "ticks": ""
             }
            },
            "type": "scattergl"
           }
          ],
          "scattermapbox": [
           {
            "marker": {
             "colorbar": {
              "outlinewidth": 0,
              "ticks": ""
             }
            },
            "type": "scattermapbox"
           }
          ],
          "scatterpolar": [
           {
            "marker": {
             "colorbar": {
              "outlinewidth": 0,
              "ticks": ""
             }
            },
            "type": "scatterpolar"
           }
          ],
          "scatterpolargl": [
           {
            "marker": {
             "colorbar": {
              "outlinewidth": 0,
              "ticks": ""
             }
            },
            "type": "scatterpolargl"
           }
          ],
          "scatterternary": [
           {
            "marker": {
             "colorbar": {
              "outlinewidth": 0,
              "ticks": ""
             }
            },
            "type": "scatterternary"
           }
          ],
          "surface": [
           {
            "colorbar": {
             "outlinewidth": 0,
             "ticks": ""
            },
            "colorscale": [
             [
              0,
              "#0d0887"
             ],
             [
              0.1111111111111111,
              "#46039f"
             ],
             [
              0.2222222222222222,
              "#7201a8"
             ],
             [
              0.3333333333333333,
              "#9c179e"
             ],
             [
              0.4444444444444444,
              "#bd3786"
             ],
             [
              0.5555555555555556,
              "#d8576b"
             ],
             [
              0.6666666666666666,
              "#ed7953"
             ],
             [
              0.7777777777777778,
              "#fb9f3a"
             ],
             [
              0.8888888888888888,
              "#fdca26"
             ],
             [
              1,
              "#f0f921"
             ]
            ],
            "type": "surface"
           }
          ],
          "table": [
           {
            "cells": {
             "fill": {
              "color": "#EBF0F8"
             },
             "line": {
              "color": "white"
             }
            },
            "header": {
             "fill": {
              "color": "#C8D4E3"
             },
             "line": {
              "color": "white"
             }
            },
            "type": "table"
           }
          ]
         },
         "layout": {
          "annotationdefaults": {
           "arrowcolor": "#2a3f5f",
           "arrowhead": 0,
           "arrowwidth": 1
          },
          "autotypenumbers": "strict",
          "coloraxis": {
           "colorbar": {
            "outlinewidth": 0,
            "ticks": ""
           }
          },
          "colorscale": {
           "diverging": [
            [
             0,
             "#8e0152"
            ],
            [
             0.1,
             "#c51b7d"
            ],
            [
             0.2,
             "#de77ae"
            ],
            [
             0.3,
             "#f1b6da"
            ],
            [
             0.4,
             "#fde0ef"
            ],
            [
             0.5,
             "#f7f7f7"
            ],
            [
             0.6,
             "#e6f5d0"
            ],
            [
             0.7,
             "#b8e186"
            ],
            [
             0.8,
             "#7fbc41"
            ],
            [
             0.9,
             "#4d9221"
            ],
            [
             1,
             "#276419"
            ]
           ],
           "sequential": [
            [
             0,
             "#0d0887"
            ],
            [
             0.1111111111111111,
             "#46039f"
            ],
            [
             0.2222222222222222,
             "#7201a8"
            ],
            [
             0.3333333333333333,
             "#9c179e"
            ],
            [
             0.4444444444444444,
             "#bd3786"
            ],
            [
             0.5555555555555556,
             "#d8576b"
            ],
            [
             0.6666666666666666,
             "#ed7953"
            ],
            [
             0.7777777777777778,
             "#fb9f3a"
            ],
            [
             0.8888888888888888,
             "#fdca26"
            ],
            [
             1,
             "#f0f921"
            ]
           ],
           "sequentialminus": [
            [
             0,
             "#0d0887"
            ],
            [
             0.1111111111111111,
             "#46039f"
            ],
            [
             0.2222222222222222,
             "#7201a8"
            ],
            [
             0.3333333333333333,
             "#9c179e"
            ],
            [
             0.4444444444444444,
             "#bd3786"
            ],
            [
             0.5555555555555556,
             "#d8576b"
            ],
            [
             0.6666666666666666,
             "#ed7953"
            ],
            [
             0.7777777777777778,
             "#fb9f3a"
            ],
            [
             0.8888888888888888,
             "#fdca26"
            ],
            [
             1,
             "#f0f921"
            ]
           ]
          },
          "colorway": [
           "#636efa",
           "#EF553B",
           "#00cc96",
           "#ab63fa",
           "#FFA15A",
           "#19d3f3",
           "#FF6692",
           "#B6E880",
           "#FF97FF",
           "#FECB52"
          ],
          "font": {
           "color": "#2a3f5f"
          },
          "geo": {
           "bgcolor": "white",
           "lakecolor": "white",
           "landcolor": "#E5ECF6",
           "showlakes": true,
           "showland": true,
           "subunitcolor": "white"
          },
          "hoverlabel": {
           "align": "left"
          },
          "hovermode": "closest",
          "mapbox": {
           "style": "light"
          },
          "paper_bgcolor": "white",
          "plot_bgcolor": "#E5ECF6",
          "polar": {
           "angularaxis": {
            "gridcolor": "white",
            "linecolor": "white",
            "ticks": ""
           },
           "bgcolor": "#E5ECF6",
           "radialaxis": {
            "gridcolor": "white",
            "linecolor": "white",
            "ticks": ""
           }
          },
          "scene": {
           "xaxis": {
            "backgroundcolor": "#E5ECF6",
            "gridcolor": "white",
            "gridwidth": 2,
            "linecolor": "white",
            "showbackground": true,
            "ticks": "",
            "zerolinecolor": "white"
           },
           "yaxis": {
            "backgroundcolor": "#E5ECF6",
            "gridcolor": "white",
            "gridwidth": 2,
            "linecolor": "white",
            "showbackground": true,
            "ticks": "",
            "zerolinecolor": "white"
           },
           "zaxis": {
            "backgroundcolor": "#E5ECF6",
            "gridcolor": "white",
            "gridwidth": 2,
            "linecolor": "white",
            "showbackground": true,
            "ticks": "",
            "zerolinecolor": "white"
           }
          },
          "shapedefaults": {
           "line": {
            "color": "#2a3f5f"
           }
          },
          "ternary": {
           "aaxis": {
            "gridcolor": "white",
            "linecolor": "white",
            "ticks": ""
           },
           "baxis": {
            "gridcolor": "white",
            "linecolor": "white",
            "ticks": ""
           },
           "bgcolor": "#E5ECF6",
           "caxis": {
            "gridcolor": "white",
            "linecolor": "white",
            "ticks": ""
           }
          },
          "title": {
           "x": 0.05
          },
          "xaxis": {
           "automargin": true,
           "gridcolor": "white",
           "linecolor": "white",
           "ticks": "",
           "title": {
            "standoff": 15
           },
           "zerolinecolor": "white",
           "zerolinewidth": 2
          },
          "yaxis": {
           "automargin": true,
           "gridcolor": "white",
           "linecolor": "white",
           "ticks": "",
           "title": {
            "standoff": 15
           },
           "zerolinecolor": "white",
           "zerolinewidth": 2
          }
         }
        },
        "title": {
         "text": "Random Forest Feature Importance"
        },
        "xaxis": {
         "showgrid": false,
         "showline": false,
         "ticklen": 5,
         "zeroline": false
        },
        "yaxis": {
         "gridwidth": 2,
         "showgrid": false,
         "ticklen": 5,
         "title": {
          "text": "Feature Importance"
         },
         "zeroline": false
        }
       }
      },
      "text/html": [
       "<div>                            <div id=\"c6cfde0d-6ece-4613-a0ef-42f9bb401b73\" class=\"plotly-graph-div\" style=\"height:525px; width:100%;\"></div>            <script type=\"text/javascript\">                require([\"plotly\"], function(Plotly) {                    window.PLOTLYENV=window.PLOTLYENV || {};                                    if (document.getElementById(\"c6cfde0d-6ece-4613-a0ef-42f9bb401b73\")) {                    Plotly.newPlot(                        \"c6cfde0d-6ece-4613-a0ef-42f9bb401b73\",                        [{\"marker\":{\"color\":[0.05219011304201743,0.07211158851417174,0.06563652528529848,0.08576861594621057,0.03465269999982721,0.06970533638594623,0.042186898833514785,0.03618766583672665,0.040275447937477754,0.03898697358234061,0.01426152039937061,0.0475774857093,0.042000490236075175,0.03661312966972266,0.02936527732115211,0.013154631553328107,0.03930119457934068,0.015393392344597285,0.018507180443268687,0.01341522650914725,0.01286694915223085,0.018355659733023687,0.02305228988561871,0.019635334063113682,0.012702815435372834,0.008661289186196994,0.03526364507866584,0.019989011978547456,0.02191127461536121,0.020270336743034644],\"colorscale\":[[0.0,\"rgb(12,51,131)\"],[0.25,\"rgb(10,136,186)\"],[0.5,\"rgb(242,211,56)\"],[0.75,\"rgb(242,143,56)\"],[1.0,\"rgb(217,30,30)\"]],\"showscale\":true,\"size\":13,\"sizemode\":\"diameter\",\"sizeref\":1},\"mode\":\"markers\",\"text\":[\"age\",\"bmi\",\"weight\",\"mens_cramp_part_pelvis\",\"mens_cramp_symptoms_joint_pain\",\"height\",\"mens_cramp_symptoms_nausea\",\"mens_before_after_pattern_excitement\",\"mens_period\",\"mens_before_after_pattern_comfy_clothes\",\"mens_cramp_symptoms_sensitive_temperature\",\"mens_cycle\",\"menarche_age\",\"mens_symptoms_3_lump\",\"mens_symptoms_3_abnormal\",\"mens_cramp_symptoms_leg_numbness\",\"mens_before_after_pattern_withstand\",\"exercise_type_hiking\",\"mens_cramp_symptoms_headache\",\"mens_before_after_pattern_weight_changes\",\"mens_before_after_pattern_buy_pads\",\"mens_symptoms_3_abdominal_pain\",\"mens_cramps_family_no\",\"mens_before_after_pattern_bulk_purchase_pads\",\"mens_stress_peak_before\",\"mens_cramp_symptoms_muscle_pain\",\"mens_disease_no\",\"mens_cramp_symptoms_anemia\",\"mens_cramp_symptoms_nervousness\",\"mens_symptoms_3_stressful\"],\"type\":\"scatter\",\"x\":[\"age\",\"bmi\",\"weight\",\"mens_cramp_part_pelvis\",\"mens_cramp_symptoms_joint_pain\",\"height\",\"mens_cramp_symptoms_nausea\",\"mens_before_after_pattern_excitement\",\"mens_period\",\"mens_before_after_pattern_comfy_clothes\",\"mens_cramp_symptoms_sensitive_temperature\",\"mens_cycle\",\"menarche_age\",\"mens_symptoms_3_lump\",\"mens_symptoms_3_abnormal\",\"mens_cramp_symptoms_leg_numbness\",\"mens_before_after_pattern_withstand\",\"exercise_type_hiking\",\"mens_cramp_symptoms_headache\",\"mens_before_after_pattern_weight_changes\",\"mens_before_after_pattern_buy_pads\",\"mens_symptoms_3_abdominal_pain\",\"mens_cramps_family_no\",\"mens_before_after_pattern_bulk_purchase_pads\",\"mens_stress_peak_before\",\"mens_cramp_symptoms_muscle_pain\",\"mens_disease_no\",\"mens_cramp_symptoms_anemia\",\"mens_cramp_symptoms_nervousness\",\"mens_symptoms_3_stressful\"],\"y\":[0.05219011304201743,0.07211158851417174,0.06563652528529848,0.08576861594621057,0.03465269999982721,0.06970533638594623,0.042186898833514785,0.03618766583672665,0.040275447937477754,0.03898697358234061,0.01426152039937061,0.0475774857093,0.042000490236075175,0.03661312966972266,0.02936527732115211,0.013154631553328107,0.03930119457934068,0.015393392344597285,0.018507180443268687,0.01341522650914725,0.01286694915223085,0.018355659733023687,0.02305228988561871,0.019635334063113682,0.012702815435372834,0.008661289186196994,0.03526364507866584,0.019989011978547456,0.02191127461536121,0.020270336743034644]}],                        {\"autosize\":true,\"hovermode\":\"closest\",\"showlegend\":false,\"template\":{\"data\":{\"bar\":[{\"error_x\":{\"color\":\"#2a3f5f\"},\"error_y\":{\"color\":\"#2a3f5f\"},\"marker\":{\"line\":{\"color\":\"#E5ECF6\",\"width\":0.5},\"pattern\":{\"fillmode\":\"overlay\",\"size\":10,\"solidity\":0.2}},\"type\":\"bar\"}],\"barpolar\":[{\"marker\":{\"line\":{\"color\":\"#E5ECF6\",\"width\":0.5},\"pattern\":{\"fillmode\":\"overlay\",\"size\":10,\"solidity\":0.2}},\"type\":\"barpolar\"}],\"carpet\":[{\"aaxis\":{\"endlinecolor\":\"#2a3f5f\",\"gridcolor\":\"white\",\"linecolor\":\"white\",\"minorgridcolor\":\"white\",\"startlinecolor\":\"#2a3f5f\"},\"baxis\":{\"endlinecolor\":\"#2a3f5f\",\"gridcolor\":\"white\",\"linecolor\":\"white\",\"minorgridcolor\":\"white\",\"startlinecolor\":\"#2a3f5f\"},\"type\":\"carpet\"}],\"choropleth\":[{\"colorbar\":{\"outlinewidth\":0,\"ticks\":\"\"},\"type\":\"choropleth\"}],\"contour\":[{\"colorbar\":{\"outlinewidth\":0,\"ticks\":\"\"},\"colorscale\":[[0.0,\"#0d0887\"],[0.1111111111111111,\"#46039f\"],[0.2222222222222222,\"#7201a8\"],[0.3333333333333333,\"#9c179e\"],[0.4444444444444444,\"#bd3786\"],[0.5555555555555556,\"#d8576b\"],[0.6666666666666666,\"#ed7953\"],[0.7777777777777778,\"#fb9f3a\"],[0.8888888888888888,\"#fdca26\"],[1.0,\"#f0f921\"]],\"type\":\"contour\"}],\"contourcarpet\":[{\"colorbar\":{\"outlinewidth\":0,\"ticks\":\"\"},\"type\":\"contourcarpet\"}],\"heatmap\":[{\"colorbar\":{\"outlinewidth\":0,\"ticks\":\"\"},\"colorscale\":[[0.0,\"#0d0887\"],[0.1111111111111111,\"#46039f\"],[0.2222222222222222,\"#7201a8\"],[0.3333333333333333,\"#9c179e\"],[0.4444444444444444,\"#bd3786\"],[0.5555555555555556,\"#d8576b\"],[0.6666666666666666,\"#ed7953\"],[0.7777777777777778,\"#fb9f3a\"],[0.8888888888888888,\"#fdca26\"],[1.0,\"#f0f921\"]],\"type\":\"heatmap\"}],\"heatmapgl\":[{\"colorbar\":{\"outlinewidth\":0,\"ticks\":\"\"},\"colorscale\":[[0.0,\"#0d0887\"],[0.1111111111111111,\"#46039f\"],[0.2222222222222222,\"#7201a8\"],[0.3333333333333333,\"#9c179e\"],[0.4444444444444444,\"#bd3786\"],[0.5555555555555556,\"#d8576b\"],[0.6666666666666666,\"#ed7953\"],[0.7777777777777778,\"#fb9f3a\"],[0.8888888888888888,\"#fdca26\"],[1.0,\"#f0f921\"]],\"type\":\"heatmapgl\"}],\"histogram\":[{\"marker\":{\"pattern\":{\"fillmode\":\"overlay\",\"size\":10,\"solidity\":0.2}},\"type\":\"histogram\"}],\"histogram2d\":[{\"colorbar\":{\"outlinewidth\":0,\"ticks\":\"\"},\"colorscale\":[[0.0,\"#0d0887\"],[0.1111111111111111,\"#46039f\"],[0.2222222222222222,\"#7201a8\"],[0.3333333333333333,\"#9c179e\"],[0.4444444444444444,\"#bd3786\"],[0.5555555555555556,\"#d8576b\"],[0.6666666666666666,\"#ed7953\"],[0.7777777777777778,\"#fb9f3a\"],[0.8888888888888888,\"#fdca26\"],[1.0,\"#f0f921\"]],\"type\":\"histogram2d\"}],\"histogram2dcontour\":[{\"colorbar\":{\"outlinewidth\":0,\"ticks\":\"\"},\"colorscale\":[[0.0,\"#0d0887\"],[0.1111111111111111,\"#46039f\"],[0.2222222222222222,\"#7201a8\"],[0.3333333333333333,\"#9c179e\"],[0.4444444444444444,\"#bd3786\"],[0.5555555555555556,\"#d8576b\"],[0.6666666666666666,\"#ed7953\"],[0.7777777777777778,\"#fb9f3a\"],[0.8888888888888888,\"#fdca26\"],[1.0,\"#f0f921\"]],\"type\":\"histogram2dcontour\"}],\"mesh3d\":[{\"colorbar\":{\"outlinewidth\":0,\"ticks\":\"\"},\"type\":\"mesh3d\"}],\"parcoords\":[{\"line\":{\"colorbar\":{\"outlinewidth\":0,\"ticks\":\"\"}},\"type\":\"parcoords\"}],\"pie\":[{\"automargin\":true,\"type\":\"pie\"}],\"scatter\":[{\"marker\":{\"colorbar\":{\"outlinewidth\":0,\"ticks\":\"\"}},\"type\":\"scatter\"}],\"scatter3d\":[{\"line\":{\"colorbar\":{\"outlinewidth\":0,\"ticks\":\"\"}},\"marker\":{\"colorbar\":{\"outlinewidth\":0,\"ticks\":\"\"}},\"type\":\"scatter3d\"}],\"scattercarpet\":[{\"marker\":{\"colorbar\":{\"outlinewidth\":0,\"ticks\":\"\"}},\"type\":\"scattercarpet\"}],\"scattergeo\":[{\"marker\":{\"colorbar\":{\"outlinewidth\":0,\"ticks\":\"\"}},\"type\":\"scattergeo\"}],\"scattergl\":[{\"marker\":{\"colorbar\":{\"outlinewidth\":0,\"ticks\":\"\"}},\"type\":\"scattergl\"}],\"scattermapbox\":[{\"marker\":{\"colorbar\":{\"outlinewidth\":0,\"ticks\":\"\"}},\"type\":\"scattermapbox\"}],\"scatterpolar\":[{\"marker\":{\"colorbar\":{\"outlinewidth\":0,\"ticks\":\"\"}},\"type\":\"scatterpolar\"}],\"scatterpolargl\":[{\"marker\":{\"colorbar\":{\"outlinewidth\":0,\"ticks\":\"\"}},\"type\":\"scatterpolargl\"}],\"scatterternary\":[{\"marker\":{\"colorbar\":{\"outlinewidth\":0,\"ticks\":\"\"}},\"type\":\"scatterternary\"}],\"surface\":[{\"colorbar\":{\"outlinewidth\":0,\"ticks\":\"\"},\"colorscale\":[[0.0,\"#0d0887\"],[0.1111111111111111,\"#46039f\"],[0.2222222222222222,\"#7201a8\"],[0.3333333333333333,\"#9c179e\"],[0.4444444444444444,\"#bd3786\"],[0.5555555555555556,\"#d8576b\"],[0.6666666666666666,\"#ed7953\"],[0.7777777777777778,\"#fb9f3a\"],[0.8888888888888888,\"#fdca26\"],[1.0,\"#f0f921\"]],\"type\":\"surface\"}],\"table\":[{\"cells\":{\"fill\":{\"color\":\"#EBF0F8\"},\"line\":{\"color\":\"white\"}},\"header\":{\"fill\":{\"color\":\"#C8D4E3\"},\"line\":{\"color\":\"white\"}},\"type\":\"table\"}]},\"layout\":{\"annotationdefaults\":{\"arrowcolor\":\"#2a3f5f\",\"arrowhead\":0,\"arrowwidth\":1},\"autotypenumbers\":\"strict\",\"coloraxis\":{\"colorbar\":{\"outlinewidth\":0,\"ticks\":\"\"}},\"colorscale\":{\"diverging\":[[0,\"#8e0152\"],[0.1,\"#c51b7d\"],[0.2,\"#de77ae\"],[0.3,\"#f1b6da\"],[0.4,\"#fde0ef\"],[0.5,\"#f7f7f7\"],[0.6,\"#e6f5d0\"],[0.7,\"#b8e186\"],[0.8,\"#7fbc41\"],[0.9,\"#4d9221\"],[1,\"#276419\"]],\"sequential\":[[0.0,\"#0d0887\"],[0.1111111111111111,\"#46039f\"],[0.2222222222222222,\"#7201a8\"],[0.3333333333333333,\"#9c179e\"],[0.4444444444444444,\"#bd3786\"],[0.5555555555555556,\"#d8576b\"],[0.6666666666666666,\"#ed7953\"],[0.7777777777777778,\"#fb9f3a\"],[0.8888888888888888,\"#fdca26\"],[1.0,\"#f0f921\"]],\"sequentialminus\":[[0.0,\"#0d0887\"],[0.1111111111111111,\"#46039f\"],[0.2222222222222222,\"#7201a8\"],[0.3333333333333333,\"#9c179e\"],[0.4444444444444444,\"#bd3786\"],[0.5555555555555556,\"#d8576b\"],[0.6666666666666666,\"#ed7953\"],[0.7777777777777778,\"#fb9f3a\"],[0.8888888888888888,\"#fdca26\"],[1.0,\"#f0f921\"]]},\"colorway\":[\"#636efa\",\"#EF553B\",\"#00cc96\",\"#ab63fa\",\"#FFA15A\",\"#19d3f3\",\"#FF6692\",\"#B6E880\",\"#FF97FF\",\"#FECB52\"],\"font\":{\"color\":\"#2a3f5f\"},\"geo\":{\"bgcolor\":\"white\",\"lakecolor\":\"white\",\"landcolor\":\"#E5ECF6\",\"showlakes\":true,\"showland\":true,\"subunitcolor\":\"white\"},\"hoverlabel\":{\"align\":\"left\"},\"hovermode\":\"closest\",\"mapbox\":{\"style\":\"light\"},\"paper_bgcolor\":\"white\",\"plot_bgcolor\":\"#E5ECF6\",\"polar\":{\"angularaxis\":{\"gridcolor\":\"white\",\"linecolor\":\"white\",\"ticks\":\"\"},\"bgcolor\":\"#E5ECF6\",\"radialaxis\":{\"gridcolor\":\"white\",\"linecolor\":\"white\",\"ticks\":\"\"}},\"scene\":{\"xaxis\":{\"backgroundcolor\":\"#E5ECF6\",\"gridcolor\":\"white\",\"gridwidth\":2,\"linecolor\":\"white\",\"showbackground\":true,\"ticks\":\"\",\"zerolinecolor\":\"white\"},\"yaxis\":{\"backgroundcolor\":\"#E5ECF6\",\"gridcolor\":\"white\",\"gridwidth\":2,\"linecolor\":\"white\",\"showbackground\":true,\"ticks\":\"\",\"zerolinecolor\":\"white\"},\"zaxis\":{\"backgroundcolor\":\"#E5ECF6\",\"gridcolor\":\"white\",\"gridwidth\":2,\"linecolor\":\"white\",\"showbackground\":true,\"ticks\":\"\",\"zerolinecolor\":\"white\"}},\"shapedefaults\":{\"line\":{\"color\":\"#2a3f5f\"}},\"ternary\":{\"aaxis\":{\"gridcolor\":\"white\",\"linecolor\":\"white\",\"ticks\":\"\"},\"baxis\":{\"gridcolor\":\"white\",\"linecolor\":\"white\",\"ticks\":\"\"},\"bgcolor\":\"#E5ECF6\",\"caxis\":{\"gridcolor\":\"white\",\"linecolor\":\"white\",\"ticks\":\"\"}},\"title\":{\"x\":0.05},\"xaxis\":{\"automargin\":true,\"gridcolor\":\"white\",\"linecolor\":\"white\",\"ticks\":\"\",\"title\":{\"standoff\":15},\"zerolinecolor\":\"white\",\"zerolinewidth\":2},\"yaxis\":{\"automargin\":true,\"gridcolor\":\"white\",\"linecolor\":\"white\",\"ticks\":\"\",\"title\":{\"standoff\":15},\"zerolinecolor\":\"white\",\"zerolinewidth\":2}}},\"title\":{\"text\":\"Random Forest Feature Importance\"},\"xaxis\":{\"showgrid\":false,\"showline\":false,\"ticklen\":5,\"zeroline\":false},\"yaxis\":{\"gridwidth\":2,\"showgrid\":false,\"ticklen\":5,\"title\":{\"text\":\"Feature Importance\"},\"zeroline\":false}},                        {\"responsive\": true}                    ).then(function(){\n",
       "                            \n",
       "var gd = document.getElementById('c6cfde0d-6ece-4613-a0ef-42f9bb401b73');\n",
       "var x = new MutationObserver(function (mutations, observer) {{\n",
       "        var display = window.getComputedStyle(gd).display;\n",
       "        if (!display || display === 'none') {{\n",
       "            console.log([gd, 'removed!']);\n",
       "            Plotly.purge(gd);\n",
       "            observer.disconnect();\n",
       "        }}\n",
       "}});\n",
       "\n",
       "// Listen for the removal of the full notebook cells\n",
       "var notebookContainer = gd.closest('#notebook-container');\n",
       "if (notebookContainer) {{\n",
       "    x.observe(notebookContainer, {childList: true});\n",
       "}}\n",
       "\n",
       "// Listen for the clearing of the current output cell\n",
       "var outputEl = gd.closest('.output');\n",
       "if (outputEl) {{\n",
       "    x.observe(outputEl, {childList: true});\n",
       "}}\n",
       "\n",
       "                        })                };                });            </script>        </div>"
      ]
     },
     "metadata": {},
     "output_type": "display_data"
    },
    {
     "data": {
      "application/vnd.plotly.v1+json": {
       "config": {
        "linkText": "Export to plot.ly",
        "plotlyServerURL": "https://plot.ly",
        "showLink": false
       },
       "data": [
        {
         "marker": {
          "color": [
           0.008661289186196994,
           0.012702815435372834,
           0.01286694915223085,
           0.013154631553328107,
           0.01341522650914725,
           0.01426152039937061,
           0.015393392344597285,
           0.018355659733023687,
           0.018507180443268687,
           0.019635334063113682,
           0.019989011978547456,
           0.020270336743034644,
           0.02191127461536121,
           0.02305228988561871,
           0.02936527732115211,
           0.03465269999982721,
           0.03526364507866584,
           0.03618766583672665,
           0.03661312966972266,
           0.03898697358234061,
           0.03930119457934068,
           0.040275447937477754,
           0.042000490236075175,
           0.042186898833514785,
           0.0475774857093,
           0.05219011304201743,
           0.06563652528529848,
           0.06970533638594623,
           0.07211158851417174,
           0.08576861594621057
          ],
          "colorscale": [
           [
            0,
            "#440154"
           ],
           [
            0.1111111111111111,
            "#482878"
           ],
           [
            0.2222222222222222,
            "#3e4989"
           ],
           [
            0.3333333333333333,
            "#31688e"
           ],
           [
            0.4444444444444444,
            "#26828e"
           ],
           [
            0.5555555555555556,
            "#1f9e89"
           ],
           [
            0.6666666666666666,
            "#35b779"
           ],
           [
            0.7777777777777778,
            "#6ece58"
           ],
           [
            0.8888888888888888,
            "#b5de2b"
           ],
           [
            1,
            "#fde725"
           ]
          ],
          "reversescale": true
         },
         "name": "Random Forest Feature importance",
         "orientation": "h",
         "type": "bar",
         "x": [
          0.008661289186196994,
          0.012702815435372834,
          0.01286694915223085,
          0.013154631553328107,
          0.01341522650914725,
          0.01426152039937061,
          0.015393392344597285,
          0.018355659733023687,
          0.018507180443268687,
          0.019635334063113682,
          0.019989011978547456,
          0.020270336743034644,
          0.02191127461536121,
          0.02305228988561871,
          0.02936527732115211,
          0.03465269999982721,
          0.03526364507866584,
          0.03618766583672665,
          0.03661312966972266,
          0.03898697358234061,
          0.03930119457934068,
          0.040275447937477754,
          0.042000490236075175,
          0.042186898833514785,
          0.0475774857093,
          0.05219011304201743,
          0.06563652528529848,
          0.06970533638594623,
          0.07211158851417174,
          0.08576861594621057
         ],
         "y": [
          "mens_cramp_symptoms_muscle_pain",
          "mens_stress_peak_before",
          "mens_before_after_pattern_buy_pads",
          "mens_cramp_symptoms_leg_numbness",
          "mens_before_after_pattern_weight_changes",
          "mens_cramp_symptoms_sensitive_temperature",
          "exercise_type_hiking",
          "mens_symptoms_3_abdominal_pain",
          "mens_cramp_symptoms_headache",
          "mens_before_after_pattern_bulk_purchase_pads",
          "mens_cramp_symptoms_anemia",
          "mens_symptoms_3_stressful",
          "mens_cramp_symptoms_nervousness",
          "mens_cramps_family_no",
          "mens_symptoms_3_abnormal",
          "mens_cramp_symptoms_joint_pain",
          "mens_disease_no",
          "mens_before_after_pattern_excitement",
          "mens_symptoms_3_lump",
          "mens_before_after_pattern_comfy_clothes",
          "mens_before_after_pattern_withstand",
          "mens_period",
          "menarche_age",
          "mens_cramp_symptoms_nausea",
          "mens_cycle",
          "age",
          "weight",
          "height",
          "bmi",
          "mens_cramp_part_pelvis"
         ]
        }
       ],
       "layout": {
        "height": 2000,
        "template": {
         "data": {
          "bar": [
           {
            "error_x": {
             "color": "#2a3f5f"
            },
            "error_y": {
             "color": "#2a3f5f"
            },
            "marker": {
             "line": {
              "color": "#E5ECF6",
              "width": 0.5
             },
             "pattern": {
              "fillmode": "overlay",
              "size": 10,
              "solidity": 0.2
             }
            },
            "type": "bar"
           }
          ],
          "barpolar": [
           {
            "marker": {
             "line": {
              "color": "#E5ECF6",
              "width": 0.5
             },
             "pattern": {
              "fillmode": "overlay",
              "size": 10,
              "solidity": 0.2
             }
            },
            "type": "barpolar"
           }
          ],
          "carpet": [
           {
            "aaxis": {
             "endlinecolor": "#2a3f5f",
             "gridcolor": "white",
             "linecolor": "white",
             "minorgridcolor": "white",
             "startlinecolor": "#2a3f5f"
            },
            "baxis": {
             "endlinecolor": "#2a3f5f",
             "gridcolor": "white",
             "linecolor": "white",
             "minorgridcolor": "white",
             "startlinecolor": "#2a3f5f"
            },
            "type": "carpet"
           }
          ],
          "choropleth": [
           {
            "colorbar": {
             "outlinewidth": 0,
             "ticks": ""
            },
            "type": "choropleth"
           }
          ],
          "contour": [
           {
            "colorbar": {
             "outlinewidth": 0,
             "ticks": ""
            },
            "colorscale": [
             [
              0,
              "#0d0887"
             ],
             [
              0.1111111111111111,
              "#46039f"
             ],
             [
              0.2222222222222222,
              "#7201a8"
             ],
             [
              0.3333333333333333,
              "#9c179e"
             ],
             [
              0.4444444444444444,
              "#bd3786"
             ],
             [
              0.5555555555555556,
              "#d8576b"
             ],
             [
              0.6666666666666666,
              "#ed7953"
             ],
             [
              0.7777777777777778,
              "#fb9f3a"
             ],
             [
              0.8888888888888888,
              "#fdca26"
             ],
             [
              1,
              "#f0f921"
             ]
            ],
            "type": "contour"
           }
          ],
          "contourcarpet": [
           {
            "colorbar": {
             "outlinewidth": 0,
             "ticks": ""
            },
            "type": "contourcarpet"
           }
          ],
          "heatmap": [
           {
            "colorbar": {
             "outlinewidth": 0,
             "ticks": ""
            },
            "colorscale": [
             [
              0,
              "#0d0887"
             ],
             [
              0.1111111111111111,
              "#46039f"
             ],
             [
              0.2222222222222222,
              "#7201a8"
             ],
             [
              0.3333333333333333,
              "#9c179e"
             ],
             [
              0.4444444444444444,
              "#bd3786"
             ],
             [
              0.5555555555555556,
              "#d8576b"
             ],
             [
              0.6666666666666666,
              "#ed7953"
             ],
             [
              0.7777777777777778,
              "#fb9f3a"
             ],
             [
              0.8888888888888888,
              "#fdca26"
             ],
             [
              1,
              "#f0f921"
             ]
            ],
            "type": "heatmap"
           }
          ],
          "heatmapgl": [
           {
            "colorbar": {
             "outlinewidth": 0,
             "ticks": ""
            },
            "colorscale": [
             [
              0,
              "#0d0887"
             ],
             [
              0.1111111111111111,
              "#46039f"
             ],
             [
              0.2222222222222222,
              "#7201a8"
             ],
             [
              0.3333333333333333,
              "#9c179e"
             ],
             [
              0.4444444444444444,
              "#bd3786"
             ],
             [
              0.5555555555555556,
              "#d8576b"
             ],
             [
              0.6666666666666666,
              "#ed7953"
             ],
             [
              0.7777777777777778,
              "#fb9f3a"
             ],
             [
              0.8888888888888888,
              "#fdca26"
             ],
             [
              1,
              "#f0f921"
             ]
            ],
            "type": "heatmapgl"
           }
          ],
          "histogram": [
           {
            "marker": {
             "pattern": {
              "fillmode": "overlay",
              "size": 10,
              "solidity": 0.2
             }
            },
            "type": "histogram"
           }
          ],
          "histogram2d": [
           {
            "colorbar": {
             "outlinewidth": 0,
             "ticks": ""
            },
            "colorscale": [
             [
              0,
              "#0d0887"
             ],
             [
              0.1111111111111111,
              "#46039f"
             ],
             [
              0.2222222222222222,
              "#7201a8"
             ],
             [
              0.3333333333333333,
              "#9c179e"
             ],
             [
              0.4444444444444444,
              "#bd3786"
             ],
             [
              0.5555555555555556,
              "#d8576b"
             ],
             [
              0.6666666666666666,
              "#ed7953"
             ],
             [
              0.7777777777777778,
              "#fb9f3a"
             ],
             [
              0.8888888888888888,
              "#fdca26"
             ],
             [
              1,
              "#f0f921"
             ]
            ],
            "type": "histogram2d"
           }
          ],
          "histogram2dcontour": [
           {
            "colorbar": {
             "outlinewidth": 0,
             "ticks": ""
            },
            "colorscale": [
             [
              0,
              "#0d0887"
             ],
             [
              0.1111111111111111,
              "#46039f"
             ],
             [
              0.2222222222222222,
              "#7201a8"
             ],
             [
              0.3333333333333333,
              "#9c179e"
             ],
             [
              0.4444444444444444,
              "#bd3786"
             ],
             [
              0.5555555555555556,
              "#d8576b"
             ],
             [
              0.6666666666666666,
              "#ed7953"
             ],
             [
              0.7777777777777778,
              "#fb9f3a"
             ],
             [
              0.8888888888888888,
              "#fdca26"
             ],
             [
              1,
              "#f0f921"
             ]
            ],
            "type": "histogram2dcontour"
           }
          ],
          "mesh3d": [
           {
            "colorbar": {
             "outlinewidth": 0,
             "ticks": ""
            },
            "type": "mesh3d"
           }
          ],
          "parcoords": [
           {
            "line": {
             "colorbar": {
              "outlinewidth": 0,
              "ticks": ""
             }
            },
            "type": "parcoords"
           }
          ],
          "pie": [
           {
            "automargin": true,
            "type": "pie"
           }
          ],
          "scatter": [
           {
            "marker": {
             "colorbar": {
              "outlinewidth": 0,
              "ticks": ""
             }
            },
            "type": "scatter"
           }
          ],
          "scatter3d": [
           {
            "line": {
             "colorbar": {
              "outlinewidth": 0,
              "ticks": ""
             }
            },
            "marker": {
             "colorbar": {
              "outlinewidth": 0,
              "ticks": ""
             }
            },
            "type": "scatter3d"
           }
          ],
          "scattercarpet": [
           {
            "marker": {
             "colorbar": {
              "outlinewidth": 0,
              "ticks": ""
             }
            },
            "type": "scattercarpet"
           }
          ],
          "scattergeo": [
           {
            "marker": {
             "colorbar": {
              "outlinewidth": 0,
              "ticks": ""
             }
            },
            "type": "scattergeo"
           }
          ],
          "scattergl": [
           {
            "marker": {
             "colorbar": {
              "outlinewidth": 0,
              "ticks": ""
             }
            },
            "type": "scattergl"
           }
          ],
          "scattermapbox": [
           {
            "marker": {
             "colorbar": {
              "outlinewidth": 0,
              "ticks": ""
             }
            },
            "type": "scattermapbox"
           }
          ],
          "scatterpolar": [
           {
            "marker": {
             "colorbar": {
              "outlinewidth": 0,
              "ticks": ""
             }
            },
            "type": "scatterpolar"
           }
          ],
          "scatterpolargl": [
           {
            "marker": {
             "colorbar": {
              "outlinewidth": 0,
              "ticks": ""
             }
            },
            "type": "scatterpolargl"
           }
          ],
          "scatterternary": [
           {
            "marker": {
             "colorbar": {
              "outlinewidth": 0,
              "ticks": ""
             }
            },
            "type": "scatterternary"
           }
          ],
          "surface": [
           {
            "colorbar": {
             "outlinewidth": 0,
             "ticks": ""
            },
            "colorscale": [
             [
              0,
              "#0d0887"
             ],
             [
              0.1111111111111111,
              "#46039f"
             ],
             [
              0.2222222222222222,
              "#7201a8"
             ],
             [
              0.3333333333333333,
              "#9c179e"
             ],
             [
              0.4444444444444444,
              "#bd3786"
             ],
             [
              0.5555555555555556,
              "#d8576b"
             ],
             [
              0.6666666666666666,
              "#ed7953"
             ],
             [
              0.7777777777777778,
              "#fb9f3a"
             ],
             [
              0.8888888888888888,
              "#fdca26"
             ],
             [
              1,
              "#f0f921"
             ]
            ],
            "type": "surface"
           }
          ],
          "table": [
           {
            "cells": {
             "fill": {
              "color": "#EBF0F8"
             },
             "line": {
              "color": "white"
             }
            },
            "header": {
             "fill": {
              "color": "#C8D4E3"
             },
             "line": {
              "color": "white"
             }
            },
            "type": "table"
           }
          ]
         },
         "layout": {
          "annotationdefaults": {
           "arrowcolor": "#2a3f5f",
           "arrowhead": 0,
           "arrowwidth": 1
          },
          "autotypenumbers": "strict",
          "coloraxis": {
           "colorbar": {
            "outlinewidth": 0,
            "ticks": ""
           }
          },
          "colorscale": {
           "diverging": [
            [
             0,
             "#8e0152"
            ],
            [
             0.1,
             "#c51b7d"
            ],
            [
             0.2,
             "#de77ae"
            ],
            [
             0.3,
             "#f1b6da"
            ],
            [
             0.4,
             "#fde0ef"
            ],
            [
             0.5,
             "#f7f7f7"
            ],
            [
             0.6,
             "#e6f5d0"
            ],
            [
             0.7,
             "#b8e186"
            ],
            [
             0.8,
             "#7fbc41"
            ],
            [
             0.9,
             "#4d9221"
            ],
            [
             1,
             "#276419"
            ]
           ],
           "sequential": [
            [
             0,
             "#0d0887"
            ],
            [
             0.1111111111111111,
             "#46039f"
            ],
            [
             0.2222222222222222,
             "#7201a8"
            ],
            [
             0.3333333333333333,
             "#9c179e"
            ],
            [
             0.4444444444444444,
             "#bd3786"
            ],
            [
             0.5555555555555556,
             "#d8576b"
            ],
            [
             0.6666666666666666,
             "#ed7953"
            ],
            [
             0.7777777777777778,
             "#fb9f3a"
            ],
            [
             0.8888888888888888,
             "#fdca26"
            ],
            [
             1,
             "#f0f921"
            ]
           ],
           "sequentialminus": [
            [
             0,
             "#0d0887"
            ],
            [
             0.1111111111111111,
             "#46039f"
            ],
            [
             0.2222222222222222,
             "#7201a8"
            ],
            [
             0.3333333333333333,
             "#9c179e"
            ],
            [
             0.4444444444444444,
             "#bd3786"
            ],
            [
             0.5555555555555556,
             "#d8576b"
            ],
            [
             0.6666666666666666,
             "#ed7953"
            ],
            [
             0.7777777777777778,
             "#fb9f3a"
            ],
            [
             0.8888888888888888,
             "#fdca26"
            ],
            [
             1,
             "#f0f921"
            ]
           ]
          },
          "colorway": [
           "#636efa",
           "#EF553B",
           "#00cc96",
           "#ab63fa",
           "#FFA15A",
           "#19d3f3",
           "#FF6692",
           "#B6E880",
           "#FF97FF",
           "#FECB52"
          ],
          "font": {
           "color": "#2a3f5f"
          },
          "geo": {
           "bgcolor": "white",
           "lakecolor": "white",
           "landcolor": "#E5ECF6",
           "showlakes": true,
           "showland": true,
           "subunitcolor": "white"
          },
          "hoverlabel": {
           "align": "left"
          },
          "hovermode": "closest",
          "mapbox": {
           "style": "light"
          },
          "paper_bgcolor": "white",
          "plot_bgcolor": "#E5ECF6",
          "polar": {
           "angularaxis": {
            "gridcolor": "white",
            "linecolor": "white",
            "ticks": ""
           },
           "bgcolor": "#E5ECF6",
           "radialaxis": {
            "gridcolor": "white",
            "linecolor": "white",
            "ticks": ""
           }
          },
          "scene": {
           "xaxis": {
            "backgroundcolor": "#E5ECF6",
            "gridcolor": "white",
            "gridwidth": 2,
            "linecolor": "white",
            "showbackground": true,
            "ticks": "",
            "zerolinecolor": "white"
           },
           "yaxis": {
            "backgroundcolor": "#E5ECF6",
            "gridcolor": "white",
            "gridwidth": 2,
            "linecolor": "white",
            "showbackground": true,
            "ticks": "",
            "zerolinecolor": "white"
           },
           "zaxis": {
            "backgroundcolor": "#E5ECF6",
            "gridcolor": "white",
            "gridwidth": 2,
            "linecolor": "white",
            "showbackground": true,
            "ticks": "",
            "zerolinecolor": "white"
           }
          },
          "shapedefaults": {
           "line": {
            "color": "#2a3f5f"
           }
          },
          "ternary": {
           "aaxis": {
            "gridcolor": "white",
            "linecolor": "white",
            "ticks": ""
           },
           "baxis": {
            "gridcolor": "white",
            "linecolor": "white",
            "ticks": ""
           },
           "bgcolor": "#E5ECF6",
           "caxis": {
            "gridcolor": "white",
            "linecolor": "white",
            "ticks": ""
           }
          },
          "title": {
           "x": 0.05
          },
          "xaxis": {
           "automargin": true,
           "gridcolor": "white",
           "linecolor": "white",
           "ticks": "",
           "title": {
            "standoff": 15
           },
           "zerolinecolor": "white",
           "zerolinewidth": 2
          },
          "yaxis": {
           "automargin": true,
           "gridcolor": "white",
           "linecolor": "white",
           "ticks": "",
           "title": {
            "standoff": 15
           },
           "zerolinecolor": "white",
           "zerolinewidth": 2
          }
         }
        },
        "title": {
         "text": "Barplot of Feature importances"
        },
        "width": 900,
        "yaxis": {
         "showgrid": false,
         "showline": false,
         "showticklabels": true
        }
       }
      },
      "text/html": [
       "<div>                            <div id=\"71f9f407-f144-495c-a02e-6cbaf0bf0ff6\" class=\"plotly-graph-div\" style=\"height:2000px; width:900px;\"></div>            <script type=\"text/javascript\">                require([\"plotly\"], function(Plotly) {                    window.PLOTLYENV=window.PLOTLYENV || {};                                    if (document.getElementById(\"71f9f407-f144-495c-a02e-6cbaf0bf0ff6\")) {                    Plotly.newPlot(                        \"71f9f407-f144-495c-a02e-6cbaf0bf0ff6\",                        [{\"marker\":{\"color\":[0.008661289186196994,0.012702815435372834,0.01286694915223085,0.013154631553328107,0.01341522650914725,0.01426152039937061,0.015393392344597285,0.018355659733023687,0.018507180443268687,0.019635334063113682,0.019989011978547456,0.020270336743034644,0.02191127461536121,0.02305228988561871,0.02936527732115211,0.03465269999982721,0.03526364507866584,0.03618766583672665,0.03661312966972266,0.03898697358234061,0.03930119457934068,0.040275447937477754,0.042000490236075175,0.042186898833514785,0.0475774857093,0.05219011304201743,0.06563652528529848,0.06970533638594623,0.07211158851417174,0.08576861594621057],\"colorscale\":[[0.0,\"#440154\"],[0.1111111111111111,\"#482878\"],[0.2222222222222222,\"#3e4989\"],[0.3333333333333333,\"#31688e\"],[0.4444444444444444,\"#26828e\"],[0.5555555555555556,\"#1f9e89\"],[0.6666666666666666,\"#35b779\"],[0.7777777777777778,\"#6ece58\"],[0.8888888888888888,\"#b5de2b\"],[1.0,\"#fde725\"]],\"reversescale\":true},\"name\":\"Random Forest Feature importance\",\"orientation\":\"h\",\"type\":\"bar\",\"x\":[0.008661289186196994,0.012702815435372834,0.01286694915223085,0.013154631553328107,0.01341522650914725,0.01426152039937061,0.015393392344597285,0.018355659733023687,0.018507180443268687,0.019635334063113682,0.019989011978547456,0.020270336743034644,0.02191127461536121,0.02305228988561871,0.02936527732115211,0.03465269999982721,0.03526364507866584,0.03618766583672665,0.03661312966972266,0.03898697358234061,0.03930119457934068,0.040275447937477754,0.042000490236075175,0.042186898833514785,0.0475774857093,0.05219011304201743,0.06563652528529848,0.06970533638594623,0.07211158851417174,0.08576861594621057],\"y\":[\"mens_cramp_symptoms_muscle_pain\",\"mens_stress_peak_before\",\"mens_before_after_pattern_buy_pads\",\"mens_cramp_symptoms_leg_numbness\",\"mens_before_after_pattern_weight_changes\",\"mens_cramp_symptoms_sensitive_temperature\",\"exercise_type_hiking\",\"mens_symptoms_3_abdominal_pain\",\"mens_cramp_symptoms_headache\",\"mens_before_after_pattern_bulk_purchase_pads\",\"mens_cramp_symptoms_anemia\",\"mens_symptoms_3_stressful\",\"mens_cramp_symptoms_nervousness\",\"mens_cramps_family_no\",\"mens_symptoms_3_abnormal\",\"mens_cramp_symptoms_joint_pain\",\"mens_disease_no\",\"mens_before_after_pattern_excitement\",\"mens_symptoms_3_lump\",\"mens_before_after_pattern_comfy_clothes\",\"mens_before_after_pattern_withstand\",\"mens_period\",\"menarche_age\",\"mens_cramp_symptoms_nausea\",\"mens_cycle\",\"age\",\"weight\",\"height\",\"bmi\",\"mens_cramp_part_pelvis\"]}],                        {\"height\":2000,\"template\":{\"data\":{\"bar\":[{\"error_x\":{\"color\":\"#2a3f5f\"},\"error_y\":{\"color\":\"#2a3f5f\"},\"marker\":{\"line\":{\"color\":\"#E5ECF6\",\"width\":0.5},\"pattern\":{\"fillmode\":\"overlay\",\"size\":10,\"solidity\":0.2}},\"type\":\"bar\"}],\"barpolar\":[{\"marker\":{\"line\":{\"color\":\"#E5ECF6\",\"width\":0.5},\"pattern\":{\"fillmode\":\"overlay\",\"size\":10,\"solidity\":0.2}},\"type\":\"barpolar\"}],\"carpet\":[{\"aaxis\":{\"endlinecolor\":\"#2a3f5f\",\"gridcolor\":\"white\",\"linecolor\":\"white\",\"minorgridcolor\":\"white\",\"startlinecolor\":\"#2a3f5f\"},\"baxis\":{\"endlinecolor\":\"#2a3f5f\",\"gridcolor\":\"white\",\"linecolor\":\"white\",\"minorgridcolor\":\"white\",\"startlinecolor\":\"#2a3f5f\"},\"type\":\"carpet\"}],\"choropleth\":[{\"colorbar\":{\"outlinewidth\":0,\"ticks\":\"\"},\"type\":\"choropleth\"}],\"contour\":[{\"colorbar\":{\"outlinewidth\":0,\"ticks\":\"\"},\"colorscale\":[[0.0,\"#0d0887\"],[0.1111111111111111,\"#46039f\"],[0.2222222222222222,\"#7201a8\"],[0.3333333333333333,\"#9c179e\"],[0.4444444444444444,\"#bd3786\"],[0.5555555555555556,\"#d8576b\"],[0.6666666666666666,\"#ed7953\"],[0.7777777777777778,\"#fb9f3a\"],[0.8888888888888888,\"#fdca26\"],[1.0,\"#f0f921\"]],\"type\":\"contour\"}],\"contourcarpet\":[{\"colorbar\":{\"outlinewidth\":0,\"ticks\":\"\"},\"type\":\"contourcarpet\"}],\"heatmap\":[{\"colorbar\":{\"outlinewidth\":0,\"ticks\":\"\"},\"colorscale\":[[0.0,\"#0d0887\"],[0.1111111111111111,\"#46039f\"],[0.2222222222222222,\"#7201a8\"],[0.3333333333333333,\"#9c179e\"],[0.4444444444444444,\"#bd3786\"],[0.5555555555555556,\"#d8576b\"],[0.6666666666666666,\"#ed7953\"],[0.7777777777777778,\"#fb9f3a\"],[0.8888888888888888,\"#fdca26\"],[1.0,\"#f0f921\"]],\"type\":\"heatmap\"}],\"heatmapgl\":[{\"colorbar\":{\"outlinewidth\":0,\"ticks\":\"\"},\"colorscale\":[[0.0,\"#0d0887\"],[0.1111111111111111,\"#46039f\"],[0.2222222222222222,\"#7201a8\"],[0.3333333333333333,\"#9c179e\"],[0.4444444444444444,\"#bd3786\"],[0.5555555555555556,\"#d8576b\"],[0.6666666666666666,\"#ed7953\"],[0.7777777777777778,\"#fb9f3a\"],[0.8888888888888888,\"#fdca26\"],[1.0,\"#f0f921\"]],\"type\":\"heatmapgl\"}],\"histogram\":[{\"marker\":{\"pattern\":{\"fillmode\":\"overlay\",\"size\":10,\"solidity\":0.2}},\"type\":\"histogram\"}],\"histogram2d\":[{\"colorbar\":{\"outlinewidth\":0,\"ticks\":\"\"},\"colorscale\":[[0.0,\"#0d0887\"],[0.1111111111111111,\"#46039f\"],[0.2222222222222222,\"#7201a8\"],[0.3333333333333333,\"#9c179e\"],[0.4444444444444444,\"#bd3786\"],[0.5555555555555556,\"#d8576b\"],[0.6666666666666666,\"#ed7953\"],[0.7777777777777778,\"#fb9f3a\"],[0.8888888888888888,\"#fdca26\"],[1.0,\"#f0f921\"]],\"type\":\"histogram2d\"}],\"histogram2dcontour\":[{\"colorbar\":{\"outlinewidth\":0,\"ticks\":\"\"},\"colorscale\":[[0.0,\"#0d0887\"],[0.1111111111111111,\"#46039f\"],[0.2222222222222222,\"#7201a8\"],[0.3333333333333333,\"#9c179e\"],[0.4444444444444444,\"#bd3786\"],[0.5555555555555556,\"#d8576b\"],[0.6666666666666666,\"#ed7953\"],[0.7777777777777778,\"#fb9f3a\"],[0.8888888888888888,\"#fdca26\"],[1.0,\"#f0f921\"]],\"type\":\"histogram2dcontour\"}],\"mesh3d\":[{\"colorbar\":{\"outlinewidth\":0,\"ticks\":\"\"},\"type\":\"mesh3d\"}],\"parcoords\":[{\"line\":{\"colorbar\":{\"outlinewidth\":0,\"ticks\":\"\"}},\"type\":\"parcoords\"}],\"pie\":[{\"automargin\":true,\"type\":\"pie\"}],\"scatter\":[{\"marker\":{\"colorbar\":{\"outlinewidth\":0,\"ticks\":\"\"}},\"type\":\"scatter\"}],\"scatter3d\":[{\"line\":{\"colorbar\":{\"outlinewidth\":0,\"ticks\":\"\"}},\"marker\":{\"colorbar\":{\"outlinewidth\":0,\"ticks\":\"\"}},\"type\":\"scatter3d\"}],\"scattercarpet\":[{\"marker\":{\"colorbar\":{\"outlinewidth\":0,\"ticks\":\"\"}},\"type\":\"scattercarpet\"}],\"scattergeo\":[{\"marker\":{\"colorbar\":{\"outlinewidth\":0,\"ticks\":\"\"}},\"type\":\"scattergeo\"}],\"scattergl\":[{\"marker\":{\"colorbar\":{\"outlinewidth\":0,\"ticks\":\"\"}},\"type\":\"scattergl\"}],\"scattermapbox\":[{\"marker\":{\"colorbar\":{\"outlinewidth\":0,\"ticks\":\"\"}},\"type\":\"scattermapbox\"}],\"scatterpolar\":[{\"marker\":{\"colorbar\":{\"outlinewidth\":0,\"ticks\":\"\"}},\"type\":\"scatterpolar\"}],\"scatterpolargl\":[{\"marker\":{\"colorbar\":{\"outlinewidth\":0,\"ticks\":\"\"}},\"type\":\"scatterpolargl\"}],\"scatterternary\":[{\"marker\":{\"colorbar\":{\"outlinewidth\":0,\"ticks\":\"\"}},\"type\":\"scatterternary\"}],\"surface\":[{\"colorbar\":{\"outlinewidth\":0,\"ticks\":\"\"},\"colorscale\":[[0.0,\"#0d0887\"],[0.1111111111111111,\"#46039f\"],[0.2222222222222222,\"#7201a8\"],[0.3333333333333333,\"#9c179e\"],[0.4444444444444444,\"#bd3786\"],[0.5555555555555556,\"#d8576b\"],[0.6666666666666666,\"#ed7953\"],[0.7777777777777778,\"#fb9f3a\"],[0.8888888888888888,\"#fdca26\"],[1.0,\"#f0f921\"]],\"type\":\"surface\"}],\"table\":[{\"cells\":{\"fill\":{\"color\":\"#EBF0F8\"},\"line\":{\"color\":\"white\"}},\"header\":{\"fill\":{\"color\":\"#C8D4E3\"},\"line\":{\"color\":\"white\"}},\"type\":\"table\"}]},\"layout\":{\"annotationdefaults\":{\"arrowcolor\":\"#2a3f5f\",\"arrowhead\":0,\"arrowwidth\":1},\"autotypenumbers\":\"strict\",\"coloraxis\":{\"colorbar\":{\"outlinewidth\":0,\"ticks\":\"\"}},\"colorscale\":{\"diverging\":[[0,\"#8e0152\"],[0.1,\"#c51b7d\"],[0.2,\"#de77ae\"],[0.3,\"#f1b6da\"],[0.4,\"#fde0ef\"],[0.5,\"#f7f7f7\"],[0.6,\"#e6f5d0\"],[0.7,\"#b8e186\"],[0.8,\"#7fbc41\"],[0.9,\"#4d9221\"],[1,\"#276419\"]],\"sequential\":[[0.0,\"#0d0887\"],[0.1111111111111111,\"#46039f\"],[0.2222222222222222,\"#7201a8\"],[0.3333333333333333,\"#9c179e\"],[0.4444444444444444,\"#bd3786\"],[0.5555555555555556,\"#d8576b\"],[0.6666666666666666,\"#ed7953\"],[0.7777777777777778,\"#fb9f3a\"],[0.8888888888888888,\"#fdca26\"],[1.0,\"#f0f921\"]],\"sequentialminus\":[[0.0,\"#0d0887\"],[0.1111111111111111,\"#46039f\"],[0.2222222222222222,\"#7201a8\"],[0.3333333333333333,\"#9c179e\"],[0.4444444444444444,\"#bd3786\"],[0.5555555555555556,\"#d8576b\"],[0.6666666666666666,\"#ed7953\"],[0.7777777777777778,\"#fb9f3a\"],[0.8888888888888888,\"#fdca26\"],[1.0,\"#f0f921\"]]},\"colorway\":[\"#636efa\",\"#EF553B\",\"#00cc96\",\"#ab63fa\",\"#FFA15A\",\"#19d3f3\",\"#FF6692\",\"#B6E880\",\"#FF97FF\",\"#FECB52\"],\"font\":{\"color\":\"#2a3f5f\"},\"geo\":{\"bgcolor\":\"white\",\"lakecolor\":\"white\",\"landcolor\":\"#E5ECF6\",\"showlakes\":true,\"showland\":true,\"subunitcolor\":\"white\"},\"hoverlabel\":{\"align\":\"left\"},\"hovermode\":\"closest\",\"mapbox\":{\"style\":\"light\"},\"paper_bgcolor\":\"white\",\"plot_bgcolor\":\"#E5ECF6\",\"polar\":{\"angularaxis\":{\"gridcolor\":\"white\",\"linecolor\":\"white\",\"ticks\":\"\"},\"bgcolor\":\"#E5ECF6\",\"radialaxis\":{\"gridcolor\":\"white\",\"linecolor\":\"white\",\"ticks\":\"\"}},\"scene\":{\"xaxis\":{\"backgroundcolor\":\"#E5ECF6\",\"gridcolor\":\"white\",\"gridwidth\":2,\"linecolor\":\"white\",\"showbackground\":true,\"ticks\":\"\",\"zerolinecolor\":\"white\"},\"yaxis\":{\"backgroundcolor\":\"#E5ECF6\",\"gridcolor\":\"white\",\"gridwidth\":2,\"linecolor\":\"white\",\"showbackground\":true,\"ticks\":\"\",\"zerolinecolor\":\"white\"},\"zaxis\":{\"backgroundcolor\":\"#E5ECF6\",\"gridcolor\":\"white\",\"gridwidth\":2,\"linecolor\":\"white\",\"showbackground\":true,\"ticks\":\"\",\"zerolinecolor\":\"white\"}},\"shapedefaults\":{\"line\":{\"color\":\"#2a3f5f\"}},\"ternary\":{\"aaxis\":{\"gridcolor\":\"white\",\"linecolor\":\"white\",\"ticks\":\"\"},\"baxis\":{\"gridcolor\":\"white\",\"linecolor\":\"white\",\"ticks\":\"\"},\"bgcolor\":\"#E5ECF6\",\"caxis\":{\"gridcolor\":\"white\",\"linecolor\":\"white\",\"ticks\":\"\"}},\"title\":{\"x\":0.05},\"xaxis\":{\"automargin\":true,\"gridcolor\":\"white\",\"linecolor\":\"white\",\"ticks\":\"\",\"title\":{\"standoff\":15},\"zerolinecolor\":\"white\",\"zerolinewidth\":2},\"yaxis\":{\"automargin\":true,\"gridcolor\":\"white\",\"linecolor\":\"white\",\"ticks\":\"\",\"title\":{\"standoff\":15},\"zerolinecolor\":\"white\",\"zerolinewidth\":2}}},\"title\":{\"text\":\"Barplot of Feature importances\"},\"width\":900,\"yaxis\":{\"showgrid\":false,\"showline\":false,\"showticklabels\":true}},                        {\"responsive\": true}                    ).then(function(){\n",
       "                            \n",
       "var gd = document.getElementById('71f9f407-f144-495c-a02e-6cbaf0bf0ff6');\n",
       "var x = new MutationObserver(function (mutations, observer) {{\n",
       "        var display = window.getComputedStyle(gd).display;\n",
       "        if (!display || display === 'none') {{\n",
       "            console.log([gd, 'removed!']);\n",
       "            Plotly.purge(gd);\n",
       "            observer.disconnect();\n",
       "        }}\n",
       "}});\n",
       "\n",
       "// Listen for the removal of the full notebook cells\n",
       "var notebookContainer = gd.closest('#notebook-container');\n",
       "if (notebookContainer) {{\n",
       "    x.observe(notebookContainer, {childList: true});\n",
       "}}\n",
       "\n",
       "// Listen for the clearing of the current output cell\n",
       "var outputEl = gd.closest('.output');\n",
       "if (outputEl) {{\n",
       "    x.observe(outputEl, {childList: true});\n",
       "}}\n",
       "\n",
       "                        })                };                });            </script>        </div>"
      ]
     },
     "metadata": {},
     "output_type": "display_data"
    },
    {
     "name": "stdout",
     "output_type": "stream",
     "text": [
      "Feature: 0, Score: 0.05219\n",
      "Feature: 1, Score: 0.07211\n",
      "Feature: 2, Score: 0.06564\n",
      "Feature: 3, Score: 0.08577\n",
      "Feature: 4, Score: 0.03465\n",
      "Feature: 5, Score: 0.06971\n",
      "Feature: 6, Score: 0.04219\n",
      "Feature: 7, Score: 0.03619\n",
      "Feature: 8, Score: 0.04028\n",
      "Feature: 9, Score: 0.03899\n",
      "Feature: 10, Score: 0.01426\n",
      "Feature: 11, Score: 0.04758\n",
      "Feature: 12, Score: 0.04200\n",
      "Feature: 13, Score: 0.03661\n",
      "Feature: 14, Score: 0.02937\n",
      "Feature: 15, Score: 0.01315\n",
      "Feature: 16, Score: 0.03930\n",
      "Feature: 17, Score: 0.01539\n",
      "Feature: 18, Score: 0.01851\n",
      "Feature: 19, Score: 0.01342\n",
      "Feature: 20, Score: 0.01287\n",
      "Feature: 21, Score: 0.01836\n",
      "Feature: 22, Score: 0.02305\n",
      "Feature: 23, Score: 0.01964\n",
      "Feature: 24, Score: 0.01270\n",
      "Feature: 25, Score: 0.00866\n",
      "Feature: 26, Score: 0.03526\n",
      "Feature: 27, Score: 0.01999\n",
      "Feature: 28, Score: 0.02191\n",
      "Feature: 29, Score: 0.02027\n"
     ]
    },
    {
     "data": {
      "image/png": "[encoded data removed]",
      "text/plain": [
       "<Figure size 432x288 with 1 Axes>"
      ]
     },
     "metadata": {
      "needs_background": "light"
     },
     "output_type": "display_data"
    }
   ],
   "source": [
    "import matplotlib.pyplot as plt\n",
    "%matplotlib inline\n",
    "import plotly.offline as py\n",
    "py.init_notebook_mode(connected=True)\n",
    "import plotly.graph_objs as go\n",
    "import plotly.tools as tls\n",
    "import pandas as pd\n",
    "import numpy as np\n",
    "from matplotlib import pyplot\n",
    "from sklearn.model_selection import train_test_split\n",
    "from sklearn.ensemble import RandomForestClassifier\n",
    "from sklearn.model_selection import train_test_split # train/test\n",
    "from sklearn.datasets import load_wine # dataset \n",
    "from sklearn.metrics import accuracy_score, confusion_matrix # 평가 : 분류정확도 \n",
    "from sklearn.metrics import classification_report # 평가 : 정확률, 재현율, f1_score\n",
    "from sklearn.model_selection import train_test_split\n",
    "df = pd.read_csv(\"data/test1.csv\")\n",
    "def rating(mens_cramp):\n",
    "    if mens_cramp >= 8: return 2\n",
    "    elif mens_cramp >= 7: return 1\n",
    "    else: return 0\n",
    "df['mens_cramp_rank'] = df.apply(lambda x: rating(x['mens_cramp']),axis=1)\n",
    "\n",
    "X = df[['age', 'bmi', 'weight', 'mens_cramp_part_pelvis', 'mens_cramp_symptoms_joint_pain', 'height', 'mens_cramp_symptoms_nausea', 'mens_before_after_pattern_excitement', 'mens_period', 'mens_before_after_pattern_comfy_clothes', 'mens_cramp_symptoms_sensitive_temperature', 'mens_cycle', 'menarche_age', 'mens_symptoms_3_lump', 'mens_symptoms_3_abnormal', 'mens_cramp_symptoms_leg_numbness', 'mens_before_after_pattern_withstand', 'exercise_type_hiking', 'mens_cramp_symptoms_headache', 'mens_before_after_pattern_weight_changes', 'mens_before_after_pattern_buy_pads', 'mens_symptoms_3_abdominal_pain', 'mens_cramps_family_no', 'mens_before_after_pattern_bulk_purchase_pads', 'mens_stress_peak_before', 'mens_cramp_symptoms_muscle_pain', 'mens_disease_no', 'mens_cramp_symptoms_anemia', 'mens_cramp_symptoms_nervousness', 'mens_symptoms_3_stressful']]\n",
    "y = df['mens_cramp_rank']\n",
    "X_train, X_test, y_train, y_test = train_test_split(X, y, test_size = 0.3)\n",
    "\n",
    "model = RandomForestClassifier(n_estimators = 400)\n",
    "model.fit(X_train, y_train)\n",
    "\n",
    "y_pred = model.predict(X_test)\n",
    "print(\"Accuracy is: \", accuracy_score(y_pred, y_test))\n",
    "\n",
    "con_mat = confusion_matrix(y_pred, y_test)\n",
    "print(con_mat)\n",
    "\n",
    "report = classification_report(y_pred, y_test)\n",
    "print(report)\n",
    "\n",
    "features = X_train.columns.values\n",
    "print(\"---- Training Done ----\")\n",
    "\n",
    "trace = go.Scatter(\n",
    "    y = model.feature_importances_,\n",
    "    x = features,\n",
    "    mode = 'markers',\n",
    "    marker = dict(\n",
    "        sizemode = 'diameter',\n",
    "        sizeref = 1,\n",
    "        size = 13,\n",
    "        color = model.feature_importances_,\n",
    "        colorscale='Portland',\n",
    "        showscale = True\n",
    "    ),\n",
    "    text = features\n",
    ")\n",
    "data = [trace]\n",
    "\n",
    "layout = go.Layout(\n",
    "    autosize = True,\n",
    "    title = 'Random Forest Feature Importance',\n",
    "    hovermode = 'closest',\n",
    "    xaxis = dict(\n",
    "        ticklen = 5,\n",
    "        showgrid = False,\n",
    "        zeroline = False,\n",
    "        showline = False\n",
    "    ),\n",
    "    yaxis = dict(\n",
    "        title = 'Feature Importance',\n",
    "        showgrid = False,\n",
    "        zeroline = False,\n",
    "        ticklen = 5,\n",
    "        gridwidth = 2\n",
    "    ),\n",
    "    showlegend = False\n",
    ")\n",
    "fig = go.Figure(data, layout = layout)\n",
    "py.iplot(fig, filename = 'scatter2010')\n",
    "\n",
    "x, y = (list(x) for x in zip(*sorted(zip(model.feature_importances_, features), reverse = False)))\n",
    "trace2 = go.Bar(\n",
    "    x = x,\n",
    "    y = y,\n",
    "    marker = dict(\n",
    "        color = x,\n",
    "        colorscale = 'Viridis',\n",
    "        reversescale = True\n",
    "    ),\n",
    "    name = 'Random Forest Feature importance',\n",
    "    orientation = 'h'\n",
    ")\n",
    "\n",
    "layout = dict(\n",
    "    title = 'Barplot of Feature importances',\n",
    "    width = 900, height = 2000,\n",
    "    yaxis = dict(\n",
    "        showgrid = False,\n",
    "        showline = False,\n",
    "        showticklabels = True\n",
    "    )\n",
    ")\n",
    "\n",
    "fig1 = go.Figure(data = [trace2])\n",
    "fig1['layout'].update(layout)\n",
    "py.iplot(fig1, filename = 'plots')\n",
    "\n",
    "result = pd.DataFrame({'pred' : y_pred, 'real' : y_test})\n",
    "result\n",
    "\n",
    "# get importance\n",
    "importance = model.feature_importances_\n",
    "# summarize feature importance\n",
    "for i,v in enumerate(importance):\n",
    "\tprint('Feature: %0d, Score: %.5f' % (i,v))\n",
    "# plot feature importance\n",
    "pyplot.bar([x for x in range(len(importance))], importance)\n",
    "pyplot.show()\n"
   ]
  },
  {
   "cell_type": "code",
   "execution_count": 15,
   "id": "2bca8a66",
   "metadata": {
    "scrolled": true
   },
   "outputs": [
    {
     "ename": "ValueError",
     "evalue": "could not convert string to float: '88 �ʰ�'",
     "output_type": "error",
     "traceback": [
      "\u001b[1;31m---------------------------------------------------------------------------\u001b[0m",
      "\u001b[1;31mValueError\u001b[0m                                Traceback (most recent call last)",
      "\u001b[1;32m<ipython-input-15-8ec958f7b247>\u001b[0m in \u001b[0;36m<module>\u001b[1;34m\u001b[0m\n\u001b[0;32m     21\u001b[0m \u001b[0mx_train\u001b[0m\u001b[1;33m,\u001b[0m \u001b[0mx_test\u001b[0m\u001b[1;33m,\u001b[0m \u001b[0my_train\u001b[0m\u001b[1;33m,\u001b[0m \u001b[0my_test\u001b[0m \u001b[1;33m=\u001b[0m \u001b[0mtrain_test_split\u001b[0m\u001b[1;33m(\u001b[0m\u001b[0mx\u001b[0m\u001b[1;33m,\u001b[0m \u001b[0my\u001b[0m\u001b[1;33m,\u001b[0m \u001b[0mtest_size\u001b[0m \u001b[1;33m=\u001b[0m \u001b[1;36m0.3\u001b[0m\u001b[1;33m)\u001b[0m\u001b[1;33m\u001b[0m\u001b[1;33m\u001b[0m\u001b[0m\n\u001b[0;32m     22\u001b[0m \u001b[0mmodel\u001b[0m \u001b[1;33m=\u001b[0m \u001b[0mRandomForestClassifier\u001b[0m\u001b[1;33m(\u001b[0m\u001b[0mn_estimators\u001b[0m \u001b[1;33m=\u001b[0m \u001b[1;36m400\u001b[0m\u001b[1;33m)\u001b[0m\u001b[1;33m\u001b[0m\u001b[1;33m\u001b[0m\u001b[0m\n\u001b[1;32m---> 23\u001b[1;33m \u001b[0mmodel\u001b[0m\u001b[1;33m.\u001b[0m\u001b[0mfit\u001b[0m\u001b[1;33m(\u001b[0m\u001b[0mx_train\u001b[0m\u001b[1;33m,\u001b[0m \u001b[0my_train\u001b[0m\u001b[1;33m)\u001b[0m\u001b[1;33m\u001b[0m\u001b[1;33m\u001b[0m\u001b[0m\n\u001b[0m\u001b[0;32m     24\u001b[0m \u001b[1;33m\u001b[0m\u001b[0m\n\u001b[0;32m     25\u001b[0m \u001b[0my_pred\u001b[0m \u001b[1;33m=\u001b[0m \u001b[0mmodel\u001b[0m\u001b[1;33m.\u001b[0m\u001b[0mpredict\u001b[0m\u001b[1;33m(\u001b[0m\u001b[0mx_test\u001b[0m\u001b[1;33m)\u001b[0m\u001b[1;33m\u001b[0m\u001b[1;33m\u001b[0m\u001b[0m\n",
      "\u001b[1;32mD:\\Programs\\anaconda3\\envs\\robinconda\\lib\\site-packages\\sklearn\\ensemble\\_forest.py\u001b[0m in \u001b[0;36mfit\u001b[1;34m(self, X, y, sample_weight)\u001b[0m\n\u001b[0;32m    302\u001b[0m                 \u001b[1;34m\"sparse multilabel-indicator for y is not supported.\"\u001b[0m\u001b[1;33m\u001b[0m\u001b[1;33m\u001b[0m\u001b[0m\n\u001b[0;32m    303\u001b[0m             )\n\u001b[1;32m--> 304\u001b[1;33m         X, y = self._validate_data(X, y, multi_output=True,\n\u001b[0m\u001b[0;32m    305\u001b[0m                                    accept_sparse=\"csc\", dtype=DTYPE)\n\u001b[0;32m    306\u001b[0m         \u001b[1;32mif\u001b[0m \u001b[0msample_weight\u001b[0m \u001b[1;32mis\u001b[0m \u001b[1;32mnot\u001b[0m \u001b[1;32mNone\u001b[0m\u001b[1;33m:\u001b[0m\u001b[1;33m\u001b[0m\u001b[1;33m\u001b[0m\u001b[0m\n",
      "\u001b[1;32mD:\\Programs\\anaconda3\\envs\\robinconda\\lib\\site-packages\\sklearn\\base.py\u001b[0m in \u001b[0;36m_validate_data\u001b[1;34m(self, X, y, reset, validate_separately, **check_params)\u001b[0m\n\u001b[0;32m    431\u001b[0m                 \u001b[0my\u001b[0m \u001b[1;33m=\u001b[0m \u001b[0mcheck_array\u001b[0m\u001b[1;33m(\u001b[0m\u001b[0my\u001b[0m\u001b[1;33m,\u001b[0m \u001b[1;33m**\u001b[0m\u001b[0mcheck_y_params\u001b[0m\u001b[1;33m)\u001b[0m\u001b[1;33m\u001b[0m\u001b[1;33m\u001b[0m\u001b[0m\n\u001b[0;32m    432\u001b[0m             \u001b[1;32melse\u001b[0m\u001b[1;33m:\u001b[0m\u001b[1;33m\u001b[0m\u001b[1;33m\u001b[0m\u001b[0m\n\u001b[1;32m--> 433\u001b[1;33m                 \u001b[0mX\u001b[0m\u001b[1;33m,\u001b[0m \u001b[0my\u001b[0m \u001b[1;33m=\u001b[0m \u001b[0mcheck_X_y\u001b[0m\u001b[1;33m(\u001b[0m\u001b[0mX\u001b[0m\u001b[1;33m,\u001b[0m \u001b[0my\u001b[0m\u001b[1;33m,\u001b[0m \u001b[1;33m**\u001b[0m\u001b[0mcheck_params\u001b[0m\u001b[1;33m)\u001b[0m\u001b[1;33m\u001b[0m\u001b[1;33m\u001b[0m\u001b[0m\n\u001b[0m\u001b[0;32m    434\u001b[0m             \u001b[0mout\u001b[0m \u001b[1;33m=\u001b[0m \u001b[0mX\u001b[0m\u001b[1;33m,\u001b[0m \u001b[0my\u001b[0m\u001b[1;33m\u001b[0m\u001b[1;33m\u001b[0m\u001b[0m\n\u001b[0;32m    435\u001b[0m \u001b[1;33m\u001b[0m\u001b[0m\n",
      "\u001b[1;32mD:\\Programs\\anaconda3\\envs\\robinconda\\lib\\site-packages\\sklearn\\utils\\validation.py\u001b[0m in \u001b[0;36minner_f\u001b[1;34m(*args, **kwargs)\u001b[0m\n\u001b[0;32m     61\u001b[0m             \u001b[0mextra_args\u001b[0m \u001b[1;33m=\u001b[0m \u001b[0mlen\u001b[0m\u001b[1;33m(\u001b[0m\u001b[0margs\u001b[0m\u001b[1;33m)\u001b[0m \u001b[1;33m-\u001b[0m \u001b[0mlen\u001b[0m\u001b[1;33m(\u001b[0m\u001b[0mall_args\u001b[0m\u001b[1;33m)\u001b[0m\u001b[1;33m\u001b[0m\u001b[1;33m\u001b[0m\u001b[0m\n\u001b[0;32m     62\u001b[0m             \u001b[1;32mif\u001b[0m \u001b[0mextra_args\u001b[0m \u001b[1;33m<=\u001b[0m \u001b[1;36m0\u001b[0m\u001b[1;33m:\u001b[0m\u001b[1;33m\u001b[0m\u001b[1;33m\u001b[0m\u001b[0m\n\u001b[1;32m---> 63\u001b[1;33m                 \u001b[1;32mreturn\u001b[0m \u001b[0mf\u001b[0m\u001b[1;33m(\u001b[0m\u001b[1;33m*\u001b[0m\u001b[0margs\u001b[0m\u001b[1;33m,\u001b[0m \u001b[1;33m**\u001b[0m\u001b[0mkwargs\u001b[0m\u001b[1;33m)\u001b[0m\u001b[1;33m\u001b[0m\u001b[1;33m\u001b[0m\u001b[0m\n\u001b[0m\u001b[0;32m     64\u001b[0m \u001b[1;33m\u001b[0m\u001b[0m\n\u001b[0;32m     65\u001b[0m             \u001b[1;31m# extra_args > 0\u001b[0m\u001b[1;33m\u001b[0m\u001b[1;33m\u001b[0m\u001b[1;33m\u001b[0m\u001b[0m\n",
      "\u001b[1;32mD:\\Programs\\anaconda3\\envs\\robinconda\\lib\\site-packages\\sklearn\\utils\\validation.py\u001b[0m in \u001b[0;36mcheck_X_y\u001b[1;34m(X, y, accept_sparse, accept_large_sparse, dtype, order, copy, force_all_finite, ensure_2d, allow_nd, multi_output, ensure_min_samples, ensure_min_features, y_numeric, estimator)\u001b[0m\n\u001b[0;32m    812\u001b[0m         \u001b[1;32mraise\u001b[0m \u001b[0mValueError\u001b[0m\u001b[1;33m(\u001b[0m\u001b[1;34m\"y cannot be None\"\u001b[0m\u001b[1;33m)\u001b[0m\u001b[1;33m\u001b[0m\u001b[1;33m\u001b[0m\u001b[0m\n\u001b[0;32m    813\u001b[0m \u001b[1;33m\u001b[0m\u001b[0m\n\u001b[1;32m--> 814\u001b[1;33m     X = check_array(X, accept_sparse=accept_sparse,\n\u001b[0m\u001b[0;32m    815\u001b[0m                     \u001b[0maccept_large_sparse\u001b[0m\u001b[1;33m=\u001b[0m\u001b[0maccept_large_sparse\u001b[0m\u001b[1;33m,\u001b[0m\u001b[1;33m\u001b[0m\u001b[1;33m\u001b[0m\u001b[0m\n\u001b[0;32m    816\u001b[0m                     \u001b[0mdtype\u001b[0m\u001b[1;33m=\u001b[0m\u001b[0mdtype\u001b[0m\u001b[1;33m,\u001b[0m \u001b[0morder\u001b[0m\u001b[1;33m=\u001b[0m\u001b[0morder\u001b[0m\u001b[1;33m,\u001b[0m \u001b[0mcopy\u001b[0m\u001b[1;33m=\u001b[0m\u001b[0mcopy\u001b[0m\u001b[1;33m,\u001b[0m\u001b[1;33m\u001b[0m\u001b[1;33m\u001b[0m\u001b[0m\n",
      "\u001b[1;32mD:\\Programs\\anaconda3\\envs\\robinconda\\lib\\site-packages\\sklearn\\utils\\validation.py\u001b[0m in \u001b[0;36minner_f\u001b[1;34m(*args, **kwargs)\u001b[0m\n\u001b[0;32m     61\u001b[0m             \u001b[0mextra_args\u001b[0m \u001b[1;33m=\u001b[0m \u001b[0mlen\u001b[0m\u001b[1;33m(\u001b[0m\u001b[0margs\u001b[0m\u001b[1;33m)\u001b[0m \u001b[1;33m-\u001b[0m \u001b[0mlen\u001b[0m\u001b[1;33m(\u001b[0m\u001b[0mall_args\u001b[0m\u001b[1;33m)\u001b[0m\u001b[1;33m\u001b[0m\u001b[1;33m\u001b[0m\u001b[0m\n\u001b[0;32m     62\u001b[0m             \u001b[1;32mif\u001b[0m \u001b[0mextra_args\u001b[0m \u001b[1;33m<=\u001b[0m \u001b[1;36m0\u001b[0m\u001b[1;33m:\u001b[0m\u001b[1;33m\u001b[0m\u001b[1;33m\u001b[0m\u001b[0m\n\u001b[1;32m---> 63\u001b[1;33m                 \u001b[1;32mreturn\u001b[0m \u001b[0mf\u001b[0m\u001b[1;33m(\u001b[0m\u001b[1;33m*\u001b[0m\u001b[0margs\u001b[0m\u001b[1;33m,\u001b[0m \u001b[1;33m**\u001b[0m\u001b[0mkwargs\u001b[0m\u001b[1;33m)\u001b[0m\u001b[1;33m\u001b[0m\u001b[1;33m\u001b[0m\u001b[0m\n\u001b[0m\u001b[0;32m     64\u001b[0m \u001b[1;33m\u001b[0m\u001b[0m\n\u001b[0;32m     65\u001b[0m             \u001b[1;31m# extra_args > 0\u001b[0m\u001b[1;33m\u001b[0m\u001b[1;33m\u001b[0m\u001b[1;33m\u001b[0m\u001b[0m\n",
      "\u001b[1;32mD:\\Programs\\anaconda3\\envs\\robinconda\\lib\\site-packages\\sklearn\\utils\\validation.py\u001b[0m in \u001b[0;36mcheck_array\u001b[1;34m(array, accept_sparse, accept_large_sparse, dtype, order, copy, force_all_finite, ensure_2d, allow_nd, ensure_min_samples, ensure_min_features, estimator)\u001b[0m\n\u001b[0;32m    614\u001b[0m                     \u001b[0marray\u001b[0m \u001b[1;33m=\u001b[0m \u001b[0marray\u001b[0m\u001b[1;33m.\u001b[0m\u001b[0mastype\u001b[0m\u001b[1;33m(\u001b[0m\u001b[0mdtype\u001b[0m\u001b[1;33m,\u001b[0m \u001b[0mcasting\u001b[0m\u001b[1;33m=\u001b[0m\u001b[1;34m\"unsafe\"\u001b[0m\u001b[1;33m,\u001b[0m \u001b[0mcopy\u001b[0m\u001b[1;33m=\u001b[0m\u001b[1;32mFalse\u001b[0m\u001b[1;33m)\u001b[0m\u001b[1;33m\u001b[0m\u001b[1;33m\u001b[0m\u001b[0m\n\u001b[0;32m    615\u001b[0m                 \u001b[1;32melse\u001b[0m\u001b[1;33m:\u001b[0m\u001b[1;33m\u001b[0m\u001b[1;33m\u001b[0m\u001b[0m\n\u001b[1;32m--> 616\u001b[1;33m                     \u001b[0marray\u001b[0m \u001b[1;33m=\u001b[0m \u001b[0mnp\u001b[0m\u001b[1;33m.\u001b[0m\u001b[0masarray\u001b[0m\u001b[1;33m(\u001b[0m\u001b[0marray\u001b[0m\u001b[1;33m,\u001b[0m \u001b[0morder\u001b[0m\u001b[1;33m=\u001b[0m\u001b[0morder\u001b[0m\u001b[1;33m,\u001b[0m \u001b[0mdtype\u001b[0m\u001b[1;33m=\u001b[0m\u001b[0mdtype\u001b[0m\u001b[1;33m)\u001b[0m\u001b[1;33m\u001b[0m\u001b[1;33m\u001b[0m\u001b[0m\n\u001b[0m\u001b[0;32m    617\u001b[0m             \u001b[1;32mexcept\u001b[0m \u001b[0mComplexWarning\u001b[0m \u001b[1;32mas\u001b[0m \u001b[0mcomplex_warning\u001b[0m\u001b[1;33m:\u001b[0m\u001b[1;33m\u001b[0m\u001b[1;33m\u001b[0m\u001b[0m\n\u001b[0;32m    618\u001b[0m                 raise ValueError(\"Complex data not supported\\n\"\n",
      "\u001b[1;32mD:\\Programs\\anaconda3\\envs\\robinconda\\lib\\site-packages\\numpy\\core\\_asarray.py\u001b[0m in \u001b[0;36masarray\u001b[1;34m(a, dtype, order, like)\u001b[0m\n\u001b[0;32m    100\u001b[0m         \u001b[1;32mreturn\u001b[0m \u001b[0m_asarray_with_like\u001b[0m\u001b[1;33m(\u001b[0m\u001b[0ma\u001b[0m\u001b[1;33m,\u001b[0m \u001b[0mdtype\u001b[0m\u001b[1;33m=\u001b[0m\u001b[0mdtype\u001b[0m\u001b[1;33m,\u001b[0m \u001b[0morder\u001b[0m\u001b[1;33m=\u001b[0m\u001b[0morder\u001b[0m\u001b[1;33m,\u001b[0m \u001b[0mlike\u001b[0m\u001b[1;33m=\u001b[0m\u001b[0mlike\u001b[0m\u001b[1;33m)\u001b[0m\u001b[1;33m\u001b[0m\u001b[1;33m\u001b[0m\u001b[0m\n\u001b[0;32m    101\u001b[0m \u001b[1;33m\u001b[0m\u001b[0m\n\u001b[1;32m--> 102\u001b[1;33m     \u001b[1;32mreturn\u001b[0m \u001b[0marray\u001b[0m\u001b[1;33m(\u001b[0m\u001b[0ma\u001b[0m\u001b[1;33m,\u001b[0m \u001b[0mdtype\u001b[0m\u001b[1;33m,\u001b[0m \u001b[0mcopy\u001b[0m\u001b[1;33m=\u001b[0m\u001b[1;32mFalse\u001b[0m\u001b[1;33m,\u001b[0m \u001b[0morder\u001b[0m\u001b[1;33m=\u001b[0m\u001b[0morder\u001b[0m\u001b[1;33m)\u001b[0m\u001b[1;33m\u001b[0m\u001b[1;33m\u001b[0m\u001b[0m\n\u001b[0m\u001b[0;32m    103\u001b[0m \u001b[1;33m\u001b[0m\u001b[0m\n\u001b[0;32m    104\u001b[0m \u001b[1;33m\u001b[0m\u001b[0m\n",
      "\u001b[1;32mD:\\Programs\\anaconda3\\envs\\robinconda\\lib\\site-packages\\pandas\\core\\generic.py\u001b[0m in \u001b[0;36m__array__\u001b[1;34m(self, dtype)\u001b[0m\n\u001b[0;32m   1897\u001b[0m \u001b[1;33m\u001b[0m\u001b[0m\n\u001b[0;32m   1898\u001b[0m     \u001b[1;32mdef\u001b[0m \u001b[0m__array__\u001b[0m\u001b[1;33m(\u001b[0m\u001b[0mself\u001b[0m\u001b[1;33m,\u001b[0m \u001b[0mdtype\u001b[0m\u001b[1;33m=\u001b[0m\u001b[1;32mNone\u001b[0m\u001b[1;33m)\u001b[0m \u001b[1;33m->\u001b[0m \u001b[0mnp\u001b[0m\u001b[1;33m.\u001b[0m\u001b[0mndarray\u001b[0m\u001b[1;33m:\u001b[0m\u001b[1;33m\u001b[0m\u001b[1;33m\u001b[0m\u001b[0m\n\u001b[1;32m-> 1899\u001b[1;33m         \u001b[1;32mreturn\u001b[0m \u001b[0mnp\u001b[0m\u001b[1;33m.\u001b[0m\u001b[0masarray\u001b[0m\u001b[1;33m(\u001b[0m\u001b[0mself\u001b[0m\u001b[1;33m.\u001b[0m\u001b[0m_values\u001b[0m\u001b[1;33m,\u001b[0m \u001b[0mdtype\u001b[0m\u001b[1;33m=\u001b[0m\u001b[0mdtype\u001b[0m\u001b[1;33m)\u001b[0m\u001b[1;33m\u001b[0m\u001b[1;33m\u001b[0m\u001b[0m\n\u001b[0m\u001b[0;32m   1900\u001b[0m \u001b[1;33m\u001b[0m\u001b[0m\n\u001b[0;32m   1901\u001b[0m     def __array_wrap__(\n",
      "\u001b[1;32mD:\\Programs\\anaconda3\\envs\\robinconda\\lib\\site-packages\\numpy\\core\\_asarray.py\u001b[0m in \u001b[0;36masarray\u001b[1;34m(a, dtype, order, like)\u001b[0m\n\u001b[0;32m    100\u001b[0m         \u001b[1;32mreturn\u001b[0m \u001b[0m_asarray_with_like\u001b[0m\u001b[1;33m(\u001b[0m\u001b[0ma\u001b[0m\u001b[1;33m,\u001b[0m \u001b[0mdtype\u001b[0m\u001b[1;33m=\u001b[0m\u001b[0mdtype\u001b[0m\u001b[1;33m,\u001b[0m \u001b[0morder\u001b[0m\u001b[1;33m=\u001b[0m\u001b[0morder\u001b[0m\u001b[1;33m,\u001b[0m \u001b[0mlike\u001b[0m\u001b[1;33m=\u001b[0m\u001b[0mlike\u001b[0m\u001b[1;33m)\u001b[0m\u001b[1;33m\u001b[0m\u001b[1;33m\u001b[0m\u001b[0m\n\u001b[0;32m    101\u001b[0m \u001b[1;33m\u001b[0m\u001b[0m\n\u001b[1;32m--> 102\u001b[1;33m     \u001b[1;32mreturn\u001b[0m \u001b[0marray\u001b[0m\u001b[1;33m(\u001b[0m\u001b[0ma\u001b[0m\u001b[1;33m,\u001b[0m \u001b[0mdtype\u001b[0m\u001b[1;33m,\u001b[0m \u001b[0mcopy\u001b[0m\u001b[1;33m=\u001b[0m\u001b[1;32mFalse\u001b[0m\u001b[1;33m,\u001b[0m \u001b[0morder\u001b[0m\u001b[1;33m=\u001b[0m\u001b[0morder\u001b[0m\u001b[1;33m)\u001b[0m\u001b[1;33m\u001b[0m\u001b[1;33m\u001b[0m\u001b[0m\n\u001b[0m\u001b[0;32m    103\u001b[0m \u001b[1;33m\u001b[0m\u001b[0m\n\u001b[0;32m    104\u001b[0m \u001b[1;33m\u001b[0m\u001b[0m\n",
      "\u001b[1;31mValueError\u001b[0m: could not convert string to float: '88 �ʰ�'"
     ]
    }
   ],
   "source": [
    "import numpy as np\n",
    "import pandas as pd\n",
    "from matplotlib import pyplot\n",
    "from sklearn.model_selection import train_test_split\n",
    "from sklearn.ensemble import RandomForestClassifier\n",
    "from sklearn.ensemble import RandomForestClassifier\n",
    "from sklearn.model_selection import train_test_split # train/test\n",
    "from sklearn.datasets import load_wine # dataset \n",
    "from sklearn.metrics import accuracy_score, confusion_matrix # 평가 : 분류정확도 \n",
    "from sklearn.metrics import classification_report # 평가 : 정확률, 재현율, f1_score\n",
    "from sklearn.model_selection import GridSearchCV\n",
    "df = pd.read_csv(\"data/finalservey_1912_clean.csv\")\n",
    "def rating(mens_cramp):\n",
    "    if mens_cramp >= 8: return 2\n",
    "    elif mens_cramp >= 7: return 1\n",
    "    else: return 0\n",
    "df['mens_cramp_rank'] = df.apply(lambda x: rating(x['mens_cramp']),axis=1)\n",
    "\n",
    "x = df[['height_1', 'weight_1', 'bmi', 'mens_period', 'mens_cycle', 'age', 'upper_body_size', 'lower_body_size', 'options_tension', 'options_stiffness', 'options_diarrhea', 'options_insomnia', 'options_abdominal_obesity', 'options_swelling', 'options_cold', 'exercise_type_walking', 'exercise_type_running', 'exercise_type_hiking', 'exercise_type_bicycle', 'exercise_type_golf', 'exercise_type_yoga_pilates', 'exercise_type_swimming', 'exercise_type_dance', 'exercise_type_fitness', 'thyroid_no', 'thyroid_hypothyroidism', 'thyroid_hyperthyroidism', 'thyroid_cancer', 'mens_disease_no', 'mens_disease_pms', 'mens_disease_fibroids', 'mens_disease_uterine_adenoma', 'menarche_age', 'mens_supplies_pad', 'mens_supplies_cotton_pad', 'mens_supplies_tampon', 'mens_supplies_cup', 'mens_cramp_peak_before', 'mens_cramp_peak_first_day', 'mens_cramp_peak_second_day', 'mens_cramp_peak_third_day', 'mens_stress', 'mens_stress_peak_before', 'mens_stress_peak_first_day', 'mens_stress_peak_second_day', 'mens_stress_peak_third_day', 'mens_cramp_part_belly', 'mens_cramp_part_pelvis', 'mens_cramp_part_waist', 'mens_cramp_part_below_thigh', 'mens_cramp_symptoms_swelling', 'mens_cramp_symptoms_emotion', 'mens_cramp_symptoms_belly_pain', 'mens_cramp_symptoms_constipation', 'mens_cramp_symptoms_lethargy', 'mens_cramp_symptoms_nervousness', 'mens_cramp_symptoms_indigestion', 'mens_cramp_symptoms_gas', 'mens_cramp_symptoms_diarrhea', 'mens_cramp_symptoms_digestive_upset', 'mens_cramp_symptoms_back_pain', 'mens_cramp_symptoms_chest_pain', 'mens_cramp_symptoms_increased_appetite', 'mens_cramp_symptoms_headache', 'mens_cramp_symptoms_depression', 'mens_cramp_symptoms_reduced_temperance', 'mens_cramp_symptoms_migraine', 'mens_cramp_symptoms_drowsiness', 'mens_cramp_symptoms_sensitive_temperature', 'mens_cramp_symptoms_colic', 'mens_cramp_symptoms_leg_numbness', 'mens_cramp_symptoms_leg_swelling', 'mens_cramp_symptoms_voracity', 'mens_cramp_symptoms_insomnia', 'mens_cramp_symptoms_anxiety', 'mens_cramp_symptoms_nausea', 'mens_cramp_symptoms_decreased_appetite', 'mens_cramp_symptoms_excessive_sleep', 'mens_cramp_symptoms_pimple', 'mens_cramp_symptoms_sickness', 'mens_cramp_symptoms_exhaustion', 'mens_cramp_symptoms_breathing_problem', 'mens_cramp_symptoms_dull_movement', 'mens_cramp_symptoms_gastrointestinal_disorder', 'mens_cramp_symptoms_muscle_pain', 'mens_cramp_symptoms_increased_libido', 'mens_cramp_symptoms_cold_sweat', 'mens_cramp_symptoms_dizziness', 'mens_cramp_symptoms_throw_up', 'mens_cramp_symptoms_abdominal_swelling', 'mens_cramp_symptoms_anemia', 'mens_cramp_symptoms_whirl', 'mens_cramp_symptoms_joint_pain', 'mens_cramp_symptoms_sweet', 'mens_cramp_symptoms_fever', 'mens_cramp_symptoms_chill', 'mens_cramp_symptoms_orthostatic_hypotension', 'upper_body_size_3', 'lower_body_size_3', 'mens_cramps_family_mother', 'mens_cramps_family_older_sister', 'mens_cramps_family_younger_sister', 'mens_cramps_family_relatives', 'mens_cramps_family_no', 'mens_symptoms_3_ovulation_cramps', 'mens_symptoms_3_long_cramps', 'mens_symptoms_3_abnormal', 'mens_symptoms_3_pressure', 'mens_symptoms_3_lump', 'mens_symptoms_3_abdominal_pain', 'mens_symptoms_3_gas', 'mens_symptoms_3_pelvis_pain', 'mens_symptoms_3_long_period', 'mens_symptoms_3_irregular_blood', 'mens_symptoms_3_waist_pain', 'mens_symptoms_3_stressful', 'mens_symptoms_3_cluster_blood', 'mens_symptoms_3_diarrhea', 'mens_symptoms_3_urination', 'mens_symptoms_3_irregular_blood_amount', 'mens_symptoms_3_intense_pain', 'mens_symptoms_3_stomachache', 'mens_before_after_pattern_toilet', 'mens_before_after_pattern_app', 'mens_before_after_pattern_embarrassment', 'mens_before_after_pattern_sex_nervousness', 'mens_before_after_pattern_sex_calculate_date', 'mens_before_after_pattern_sexual_desire', 'mens_before_after_pattern_accommodation', 'mens_before_after_pattern_keen', 'mens_before_after_pattern_cancellation', 'mens_before_after_pattern_work', 'mens_before_after_pattern_withstand', 'mens_before_after_pattern_urgent_cancellation', 'mens_before_after_pattern_sweet_spicy', 'mens_before_after_pattern_buy_comfy', 'mens_before_after_pattern_fancy', 'mens_before_after_pattern_partying', 'mens_before_after_pattern_comfy_clothes', 'mens_before_after_pattern_dark_clothes', 'mens_before_after_pattern_accessory', 'mens_before_after_pattern_heavy_makeup', 'mens_before_after_pattern_deceive', 'mens_before_after_pattern_help', 'mens_before_after_pattern_buy_pads', 'mens_before_after_pattern_borrow_pads', 'mens_before_after_pattern_bulk_purchase_pads', 'mens_before_after_pattern_excitement', 'mens_before_after_pattern_panty_blood', 'mens_before_after_pattern_throw_out_panty', 'mens_before_after_pattern_chest_lump', 'mens_before_after_pattern_weight_changes', 'mens_before_after_pattern_same_weight', 'mens_meal', 'mens_exercise', 'mens_cramps_level_before_meal_exercise', 'mens_cramps_level_after_meal_exercise', 'meal_exercise_effects', 'meal_exercise_effects_specific_reduced_cramps', 'meal_exercise_effects_specific_reduced_stress', 'meal_exercise_effects_specific_reduced_pain', 'meal_exercise_effects_specific_lose_weight', 'meal_exercise_effects_specific_gain_weight', 'meal_exercise_effects_specific_same_weight', 'meal_exercise_effects_specific_improved_inbody', 'meal_exercise_effects_specific_same_inbody', 'meal_exercise_effects_specific_no_pain', 'meal_exercise_effects_specific_no_pms', 'meal_exercise_effects_specific_no', 'weight_3_1', 'improvements_self_measurement', 'improvements_plan', 'improvements_results', 'improvements_hospital', 'improvements_1.1', 'meal_exercise_effects_c', 'pain_after']]\n",
    "y = df['mens_cramp_rank']\n",
    "x_train, x_test, y_train, y_test = train_test_split(x, y, test_size = 0.3)\n",
    "model = RandomForestClassifier(n_estimators = 400)\n",
    "model.fit(x_train, y_train)\n",
    "\n",
    "y_pred = model.predict(x_test)\n",
    "print(\"Accuracy is: \", accuracy_score(y_pred, y_test))\n",
    "\n",
    "con_mat = confusion_matrix(y_pred, y_test)\n",
    "print(con_mat)\n",
    "\n",
    "report = classification_report(y_pred, y_test)\n",
    "print(report)\n",
    "\n",
    "result = pd.DataFrame({'pred' : y_pred, 'real' : y_test})\n",
    "result\n",
    "\n",
    "# get importance\n",
    "importance = model.feature_importances_\n",
    "# summarize feature importance\n",
    "for i,v in enumerate(importance):\n",
    "\tprint('Feature: %0d, Score: %.5f' % (i,v))\n",
    "# plot feature importance\n",
    "pyplot.bar([x for x in range(len(importance))], importance)\n",
    "pyplot.show()\n",
    "y"
   ]
  },
  {
   "cell_type": "code",
   "execution_count": 11,
   "id": "1643cbc6",
   "metadata": {},
   "outputs": [
    {
     "ename": "ValueError",
     "evalue": "could not convert string to float: '44 �̸�'",
     "output_type": "error",
     "traceback": [
      "\u001b[1;31m---------------------------------------------------------------------------\u001b[0m",
      "\u001b[1;31mValueError\u001b[0m                                Traceback (most recent call last)",
      "\u001b[1;32m<ipython-input-11-d4de4eae1753>\u001b[0m in \u001b[0;36m<module>\u001b[1;34m\u001b[0m\n\u001b[0;32m     23\u001b[0m \u001b[1;33m\u001b[0m\u001b[0m\n\u001b[0;32m     24\u001b[0m \u001b[0mmodel\u001b[0m \u001b[1;33m=\u001b[0m \u001b[0mRandomForestClassifier\u001b[0m\u001b[1;33m(\u001b[0m\u001b[0mn_estimators\u001b[0m \u001b[1;33m=\u001b[0m \u001b[1;36m400\u001b[0m\u001b[1;33m)\u001b[0m\u001b[1;33m\u001b[0m\u001b[1;33m\u001b[0m\u001b[0m\n\u001b[1;32m---> 25\u001b[1;33m \u001b[0mmodel\u001b[0m\u001b[1;33m.\u001b[0m\u001b[0mfit\u001b[0m\u001b[1;33m(\u001b[0m\u001b[0mx_train\u001b[0m\u001b[1;33m,\u001b[0m \u001b[0my_train\u001b[0m\u001b[1;33m)\u001b[0m\u001b[1;33m\u001b[0m\u001b[1;33m\u001b[0m\u001b[0m\n\u001b[0m\u001b[0;32m     26\u001b[0m \u001b[1;33m\u001b[0m\u001b[0m\n\u001b[0;32m     27\u001b[0m \u001b[0my_pred\u001b[0m \u001b[1;33m=\u001b[0m \u001b[0mmodel\u001b[0m\u001b[1;33m.\u001b[0m\u001b[0mpredict\u001b[0m\u001b[1;33m(\u001b[0m\u001b[0mx_test\u001b[0m\u001b[1;33m)\u001b[0m\u001b[1;33m\u001b[0m\u001b[1;33m\u001b[0m\u001b[0m\n",
      "\u001b[1;32mD:\\Programs\\anaconda3\\envs\\robinconda\\lib\\site-packages\\sklearn\\ensemble\\_forest.py\u001b[0m in \u001b[0;36mfit\u001b[1;34m(self, X, y, sample_weight)\u001b[0m\n\u001b[0;32m    302\u001b[0m                 \u001b[1;34m\"sparse multilabel-indicator for y is not supported.\"\u001b[0m\u001b[1;33m\u001b[0m\u001b[1;33m\u001b[0m\u001b[0m\n\u001b[0;32m    303\u001b[0m             )\n\u001b[1;32m--> 304\u001b[1;33m         X, y = self._validate_data(X, y, multi_output=True,\n\u001b[0m\u001b[0;32m    305\u001b[0m                                    accept_sparse=\"csc\", dtype=DTYPE)\n\u001b[0;32m    306\u001b[0m         \u001b[1;32mif\u001b[0m \u001b[0msample_weight\u001b[0m \u001b[1;32mis\u001b[0m \u001b[1;32mnot\u001b[0m \u001b[1;32mNone\u001b[0m\u001b[1;33m:\u001b[0m\u001b[1;33m\u001b[0m\u001b[1;33m\u001b[0m\u001b[0m\n",
      "\u001b[1;32mD:\\Programs\\anaconda3\\envs\\robinconda\\lib\\site-packages\\sklearn\\base.py\u001b[0m in \u001b[0;36m_validate_data\u001b[1;34m(self, X, y, reset, validate_separately, **check_params)\u001b[0m\n\u001b[0;32m    431\u001b[0m                 \u001b[0my\u001b[0m \u001b[1;33m=\u001b[0m \u001b[0mcheck_array\u001b[0m\u001b[1;33m(\u001b[0m\u001b[0my\u001b[0m\u001b[1;33m,\u001b[0m \u001b[1;33m**\u001b[0m\u001b[0mcheck_y_params\u001b[0m\u001b[1;33m)\u001b[0m\u001b[1;33m\u001b[0m\u001b[1;33m\u001b[0m\u001b[0m\n\u001b[0;32m    432\u001b[0m             \u001b[1;32melse\u001b[0m\u001b[1;33m:\u001b[0m\u001b[1;33m\u001b[0m\u001b[1;33m\u001b[0m\u001b[0m\n\u001b[1;32m--> 433\u001b[1;33m                 \u001b[0mX\u001b[0m\u001b[1;33m,\u001b[0m \u001b[0my\u001b[0m \u001b[1;33m=\u001b[0m \u001b[0mcheck_X_y\u001b[0m\u001b[1;33m(\u001b[0m\u001b[0mX\u001b[0m\u001b[1;33m,\u001b[0m \u001b[0my\u001b[0m\u001b[1;33m,\u001b[0m \u001b[1;33m**\u001b[0m\u001b[0mcheck_params\u001b[0m\u001b[1;33m)\u001b[0m\u001b[1;33m\u001b[0m\u001b[1;33m\u001b[0m\u001b[0m\n\u001b[0m\u001b[0;32m    434\u001b[0m             \u001b[0mout\u001b[0m \u001b[1;33m=\u001b[0m \u001b[0mX\u001b[0m\u001b[1;33m,\u001b[0m \u001b[0my\u001b[0m\u001b[1;33m\u001b[0m\u001b[1;33m\u001b[0m\u001b[0m\n\u001b[0;32m    435\u001b[0m \u001b[1;33m\u001b[0m\u001b[0m\n",
      "\u001b[1;32mD:\\Programs\\anaconda3\\envs\\robinconda\\lib\\site-packages\\sklearn\\utils\\validation.py\u001b[0m in \u001b[0;36minner_f\u001b[1;34m(*args, **kwargs)\u001b[0m\n\u001b[0;32m     61\u001b[0m             \u001b[0mextra_args\u001b[0m \u001b[1;33m=\u001b[0m \u001b[0mlen\u001b[0m\u001b[1;33m(\u001b[0m\u001b[0margs\u001b[0m\u001b[1;33m)\u001b[0m \u001b[1;33m-\u001b[0m \u001b[0mlen\u001b[0m\u001b[1;33m(\u001b[0m\u001b[0mall_args\u001b[0m\u001b[1;33m)\u001b[0m\u001b[1;33m\u001b[0m\u001b[1;33m\u001b[0m\u001b[0m\n\u001b[0;32m     62\u001b[0m             \u001b[1;32mif\u001b[0m \u001b[0mextra_args\u001b[0m \u001b[1;33m<=\u001b[0m \u001b[1;36m0\u001b[0m\u001b[1;33m:\u001b[0m\u001b[1;33m\u001b[0m\u001b[1;33m\u001b[0m\u001b[0m\n\u001b[1;32m---> 63\u001b[1;33m                 \u001b[1;32mreturn\u001b[0m \u001b[0mf\u001b[0m\u001b[1;33m(\u001b[0m\u001b[1;33m*\u001b[0m\u001b[0margs\u001b[0m\u001b[1;33m,\u001b[0m \u001b[1;33m**\u001b[0m\u001b[0mkwargs\u001b[0m\u001b[1;33m)\u001b[0m\u001b[1;33m\u001b[0m\u001b[1;33m\u001b[0m\u001b[0m\n\u001b[0m\u001b[0;32m     64\u001b[0m \u001b[1;33m\u001b[0m\u001b[0m\n\u001b[0;32m     65\u001b[0m             \u001b[1;31m# extra_args > 0\u001b[0m\u001b[1;33m\u001b[0m\u001b[1;33m\u001b[0m\u001b[1;33m\u001b[0m\u001b[0m\n",
      "\u001b[1;32mD:\\Programs\\anaconda3\\envs\\robinconda\\lib\\site-packages\\sklearn\\utils\\validation.py\u001b[0m in \u001b[0;36mcheck_X_y\u001b[1;34m(X, y, accept_sparse, accept_large_sparse, dtype, order, copy, force_all_finite, ensure_2d, allow_nd, multi_output, ensure_min_samples, ensure_min_features, y_numeric, estimator)\u001b[0m\n\u001b[0;32m    812\u001b[0m         \u001b[1;32mraise\u001b[0m \u001b[0mValueError\u001b[0m\u001b[1;33m(\u001b[0m\u001b[1;34m\"y cannot be None\"\u001b[0m\u001b[1;33m)\u001b[0m\u001b[1;33m\u001b[0m\u001b[1;33m\u001b[0m\u001b[0m\n\u001b[0;32m    813\u001b[0m \u001b[1;33m\u001b[0m\u001b[0m\n\u001b[1;32m--> 814\u001b[1;33m     X = check_array(X, accept_sparse=accept_sparse,\n\u001b[0m\u001b[0;32m    815\u001b[0m                     \u001b[0maccept_large_sparse\u001b[0m\u001b[1;33m=\u001b[0m\u001b[0maccept_large_sparse\u001b[0m\u001b[1;33m,\u001b[0m\u001b[1;33m\u001b[0m\u001b[1;33m\u001b[0m\u001b[0m\n\u001b[0;32m    816\u001b[0m                     \u001b[0mdtype\u001b[0m\u001b[1;33m=\u001b[0m\u001b[0mdtype\u001b[0m\u001b[1;33m,\u001b[0m \u001b[0morder\u001b[0m\u001b[1;33m=\u001b[0m\u001b[0morder\u001b[0m\u001b[1;33m,\u001b[0m \u001b[0mcopy\u001b[0m\u001b[1;33m=\u001b[0m\u001b[0mcopy\u001b[0m\u001b[1;33m,\u001b[0m\u001b[1;33m\u001b[0m\u001b[1;33m\u001b[0m\u001b[0m\n",
      "\u001b[1;32mD:\\Programs\\anaconda3\\envs\\robinconda\\lib\\site-packages\\sklearn\\utils\\validation.py\u001b[0m in \u001b[0;36minner_f\u001b[1;34m(*args, **kwargs)\u001b[0m\n\u001b[0;32m     61\u001b[0m             \u001b[0mextra_args\u001b[0m \u001b[1;33m=\u001b[0m \u001b[0mlen\u001b[0m\u001b[1;33m(\u001b[0m\u001b[0margs\u001b[0m\u001b[1;33m)\u001b[0m \u001b[1;33m-\u001b[0m \u001b[0mlen\u001b[0m\u001b[1;33m(\u001b[0m\u001b[0mall_args\u001b[0m\u001b[1;33m)\u001b[0m\u001b[1;33m\u001b[0m\u001b[1;33m\u001b[0m\u001b[0m\n\u001b[0;32m     62\u001b[0m             \u001b[1;32mif\u001b[0m \u001b[0mextra_args\u001b[0m \u001b[1;33m<=\u001b[0m \u001b[1;36m0\u001b[0m\u001b[1;33m:\u001b[0m\u001b[1;33m\u001b[0m\u001b[1;33m\u001b[0m\u001b[0m\n\u001b[1;32m---> 63\u001b[1;33m                 \u001b[1;32mreturn\u001b[0m \u001b[0mf\u001b[0m\u001b[1;33m(\u001b[0m\u001b[1;33m*\u001b[0m\u001b[0margs\u001b[0m\u001b[1;33m,\u001b[0m \u001b[1;33m**\u001b[0m\u001b[0mkwargs\u001b[0m\u001b[1;33m)\u001b[0m\u001b[1;33m\u001b[0m\u001b[1;33m\u001b[0m\u001b[0m\n\u001b[0m\u001b[0;32m     64\u001b[0m \u001b[1;33m\u001b[0m\u001b[0m\n\u001b[0;32m     65\u001b[0m             \u001b[1;31m# extra_args > 0\u001b[0m\u001b[1;33m\u001b[0m\u001b[1;33m\u001b[0m\u001b[1;33m\u001b[0m\u001b[0m\n",
      "\u001b[1;32mD:\\Programs\\anaconda3\\envs\\robinconda\\lib\\site-packages\\sklearn\\utils\\validation.py\u001b[0m in \u001b[0;36mcheck_array\u001b[1;34m(array, accept_sparse, accept_large_sparse, dtype, order, copy, force_all_finite, ensure_2d, allow_nd, ensure_min_samples, ensure_min_features, estimator)\u001b[0m\n\u001b[0;32m    614\u001b[0m                     \u001b[0marray\u001b[0m \u001b[1;33m=\u001b[0m \u001b[0marray\u001b[0m\u001b[1;33m.\u001b[0m\u001b[0mastype\u001b[0m\u001b[1;33m(\u001b[0m\u001b[0mdtype\u001b[0m\u001b[1;33m,\u001b[0m \u001b[0mcasting\u001b[0m\u001b[1;33m=\u001b[0m\u001b[1;34m\"unsafe\"\u001b[0m\u001b[1;33m,\u001b[0m \u001b[0mcopy\u001b[0m\u001b[1;33m=\u001b[0m\u001b[1;32mFalse\u001b[0m\u001b[1;33m)\u001b[0m\u001b[1;33m\u001b[0m\u001b[1;33m\u001b[0m\u001b[0m\n\u001b[0;32m    615\u001b[0m                 \u001b[1;32melse\u001b[0m\u001b[1;33m:\u001b[0m\u001b[1;33m\u001b[0m\u001b[1;33m\u001b[0m\u001b[0m\n\u001b[1;32m--> 616\u001b[1;33m                     \u001b[0marray\u001b[0m \u001b[1;33m=\u001b[0m \u001b[0mnp\u001b[0m\u001b[1;33m.\u001b[0m\u001b[0masarray\u001b[0m\u001b[1;33m(\u001b[0m\u001b[0marray\u001b[0m\u001b[1;33m,\u001b[0m \u001b[0morder\u001b[0m\u001b[1;33m=\u001b[0m\u001b[0morder\u001b[0m\u001b[1;33m,\u001b[0m \u001b[0mdtype\u001b[0m\u001b[1;33m=\u001b[0m\u001b[0mdtype\u001b[0m\u001b[1;33m)\u001b[0m\u001b[1;33m\u001b[0m\u001b[1;33m\u001b[0m\u001b[0m\n\u001b[0m\u001b[0;32m    617\u001b[0m             \u001b[1;32mexcept\u001b[0m \u001b[0mComplexWarning\u001b[0m \u001b[1;32mas\u001b[0m \u001b[0mcomplex_warning\u001b[0m\u001b[1;33m:\u001b[0m\u001b[1;33m\u001b[0m\u001b[1;33m\u001b[0m\u001b[0m\n\u001b[0;32m    618\u001b[0m                 raise ValueError(\"Complex data not supported\\n\"\n",
      "\u001b[1;32mD:\\Programs\\anaconda3\\envs\\robinconda\\lib\\site-packages\\numpy\\core\\_asarray.py\u001b[0m in \u001b[0;36masarray\u001b[1;34m(a, dtype, order, like)\u001b[0m\n\u001b[0;32m    100\u001b[0m         \u001b[1;32mreturn\u001b[0m \u001b[0m_asarray_with_like\u001b[0m\u001b[1;33m(\u001b[0m\u001b[0ma\u001b[0m\u001b[1;33m,\u001b[0m \u001b[0mdtype\u001b[0m\u001b[1;33m=\u001b[0m\u001b[0mdtype\u001b[0m\u001b[1;33m,\u001b[0m \u001b[0morder\u001b[0m\u001b[1;33m=\u001b[0m\u001b[0morder\u001b[0m\u001b[1;33m,\u001b[0m \u001b[0mlike\u001b[0m\u001b[1;33m=\u001b[0m\u001b[0mlike\u001b[0m\u001b[1;33m)\u001b[0m\u001b[1;33m\u001b[0m\u001b[1;33m\u001b[0m\u001b[0m\n\u001b[0;32m    101\u001b[0m \u001b[1;33m\u001b[0m\u001b[0m\n\u001b[1;32m--> 102\u001b[1;33m     \u001b[1;32mreturn\u001b[0m \u001b[0marray\u001b[0m\u001b[1;33m(\u001b[0m\u001b[0ma\u001b[0m\u001b[1;33m,\u001b[0m \u001b[0mdtype\u001b[0m\u001b[1;33m,\u001b[0m \u001b[0mcopy\u001b[0m\u001b[1;33m=\u001b[0m\u001b[1;32mFalse\u001b[0m\u001b[1;33m,\u001b[0m \u001b[0morder\u001b[0m\u001b[1;33m=\u001b[0m\u001b[0morder\u001b[0m\u001b[1;33m)\u001b[0m\u001b[1;33m\u001b[0m\u001b[1;33m\u001b[0m\u001b[0m\n\u001b[0m\u001b[0;32m    103\u001b[0m \u001b[1;33m\u001b[0m\u001b[0m\n\u001b[0;32m    104\u001b[0m \u001b[1;33m\u001b[0m\u001b[0m\n",
      "\u001b[1;32mD:\\Programs\\anaconda3\\envs\\robinconda\\lib\\site-packages\\pandas\\core\\generic.py\u001b[0m in \u001b[0;36m__array__\u001b[1;34m(self, dtype)\u001b[0m\n\u001b[0;32m   1897\u001b[0m \u001b[1;33m\u001b[0m\u001b[0m\n\u001b[0;32m   1898\u001b[0m     \u001b[1;32mdef\u001b[0m \u001b[0m__array__\u001b[0m\u001b[1;33m(\u001b[0m\u001b[0mself\u001b[0m\u001b[1;33m,\u001b[0m \u001b[0mdtype\u001b[0m\u001b[1;33m=\u001b[0m\u001b[1;32mNone\u001b[0m\u001b[1;33m)\u001b[0m \u001b[1;33m->\u001b[0m \u001b[0mnp\u001b[0m\u001b[1;33m.\u001b[0m\u001b[0mndarray\u001b[0m\u001b[1;33m:\u001b[0m\u001b[1;33m\u001b[0m\u001b[1;33m\u001b[0m\u001b[0m\n\u001b[1;32m-> 1899\u001b[1;33m         \u001b[1;32mreturn\u001b[0m \u001b[0mnp\u001b[0m\u001b[1;33m.\u001b[0m\u001b[0masarray\u001b[0m\u001b[1;33m(\u001b[0m\u001b[0mself\u001b[0m\u001b[1;33m.\u001b[0m\u001b[0m_values\u001b[0m\u001b[1;33m,\u001b[0m \u001b[0mdtype\u001b[0m\u001b[1;33m=\u001b[0m\u001b[0mdtype\u001b[0m\u001b[1;33m)\u001b[0m\u001b[1;33m\u001b[0m\u001b[1;33m\u001b[0m\u001b[0m\n\u001b[0m\u001b[0;32m   1900\u001b[0m \u001b[1;33m\u001b[0m\u001b[0m\n\u001b[0;32m   1901\u001b[0m     def __array_wrap__(\n",
      "\u001b[1;32mD:\\Programs\\anaconda3\\envs\\robinconda\\lib\\site-packages\\numpy\\core\\_asarray.py\u001b[0m in \u001b[0;36masarray\u001b[1;34m(a, dtype, order, like)\u001b[0m\n\u001b[0;32m    100\u001b[0m         \u001b[1;32mreturn\u001b[0m \u001b[0m_asarray_with_like\u001b[0m\u001b[1;33m(\u001b[0m\u001b[0ma\u001b[0m\u001b[1;33m,\u001b[0m \u001b[0mdtype\u001b[0m\u001b[1;33m=\u001b[0m\u001b[0mdtype\u001b[0m\u001b[1;33m,\u001b[0m \u001b[0morder\u001b[0m\u001b[1;33m=\u001b[0m\u001b[0morder\u001b[0m\u001b[1;33m,\u001b[0m \u001b[0mlike\u001b[0m\u001b[1;33m=\u001b[0m\u001b[0mlike\u001b[0m\u001b[1;33m)\u001b[0m\u001b[1;33m\u001b[0m\u001b[1;33m\u001b[0m\u001b[0m\n\u001b[0;32m    101\u001b[0m \u001b[1;33m\u001b[0m\u001b[0m\n\u001b[1;32m--> 102\u001b[1;33m     \u001b[1;32mreturn\u001b[0m \u001b[0marray\u001b[0m\u001b[1;33m(\u001b[0m\u001b[0ma\u001b[0m\u001b[1;33m,\u001b[0m \u001b[0mdtype\u001b[0m\u001b[1;33m,\u001b[0m \u001b[0mcopy\u001b[0m\u001b[1;33m=\u001b[0m\u001b[1;32mFalse\u001b[0m\u001b[1;33m,\u001b[0m \u001b[0morder\u001b[0m\u001b[1;33m=\u001b[0m\u001b[0morder\u001b[0m\u001b[1;33m)\u001b[0m\u001b[1;33m\u001b[0m\u001b[1;33m\u001b[0m\u001b[0m\n\u001b[0m\u001b[0;32m    103\u001b[0m \u001b[1;33m\u001b[0m\u001b[0m\n\u001b[0;32m    104\u001b[0m \u001b[1;33m\u001b[0m\u001b[0m\n",
      "\u001b[1;31mValueError\u001b[0m: could not convert string to float: '44 �̸�'"
     ]
    }
   ],
   "source": [
    "import numpy as np\n",
    "import pandas as pd\n",
    "from matplotlib import pyplot\n",
    "from sklearn.model_selection import train_test_split\n",
    "from sklearn.ensemble import RandomForestClassifier\n",
    "from sklearn.ensemble import RandomForestClassifier\n",
    "from sklearn.model_selection import train_test_split # train/test\n",
    "from sklearn.datasets import load_wine # dataset \n",
    "from sklearn.metrics import accuracy_score, confusion_matrix # 평가 : 분류정확도 \n",
    "from sklearn.metrics import classification_report # 평가 : 정확률, 재현율, f1_score\n",
    "from sklearn.model_selection import GridSearchCV\n",
    "\n",
    "df = pd.read_csv(\"data/finalservey_1912_clean.csv\")\n",
    "def rating(mens_cramp):\n",
    "    if mens_cramp >= 8: return 2\n",
    "    elif mens_cramp >= 7: return 1\n",
    "    else: return 0\n",
    "df['mens_cramp_rank'] = df.apply(lambda x: rating(x['mens_cramp']),axis=1)\n",
    "\n",
    "x = df[['height_1', 'weight_1', 'bmi', 'mens_period', 'mens_cycle', 'age', 'upper_body_size', 'lower_body_size', 'options_tension', 'options_stiffness', 'options_diarrhea', 'options_insomnia', 'options_abdominal_obesity', 'options_swelling', 'options_cold', 'exercise_type_walking', 'exercise_type_running', 'exercise_type_hiking', 'exercise_type_bicycle', 'exercise_type_golf', 'exercise_type_yoga_pilates', 'exercise_type_swimming', 'exercise_type_dance', 'exercise_type_fitness', 'thyroid_no', 'thyroid_hypothyroidism', 'thyroid_hyperthyroidism', 'thyroid_cancer', 'mens_disease_no', 'mens_disease_pms', 'mens_disease_fibroids', 'mens_disease_uterine_adenoma', 'menarche_age', 'mens_supplies_pad', 'mens_supplies_cotton_pad', 'mens_supplies_tampon', 'mens_supplies_cup', 'mens_cramp_peak_before', 'mens_cramp_peak_first_day', 'mens_cramp_peak_second_day', 'mens_cramp_peak_third_day', 'mens_stress', 'mens_stress_peak_before', 'mens_stress_peak_first_day', 'mens_stress_peak_second_day', 'mens_stress_peak_third_day', 'mens_cramp_part_belly', 'mens_cramp_part_pelvis', 'mens_cramp_part_waist', 'mens_cramp_part_below_thigh', 'mens_cramp_symptoms_swelling', 'mens_cramp_symptoms_emotion', 'mens_cramp_symptoms_belly_pain', 'mens_cramp_symptoms_constipation', 'mens_cramp_symptoms_lethargy', 'mens_cramp_symptoms_nervousness', 'mens_cramp_symptoms_indigestion', 'mens_cramp_symptoms_gas', 'mens_cramp_symptoms_diarrhea', 'mens_cramp_symptoms_digestive_upset', 'mens_cramp_symptoms_back_pain', 'mens_cramp_symptoms_chest_pain', 'mens_cramp_symptoms_increased_appetite', 'mens_cramp_symptoms_headache', 'mens_cramp_symptoms_depression', 'mens_cramp_symptoms_reduced_temperance', 'mens_cramp_symptoms_migraine', 'mens_cramp_symptoms_drowsiness', 'mens_cramp_symptoms_sensitive_temperature', 'mens_cramp_symptoms_colic', 'mens_cramp_symptoms_leg_numbness', 'mens_cramp_symptoms_leg_swelling', 'mens_cramp_symptoms_voracity', 'mens_cramp_symptoms_insomnia', 'mens_cramp_symptoms_anxiety', 'mens_cramp_symptoms_nausea', 'mens_cramp_symptoms_decreased_appetite', 'mens_cramp_symptoms_excessive_sleep', 'mens_cramp_symptoms_pimple', 'mens_cramp_symptoms_sickness', 'mens_cramp_symptoms_exhaustion', 'mens_cramp_symptoms_breathing_problem', 'mens_cramp_symptoms_dull_movement', 'mens_cramp_symptoms_gastrointestinal_disorder', 'mens_cramp_symptoms_muscle_pain', 'mens_cramp_symptoms_increased_libido', 'mens_cramp_symptoms_cold_sweat', 'mens_cramp_symptoms_dizziness', 'mens_cramp_symptoms_throw_up', 'mens_cramp_symptoms_abdominal_swelling', 'mens_cramp_symptoms_anemia', 'mens_cramp_symptoms_whirl', 'mens_cramp_symptoms_joint_pain', 'mens_cramp_symptoms_sweet', 'mens_cramp_symptoms_fever', 'mens_cramp_symptoms_chill', 'mens_cramp_symptoms_orthostatic_hypotension', 'upper_body_size_3', 'lower_body_size_3', 'mens_cramps_family_mother', 'mens_cramps_family_older_sister', 'mens_cramps_family_younger_sister', 'mens_cramps_family_relatives', 'mens_cramps_family_no', 'mens_symptoms_3_ovulation_cramps', 'mens_symptoms_3_long_cramps', 'mens_symptoms_3_abnormal', 'mens_symptoms_3_pressure', 'mens_symptoms_3_lump', 'mens_symptoms_3_abdominal_pain', 'mens_symptoms_3_gas', 'mens_symptoms_3_pelvis_pain', 'mens_symptoms_3_long_period', 'mens_symptoms_3_irregular_blood', 'mens_symptoms_3_waist_pain', 'mens_symptoms_3_stressful', 'mens_symptoms_3_cluster_blood', 'mens_symptoms_3_diarrhea', 'mens_symptoms_3_urination', 'mens_symptoms_3_irregular_blood_amount', 'mens_symptoms_3_intense_pain', 'mens_symptoms_3_stomachache', 'mens_before_after_pattern_toilet', 'mens_before_after_pattern_app', 'mens_before_after_pattern_embarrassment', 'mens_before_after_pattern_sex_nervousness', 'mens_before_after_pattern_sex_calculate_date', 'mens_before_after_pattern_sexual_desire', 'mens_before_after_pattern_accommodation', 'mens_before_after_pattern_keen', 'mens_before_after_pattern_cancellation', 'mens_before_after_pattern_work', 'mens_before_after_pattern_withstand', 'mens_before_after_pattern_urgent_cancellation', 'mens_before_after_pattern_sweet_spicy', 'mens_before_after_pattern_buy_comfy', 'mens_before_after_pattern_fancy', 'mens_before_after_pattern_partying', 'mens_before_after_pattern_comfy_clothes', 'mens_before_after_pattern_dark_clothes', 'mens_before_after_pattern_accessory', 'mens_before_after_pattern_heavy_makeup', 'mens_before_after_pattern_deceive', 'mens_before_after_pattern_help', 'mens_before_after_pattern_buy_pads', 'mens_before_after_pattern_borrow_pads', 'mens_before_after_pattern_bulk_purchase_pads', 'mens_before_after_pattern_excitement', 'mens_before_after_pattern_panty_blood', 'mens_before_after_pattern_throw_out_panty', 'mens_before_after_pattern_chest_lump', 'mens_before_after_pattern_weight_changes', 'mens_before_after_pattern_same_weight', 'mens_meal', 'mens_exercise', 'mens_cramps_level_before_meal_exercise', 'mens_cramps_level_after_meal_exercise', 'meal_exercise_effects', 'meal_exercise_effects_specific_reduced_cramps', 'meal_exercise_effects_specific_reduced_stress', 'meal_exercise_effects_specific_reduced_pain', 'meal_exercise_effects_specific_lose_weight', 'meal_exercise_effects_specific_gain_weight', 'meal_exercise_effects_specific_same_weight', 'meal_exercise_effects_specific_improved_inbody', 'meal_exercise_effects_specific_same_inbody', 'meal_exercise_effects_specific_no_pain', 'meal_exercise_effects_specific_no_pms', 'meal_exercise_effects_specific_no', 'weight_3_1', 'improvements_self_measurement', 'improvements_plan', 'improvements_results', 'improvements_hospital', 'improvements_1.1', 'meal_exercise_effects_c', 'pain_after']]\n",
    "y = df['mens_cramp_rank']\n",
    "x_train, x_test, y_train, y_test = train_test_split(x, y, test_size = 0.3)\n",
    "\n",
    "model = RandomForestClassifier(n_estimators = 400)\n",
    "model.fit(x_train, y_train)\n",
    "\n",
    "y_pred = model.predict(x_test)\n",
    "print(\"Accuracy is: \", accuracy_score(y_pred, y_test))\n",
    "\n",
    "con_mat = confusion_matrix(y_pred, y_test)\n",
    "print(con_mat)\n",
    "\n",
    "report = classification_report(y_pred, y_test)\n",
    "print(report)\n",
    "\n",
    "result = pd.DataFrame({'pred' : y_pred, 'real' : y_test})\n",
    "result\n",
    "\n",
    "# get importance\n",
    "importance = model.feature_importances_\n",
    "# summarize feature importance\n",
    "for i,v in enumerate(importance):\n",
    "\tprint('Feature: %0d, Score: %.5f' % (i,v))\n",
    "# plot feature importance\n",
    "pyplot.bar([x for x in range(len(importance))], importance)\n",
    "pyplot.show()"
   ]
  },
  {
   "cell_type": "code",
   "execution_count": null,
   "id": "5db2d22c",
   "metadata": {},
   "outputs": [],
   "source": []
  }
 ],
 "metadata": {
  "kernelspec": {
   "display_name": "Python 3",
   "language": "python",
   "name": "python3"
  },
  "language_info": {
   "codemirror_mode": {
    "name": "ipython",
    "version": 3
   },
   "file_extension": ".py",
   "mimetype": "text/x-python",
   "name": "python",
   "nbconvert_exporter": "python",
   "pygments_lexer": "ipython3",
   "version": "3.8.8"
  }
 },
 "nbformat": 4,
 "nbformat_minor": 5
}
