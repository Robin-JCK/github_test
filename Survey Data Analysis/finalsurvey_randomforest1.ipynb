{
 "cells": [
  {
   "cell_type": "markdown",
   "id": "0fbb7c31",
   "metadata": {},
   "source": [
    "# Final 서베이 예측"
   ]
  },
  {
   "cell_type": "code",
   "execution_count": 25,
   "id": "d258bbb5",
   "metadata": {
    "scrolled": false
   },
   "outputs": [
    {
     "data": {
      "text/html": [
       "        <script type=\"text/javascript\">\n",
       "        window.PlotlyConfig = {MathJaxConfig: 'local'};\n",
       "        if (window.MathJax) {MathJax.Hub.Config({SVG: {font: \"STIX-Web\"}});}\n",
       "        if (typeof require !== 'undefined') {\n",
       "        require.undef(\"plotly\");\n",
       "        requirejs.config({\n",
       "            paths: {\n",
       "                'plotly': ['https://cdn.plot.ly/plotly-2.2.0.min']\n",
       "            }\n",
       "        });\n",
       "        require(['plotly'], function(Plotly) {\n",
       "            window._Plotly = Plotly;\n",
       "        });\n",
       "        }\n",
       "        </script>\n",
       "        "
      ]
     },
     "metadata": {},
     "output_type": "display_data"
    },
    {
     "name": "stdout",
     "output_type": "stream",
     "text": [
      "Accuracy is:  0.6025641025641025\n",
      "[[ 5  2  1]\n",
      " [ 1  4  0]\n",
      " [10 17 38]]\n",
      "              precision    recall  f1-score   support\n",
      "\n",
      "           0       0.31      0.62      0.42         8\n",
      "           1       0.17      0.80      0.29         5\n",
      "           2       0.97      0.58      0.73        65\n",
      "\n",
      "    accuracy                           0.60        78\n",
      "   macro avg       0.49      0.67      0.48        78\n",
      "weighted avg       0.86      0.60      0.67        78\n",
      "\n",
      "---- Training Done ----\n"
     ]
    },
    {
     "data": {
      "application/vnd.plotly.v1+json": {
       "config": {
        "linkText": "Export to plot.ly",
        "plotlyServerURL": "https://plot.ly",
        "showLink": false
       },
       "data": [
        {
         "marker": {
          "color": [
           0.024314232508090956,
           0.022196149222715063,
           0.02613032473750781,
           0.011591779057613865,
           0.014125886405862664,
           0.0231050990279795,
           0.014516486670982714,
           0.020371768808988597,
           0.00692432741548513,
           0.005789013357581714,
           0.0031494883049609894,
           0.003818959799645164,
           0.007041067311655897,
           0.0045020414619427115,
           0.005395793350567434,
           0.0036493816069095254,
           0.004212836153827968,
           0.003802163489673151,
           0.008213576945143984,
           0.00038187074946555903,
           0.007688817526614131,
           0.003768552556886459,
           0.004489260659356429,
           0.004503784313380766,
           0.0008898338251880101,
           0.0026987751068101,
           0.0007359833058787537,
           0.0001743841158121987,
           0.00397448575177679,
           0.005955247537884463,
           0.0012810076628925512,
           0,
           0.013142100661952255,
           0.0010235214616130582,
           0.0018223957286437505,
           0.00447539222018665,
           0.002538335318886481,
           0.0044286185677688055,
           0.006050714513610703,
           0.006145873746469231,
           0.001097161549741486,
           0.035876173785003566,
           0.007703398246834674,
           0.004429888933609068,
           0.005436165806497214,
           0.0011563585730706997,
           0.0033635112379429774,
           0.0044815112814509716,
           0.006182823128507168,
           0.0023049697354613815,
           0.004402213473208316,
           0.005939952627610043,
           0.002525981475911448,
           0.00423330433244463,
           0.007341685408363284,
           0.0032461928431355954,
           0.004443746677856734,
           0.005686265613986271,
           0.006512451498275803,
           0.0020440684850605664,
           0.0038779984903842117,
           0.004425975604223217,
           0.004922046242210441,
           0.004028909261502929,
           0.0031478835816642265,
           0.00876656869106513,
           0.0031860153859362165,
           0.0032710000621479145,
           0.004203774842299296,
           0.006093622399365365,
           0.003407182081345414,
           0.005436254450645875,
           0.00484194524606894,
           0.003946606448942537,
           0.0024483890627541574,
           0.0033990200035892023,
           0.0027860595879876946,
           0.0038002954677289072,
           0.004201134961065277,
           0.003516460844960215,
           0.006156687407648123,
           0.0010353650646840607,
           0.003339526742899683,
           0.002828233016656021,
           0.0026217245454121085,
           0.005136100442240608,
           0.0033938023025062354,
           0.0011081179697313614,
           0.0018001267414166973,
           0.0040169016760622615,
           0.0023162357120651337,
           0.003570321366673071,
           0.0038169280033565757,
           0.0043691831424230426,
           0.003118806331040407,
           0.0021449526459426326,
           0.003482333552874695,
           0.003600808659567534,
           0.0029464540898067096,
           0.0024516934858812528,
           0.007037903115429335,
           0.008417699247995597,
           0.009514526014374679,
           0.002868877202226896,
           0.006517596077579083,
           0.007040006218542104,
           0.0029511799862357055,
           0.004405861122534597,
           0.006071487315391108,
           0.0061909852480839704,
           0.0024604920463395024,
           0.003784715040695171,
           0.0022048163994628917,
           0.004050232414182857,
           0.005156960608144114,
           0.004513650748593146,
           0.004114831741554501,
           0.005916916918366795,
           0.003254680353088308,
           0.0031160901437162656,
           0.004234124461216454,
           0.004562852841663592,
           0.004276945837362378,
           0.00250512223785344,
           0.003405195580329431,
           0.004456626009887265,
           0.0023442577363128555,
           0.004877484852677905,
           0.004060191432079969,
           0.00368846552604471,
           0.005061999256740236,
           0.0035859892931830507,
           0,
           0.003139659788376297,
           0.002586841664275628,
           0.001243477539760405,
           0.0048376633000941915,
           0.005098552190156014,
           8.714881275922585e-05,
           8.13698157341873e-05,
           0.0045339189422209025,
           0.006117119853483809,
           0.004972127589762169,
           0.006081013585226785,
           0.005719767596859842,
           0.004356024416255525,
           0.004508326188129838,
           0.003725802003783413,
           0.005106197156369853,
           0.004874313129234862,
           0.004651465270319194,
           0.009872777464243856,
           0.012796758611453197,
           0.04912677134340876,
           0.0284044178078827,
           0.009191296077756475,
           0.005529489857520674,
           0.0068591622732347484,
           0.0038043969809065693,
           0.005140195589728295,
           0.0018665720078213915,
           0.0032654474783426206,
           0.0036474476878067446,
           0.0013922921388539971,
           0.004104824432487141,
           0.008367312882065861,
           0.00556653923969675,
           0.022018533023738955,
           0.0056791611735812235,
           0.005011719758424932,
           0.005107790843954723,
           0.004119314962937307,
           0.005478701545157614,
           0.007831161942126685,
           0.013059761709219301
          ],
          "colorscale": [
           [
            0,
            "rgb(12,51,131)"
           ],
           [
            0.25,
            "rgb(10,136,186)"
           ],
           [
            0.5,
            "rgb(242,211,56)"
           ],
           [
            0.75,
            "rgb(242,143,56)"
           ],
           [
            1,
            "rgb(217,30,30)"
           ]
          ],
          "showscale": true,
          "size": 13,
          "sizemode": "diameter",
          "sizeref": 1
         },
         "mode": "markers",
         "text": [
          "height_1",
          "weight_1",
          "bmi",
          "mens_period",
          "mens_cycle",
          "age",
          "upper_body_size",
          "lower_body_size",
          "options_tension",
          "options_stiffness",
          "options_diarrhea",
          "options_insomnia",
          "options_abdominal_obesity",
          "options_swelling",
          "options_cold",
          "exercise_type_walking",
          "exercise_type_running",
          "exercise_type_hiking",
          "exercise_type_bicycle",
          "exercise_type_golf",
          "exercise_type_yoga_pilates",
          "exercise_type_swimming",
          "exercise_type_dance",
          "exercise_type_fitness",
          "thyroid_no",
          "thyroid_hypothyroidism",
          "thyroid_hyperthyroidism",
          "thyroid_cancer",
          "mens_disease_no",
          "mens_disease_pms",
          "mens_disease_fibroids",
          "mens_disease_uterine_adenoma",
          "menarche_age",
          "mens_supplies_pad",
          "mens_supplies_cotton_pad",
          "mens_supplies_tampon",
          "mens_supplies_cup",
          "mens_cramp_peak_before",
          "mens_cramp_peak_first_day",
          "mens_cramp_peak_second_day",
          "mens_cramp_peak_third_day",
          "mens_stress",
          "mens_stress_peak_before",
          "mens_stress_peak_first_day",
          "mens_stress_peak_second_day",
          "mens_stress_peak_third_day",
          "mens_cramp_part_belly",
          "mens_cramp_part_pelvis",
          "mens_cramp_part_waist",
          "mens_cramp_part_below_thigh",
          "mens_cramp_symptoms_swelling",
          "mens_cramp_symptoms_emotion",
          "mens_cramp_symptoms_belly_pain",
          "mens_cramp_symptoms_constipation",
          "mens_cramp_symptoms_lethargy",
          "mens_cramp_symptoms_nervousness",
          "mens_cramp_symptoms_indigestion",
          "mens_cramp_symptoms_gas",
          "mens_cramp_symptoms_diarrhea",
          "mens_cramp_symptoms_digestive_upset",
          "mens_cramp_symptoms_back_pain",
          "mens_cramp_symptoms_chest_pain",
          "mens_cramp_symptoms_increased_appetite",
          "mens_cramp_symptoms_headache",
          "mens_cramp_symptoms_depression",
          "mens_cramp_symptoms_reduced_temperance",
          "mens_cramp_symptoms_migraine",
          "mens_cramp_symptoms_drowsiness",
          "mens_cramp_symptoms_sensitive_temperature",
          "mens_cramp_symptoms_colic",
          "mens_cramp_symptoms_leg_numbness",
          "mens_cramp_symptoms_leg_swelling",
          "mens_cramp_symptoms_voracity",
          "mens_cramp_symptoms_insomnia",
          "mens_cramp_symptoms_anxiety",
          "mens_cramp_symptoms_nausea",
          "mens_cramp_symptoms_decreased_appetite",
          "mens_cramp_symptoms_excessive_sleep",
          "mens_cramp_symptoms_pimple",
          "mens_cramp_symptoms_sickness",
          "mens_cramp_symptoms_exhaustion",
          "mens_cramp_symptoms_breathing_problem",
          "mens_cramp_symptoms_dull_movement",
          "mens_cramp_symptoms_gastrointestinal_disorder",
          "mens_cramp_symptoms_muscle_pain",
          "mens_cramp_symptoms_increased_libido",
          "mens_cramp_symptoms_cold_sweat",
          "mens_cramp_symptoms_dizziness",
          "mens_cramp_symptoms_throw_up",
          "mens_cramp_symptoms_abdominal_swelling",
          "mens_cramp_symptoms_anemia",
          "mens_cramp_symptoms_whirl",
          "mens_cramp_symptoms_joint_pain",
          "mens_cramp_symptoms_sweet",
          "mens_cramp_symptoms_fever",
          "mens_cramp_symptoms_chill",
          "mens_cramp_symptoms_orthostatic_hypotension",
          "mens_cramps_family_mother",
          "mens_cramps_family_older_sister",
          "mens_cramps_family_younger_sister",
          "mens_cramps_family_relatives",
          "mens_cramps_family_no",
          "mens_symptoms_3_ovulation_cramps",
          "mens_symptoms_3_long_cramps",
          "mens_symptoms_3_abnormal",
          "mens_symptoms_3_pressure",
          "mens_symptoms_3_lump",
          "mens_symptoms_3_abdominal_pain",
          "mens_symptoms_3_gas",
          "mens_symptoms_3_pelvis_pain",
          "mens_symptoms_3_long_period",
          "mens_symptoms_3_irregular_blood",
          "mens_symptoms_3_waist_pain",
          "mens_symptoms_3_stressful",
          "mens_symptoms_3_cluster_blood",
          "mens_symptoms_3_diarrhea",
          "mens_symptoms_3_urination",
          "mens_symptoms_3_irregular_blood_amount",
          "mens_symptoms_3_intense_pain",
          "mens_symptoms_3_stomachache",
          "mens_before_after_pattern_toilet",
          "mens_before_after_pattern_app",
          "mens_before_after_pattern_embarrassment",
          "mens_before_after_pattern_sex_nervousness",
          "mens_before_after_pattern_sex_calculate_date",
          "mens_before_after_pattern_sexual_desire",
          "mens_before_after_pattern_accommodation",
          "mens_before_after_pattern_keen",
          "mens_before_after_pattern_cancellation",
          "mens_before_after_pattern_work",
          "mens_before_after_pattern_withstand",
          "mens_before_after_pattern_urgent_cancellation",
          "mens_before_after_pattern_sweet_spicy",
          "mens_before_after_pattern_buy_comfy",
          "mens_before_after_pattern_fancy",
          "mens_before_after_pattern_partying",
          "mens_before_after_pattern_comfy_clothes",
          "mens_before_after_pattern_dark_clothes",
          "mens_before_after_pattern_accessory",
          "mens_before_after_pattern_heavy_makeup",
          "mens_before_after_pattern_deceive",
          "mens_before_after_pattern_help",
          "mens_before_after_pattern_buy_pads",
          "mens_before_after_pattern_borrow_pads",
          "mens_before_after_pattern_bulk_purchase_pads",
          "mens_before_after_pattern_excitement",
          "mens_before_after_pattern_panty_blood",
          "mens_before_after_pattern_throw_out_panty",
          "mens_before_after_pattern_chest_lump",
          "mens_before_after_pattern_weight_changes",
          "mens_before_after_pattern_same_weight",
          "mens_meal",
          "mens_exercise",
          "mens_cramps_level_before_meal_exercise",
          "mens_cramps_level_after_meal_exercise",
          "meal_exercise_effects",
          "meal_exercise_effects_specific_reduced_cramps",
          "meal_exercise_effects_specific_reduced_stress",
          "meal_exercise_effects_specific_reduced_pain",
          "meal_exercise_effects_specific_lose_weight",
          "meal_exercise_effects_specific_gain_weight",
          "meal_exercise_effects_specific_same_weight",
          "meal_exercise_effects_specific_improved_inbody",
          "meal_exercise_effects_specific_same_inbody",
          "meal_exercise_effects_specific_no_pain",
          "meal_exercise_effects_specific_no_pms",
          "meal_exercise_effects_specific_no",
          "weight_3_1",
          "improvements_self_measurement",
          "improvements_plan",
          "improvements_results",
          "improvements_hospital",
          "improvements_1.1",
          "meal_exercise_effects_c",
          "pain_after"
         ],
         "type": "scatter",
         "x": [
          "height_1",
          "weight_1",
          "bmi",
          "mens_period",
          "mens_cycle",
          "age",
          "upper_body_size",
          "lower_body_size",
          "options_tension",
          "options_stiffness",
          "options_diarrhea",
          "options_insomnia",
          "options_abdominal_obesity",
          "options_swelling",
          "options_cold",
          "exercise_type_walking",
          "exercise_type_running",
          "exercise_type_hiking",
          "exercise_type_bicycle",
          "exercise_type_golf",
          "exercise_type_yoga_pilates",
          "exercise_type_swimming",
          "exercise_type_dance",
          "exercise_type_fitness",
          "thyroid_no",
          "thyroid_hypothyroidism",
          "thyroid_hyperthyroidism",
          "thyroid_cancer",
          "mens_disease_no",
          "mens_disease_pms",
          "mens_disease_fibroids",
          "mens_disease_uterine_adenoma",
          "menarche_age",
          "mens_supplies_pad",
          "mens_supplies_cotton_pad",
          "mens_supplies_tampon",
          "mens_supplies_cup",
          "mens_cramp_peak_before",
          "mens_cramp_peak_first_day",
          "mens_cramp_peak_second_day",
          "mens_cramp_peak_third_day",
          "mens_stress",
          "mens_stress_peak_before",
          "mens_stress_peak_first_day",
          "mens_stress_peak_second_day",
          "mens_stress_peak_third_day",
          "mens_cramp_part_belly",
          "mens_cramp_part_pelvis",
          "mens_cramp_part_waist",
          "mens_cramp_part_below_thigh",
          "mens_cramp_symptoms_swelling",
          "mens_cramp_symptoms_emotion",
          "mens_cramp_symptoms_belly_pain",
          "mens_cramp_symptoms_constipation",
          "mens_cramp_symptoms_lethargy",
          "mens_cramp_symptoms_nervousness",
          "mens_cramp_symptoms_indigestion",
          "mens_cramp_symptoms_gas",
          "mens_cramp_symptoms_diarrhea",
          "mens_cramp_symptoms_digestive_upset",
          "mens_cramp_symptoms_back_pain",
          "mens_cramp_symptoms_chest_pain",
          "mens_cramp_symptoms_increased_appetite",
          "mens_cramp_symptoms_headache",
          "mens_cramp_symptoms_depression",
          "mens_cramp_symptoms_reduced_temperance",
          "mens_cramp_symptoms_migraine",
          "mens_cramp_symptoms_drowsiness",
          "mens_cramp_symptoms_sensitive_temperature",
          "mens_cramp_symptoms_colic",
          "mens_cramp_symptoms_leg_numbness",
          "mens_cramp_symptoms_leg_swelling",
          "mens_cramp_symptoms_voracity",
          "mens_cramp_symptoms_insomnia",
          "mens_cramp_symptoms_anxiety",
          "mens_cramp_symptoms_nausea",
          "mens_cramp_symptoms_decreased_appetite",
          "mens_cramp_symptoms_excessive_sleep",
          "mens_cramp_symptoms_pimple",
          "mens_cramp_symptoms_sickness",
          "mens_cramp_symptoms_exhaustion",
          "mens_cramp_symptoms_breathing_problem",
          "mens_cramp_symptoms_dull_movement",
          "mens_cramp_symptoms_gastrointestinal_disorder",
          "mens_cramp_symptoms_muscle_pain",
          "mens_cramp_symptoms_increased_libido",
          "mens_cramp_symptoms_cold_sweat",
          "mens_cramp_symptoms_dizziness",
          "mens_cramp_symptoms_throw_up",
          "mens_cramp_symptoms_abdominal_swelling",
          "mens_cramp_symptoms_anemia",
          "mens_cramp_symptoms_whirl",
          "mens_cramp_symptoms_joint_pain",
          "mens_cramp_symptoms_sweet",
          "mens_cramp_symptoms_fever",
          "mens_cramp_symptoms_chill",
          "mens_cramp_symptoms_orthostatic_hypotension",
          "mens_cramps_family_mother",
          "mens_cramps_family_older_sister",
          "mens_cramps_family_younger_sister",
          "mens_cramps_family_relatives",
          "mens_cramps_family_no",
          "mens_symptoms_3_ovulation_cramps",
          "mens_symptoms_3_long_cramps",
          "mens_symptoms_3_abnormal",
          "mens_symptoms_3_pressure",
          "mens_symptoms_3_lump",
          "mens_symptoms_3_abdominal_pain",
          "mens_symptoms_3_gas",
          "mens_symptoms_3_pelvis_pain",
          "mens_symptoms_3_long_period",
          "mens_symptoms_3_irregular_blood",
          "mens_symptoms_3_waist_pain",
          "mens_symptoms_3_stressful",
          "mens_symptoms_3_cluster_blood",
          "mens_symptoms_3_diarrhea",
          "mens_symptoms_3_urination",
          "mens_symptoms_3_irregular_blood_amount",
          "mens_symptoms_3_intense_pain",
          "mens_symptoms_3_stomachache",
          "mens_before_after_pattern_toilet",
          "mens_before_after_pattern_app",
          "mens_before_after_pattern_embarrassment",
          "mens_before_after_pattern_sex_nervousness",
          "mens_before_after_pattern_sex_calculate_date",
          "mens_before_after_pattern_sexual_desire",
          "mens_before_after_pattern_accommodation",
          "mens_before_after_pattern_keen",
          "mens_before_after_pattern_cancellation",
          "mens_before_after_pattern_work",
          "mens_before_after_pattern_withstand",
          "mens_before_after_pattern_urgent_cancellation",
          "mens_before_after_pattern_sweet_spicy",
          "mens_before_after_pattern_buy_comfy",
          "mens_before_after_pattern_fancy",
          "mens_before_after_pattern_partying",
          "mens_before_after_pattern_comfy_clothes",
          "mens_before_after_pattern_dark_clothes",
          "mens_before_after_pattern_accessory",
          "mens_before_after_pattern_heavy_makeup",
          "mens_before_after_pattern_deceive",
          "mens_before_after_pattern_help",
          "mens_before_after_pattern_buy_pads",
          "mens_before_after_pattern_borrow_pads",
          "mens_before_after_pattern_bulk_purchase_pads",
          "mens_before_after_pattern_excitement",
          "mens_before_after_pattern_panty_blood",
          "mens_before_after_pattern_throw_out_panty",
          "mens_before_after_pattern_chest_lump",
          "mens_before_after_pattern_weight_changes",
          "mens_before_after_pattern_same_weight",
          "mens_meal",
          "mens_exercise",
          "mens_cramps_level_before_meal_exercise",
          "mens_cramps_level_after_meal_exercise",
          "meal_exercise_effects",
          "meal_exercise_effects_specific_reduced_cramps",
          "meal_exercise_effects_specific_reduced_stress",
          "meal_exercise_effects_specific_reduced_pain",
          "meal_exercise_effects_specific_lose_weight",
          "meal_exercise_effects_specific_gain_weight",
          "meal_exercise_effects_specific_same_weight",
          "meal_exercise_effects_specific_improved_inbody",
          "meal_exercise_effects_specific_same_inbody",
          "meal_exercise_effects_specific_no_pain",
          "meal_exercise_effects_specific_no_pms",
          "meal_exercise_effects_specific_no",
          "weight_3_1",
          "improvements_self_measurement",
          "improvements_plan",
          "improvements_results",
          "improvements_hospital",
          "improvements_1.1",
          "meal_exercise_effects_c",
          "pain_after"
         ],
         "y": [
          0.024314232508090956,
          0.022196149222715063,
          0.02613032473750781,
          0.011591779057613865,
          0.014125886405862664,
          0.0231050990279795,
          0.014516486670982714,
          0.020371768808988597,
          0.00692432741548513,
          0.005789013357581714,
          0.0031494883049609894,
          0.003818959799645164,
          0.007041067311655897,
          0.0045020414619427115,
          0.005395793350567434,
          0.0036493816069095254,
          0.004212836153827968,
          0.003802163489673151,
          0.008213576945143984,
          0.00038187074946555903,
          0.007688817526614131,
          0.003768552556886459,
          0.004489260659356429,
          0.004503784313380766,
          0.0008898338251880101,
          0.0026987751068101,
          0.0007359833058787537,
          0.0001743841158121987,
          0.00397448575177679,
          0.005955247537884463,
          0.0012810076628925512,
          0,
          0.013142100661952255,
          0.0010235214616130582,
          0.0018223957286437505,
          0.00447539222018665,
          0.002538335318886481,
          0.0044286185677688055,
          0.006050714513610703,
          0.006145873746469231,
          0.001097161549741486,
          0.035876173785003566,
          0.007703398246834674,
          0.004429888933609068,
          0.005436165806497214,
          0.0011563585730706997,
          0.0033635112379429774,
          0.0044815112814509716,
          0.006182823128507168,
          0.0023049697354613815,
          0.004402213473208316,
          0.005939952627610043,
          0.002525981475911448,
          0.00423330433244463,
          0.007341685408363284,
          0.0032461928431355954,
          0.004443746677856734,
          0.005686265613986271,
          0.006512451498275803,
          0.0020440684850605664,
          0.0038779984903842117,
          0.004425975604223217,
          0.004922046242210441,
          0.004028909261502929,
          0.0031478835816642265,
          0.00876656869106513,
          0.0031860153859362165,
          0.0032710000621479145,
          0.004203774842299296,
          0.006093622399365365,
          0.003407182081345414,
          0.005436254450645875,
          0.00484194524606894,
          0.003946606448942537,
          0.0024483890627541574,
          0.0033990200035892023,
          0.0027860595879876946,
          0.0038002954677289072,
          0.004201134961065277,
          0.003516460844960215,
          0.006156687407648123,
          0.0010353650646840607,
          0.003339526742899683,
          0.002828233016656021,
          0.0026217245454121085,
          0.005136100442240608,
          0.0033938023025062354,
          0.0011081179697313614,
          0.0018001267414166973,
          0.0040169016760622615,
          0.0023162357120651337,
          0.003570321366673071,
          0.0038169280033565757,
          0.0043691831424230426,
          0.003118806331040407,
          0.0021449526459426326,
          0.003482333552874695,
          0.003600808659567534,
          0.0029464540898067096,
          0.0024516934858812528,
          0.007037903115429335,
          0.008417699247995597,
          0.009514526014374679,
          0.002868877202226896,
          0.006517596077579083,
          0.007040006218542104,
          0.0029511799862357055,
          0.004405861122534597,
          0.006071487315391108,
          0.0061909852480839704,
          0.0024604920463395024,
          0.003784715040695171,
          0.0022048163994628917,
          0.004050232414182857,
          0.005156960608144114,
          0.004513650748593146,
          0.004114831741554501,
          0.005916916918366795,
          0.003254680353088308,
          0.0031160901437162656,
          0.004234124461216454,
          0.004562852841663592,
          0.004276945837362378,
          0.00250512223785344,
          0.003405195580329431,
          0.004456626009887265,
          0.0023442577363128555,
          0.004877484852677905,
          0.004060191432079969,
          0.00368846552604471,
          0.005061999256740236,
          0.0035859892931830507,
          0,
          0.003139659788376297,
          0.002586841664275628,
          0.001243477539760405,
          0.0048376633000941915,
          0.005098552190156014,
          8.714881275922585e-05,
          8.13698157341873e-05,
          0.0045339189422209025,
          0.006117119853483809,
          0.004972127589762169,
          0.006081013585226785,
          0.005719767596859842,
          0.004356024416255525,
          0.004508326188129838,
          0.003725802003783413,
          0.005106197156369853,
          0.004874313129234862,
          0.004651465270319194,
          0.009872777464243856,
          0.012796758611453197,
          0.04912677134340876,
          0.0284044178078827,
          0.009191296077756475,
          0.005529489857520674,
          0.0068591622732347484,
          0.0038043969809065693,
          0.005140195589728295,
          0.0018665720078213915,
          0.0032654474783426206,
          0.0036474476878067446,
          0.0013922921388539971,
          0.004104824432487141,
          0.008367312882065861,
          0.00556653923969675,
          0.022018533023738955,
          0.0056791611735812235,
          0.005011719758424932,
          0.005107790843954723,
          0.004119314962937307,
          0.005478701545157614,
          0.007831161942126685,
          0.013059761709219301
         ]
        }
       ],
       "layout": {
        "autosize": true,
        "hovermode": "closest",
        "showlegend": false,
        "template": {
         "data": {
          "bar": [
           {
            "error_x": {
             "color": "#2a3f5f"
            },
            "error_y": {
             "color": "#2a3f5f"
            },
            "marker": {
             "line": {
              "color": "#E5ECF6",
              "width": 0.5
             },
             "pattern": {
              "fillmode": "overlay",
              "size": 10,
              "solidity": 0.2
             }
            },
            "type": "bar"
           }
          ],
          "barpolar": [
           {
            "marker": {
             "line": {
              "color": "#E5ECF6",
              "width": 0.5
             },
             "pattern": {
              "fillmode": "overlay",
              "size": 10,
              "solidity": 0.2
             }
            },
            "type": "barpolar"
           }
          ],
          "carpet": [
           {
            "aaxis": {
             "endlinecolor": "#2a3f5f",
             "gridcolor": "white",
             "linecolor": "white",
             "minorgridcolor": "white",
             "startlinecolor": "#2a3f5f"
            },
            "baxis": {
             "endlinecolor": "#2a3f5f",
             "gridcolor": "white",
             "linecolor": "white",
             "minorgridcolor": "white",
             "startlinecolor": "#2a3f5f"
            },
            "type": "carpet"
           }
          ],
          "choropleth": [
           {
            "colorbar": {
             "outlinewidth": 0,
             "ticks": ""
            },
            "type": "choropleth"
           }
          ],
          "contour": [
           {
            "colorbar": {
             "outlinewidth": 0,
             "ticks": ""
            },
            "colorscale": [
             [
              0,
              "#0d0887"
             ],
             [
              0.1111111111111111,
              "#46039f"
             ],
             [
              0.2222222222222222,
              "#7201a8"
             ],
             [
              0.3333333333333333,
              "#9c179e"
             ],
             [
              0.4444444444444444,
              "#bd3786"
             ],
             [
              0.5555555555555556,
              "#d8576b"
             ],
             [
              0.6666666666666666,
              "#ed7953"
             ],
             [
              0.7777777777777778,
              "#fb9f3a"
             ],
             [
              0.8888888888888888,
              "#fdca26"
             ],
             [
              1,
              "#f0f921"
             ]
            ],
            "type": "contour"
           }
          ],
          "contourcarpet": [
           {
            "colorbar": {
             "outlinewidth": 0,
             "ticks": ""
            },
            "type": "contourcarpet"
           }
          ],
          "heatmap": [
           {
            "colorbar": {
             "outlinewidth": 0,
             "ticks": ""
            },
            "colorscale": [
             [
              0,
              "#0d0887"
             ],
             [
              0.1111111111111111,
              "#46039f"
             ],
             [
              0.2222222222222222,
              "#7201a8"
             ],
             [
              0.3333333333333333,
              "#9c179e"
             ],
             [
              0.4444444444444444,
              "#bd3786"
             ],
             [
              0.5555555555555556,
              "#d8576b"
             ],
             [
              0.6666666666666666,
              "#ed7953"
             ],
             [
              0.7777777777777778,
              "#fb9f3a"
             ],
             [
              0.8888888888888888,
              "#fdca26"
             ],
             [
              1,
              "#f0f921"
             ]
            ],
            "type": "heatmap"
           }
          ],
          "heatmapgl": [
           {
            "colorbar": {
             "outlinewidth": 0,
             "ticks": ""
            },
            "colorscale": [
             [
              0,
              "#0d0887"
             ],
             [
              0.1111111111111111,
              "#46039f"
             ],
             [
              0.2222222222222222,
              "#7201a8"
             ],
             [
              0.3333333333333333,
              "#9c179e"
             ],
             [
              0.4444444444444444,
              "#bd3786"
             ],
             [
              0.5555555555555556,
              "#d8576b"
             ],
             [
              0.6666666666666666,
              "#ed7953"
             ],
             [
              0.7777777777777778,
              "#fb9f3a"
             ],
             [
              0.8888888888888888,
              "#fdca26"
             ],
             [
              1,
              "#f0f921"
             ]
            ],
            "type": "heatmapgl"
           }
          ],
          "histogram": [
           {
            "marker": {
             "pattern": {
              "fillmode": "overlay",
              "size": 10,
              "solidity": 0.2
             }
            },
            "type": "histogram"
           }
          ],
          "histogram2d": [
           {
            "colorbar": {
             "outlinewidth": 0,
             "ticks": ""
            },
            "colorscale": [
             [
              0,
              "#0d0887"
             ],
             [
              0.1111111111111111,
              "#46039f"
             ],
             [
              0.2222222222222222,
              "#7201a8"
             ],
             [
              0.3333333333333333,
              "#9c179e"
             ],
             [
              0.4444444444444444,
              "#bd3786"
             ],
             [
              0.5555555555555556,
              "#d8576b"
             ],
             [
              0.6666666666666666,
              "#ed7953"
             ],
             [
              0.7777777777777778,
              "#fb9f3a"
             ],
             [
              0.8888888888888888,
              "#fdca26"
             ],
             [
              1,
              "#f0f921"
             ]
            ],
            "type": "histogram2d"
           }
          ],
          "histogram2dcontour": [
           {
            "colorbar": {
             "outlinewidth": 0,
             "ticks": ""
            },
            "colorscale": [
             [
              0,
              "#0d0887"
             ],
             [
              0.1111111111111111,
              "#46039f"
             ],
             [
              0.2222222222222222,
              "#7201a8"
             ],
             [
              0.3333333333333333,
              "#9c179e"
             ],
             [
              0.4444444444444444,
              "#bd3786"
             ],
             [
              0.5555555555555556,
              "#d8576b"
             ],
             [
              0.6666666666666666,
              "#ed7953"
             ],
             [
              0.7777777777777778,
              "#fb9f3a"
             ],
             [
              0.8888888888888888,
              "#fdca26"
             ],
             [
              1,
              "#f0f921"
             ]
            ],
            "type": "histogram2dcontour"
           }
          ],
          "mesh3d": [
           {
            "colorbar": {
             "outlinewidth": 0,
             "ticks": ""
            },
            "type": "mesh3d"
           }
          ],
          "parcoords": [
           {
            "line": {
             "colorbar": {
              "outlinewidth": 0,
              "ticks": ""
             }
            },
            "type": "parcoords"
           }
          ],
          "pie": [
           {
            "automargin": true,
            "type": "pie"
           }
          ],
          "scatter": [
           {
            "marker": {
             "colorbar": {
              "outlinewidth": 0,
              "ticks": ""
             }
            },
            "type": "scatter"
           }
          ],
          "scatter3d": [
           {
            "line": {
             "colorbar": {
              "outlinewidth": 0,
              "ticks": ""
             }
            },
            "marker": {
             "colorbar": {
              "outlinewidth": 0,
              "ticks": ""
             }
            },
            "type": "scatter3d"
           }
          ],
          "scattercarpet": [
           {
            "marker": {
             "colorbar": {
              "outlinewidth": 0,
              "ticks": ""
             }
            },
            "type": "scattercarpet"
           }
          ],
          "scattergeo": [
           {
            "marker": {
             "colorbar": {
              "outlinewidth": 0,
              "ticks": ""
             }
            },
            "type": "scattergeo"
           }
          ],
          "scattergl": [
           {
            "marker": {
             "colorbar": {
              "outlinewidth": 0,
              "ticks": ""
             }
            },
            "type": "scattergl"
           }
          ],
          "scattermapbox": [
           {
            "marker": {
             "colorbar": {
              "outlinewidth": 0,
              "ticks": ""
             }
            },
            "type": "scattermapbox"
           }
          ],
          "scatterpolar": [
           {
            "marker": {
             "colorbar": {
              "outlinewidth": 0,
              "ticks": ""
             }
            },
            "type": "scatterpolar"
           }
          ],
          "scatterpolargl": [
           {
            "marker": {
             "colorbar": {
              "outlinewidth": 0,
              "ticks": ""
             }
            },
            "type": "scatterpolargl"
           }
          ],
          "scatterternary": [
           {
            "marker": {
             "colorbar": {
              "outlinewidth": 0,
              "ticks": ""
             }
            },
            "type": "scatterternary"
           }
          ],
          "surface": [
           {
            "colorbar": {
             "outlinewidth": 0,
             "ticks": ""
            },
            "colorscale": [
             [
              0,
              "#0d0887"
             ],
             [
              0.1111111111111111,
              "#46039f"
             ],
             [
              0.2222222222222222,
              "#7201a8"
             ],
             [
              0.3333333333333333,
              "#9c179e"
             ],
             [
              0.4444444444444444,
              "#bd3786"
             ],
             [
              0.5555555555555556,
              "#d8576b"
             ],
             [
              0.6666666666666666,
              "#ed7953"
             ],
             [
              0.7777777777777778,
              "#fb9f3a"
             ],
             [
              0.8888888888888888,
              "#fdca26"
             ],
             [
              1,
              "#f0f921"
             ]
            ],
            "type": "surface"
           }
          ],
          "table": [
           {
            "cells": {
             "fill": {
              "color": "#EBF0F8"
             },
             "line": {
              "color": "white"
             }
            },
            "header": {
             "fill": {
              "color": "#C8D4E3"
             },
             "line": {
              "color": "white"
             }
            },
            "type": "table"
           }
          ]
         },
         "layout": {
          "annotationdefaults": {
           "arrowcolor": "#2a3f5f",
           "arrowhead": 0,
           "arrowwidth": 1
          },
          "autotypenumbers": "strict",
          "coloraxis": {
           "colorbar": {
            "outlinewidth": 0,
            "ticks": ""
           }
          },
          "colorscale": {
           "diverging": [
            [
             0,
             "#8e0152"
            ],
            [
             0.1,
             "#c51b7d"
            ],
            [
             0.2,
             "#de77ae"
            ],
            [
             0.3,
             "#f1b6da"
            ],
            [
             0.4,
             "#fde0ef"
            ],
            [
             0.5,
             "#f7f7f7"
            ],
            [
             0.6,
             "#e6f5d0"
            ],
            [
             0.7,
             "#b8e186"
            ],
            [
             0.8,
             "#7fbc41"
            ],
            [
             0.9,
             "#4d9221"
            ],
            [
             1,
             "#276419"
            ]
           ],
           "sequential": [
            [
             0,
             "#0d0887"
            ],
            [
             0.1111111111111111,
             "#46039f"
            ],
            [
             0.2222222222222222,
             "#7201a8"
            ],
            [
             0.3333333333333333,
             "#9c179e"
            ],
            [
             0.4444444444444444,
             "#bd3786"
            ],
            [
             0.5555555555555556,
             "#d8576b"
            ],
            [
             0.6666666666666666,
             "#ed7953"
            ],
            [
             0.7777777777777778,
             "#fb9f3a"
            ],
            [
             0.8888888888888888,
             "#fdca26"
            ],
            [
             1,
             "#f0f921"
            ]
           ],
           "sequentialminus": [
            [
             0,
             "#0d0887"
            ],
            [
             0.1111111111111111,
             "#46039f"
            ],
            [
             0.2222222222222222,
             "#7201a8"
            ],
            [
             0.3333333333333333,
             "#9c179e"
            ],
            [
             0.4444444444444444,
             "#bd3786"
            ],
            [
             0.5555555555555556,
             "#d8576b"
            ],
            [
             0.6666666666666666,
             "#ed7953"
            ],
            [
             0.7777777777777778,
             "#fb9f3a"
            ],
            [
             0.8888888888888888,
             "#fdca26"
            ],
            [
             1,
             "#f0f921"
            ]
           ]
          },
          "colorway": [
           "#636efa",
           "#EF553B",
           "#00cc96",
           "#ab63fa",
           "#FFA15A",
           "#19d3f3",
           "#FF6692",
           "#B6E880",
           "#FF97FF",
           "#FECB52"
          ],
          "font": {
           "color": "#2a3f5f"
          },
          "geo": {
           "bgcolor": "white",
           "lakecolor": "white",
           "landcolor": "#E5ECF6",
           "showlakes": true,
           "showland": true,
           "subunitcolor": "white"
          },
          "hoverlabel": {
           "align": "left"
          },
          "hovermode": "closest",
          "mapbox": {
           "style": "light"
          },
          "paper_bgcolor": "white",
          "plot_bgcolor": "#E5ECF6",
          "polar": {
           "angularaxis": {
            "gridcolor": "white",
            "linecolor": "white",
            "ticks": ""
           },
           "bgcolor": "#E5ECF6",
           "radialaxis": {
            "gridcolor": "white",
            "linecolor": "white",
            "ticks": ""
           }
          },
          "scene": {
           "xaxis": {
            "backgroundcolor": "#E5ECF6",
            "gridcolor": "white",
            "gridwidth": 2,
            "linecolor": "white",
            "showbackground": true,
            "ticks": "",
            "zerolinecolor": "white"
           },
           "yaxis": {
            "backgroundcolor": "#E5ECF6",
            "gridcolor": "white",
            "gridwidth": 2,
            "linecolor": "white",
            "showbackground": true,
            "ticks": "",
            "zerolinecolor": "white"
           },
           "zaxis": {
            "backgroundcolor": "#E5ECF6",
            "gridcolor": "white",
            "gridwidth": 2,
            "linecolor": "white",
            "showbackground": true,
            "ticks": "",
            "zerolinecolor": "white"
           }
          },
          "shapedefaults": {
           "line": {
            "color": "#2a3f5f"
           }
          },
          "ternary": {
           "aaxis": {
            "gridcolor": "white",
            "linecolor": "white",
            "ticks": ""
           },
           "baxis": {
            "gridcolor": "white",
            "linecolor": "white",
            "ticks": ""
           },
           "bgcolor": "#E5ECF6",
           "caxis": {
            "gridcolor": "white",
            "linecolor": "white",
            "ticks": ""
           }
          },
          "title": {
           "x": 0.05
          },
          "xaxis": {
           "automargin": true,
           "gridcolor": "white",
           "linecolor": "white",
           "ticks": "",
           "title": {
            "standoff": 15
           },
           "zerolinecolor": "white",
           "zerolinewidth": 2
          },
          "yaxis": {
           "automargin": true,
           "gridcolor": "white",
           "linecolor": "white",
           "ticks": "",
           "title": {
            "standoff": 15
           },
           "zerolinecolor": "white",
           "zerolinewidth": 2
          }
         }
        },
        "title": {
         "text": "Random Forest Feature Importance"
        },
        "xaxis": {
         "showgrid": false,
         "showline": false,
         "ticklen": 5,
         "zeroline": false
        },
        "yaxis": {
         "gridwidth": 2,
         "showgrid": false,
         "ticklen": 5,
         "title": {
          "text": "Feature Importance"
         },
         "zeroline": false
        }
       }
      },
      "text/html": [
       "<div>                            <div id=\"f9466ad5-597e-49cd-be65-73fd4a8c4be1\" class=\"plotly-graph-div\" style=\"height:525px; width:100%;\"></div>            <script type=\"text/javascript\">                require([\"plotly\"], function(Plotly) {                    window.PLOTLYENV=window.PLOTLYENV || {};                                    if (document.getElementById(\"f9466ad5-597e-49cd-be65-73fd4a8c4be1\")) {                    Plotly.newPlot(                        \"f9466ad5-597e-49cd-be65-73fd4a8c4be1\",                        [{\"marker\":{\"color\":[0.024314232508090956,0.022196149222715063,0.02613032473750781,0.011591779057613865,0.014125886405862664,0.0231050990279795,0.014516486670982714,0.020371768808988597,0.00692432741548513,0.005789013357581714,0.0031494883049609894,0.003818959799645164,0.007041067311655897,0.0045020414619427115,0.005395793350567434,0.0036493816069095254,0.004212836153827968,0.003802163489673151,0.008213576945143984,0.00038187074946555903,0.007688817526614131,0.003768552556886459,0.004489260659356429,0.004503784313380766,0.0008898338251880101,0.0026987751068101,0.0007359833058787537,0.0001743841158121987,0.00397448575177679,0.005955247537884463,0.0012810076628925512,0.0,0.013142100661952255,0.0010235214616130582,0.0018223957286437505,0.00447539222018665,0.002538335318886481,0.0044286185677688055,0.006050714513610703,0.006145873746469231,0.001097161549741486,0.035876173785003566,0.007703398246834674,0.004429888933609068,0.005436165806497214,0.0011563585730706997,0.0033635112379429774,0.0044815112814509716,0.006182823128507168,0.0023049697354613815,0.004402213473208316,0.005939952627610043,0.002525981475911448,0.00423330433244463,0.007341685408363284,0.0032461928431355954,0.004443746677856734,0.005686265613986271,0.006512451498275803,0.0020440684850605664,0.0038779984903842117,0.004425975604223217,0.004922046242210441,0.004028909261502929,0.0031478835816642265,0.00876656869106513,0.0031860153859362165,0.0032710000621479145,0.004203774842299296,0.006093622399365365,0.003407182081345414,0.005436254450645875,0.00484194524606894,0.003946606448942537,0.0024483890627541574,0.0033990200035892023,0.0027860595879876946,0.0038002954677289072,0.004201134961065277,0.003516460844960215,0.006156687407648123,0.0010353650646840607,0.003339526742899683,0.002828233016656021,0.0026217245454121085,0.005136100442240608,0.0033938023025062354,0.0011081179697313614,0.0018001267414166973,0.0040169016760622615,0.0023162357120651337,0.003570321366673071,0.0038169280033565757,0.0043691831424230426,0.003118806331040407,0.0021449526459426326,0.003482333552874695,0.003600808659567534,0.0029464540898067096,0.0024516934858812528,0.007037903115429335,0.008417699247995597,0.009514526014374679,0.002868877202226896,0.006517596077579083,0.007040006218542104,0.0029511799862357055,0.004405861122534597,0.006071487315391108,0.0061909852480839704,0.0024604920463395024,0.003784715040695171,0.0022048163994628917,0.004050232414182857,0.005156960608144114,0.004513650748593146,0.004114831741554501,0.005916916918366795,0.003254680353088308,0.0031160901437162656,0.004234124461216454,0.004562852841663592,0.004276945837362378,0.00250512223785344,0.003405195580329431,0.004456626009887265,0.0023442577363128555,0.004877484852677905,0.004060191432079969,0.00368846552604471,0.005061999256740236,0.0035859892931830507,0.0,0.003139659788376297,0.002586841664275628,0.001243477539760405,0.0048376633000941915,0.005098552190156014,8.714881275922585e-05,8.13698157341873e-05,0.0045339189422209025,0.006117119853483809,0.004972127589762169,0.006081013585226785,0.005719767596859842,0.004356024416255525,0.004508326188129838,0.003725802003783413,0.005106197156369853,0.004874313129234862,0.004651465270319194,0.009872777464243856,0.012796758611453197,0.04912677134340876,0.0284044178078827,0.009191296077756475,0.005529489857520674,0.0068591622732347484,0.0038043969809065693,0.005140195589728295,0.0018665720078213915,0.0032654474783426206,0.0036474476878067446,0.0013922921388539971,0.004104824432487141,0.008367312882065861,0.00556653923969675,0.022018533023738955,0.0056791611735812235,0.005011719758424932,0.005107790843954723,0.004119314962937307,0.005478701545157614,0.007831161942126685,0.013059761709219301],\"colorscale\":[[0.0,\"rgb(12,51,131)\"],[0.25,\"rgb(10,136,186)\"],[0.5,\"rgb(242,211,56)\"],[0.75,\"rgb(242,143,56)\"],[1.0,\"rgb(217,30,30)\"]],\"showscale\":true,\"size\":13,\"sizemode\":\"diameter\",\"sizeref\":1},\"mode\":\"markers\",\"text\":[\"height_1\",\"weight_1\",\"bmi\",\"mens_period\",\"mens_cycle\",\"age\",\"upper_body_size\",\"lower_body_size\",\"options_tension\",\"options_stiffness\",\"options_diarrhea\",\"options_insomnia\",\"options_abdominal_obesity\",\"options_swelling\",\"options_cold\",\"exercise_type_walking\",\"exercise_type_running\",\"exercise_type_hiking\",\"exercise_type_bicycle\",\"exercise_type_golf\",\"exercise_type_yoga_pilates\",\"exercise_type_swimming\",\"exercise_type_dance\",\"exercise_type_fitness\",\"thyroid_no\",\"thyroid_hypothyroidism\",\"thyroid_hyperthyroidism\",\"thyroid_cancer\",\"mens_disease_no\",\"mens_disease_pms\",\"mens_disease_fibroids\",\"mens_disease_uterine_adenoma\",\"menarche_age\",\"mens_supplies_pad\",\"mens_supplies_cotton_pad\",\"mens_supplies_tampon\",\"mens_supplies_cup\",\"mens_cramp_peak_before\",\"mens_cramp_peak_first_day\",\"mens_cramp_peak_second_day\",\"mens_cramp_peak_third_day\",\"mens_stress\",\"mens_stress_peak_before\",\"mens_stress_peak_first_day\",\"mens_stress_peak_second_day\",\"mens_stress_peak_third_day\",\"mens_cramp_part_belly\",\"mens_cramp_part_pelvis\",\"mens_cramp_part_waist\",\"mens_cramp_part_below_thigh\",\"mens_cramp_symptoms_swelling\",\"mens_cramp_symptoms_emotion\",\"mens_cramp_symptoms_belly_pain\",\"mens_cramp_symptoms_constipation\",\"mens_cramp_symptoms_lethargy\",\"mens_cramp_symptoms_nervousness\",\"mens_cramp_symptoms_indigestion\",\"mens_cramp_symptoms_gas\",\"mens_cramp_symptoms_diarrhea\",\"mens_cramp_symptoms_digestive_upset\",\"mens_cramp_symptoms_back_pain\",\"mens_cramp_symptoms_chest_pain\",\"mens_cramp_symptoms_increased_appetite\",\"mens_cramp_symptoms_headache\",\"mens_cramp_symptoms_depression\",\"mens_cramp_symptoms_reduced_temperance\",\"mens_cramp_symptoms_migraine\",\"mens_cramp_symptoms_drowsiness\",\"mens_cramp_symptoms_sensitive_temperature\",\"mens_cramp_symptoms_colic\",\"mens_cramp_symptoms_leg_numbness\",\"mens_cramp_symptoms_leg_swelling\",\"mens_cramp_symptoms_voracity\",\"mens_cramp_symptoms_insomnia\",\"mens_cramp_symptoms_anxiety\",\"mens_cramp_symptoms_nausea\",\"mens_cramp_symptoms_decreased_appetite\",\"mens_cramp_symptoms_excessive_sleep\",\"mens_cramp_symptoms_pimple\",\"mens_cramp_symptoms_sickness\",\"mens_cramp_symptoms_exhaustion\",\"mens_cramp_symptoms_breathing_problem\",\"mens_cramp_symptoms_dull_movement\",\"mens_cramp_symptoms_gastrointestinal_disorder\",\"mens_cramp_symptoms_muscle_pain\",\"mens_cramp_symptoms_increased_libido\",\"mens_cramp_symptoms_cold_sweat\",\"mens_cramp_symptoms_dizziness\",\"mens_cramp_symptoms_throw_up\",\"mens_cramp_symptoms_abdominal_swelling\",\"mens_cramp_symptoms_anemia\",\"mens_cramp_symptoms_whirl\",\"mens_cramp_symptoms_joint_pain\",\"mens_cramp_symptoms_sweet\",\"mens_cramp_symptoms_fever\",\"mens_cramp_symptoms_chill\",\"mens_cramp_symptoms_orthostatic_hypotension\",\"mens_cramps_family_mother\",\"mens_cramps_family_older_sister\",\"mens_cramps_family_younger_sister\",\"mens_cramps_family_relatives\",\"mens_cramps_family_no\",\"mens_symptoms_3_ovulation_cramps\",\"mens_symptoms_3_long_cramps\",\"mens_symptoms_3_abnormal\",\"mens_symptoms_3_pressure\",\"mens_symptoms_3_lump\",\"mens_symptoms_3_abdominal_pain\",\"mens_symptoms_3_gas\",\"mens_symptoms_3_pelvis_pain\",\"mens_symptoms_3_long_period\",\"mens_symptoms_3_irregular_blood\",\"mens_symptoms_3_waist_pain\",\"mens_symptoms_3_stressful\",\"mens_symptoms_3_cluster_blood\",\"mens_symptoms_3_diarrhea\",\"mens_symptoms_3_urination\",\"mens_symptoms_3_irregular_blood_amount\",\"mens_symptoms_3_intense_pain\",\"mens_symptoms_3_stomachache\",\"mens_before_after_pattern_toilet\",\"mens_before_after_pattern_app\",\"mens_before_after_pattern_embarrassment\",\"mens_before_after_pattern_sex_nervousness\",\"mens_before_after_pattern_sex_calculate_date\",\"mens_before_after_pattern_sexual_desire\",\"mens_before_after_pattern_accommodation\",\"mens_before_after_pattern_keen\",\"mens_before_after_pattern_cancellation\",\"mens_before_after_pattern_work\",\"mens_before_after_pattern_withstand\",\"mens_before_after_pattern_urgent_cancellation\",\"mens_before_after_pattern_sweet_spicy\",\"mens_before_after_pattern_buy_comfy\",\"mens_before_after_pattern_fancy\",\"mens_before_after_pattern_partying\",\"mens_before_after_pattern_comfy_clothes\",\"mens_before_after_pattern_dark_clothes\",\"mens_before_after_pattern_accessory\",\"mens_before_after_pattern_heavy_makeup\",\"mens_before_after_pattern_deceive\",\"mens_before_after_pattern_help\",\"mens_before_after_pattern_buy_pads\",\"mens_before_after_pattern_borrow_pads\",\"mens_before_after_pattern_bulk_purchase_pads\",\"mens_before_after_pattern_excitement\",\"mens_before_after_pattern_panty_blood\",\"mens_before_after_pattern_throw_out_panty\",\"mens_before_after_pattern_chest_lump\",\"mens_before_after_pattern_weight_changes\",\"mens_before_after_pattern_same_weight\",\"mens_meal\",\"mens_exercise\",\"mens_cramps_level_before_meal_exercise\",\"mens_cramps_level_after_meal_exercise\",\"meal_exercise_effects\",\"meal_exercise_effects_specific_reduced_cramps\",\"meal_exercise_effects_specific_reduced_stress\",\"meal_exercise_effects_specific_reduced_pain\",\"meal_exercise_effects_specific_lose_weight\",\"meal_exercise_effects_specific_gain_weight\",\"meal_exercise_effects_specific_same_weight\",\"meal_exercise_effects_specific_improved_inbody\",\"meal_exercise_effects_specific_same_inbody\",\"meal_exercise_effects_specific_no_pain\",\"meal_exercise_effects_specific_no_pms\",\"meal_exercise_effects_specific_no\",\"weight_3_1\",\"improvements_self_measurement\",\"improvements_plan\",\"improvements_results\",\"improvements_hospital\",\"improvements_1.1\",\"meal_exercise_effects_c\",\"pain_after\"],\"type\":\"scatter\",\"x\":[\"height_1\",\"weight_1\",\"bmi\",\"mens_period\",\"mens_cycle\",\"age\",\"upper_body_size\",\"lower_body_size\",\"options_tension\",\"options_stiffness\",\"options_diarrhea\",\"options_insomnia\",\"options_abdominal_obesity\",\"options_swelling\",\"options_cold\",\"exercise_type_walking\",\"exercise_type_running\",\"exercise_type_hiking\",\"exercise_type_bicycle\",\"exercise_type_golf\",\"exercise_type_yoga_pilates\",\"exercise_type_swimming\",\"exercise_type_dance\",\"exercise_type_fitness\",\"thyroid_no\",\"thyroid_hypothyroidism\",\"thyroid_hyperthyroidism\",\"thyroid_cancer\",\"mens_disease_no\",\"mens_disease_pms\",\"mens_disease_fibroids\",\"mens_disease_uterine_adenoma\",\"menarche_age\",\"mens_supplies_pad\",\"mens_supplies_cotton_pad\",\"mens_supplies_tampon\",\"mens_supplies_cup\",\"mens_cramp_peak_before\",\"mens_cramp_peak_first_day\",\"mens_cramp_peak_second_day\",\"mens_cramp_peak_third_day\",\"mens_stress\",\"mens_stress_peak_before\",\"mens_stress_peak_first_day\",\"mens_stress_peak_second_day\",\"mens_stress_peak_third_day\",\"mens_cramp_part_belly\",\"mens_cramp_part_pelvis\",\"mens_cramp_part_waist\",\"mens_cramp_part_below_thigh\",\"mens_cramp_symptoms_swelling\",\"mens_cramp_symptoms_emotion\",\"mens_cramp_symptoms_belly_pain\",\"mens_cramp_symptoms_constipation\",\"mens_cramp_symptoms_lethargy\",\"mens_cramp_symptoms_nervousness\",\"mens_cramp_symptoms_indigestion\",\"mens_cramp_symptoms_gas\",\"mens_cramp_symptoms_diarrhea\",\"mens_cramp_symptoms_digestive_upset\",\"mens_cramp_symptoms_back_pain\",\"mens_cramp_symptoms_chest_pain\",\"mens_cramp_symptoms_increased_appetite\",\"mens_cramp_symptoms_headache\",\"mens_cramp_symptoms_depression\",\"mens_cramp_symptoms_reduced_temperance\",\"mens_cramp_symptoms_migraine\",\"mens_cramp_symptoms_drowsiness\",\"mens_cramp_symptoms_sensitive_temperature\",\"mens_cramp_symptoms_colic\",\"mens_cramp_symptoms_leg_numbness\",\"mens_cramp_symptoms_leg_swelling\",\"mens_cramp_symptoms_voracity\",\"mens_cramp_symptoms_insomnia\",\"mens_cramp_symptoms_anxiety\",\"mens_cramp_symptoms_nausea\",\"mens_cramp_symptoms_decreased_appetite\",\"mens_cramp_symptoms_excessive_sleep\",\"mens_cramp_symptoms_pimple\",\"mens_cramp_symptoms_sickness\",\"mens_cramp_symptoms_exhaustion\",\"mens_cramp_symptoms_breathing_problem\",\"mens_cramp_symptoms_dull_movement\",\"mens_cramp_symptoms_gastrointestinal_disorder\",\"mens_cramp_symptoms_muscle_pain\",\"mens_cramp_symptoms_increased_libido\",\"mens_cramp_symptoms_cold_sweat\",\"mens_cramp_symptoms_dizziness\",\"mens_cramp_symptoms_throw_up\",\"mens_cramp_symptoms_abdominal_swelling\",\"mens_cramp_symptoms_anemia\",\"mens_cramp_symptoms_whirl\",\"mens_cramp_symptoms_joint_pain\",\"mens_cramp_symptoms_sweet\",\"mens_cramp_symptoms_fever\",\"mens_cramp_symptoms_chill\",\"mens_cramp_symptoms_orthostatic_hypotension\",\"mens_cramps_family_mother\",\"mens_cramps_family_older_sister\",\"mens_cramps_family_younger_sister\",\"mens_cramps_family_relatives\",\"mens_cramps_family_no\",\"mens_symptoms_3_ovulation_cramps\",\"mens_symptoms_3_long_cramps\",\"mens_symptoms_3_abnormal\",\"mens_symptoms_3_pressure\",\"mens_symptoms_3_lump\",\"mens_symptoms_3_abdominal_pain\",\"mens_symptoms_3_gas\",\"mens_symptoms_3_pelvis_pain\",\"mens_symptoms_3_long_period\",\"mens_symptoms_3_irregular_blood\",\"mens_symptoms_3_waist_pain\",\"mens_symptoms_3_stressful\",\"mens_symptoms_3_cluster_blood\",\"mens_symptoms_3_diarrhea\",\"mens_symptoms_3_urination\",\"mens_symptoms_3_irregular_blood_amount\",\"mens_symptoms_3_intense_pain\",\"mens_symptoms_3_stomachache\",\"mens_before_after_pattern_toilet\",\"mens_before_after_pattern_app\",\"mens_before_after_pattern_embarrassment\",\"mens_before_after_pattern_sex_nervousness\",\"mens_before_after_pattern_sex_calculate_date\",\"mens_before_after_pattern_sexual_desire\",\"mens_before_after_pattern_accommodation\",\"mens_before_after_pattern_keen\",\"mens_before_after_pattern_cancellation\",\"mens_before_after_pattern_work\",\"mens_before_after_pattern_withstand\",\"mens_before_after_pattern_urgent_cancellation\",\"mens_before_after_pattern_sweet_spicy\",\"mens_before_after_pattern_buy_comfy\",\"mens_before_after_pattern_fancy\",\"mens_before_after_pattern_partying\",\"mens_before_after_pattern_comfy_clothes\",\"mens_before_after_pattern_dark_clothes\",\"mens_before_after_pattern_accessory\",\"mens_before_after_pattern_heavy_makeup\",\"mens_before_after_pattern_deceive\",\"mens_before_after_pattern_help\",\"mens_before_after_pattern_buy_pads\",\"mens_before_after_pattern_borrow_pads\",\"mens_before_after_pattern_bulk_purchase_pads\",\"mens_before_after_pattern_excitement\",\"mens_before_after_pattern_panty_blood\",\"mens_before_after_pattern_throw_out_panty\",\"mens_before_after_pattern_chest_lump\",\"mens_before_after_pattern_weight_changes\",\"mens_before_after_pattern_same_weight\",\"mens_meal\",\"mens_exercise\",\"mens_cramps_level_before_meal_exercise\",\"mens_cramps_level_after_meal_exercise\",\"meal_exercise_effects\",\"meal_exercise_effects_specific_reduced_cramps\",\"meal_exercise_effects_specific_reduced_stress\",\"meal_exercise_effects_specific_reduced_pain\",\"meal_exercise_effects_specific_lose_weight\",\"meal_exercise_effects_specific_gain_weight\",\"meal_exercise_effects_specific_same_weight\",\"meal_exercise_effects_specific_improved_inbody\",\"meal_exercise_effects_specific_same_inbody\",\"meal_exercise_effects_specific_no_pain\",\"meal_exercise_effects_specific_no_pms\",\"meal_exercise_effects_specific_no\",\"weight_3_1\",\"improvements_self_measurement\",\"improvements_plan\",\"improvements_results\",\"improvements_hospital\",\"improvements_1.1\",\"meal_exercise_effects_c\",\"pain_after\"],\"y\":[0.024314232508090956,0.022196149222715063,0.02613032473750781,0.011591779057613865,0.014125886405862664,0.0231050990279795,0.014516486670982714,0.020371768808988597,0.00692432741548513,0.005789013357581714,0.0031494883049609894,0.003818959799645164,0.007041067311655897,0.0045020414619427115,0.005395793350567434,0.0036493816069095254,0.004212836153827968,0.003802163489673151,0.008213576945143984,0.00038187074946555903,0.007688817526614131,0.003768552556886459,0.004489260659356429,0.004503784313380766,0.0008898338251880101,0.0026987751068101,0.0007359833058787537,0.0001743841158121987,0.00397448575177679,0.005955247537884463,0.0012810076628925512,0.0,0.013142100661952255,0.0010235214616130582,0.0018223957286437505,0.00447539222018665,0.002538335318886481,0.0044286185677688055,0.006050714513610703,0.006145873746469231,0.001097161549741486,0.035876173785003566,0.007703398246834674,0.004429888933609068,0.005436165806497214,0.0011563585730706997,0.0033635112379429774,0.0044815112814509716,0.006182823128507168,0.0023049697354613815,0.004402213473208316,0.005939952627610043,0.002525981475911448,0.00423330433244463,0.007341685408363284,0.0032461928431355954,0.004443746677856734,0.005686265613986271,0.006512451498275803,0.0020440684850605664,0.0038779984903842117,0.004425975604223217,0.004922046242210441,0.004028909261502929,0.0031478835816642265,0.00876656869106513,0.0031860153859362165,0.0032710000621479145,0.004203774842299296,0.006093622399365365,0.003407182081345414,0.005436254450645875,0.00484194524606894,0.003946606448942537,0.0024483890627541574,0.0033990200035892023,0.0027860595879876946,0.0038002954677289072,0.004201134961065277,0.003516460844960215,0.006156687407648123,0.0010353650646840607,0.003339526742899683,0.002828233016656021,0.0026217245454121085,0.005136100442240608,0.0033938023025062354,0.0011081179697313614,0.0018001267414166973,0.0040169016760622615,0.0023162357120651337,0.003570321366673071,0.0038169280033565757,0.0043691831424230426,0.003118806331040407,0.0021449526459426326,0.003482333552874695,0.003600808659567534,0.0029464540898067096,0.0024516934858812528,0.007037903115429335,0.008417699247995597,0.009514526014374679,0.002868877202226896,0.006517596077579083,0.007040006218542104,0.0029511799862357055,0.004405861122534597,0.006071487315391108,0.0061909852480839704,0.0024604920463395024,0.003784715040695171,0.0022048163994628917,0.004050232414182857,0.005156960608144114,0.004513650748593146,0.004114831741554501,0.005916916918366795,0.003254680353088308,0.0031160901437162656,0.004234124461216454,0.004562852841663592,0.004276945837362378,0.00250512223785344,0.003405195580329431,0.004456626009887265,0.0023442577363128555,0.004877484852677905,0.004060191432079969,0.00368846552604471,0.005061999256740236,0.0035859892931830507,0.0,0.003139659788376297,0.002586841664275628,0.001243477539760405,0.0048376633000941915,0.005098552190156014,8.714881275922585e-05,8.13698157341873e-05,0.0045339189422209025,0.006117119853483809,0.004972127589762169,0.006081013585226785,0.005719767596859842,0.004356024416255525,0.004508326188129838,0.003725802003783413,0.005106197156369853,0.004874313129234862,0.004651465270319194,0.009872777464243856,0.012796758611453197,0.04912677134340876,0.0284044178078827,0.009191296077756475,0.005529489857520674,0.0068591622732347484,0.0038043969809065693,0.005140195589728295,0.0018665720078213915,0.0032654474783426206,0.0036474476878067446,0.0013922921388539971,0.004104824432487141,0.008367312882065861,0.00556653923969675,0.022018533023738955,0.0056791611735812235,0.005011719758424932,0.005107790843954723,0.004119314962937307,0.005478701545157614,0.007831161942126685,0.013059761709219301]}],                        {\"autosize\":true,\"hovermode\":\"closest\",\"showlegend\":false,\"template\":{\"data\":{\"bar\":[{\"error_x\":{\"color\":\"#2a3f5f\"},\"error_y\":{\"color\":\"#2a3f5f\"},\"marker\":{\"line\":{\"color\":\"#E5ECF6\",\"width\":0.5},\"pattern\":{\"fillmode\":\"overlay\",\"size\":10,\"solidity\":0.2}},\"type\":\"bar\"}],\"barpolar\":[{\"marker\":{\"line\":{\"color\":\"#E5ECF6\",\"width\":0.5},\"pattern\":{\"fillmode\":\"overlay\",\"size\":10,\"solidity\":0.2}},\"type\":\"barpolar\"}],\"carpet\":[{\"aaxis\":{\"endlinecolor\":\"#2a3f5f\",\"gridcolor\":\"white\",\"linecolor\":\"white\",\"minorgridcolor\":\"white\",\"startlinecolor\":\"#2a3f5f\"},\"baxis\":{\"endlinecolor\":\"#2a3f5f\",\"gridcolor\":\"white\",\"linecolor\":\"white\",\"minorgridcolor\":\"white\",\"startlinecolor\":\"#2a3f5f\"},\"type\":\"carpet\"}],\"choropleth\":[{\"colorbar\":{\"outlinewidth\":0,\"ticks\":\"\"},\"type\":\"choropleth\"}],\"contour\":[{\"colorbar\":{\"outlinewidth\":0,\"ticks\":\"\"},\"colorscale\":[[0.0,\"#0d0887\"],[0.1111111111111111,\"#46039f\"],[0.2222222222222222,\"#7201a8\"],[0.3333333333333333,\"#9c179e\"],[0.4444444444444444,\"#bd3786\"],[0.5555555555555556,\"#d8576b\"],[0.6666666666666666,\"#ed7953\"],[0.7777777777777778,\"#fb9f3a\"],[0.8888888888888888,\"#fdca26\"],[1.0,\"#f0f921\"]],\"type\":\"contour\"}],\"contourcarpet\":[{\"colorbar\":{\"outlinewidth\":0,\"ticks\":\"\"},\"type\":\"contourcarpet\"}],\"heatmap\":[{\"colorbar\":{\"outlinewidth\":0,\"ticks\":\"\"},\"colorscale\":[[0.0,\"#0d0887\"],[0.1111111111111111,\"#46039f\"],[0.2222222222222222,\"#7201a8\"],[0.3333333333333333,\"#9c179e\"],[0.4444444444444444,\"#bd3786\"],[0.5555555555555556,\"#d8576b\"],[0.6666666666666666,\"#ed7953\"],[0.7777777777777778,\"#fb9f3a\"],[0.8888888888888888,\"#fdca26\"],[1.0,\"#f0f921\"]],\"type\":\"heatmap\"}],\"heatmapgl\":[{\"colorbar\":{\"outlinewidth\":0,\"ticks\":\"\"},\"colorscale\":[[0.0,\"#0d0887\"],[0.1111111111111111,\"#46039f\"],[0.2222222222222222,\"#7201a8\"],[0.3333333333333333,\"#9c179e\"],[0.4444444444444444,\"#bd3786\"],[0.5555555555555556,\"#d8576b\"],[0.6666666666666666,\"#ed7953\"],[0.7777777777777778,\"#fb9f3a\"],[0.8888888888888888,\"#fdca26\"],[1.0,\"#f0f921\"]],\"type\":\"heatmapgl\"}],\"histogram\":[{\"marker\":{\"pattern\":{\"fillmode\":\"overlay\",\"size\":10,\"solidity\":0.2}},\"type\":\"histogram\"}],\"histogram2d\":[{\"colorbar\":{\"outlinewidth\":0,\"ticks\":\"\"},\"colorscale\":[[0.0,\"#0d0887\"],[0.1111111111111111,\"#46039f\"],[0.2222222222222222,\"#7201a8\"],[0.3333333333333333,\"#9c179e\"],[0.4444444444444444,\"#bd3786\"],[0.5555555555555556,\"#d8576b\"],[0.6666666666666666,\"#ed7953\"],[0.7777777777777778,\"#fb9f3a\"],[0.8888888888888888,\"#fdca26\"],[1.0,\"#f0f921\"]],\"type\":\"histogram2d\"}],\"histogram2dcontour\":[{\"colorbar\":{\"outlinewidth\":0,\"ticks\":\"\"},\"colorscale\":[[0.0,\"#0d0887\"],[0.1111111111111111,\"#46039f\"],[0.2222222222222222,\"#7201a8\"],[0.3333333333333333,\"#9c179e\"],[0.4444444444444444,\"#bd3786\"],[0.5555555555555556,\"#d8576b\"],[0.6666666666666666,\"#ed7953\"],[0.7777777777777778,\"#fb9f3a\"],[0.8888888888888888,\"#fdca26\"],[1.0,\"#f0f921\"]],\"type\":\"histogram2dcontour\"}],\"mesh3d\":[{\"colorbar\":{\"outlinewidth\":0,\"ticks\":\"\"},\"type\":\"mesh3d\"}],\"parcoords\":[{\"line\":{\"colorbar\":{\"outlinewidth\":0,\"ticks\":\"\"}},\"type\":\"parcoords\"}],\"pie\":[{\"automargin\":true,\"type\":\"pie\"}],\"scatter\":[{\"marker\":{\"colorbar\":{\"outlinewidth\":0,\"ticks\":\"\"}},\"type\":\"scatter\"}],\"scatter3d\":[{\"line\":{\"colorbar\":{\"outlinewidth\":0,\"ticks\":\"\"}},\"marker\":{\"colorbar\":{\"outlinewidth\":0,\"ticks\":\"\"}},\"type\":\"scatter3d\"}],\"scattercarpet\":[{\"marker\":{\"colorbar\":{\"outlinewidth\":0,\"ticks\":\"\"}},\"type\":\"scattercarpet\"}],\"scattergeo\":[{\"marker\":{\"colorbar\":{\"outlinewidth\":0,\"ticks\":\"\"}},\"type\":\"scattergeo\"}],\"scattergl\":[{\"marker\":{\"colorbar\":{\"outlinewidth\":0,\"ticks\":\"\"}},\"type\":\"scattergl\"}],\"scattermapbox\":[{\"marker\":{\"colorbar\":{\"outlinewidth\":0,\"ticks\":\"\"}},\"type\":\"scattermapbox\"}],\"scatterpolar\":[{\"marker\":{\"colorbar\":{\"outlinewidth\":0,\"ticks\":\"\"}},\"type\":\"scatterpolar\"}],\"scatterpolargl\":[{\"marker\":{\"colorbar\":{\"outlinewidth\":0,\"ticks\":\"\"}},\"type\":\"scatterpolargl\"}],\"scatterternary\":[{\"marker\":{\"colorbar\":{\"outlinewidth\":0,\"ticks\":\"\"}},\"type\":\"scatterternary\"}],\"surface\":[{\"colorbar\":{\"outlinewidth\":0,\"ticks\":\"\"},\"colorscale\":[[0.0,\"#0d0887\"],[0.1111111111111111,\"#46039f\"],[0.2222222222222222,\"#7201a8\"],[0.3333333333333333,\"#9c179e\"],[0.4444444444444444,\"#bd3786\"],[0.5555555555555556,\"#d8576b\"],[0.6666666666666666,\"#ed7953\"],[0.7777777777777778,\"#fb9f3a\"],[0.8888888888888888,\"#fdca26\"],[1.0,\"#f0f921\"]],\"type\":\"surface\"}],\"table\":[{\"cells\":{\"fill\":{\"color\":\"#EBF0F8\"},\"line\":{\"color\":\"white\"}},\"header\":{\"fill\":{\"color\":\"#C8D4E3\"},\"line\":{\"color\":\"white\"}},\"type\":\"table\"}]},\"layout\":{\"annotationdefaults\":{\"arrowcolor\":\"#2a3f5f\",\"arrowhead\":0,\"arrowwidth\":1},\"autotypenumbers\":\"strict\",\"coloraxis\":{\"colorbar\":{\"outlinewidth\":0,\"ticks\":\"\"}},\"colorscale\":{\"diverging\":[[0,\"#8e0152\"],[0.1,\"#c51b7d\"],[0.2,\"#de77ae\"],[0.3,\"#f1b6da\"],[0.4,\"#fde0ef\"],[0.5,\"#f7f7f7\"],[0.6,\"#e6f5d0\"],[0.7,\"#b8e186\"],[0.8,\"#7fbc41\"],[0.9,\"#4d9221\"],[1,\"#276419\"]],\"sequential\":[[0.0,\"#0d0887\"],[0.1111111111111111,\"#46039f\"],[0.2222222222222222,\"#7201a8\"],[0.3333333333333333,\"#9c179e\"],[0.4444444444444444,\"#bd3786\"],[0.5555555555555556,\"#d8576b\"],[0.6666666666666666,\"#ed7953\"],[0.7777777777777778,\"#fb9f3a\"],[0.8888888888888888,\"#fdca26\"],[1.0,\"#f0f921\"]],\"sequentialminus\":[[0.0,\"#0d0887\"],[0.1111111111111111,\"#46039f\"],[0.2222222222222222,\"#7201a8\"],[0.3333333333333333,\"#9c179e\"],[0.4444444444444444,\"#bd3786\"],[0.5555555555555556,\"#d8576b\"],[0.6666666666666666,\"#ed7953\"],[0.7777777777777778,\"#fb9f3a\"],[0.8888888888888888,\"#fdca26\"],[1.0,\"#f0f921\"]]},\"colorway\":[\"#636efa\",\"#EF553B\",\"#00cc96\",\"#ab63fa\",\"#FFA15A\",\"#19d3f3\",\"#FF6692\",\"#B6E880\",\"#FF97FF\",\"#FECB52\"],\"font\":{\"color\":\"#2a3f5f\"},\"geo\":{\"bgcolor\":\"white\",\"lakecolor\":\"white\",\"landcolor\":\"#E5ECF6\",\"showlakes\":true,\"showland\":true,\"subunitcolor\":\"white\"},\"hoverlabel\":{\"align\":\"left\"},\"hovermode\":\"closest\",\"mapbox\":{\"style\":\"light\"},\"paper_bgcolor\":\"white\",\"plot_bgcolor\":\"#E5ECF6\",\"polar\":{\"angularaxis\":{\"gridcolor\":\"white\",\"linecolor\":\"white\",\"ticks\":\"\"},\"bgcolor\":\"#E5ECF6\",\"radialaxis\":{\"gridcolor\":\"white\",\"linecolor\":\"white\",\"ticks\":\"\"}},\"scene\":{\"xaxis\":{\"backgroundcolor\":\"#E5ECF6\",\"gridcolor\":\"white\",\"gridwidth\":2,\"linecolor\":\"white\",\"showbackground\":true,\"ticks\":\"\",\"zerolinecolor\":\"white\"},\"yaxis\":{\"backgroundcolor\":\"#E5ECF6\",\"gridcolor\":\"white\",\"gridwidth\":2,\"linecolor\":\"white\",\"showbackground\":true,\"ticks\":\"\",\"zerolinecolor\":\"white\"},\"zaxis\":{\"backgroundcolor\":\"#E5ECF6\",\"gridcolor\":\"white\",\"gridwidth\":2,\"linecolor\":\"white\",\"showbackground\":true,\"ticks\":\"\",\"zerolinecolor\":\"white\"}},\"shapedefaults\":{\"line\":{\"color\":\"#2a3f5f\"}},\"ternary\":{\"aaxis\":{\"gridcolor\":\"white\",\"linecolor\":\"white\",\"ticks\":\"\"},\"baxis\":{\"gridcolor\":\"white\",\"linecolor\":\"white\",\"ticks\":\"\"},\"bgcolor\":\"#E5ECF6\",\"caxis\":{\"gridcolor\":\"white\",\"linecolor\":\"white\",\"ticks\":\"\"}},\"title\":{\"x\":0.05},\"xaxis\":{\"automargin\":true,\"gridcolor\":\"white\",\"linecolor\":\"white\",\"ticks\":\"\",\"title\":{\"standoff\":15},\"zerolinecolor\":\"white\",\"zerolinewidth\":2},\"yaxis\":{\"automargin\":true,\"gridcolor\":\"white\",\"linecolor\":\"white\",\"ticks\":\"\",\"title\":{\"standoff\":15},\"zerolinecolor\":\"white\",\"zerolinewidth\":2}}},\"title\":{\"text\":\"Random Forest Feature Importance\"},\"xaxis\":{\"showgrid\":false,\"showline\":false,\"ticklen\":5,\"zeroline\":false},\"yaxis\":{\"gridwidth\":2,\"showgrid\":false,\"ticklen\":5,\"title\":{\"text\":\"Feature Importance\"},\"zeroline\":false}},                        {\"responsive\": true}                    ).then(function(){\n",
       "                            \n",
       "var gd = document.getElementById('f9466ad5-597e-49cd-be65-73fd4a8c4be1');\n",
       "var x = new MutationObserver(function (mutations, observer) {{\n",
       "        var display = window.getComputedStyle(gd).display;\n",
       "        if (!display || display === 'none') {{\n",
       "            console.log([gd, 'removed!']);\n",
       "            Plotly.purge(gd);\n",
       "            observer.disconnect();\n",
       "        }}\n",
       "}});\n",
       "\n",
       "// Listen for the removal of the full notebook cells\n",
       "var notebookContainer = gd.closest('#notebook-container');\n",
       "if (notebookContainer) {{\n",
       "    x.observe(notebookContainer, {childList: true});\n",
       "}}\n",
       "\n",
       "// Listen for the clearing of the current output cell\n",
       "var outputEl = gd.closest('.output');\n",
       "if (outputEl) {{\n",
       "    x.observe(outputEl, {childList: true});\n",
       "}}\n",
       "\n",
       "                        })                };                });            </script>        </div>"
      ]
     },
     "metadata": {},
     "output_type": "display_data"
    },
    {
     "data": {
      "application/vnd.plotly.v1+json": {
       "config": {
        "linkText": "Export to plot.ly",
        "plotlyServerURL": "https://plot.ly",
        "showLink": false
       },
       "data": [
        {
         "marker": {
          "color": [
           0,
           0,
           8.13698157341873e-05,
           8.714881275922585e-05,
           0.0001743841158121987,
           0.00038187074946555903,
           0.0007359833058787537,
           0.0008898338251880101,
           0.0010235214616130582,
           0.0010353650646840607,
           0.001097161549741486,
           0.0011081179697313614,
           0.0011563585730706997,
           0.001243477539760405,
           0.0012810076628925512,
           0.0013922921388539971,
           0.0018001267414166973,
           0.0018223957286437505,
           0.0018665720078213915,
           0.0020440684850605664,
           0.0021449526459426326,
           0.0022048163994628917,
           0.0023049697354613815,
           0.0023162357120651337,
           0.0023442577363128555,
           0.0024483890627541574,
           0.0024516934858812528,
           0.0024604920463395024,
           0.00250512223785344,
           0.002525981475911448,
           0.002538335318886481,
           0.002586841664275628,
           0.0026217245454121085,
           0.0026987751068101,
           0.0027860595879876946,
           0.002828233016656021,
           0.002868877202226896,
           0.0029464540898067096,
           0.0029511799862357055,
           0.0031160901437162656,
           0.003118806331040407,
           0.003139659788376297,
           0.0031478835816642265,
           0.0031494883049609894,
           0.0031860153859362165,
           0.0032461928431355954,
           0.003254680353088308,
           0.0032654474783426206,
           0.0032710000621479145,
           0.003339526742899683,
           0.0033635112379429774,
           0.0033938023025062354,
           0.0033990200035892023,
           0.003405195580329431,
           0.003407182081345414,
           0.003482333552874695,
           0.003516460844960215,
           0.003570321366673071,
           0.0035859892931830507,
           0.003600808659567534,
           0.0036474476878067446,
           0.0036493816069095254,
           0.00368846552604471,
           0.003725802003783413,
           0.003768552556886459,
           0.003784715040695171,
           0.0038002954677289072,
           0.003802163489673151,
           0.0038043969809065693,
           0.0038169280033565757,
           0.003818959799645164,
           0.0038779984903842117,
           0.003946606448942537,
           0.00397448575177679,
           0.0040169016760622615,
           0.004028909261502929,
           0.004050232414182857,
           0.004060191432079969,
           0.004104824432487141,
           0.004114831741554501,
           0.004119314962937307,
           0.004201134961065277,
           0.004203774842299296,
           0.004212836153827968,
           0.00423330433244463,
           0.004234124461216454,
           0.004276945837362378,
           0.004356024416255525,
           0.0043691831424230426,
           0.004402213473208316,
           0.004405861122534597,
           0.004425975604223217,
           0.0044286185677688055,
           0.004429888933609068,
           0.004443746677856734,
           0.004456626009887265,
           0.00447539222018665,
           0.0044815112814509716,
           0.004489260659356429,
           0.0045020414619427115,
           0.004503784313380766,
           0.004508326188129838,
           0.004513650748593146,
           0.0045339189422209025,
           0.004562852841663592,
           0.004651465270319194,
           0.0048376633000941915,
           0.00484194524606894,
           0.004874313129234862,
           0.004877484852677905,
           0.004922046242210441,
           0.004972127589762169,
           0.005011719758424932,
           0.005061999256740236,
           0.005098552190156014,
           0.005106197156369853,
           0.005107790843954723,
           0.005136100442240608,
           0.005140195589728295,
           0.005156960608144114,
           0.005395793350567434,
           0.005436165806497214,
           0.005436254450645875,
           0.005478701545157614,
           0.005529489857520674,
           0.00556653923969675,
           0.0056791611735812235,
           0.005686265613986271,
           0.005719767596859842,
           0.005789013357581714,
           0.005916916918366795,
           0.005939952627610043,
           0.005955247537884463,
           0.006050714513610703,
           0.006071487315391108,
           0.006081013585226785,
           0.006093622399365365,
           0.006117119853483809,
           0.006145873746469231,
           0.006156687407648123,
           0.006182823128507168,
           0.0061909852480839704,
           0.006512451498275803,
           0.006517596077579083,
           0.0068591622732347484,
           0.00692432741548513,
           0.007037903115429335,
           0.007040006218542104,
           0.007041067311655897,
           0.007341685408363284,
           0.007688817526614131,
           0.007703398246834674,
           0.007831161942126685,
           0.008213576945143984,
           0.008367312882065861,
           0.008417699247995597,
           0.00876656869106513,
           0.009191296077756475,
           0.009514526014374679,
           0.009872777464243856,
           0.011591779057613865,
           0.012796758611453197,
           0.013059761709219301,
           0.013142100661952255,
           0.014125886405862664,
           0.014516486670982714,
           0.020371768808988597,
           0.022018533023738955,
           0.022196149222715063,
           0.0231050990279795,
           0.024314232508090956,
           0.02613032473750781,
           0.0284044178078827,
           0.035876173785003566,
           0.04912677134340876
          ],
          "colorscale": [
           [
            0,
            "#440154"
           ],
           [
            0.1111111111111111,
            "#482878"
           ],
           [
            0.2222222222222222,
            "#3e4989"
           ],
           [
            0.3333333333333333,
            "#31688e"
           ],
           [
            0.4444444444444444,
            "#26828e"
           ],
           [
            0.5555555555555556,
            "#1f9e89"
           ],
           [
            0.6666666666666666,
            "#35b779"
           ],
           [
            0.7777777777777778,
            "#6ece58"
           ],
           [
            0.8888888888888888,
            "#b5de2b"
           ],
           [
            1,
            "#fde725"
           ]
          ],
          "reversescale": true
         },
         "name": "Random Forest Feature importance",
         "orientation": "h",
         "type": "bar",
         "x": [
          0,
          0,
          8.13698157341873e-05,
          8.714881275922585e-05,
          0.0001743841158121987,
          0.00038187074946555903,
          0.0007359833058787537,
          0.0008898338251880101,
          0.0010235214616130582,
          0.0010353650646840607,
          0.001097161549741486,
          0.0011081179697313614,
          0.0011563585730706997,
          0.001243477539760405,
          0.0012810076628925512,
          0.0013922921388539971,
          0.0018001267414166973,
          0.0018223957286437505,
          0.0018665720078213915,
          0.0020440684850605664,
          0.0021449526459426326,
          0.0022048163994628917,
          0.0023049697354613815,
          0.0023162357120651337,
          0.0023442577363128555,
          0.0024483890627541574,
          0.0024516934858812528,
          0.0024604920463395024,
          0.00250512223785344,
          0.002525981475911448,
          0.002538335318886481,
          0.002586841664275628,
          0.0026217245454121085,
          0.0026987751068101,
          0.0027860595879876946,
          0.002828233016656021,
          0.002868877202226896,
          0.0029464540898067096,
          0.0029511799862357055,
          0.0031160901437162656,
          0.003118806331040407,
          0.003139659788376297,
          0.0031478835816642265,
          0.0031494883049609894,
          0.0031860153859362165,
          0.0032461928431355954,
          0.003254680353088308,
          0.0032654474783426206,
          0.0032710000621479145,
          0.003339526742899683,
          0.0033635112379429774,
          0.0033938023025062354,
          0.0033990200035892023,
          0.003405195580329431,
          0.003407182081345414,
          0.003482333552874695,
          0.003516460844960215,
          0.003570321366673071,
          0.0035859892931830507,
          0.003600808659567534,
          0.0036474476878067446,
          0.0036493816069095254,
          0.00368846552604471,
          0.003725802003783413,
          0.003768552556886459,
          0.003784715040695171,
          0.0038002954677289072,
          0.003802163489673151,
          0.0038043969809065693,
          0.0038169280033565757,
          0.003818959799645164,
          0.0038779984903842117,
          0.003946606448942537,
          0.00397448575177679,
          0.0040169016760622615,
          0.004028909261502929,
          0.004050232414182857,
          0.004060191432079969,
          0.004104824432487141,
          0.004114831741554501,
          0.004119314962937307,
          0.004201134961065277,
          0.004203774842299296,
          0.004212836153827968,
          0.00423330433244463,
          0.004234124461216454,
          0.004276945837362378,
          0.004356024416255525,
          0.0043691831424230426,
          0.004402213473208316,
          0.004405861122534597,
          0.004425975604223217,
          0.0044286185677688055,
          0.004429888933609068,
          0.004443746677856734,
          0.004456626009887265,
          0.00447539222018665,
          0.0044815112814509716,
          0.004489260659356429,
          0.0045020414619427115,
          0.004503784313380766,
          0.004508326188129838,
          0.004513650748593146,
          0.0045339189422209025,
          0.004562852841663592,
          0.004651465270319194,
          0.0048376633000941915,
          0.00484194524606894,
          0.004874313129234862,
          0.004877484852677905,
          0.004922046242210441,
          0.004972127589762169,
          0.005011719758424932,
          0.005061999256740236,
          0.005098552190156014,
          0.005106197156369853,
          0.005107790843954723,
          0.005136100442240608,
          0.005140195589728295,
          0.005156960608144114,
          0.005395793350567434,
          0.005436165806497214,
          0.005436254450645875,
          0.005478701545157614,
          0.005529489857520674,
          0.00556653923969675,
          0.0056791611735812235,
          0.005686265613986271,
          0.005719767596859842,
          0.005789013357581714,
          0.005916916918366795,
          0.005939952627610043,
          0.005955247537884463,
          0.006050714513610703,
          0.006071487315391108,
          0.006081013585226785,
          0.006093622399365365,
          0.006117119853483809,
          0.006145873746469231,
          0.006156687407648123,
          0.006182823128507168,
          0.0061909852480839704,
          0.006512451498275803,
          0.006517596077579083,
          0.0068591622732347484,
          0.00692432741548513,
          0.007037903115429335,
          0.007040006218542104,
          0.007041067311655897,
          0.007341685408363284,
          0.007688817526614131,
          0.007703398246834674,
          0.007831161942126685,
          0.008213576945143984,
          0.008367312882065861,
          0.008417699247995597,
          0.00876656869106513,
          0.009191296077756475,
          0.009514526014374679,
          0.009872777464243856,
          0.011591779057613865,
          0.012796758611453197,
          0.013059761709219301,
          0.013142100661952255,
          0.014125886405862664,
          0.014516486670982714,
          0.020371768808988597,
          0.022018533023738955,
          0.022196149222715063,
          0.0231050990279795,
          0.024314232508090956,
          0.02613032473750781,
          0.0284044178078827,
          0.035876173785003566,
          0.04912677134340876
         ],
         "y": [
          "mens_before_after_pattern_sweet_spicy",
          "mens_disease_uterine_adenoma",
          "mens_before_after_pattern_heavy_makeup",
          "mens_before_after_pattern_accessory",
          "thyroid_cancer",
          "exercise_type_golf",
          "thyroid_hyperthyroidism",
          "thyroid_no",
          "mens_supplies_pad",
          "mens_cramp_symptoms_breathing_problem",
          "mens_cramp_peak_third_day",
          "mens_cramp_symptoms_dizziness",
          "mens_stress_peak_third_day",
          "mens_before_after_pattern_partying",
          "mens_disease_fibroids",
          "meal_exercise_effects_specific_same_inbody",
          "mens_cramp_symptoms_throw_up",
          "mens_supplies_cotton_pad",
          "meal_exercise_effects_specific_gain_weight",
          "mens_cramp_symptoms_digestive_upset",
          "mens_cramp_symptoms_chill",
          "mens_symptoms_3_waist_pain",
          "mens_cramp_part_below_thigh",
          "mens_cramp_symptoms_anemia",
          "mens_before_after_pattern_accommodation",
          "mens_cramp_symptoms_anxiety",
          "mens_cramps_family_younger_sister",
          "mens_symptoms_3_long_period",
          "mens_before_after_pattern_sex_nervousness",
          "mens_cramp_symptoms_belly_pain",
          "mens_supplies_cup",
          "mens_before_after_pattern_fancy",
          "mens_cramp_symptoms_muscle_pain",
          "thyroid_hypothyroidism",
          "mens_cramp_symptoms_decreased_appetite",
          "mens_cramp_symptoms_gastrointestinal_disorder",
          "mens_symptoms_3_long_cramps",
          "mens_cramps_family_older_sister",
          "mens_symptoms_3_lump",
          "mens_symptoms_3_stomachache",
          "mens_cramp_symptoms_fever",
          "mens_before_after_pattern_buy_comfy",
          "mens_cramp_symptoms_depression",
          "options_diarrhea",
          "mens_cramp_symptoms_migraine",
          "mens_cramp_symptoms_nervousness",
          "mens_symptoms_3_intense_pain",
          "meal_exercise_effects_specific_same_weight",
          "mens_cramp_symptoms_drowsiness",
          "mens_cramp_symptoms_dull_movement",
          "mens_cramp_part_belly",
          "mens_cramp_symptoms_cold_sweat",
          "mens_cramp_symptoms_nausea",
          "mens_before_after_pattern_sex_calculate_date",
          "mens_cramp_symptoms_leg_numbness",
          "mens_cramp_symptoms_orthostatic_hypotension",
          "mens_cramp_symptoms_sickness",
          "mens_cramp_symptoms_whirl",
          "mens_before_after_pattern_urgent_cancellation",
          "mens_cramps_family_mother",
          "meal_exercise_effects_specific_improved_inbody",
          "exercise_type_walking",
          "mens_before_after_pattern_work",
          "mens_before_after_pattern_throw_out_panty",
          "exercise_type_swimming",
          "mens_symptoms_3_irregular_blood",
          "mens_cramp_symptoms_excessive_sleep",
          "exercise_type_hiking",
          "meal_exercise_effects_specific_reduced_pain",
          "mens_cramp_symptoms_joint_pain",
          "options_insomnia",
          "mens_cramp_symptoms_back_pain",
          "mens_cramp_symptoms_insomnia",
          "mens_disease_no",
          "mens_cramp_symptoms_abdominal_swelling",
          "mens_cramp_symptoms_headache",
          "mens_symptoms_3_stressful",
          "mens_before_after_pattern_cancellation",
          "meal_exercise_effects_specific_no_pain",
          "mens_symptoms_3_urination",
          "improvements_hospital",
          "mens_cramp_symptoms_pimple",
          "mens_cramp_symptoms_sensitive_temperature",
          "exercise_type_running",
          "mens_cramp_symptoms_constipation",
          "mens_before_after_pattern_toilet",
          "mens_before_after_pattern_embarrassment",
          "mens_before_after_pattern_excitement",
          "mens_cramp_symptoms_sweet",
          "mens_cramp_symptoms_swelling",
          "mens_symptoms_3_abdominal_pain",
          "mens_cramp_symptoms_chest_pain",
          "mens_cramp_peak_before",
          "mens_stress_peak_first_day",
          "mens_cramp_symptoms_indigestion",
          "mens_before_after_pattern_sexual_desire",
          "mens_supplies_tampon",
          "mens_cramp_part_pelvis",
          "exercise_type_dance",
          "options_swelling",
          "exercise_type_fitness",
          "mens_before_after_pattern_panty_blood",
          "mens_symptoms_3_diarrhea",
          "mens_before_after_pattern_deceive",
          "mens_before_after_pattern_app",
          "mens_before_after_pattern_same_weight",
          "mens_before_after_pattern_comfy_clothes",
          "mens_cramp_symptoms_voracity",
          "mens_before_after_pattern_weight_changes",
          "mens_before_after_pattern_keen",
          "mens_cramp_symptoms_increased_appetite",
          "mens_before_after_pattern_buy_pads",
          "improvements_plan",
          "mens_before_after_pattern_withstand",
          "mens_before_after_pattern_dark_clothes",
          "mens_before_after_pattern_chest_lump",
          "improvements_results",
          "mens_cramp_symptoms_increased_libido",
          "meal_exercise_effects_specific_lose_weight",
          "mens_symptoms_3_cluster_blood",
          "options_cold",
          "mens_stress_peak_second_day",
          "mens_cramp_symptoms_leg_swelling",
          "improvements_1.1",
          "meal_exercise_effects_specific_reduced_cramps",
          "meal_exercise_effects_specific_no",
          "improvements_self_measurement",
          "mens_cramp_symptoms_gas",
          "mens_before_after_pattern_bulk_purchase_pads",
          "options_stiffness",
          "mens_symptoms_3_irregular_blood_amount",
          "mens_cramp_symptoms_emotion",
          "mens_disease_pms",
          "mens_cramp_peak_first_day",
          "mens_symptoms_3_gas",
          "mens_before_after_pattern_borrow_pads",
          "mens_cramp_symptoms_colic",
          "mens_before_after_pattern_help",
          "mens_cramp_peak_second_day",
          "mens_cramp_symptoms_exhaustion",
          "mens_cramp_part_waist",
          "mens_symptoms_3_pelvis_pain",
          "mens_cramp_symptoms_diarrhea",
          "mens_symptoms_3_abnormal",
          "meal_exercise_effects_specific_reduced_stress",
          "options_tension",
          "mens_cramps_family_relatives",
          "mens_symptoms_3_pressure",
          "options_abdominal_obesity",
          "mens_cramp_symptoms_lethargy",
          "exercise_type_yoga_pilates",
          "mens_stress_peak_before",
          "meal_exercise_effects_c",
          "exercise_type_bicycle",
          "meal_exercise_effects_specific_no_pms",
          "mens_cramps_family_no",
          "mens_cramp_symptoms_reduced_temperance",
          "meal_exercise_effects",
          "mens_symptoms_3_ovulation_cramps",
          "mens_meal",
          "mens_period",
          "mens_exercise",
          "pain_after",
          "menarche_age",
          "mens_cycle",
          "upper_body_size",
          "lower_body_size",
          "weight_3_1",
          "weight_1",
          "age",
          "height_1",
          "bmi",
          "mens_cramps_level_after_meal_exercise",
          "mens_stress",
          "mens_cramps_level_before_meal_exercise"
         ]
        }
       ],
       "layout": {
        "height": 2000,
        "template": {
         "data": {
          "bar": [
           {
            "error_x": {
             "color": "#2a3f5f"
            },
            "error_y": {
             "color": "#2a3f5f"
            },
            "marker": {
             "line": {
              "color": "#E5ECF6",
              "width": 0.5
             },
             "pattern": {
              "fillmode": "overlay",
              "size": 10,
              "solidity": 0.2
             }
            },
            "type": "bar"
           }
          ],
          "barpolar": [
           {
            "marker": {
             "line": {
              "color": "#E5ECF6",
              "width": 0.5
             },
             "pattern": {
              "fillmode": "overlay",
              "size": 10,
              "solidity": 0.2
             }
            },
            "type": "barpolar"
           }
          ],
          "carpet": [
           {
            "aaxis": {
             "endlinecolor": "#2a3f5f",
             "gridcolor": "white",
             "linecolor": "white",
             "minorgridcolor": "white",
             "startlinecolor": "#2a3f5f"
            },
            "baxis": {
             "endlinecolor": "#2a3f5f",
             "gridcolor": "white",
             "linecolor": "white",
             "minorgridcolor": "white",
             "startlinecolor": "#2a3f5f"
            },
            "type": "carpet"
           }
          ],
          "choropleth": [
           {
            "colorbar": {
             "outlinewidth": 0,
             "ticks": ""
            },
            "type": "choropleth"
           }
          ],
          "contour": [
           {
            "colorbar": {
             "outlinewidth": 0,
             "ticks": ""
            },
            "colorscale": [
             [
              0,
              "#0d0887"
             ],
             [
              0.1111111111111111,
              "#46039f"
             ],
             [
              0.2222222222222222,
              "#7201a8"
             ],
             [
              0.3333333333333333,
              "#9c179e"
             ],
             [
              0.4444444444444444,
              "#bd3786"
             ],
             [
              0.5555555555555556,
              "#d8576b"
             ],
             [
              0.6666666666666666,
              "#ed7953"
             ],
             [
              0.7777777777777778,
              "#fb9f3a"
             ],
             [
              0.8888888888888888,
              "#fdca26"
             ],
             [
              1,
              "#f0f921"
             ]
            ],
            "type": "contour"
           }
          ],
          "contourcarpet": [
           {
            "colorbar": {
             "outlinewidth": 0,
             "ticks": ""
            },
            "type": "contourcarpet"
           }
          ],
          "heatmap": [
           {
            "colorbar": {
             "outlinewidth": 0,
             "ticks": ""
            },
            "colorscale": [
             [
              0,
              "#0d0887"
             ],
             [
              0.1111111111111111,
              "#46039f"
             ],
             [
              0.2222222222222222,
              "#7201a8"
             ],
             [
              0.3333333333333333,
              "#9c179e"
             ],
             [
              0.4444444444444444,
              "#bd3786"
             ],
             [
              0.5555555555555556,
              "#d8576b"
             ],
             [
              0.6666666666666666,
              "#ed7953"
             ],
             [
              0.7777777777777778,
              "#fb9f3a"
             ],
             [
              0.8888888888888888,
              "#fdca26"
             ],
             [
              1,
              "#f0f921"
             ]
            ],
            "type": "heatmap"
           }
          ],
          "heatmapgl": [
           {
            "colorbar": {
             "outlinewidth": 0,
             "ticks": ""
            },
            "colorscale": [
             [
              0,
              "#0d0887"
             ],
             [
              0.1111111111111111,
              "#46039f"
             ],
             [
              0.2222222222222222,
              "#7201a8"
             ],
             [
              0.3333333333333333,
              "#9c179e"
             ],
             [
              0.4444444444444444,
              "#bd3786"
             ],
             [
              0.5555555555555556,
              "#d8576b"
             ],
             [
              0.6666666666666666,
              "#ed7953"
             ],
             [
              0.7777777777777778,
              "#fb9f3a"
             ],
             [
              0.8888888888888888,
              "#fdca26"
             ],
             [
              1,
              "#f0f921"
             ]
            ],
            "type": "heatmapgl"
           }
          ],
          "histogram": [
           {
            "marker": {
             "pattern": {
              "fillmode": "overlay",
              "size": 10,
              "solidity": 0.2
             }
            },
            "type": "histogram"
           }
          ],
          "histogram2d": [
           {
            "colorbar": {
             "outlinewidth": 0,
             "ticks": ""
            },
            "colorscale": [
             [
              0,
              "#0d0887"
             ],
             [
              0.1111111111111111,
              "#46039f"
             ],
             [
              0.2222222222222222,
              "#7201a8"
             ],
             [
              0.3333333333333333,
              "#9c179e"
             ],
             [
              0.4444444444444444,
              "#bd3786"
             ],
             [
              0.5555555555555556,
              "#d8576b"
             ],
             [
              0.6666666666666666,
              "#ed7953"
             ],
             [
              0.7777777777777778,
              "#fb9f3a"
             ],
             [
              0.8888888888888888,
              "#fdca26"
             ],
             [
              1,
              "#f0f921"
             ]
            ],
            "type": "histogram2d"
           }
          ],
          "histogram2dcontour": [
           {
            "colorbar": {
             "outlinewidth": 0,
             "ticks": ""
            },
            "colorscale": [
             [
              0,
              "#0d0887"
             ],
             [
              0.1111111111111111,
              "#46039f"
             ],
             [
              0.2222222222222222,
              "#7201a8"
             ],
             [
              0.3333333333333333,
              "#9c179e"
             ],
             [
              0.4444444444444444,
              "#bd3786"
             ],
             [
              0.5555555555555556,
              "#d8576b"
             ],
             [
              0.6666666666666666,
              "#ed7953"
             ],
             [
              0.7777777777777778,
              "#fb9f3a"
             ],
             [
              0.8888888888888888,
              "#fdca26"
             ],
             [
              1,
              "#f0f921"
             ]
            ],
            "type": "histogram2dcontour"
           }
          ],
          "mesh3d": [
           {
            "colorbar": {
             "outlinewidth": 0,
             "ticks": ""
            },
            "type": "mesh3d"
           }
          ],
          "parcoords": [
           {
            "line": {
             "colorbar": {
              "outlinewidth": 0,
              "ticks": ""
             }
            },
            "type": "parcoords"
           }
          ],
          "pie": [
           {
            "automargin": true,
            "type": "pie"
           }
          ],
          "scatter": [
           {
            "marker": {
             "colorbar": {
              "outlinewidth": 0,
              "ticks": ""
             }
            },
            "type": "scatter"
           }
          ],
          "scatter3d": [
           {
            "line": {
             "colorbar": {
              "outlinewidth": 0,
              "ticks": ""
             }
            },
            "marker": {
             "colorbar": {
              "outlinewidth": 0,
              "ticks": ""
             }
            },
            "type": "scatter3d"
           }
          ],
          "scattercarpet": [
           {
            "marker": {
             "colorbar": {
              "outlinewidth": 0,
              "ticks": ""
             }
            },
            "type": "scattercarpet"
           }
          ],
          "scattergeo": [
           {
            "marker": {
             "colorbar": {
              "outlinewidth": 0,
              "ticks": ""
             }
            },
            "type": "scattergeo"
           }
          ],
          "scattergl": [
           {
            "marker": {
             "colorbar": {
              "outlinewidth": 0,
              "ticks": ""
             }
            },
            "type": "scattergl"
           }
          ],
          "scattermapbox": [
           {
            "marker": {
             "colorbar": {
              "outlinewidth": 0,
              "ticks": ""
             }
            },
            "type": "scattermapbox"
           }
          ],
          "scatterpolar": [
           {
            "marker": {
             "colorbar": {
              "outlinewidth": 0,
              "ticks": ""
             }
            },
            "type": "scatterpolar"
           }
          ],
          "scatterpolargl": [
           {
            "marker": {
             "colorbar": {
              "outlinewidth": 0,
              "ticks": ""
             }
            },
            "type": "scatterpolargl"
           }
          ],
          "scatterternary": [
           {
            "marker": {
             "colorbar": {
              "outlinewidth": 0,
              "ticks": ""
             }
            },
            "type": "scatterternary"
           }
          ],
          "surface": [
           {
            "colorbar": {
             "outlinewidth": 0,
             "ticks": ""
            },
            "colorscale": [
             [
              0,
              "#0d0887"
             ],
             [
              0.1111111111111111,
              "#46039f"
             ],
             [
              0.2222222222222222,
              "#7201a8"
             ],
             [
              0.3333333333333333,
              "#9c179e"
             ],
             [
              0.4444444444444444,
              "#bd3786"
             ],
             [
              0.5555555555555556,
              "#d8576b"
             ],
             [
              0.6666666666666666,
              "#ed7953"
             ],
             [
              0.7777777777777778,
              "#fb9f3a"
             ],
             [
              0.8888888888888888,
              "#fdca26"
             ],
             [
              1,
              "#f0f921"
             ]
            ],
            "type": "surface"
           }
          ],
          "table": [
           {
            "cells": {
             "fill": {
              "color": "#EBF0F8"
             },
             "line": {
              "color": "white"
             }
            },
            "header": {
             "fill": {
              "color": "#C8D4E3"
             },
             "line": {
              "color": "white"
             }
            },
            "type": "table"
           }
          ]
         },
         "layout": {
          "annotationdefaults": {
           "arrowcolor": "#2a3f5f",
           "arrowhead": 0,
           "arrowwidth": 1
          },
          "autotypenumbers": "strict",
          "coloraxis": {
           "colorbar": {
            "outlinewidth": 0,
            "ticks": ""
           }
          },
          "colorscale": {
           "diverging": [
            [
             0,
             "#8e0152"
            ],
            [
             0.1,
             "#c51b7d"
            ],
            [
             0.2,
             "#de77ae"
            ],
            [
             0.3,
             "#f1b6da"
            ],
            [
             0.4,
             "#fde0ef"
            ],
            [
             0.5,
             "#f7f7f7"
            ],
            [
             0.6,
             "#e6f5d0"
            ],
            [
             0.7,
             "#b8e186"
            ],
            [
             0.8,
             "#7fbc41"
            ],
            [
             0.9,
             "#4d9221"
            ],
            [
             1,
             "#276419"
            ]
           ],
           "sequential": [
            [
             0,
             "#0d0887"
            ],
            [
             0.1111111111111111,
             "#46039f"
            ],
            [
             0.2222222222222222,
             "#7201a8"
            ],
            [
             0.3333333333333333,
             "#9c179e"
            ],
            [
             0.4444444444444444,
             "#bd3786"
            ],
            [
             0.5555555555555556,
             "#d8576b"
            ],
            [
             0.6666666666666666,
             "#ed7953"
            ],
            [
             0.7777777777777778,
             "#fb9f3a"
            ],
            [
             0.8888888888888888,
             "#fdca26"
            ],
            [
             1,
             "#f0f921"
            ]
           ],
           "sequentialminus": [
            [
             0,
             "#0d0887"
            ],
            [
             0.1111111111111111,
             "#46039f"
            ],
            [
             0.2222222222222222,
             "#7201a8"
            ],
            [
             0.3333333333333333,
             "#9c179e"
            ],
            [
             0.4444444444444444,
             "#bd3786"
            ],
            [
             0.5555555555555556,
             "#d8576b"
            ],
            [
             0.6666666666666666,
             "#ed7953"
            ],
            [
             0.7777777777777778,
             "#fb9f3a"
            ],
            [
             0.8888888888888888,
             "#fdca26"
            ],
            [
             1,
             "#f0f921"
            ]
           ]
          },
          "colorway": [
           "#636efa",
           "#EF553B",
           "#00cc96",
           "#ab63fa",
           "#FFA15A",
           "#19d3f3",
           "#FF6692",
           "#B6E880",
           "#FF97FF",
           "#FECB52"
          ],
          "font": {
           "color": "#2a3f5f"
          },
          "geo": {
           "bgcolor": "white",
           "lakecolor": "white",
           "landcolor": "#E5ECF6",
           "showlakes": true,
           "showland": true,
           "subunitcolor": "white"
          },
          "hoverlabel": {
           "align": "left"
          },
          "hovermode": "closest",
          "mapbox": {
           "style": "light"
          },
          "paper_bgcolor": "white",
          "plot_bgcolor": "#E5ECF6",
          "polar": {
           "angularaxis": {
            "gridcolor": "white",
            "linecolor": "white",
            "ticks": ""
           },
           "bgcolor": "#E5ECF6",
           "radialaxis": {
            "gridcolor": "white",
            "linecolor": "white",
            "ticks": ""
           }
          },
          "scene": {
           "xaxis": {
            "backgroundcolor": "#E5ECF6",
            "gridcolor": "white",
            "gridwidth": 2,
            "linecolor": "white",
            "showbackground": true,
            "ticks": "",
            "zerolinecolor": "white"
           },
           "yaxis": {
            "backgroundcolor": "#E5ECF6",
            "gridcolor": "white",
            "gridwidth": 2,
            "linecolor": "white",
            "showbackground": true,
            "ticks": "",
            "zerolinecolor": "white"
           },
           "zaxis": {
            "backgroundcolor": "#E5ECF6",
            "gridcolor": "white",
            "gridwidth": 2,
            "linecolor": "white",
            "showbackground": true,
            "ticks": "",
            "zerolinecolor": "white"
           }
          },
          "shapedefaults": {
           "line": {
            "color": "#2a3f5f"
           }
          },
          "ternary": {
           "aaxis": {
            "gridcolor": "white",
            "linecolor": "white",
            "ticks": ""
           },
           "baxis": {
            "gridcolor": "white",
            "linecolor": "white",
            "ticks": ""
           },
           "bgcolor": "#E5ECF6",
           "caxis": {
            "gridcolor": "white",
            "linecolor": "white",
            "ticks": ""
           }
          },
          "title": {
           "x": 0.05
          },
          "xaxis": {
           "automargin": true,
           "gridcolor": "white",
           "linecolor": "white",
           "ticks": "",
           "title": {
            "standoff": 15
           },
           "zerolinecolor": "white",
           "zerolinewidth": 2
          },
          "yaxis": {
           "automargin": true,
           "gridcolor": "white",
           "linecolor": "white",
           "ticks": "",
           "title": {
            "standoff": 15
           },
           "zerolinecolor": "white",
           "zerolinewidth": 2
          }
         }
        },
        "title": {
         "text": "Barplot of Feature importances"
        },
        "width": 900,
        "yaxis": {
         "showgrid": false,
         "showline": false,
         "showticklabels": true
        }
       }
      },
      "text/html": [
       "<div>                            <div id=\"a84c15c6-36e7-49bc-af8f-28fd27e3baa5\" class=\"plotly-graph-div\" style=\"height:2000px; width:900px;\"></div>            <script type=\"text/javascript\">                require([\"plotly\"], function(Plotly) {                    window.PLOTLYENV=window.PLOTLYENV || {};                                    if (document.getElementById(\"a84c15c6-36e7-49bc-af8f-28fd27e3baa5\")) {                    Plotly.newPlot(                        \"a84c15c6-36e7-49bc-af8f-28fd27e3baa5\",                        [{\"marker\":{\"color\":[0.0,0.0,8.13698157341873e-05,8.714881275922585e-05,0.0001743841158121987,0.00038187074946555903,0.0007359833058787537,0.0008898338251880101,0.0010235214616130582,0.0010353650646840607,0.001097161549741486,0.0011081179697313614,0.0011563585730706997,0.001243477539760405,0.0012810076628925512,0.0013922921388539971,0.0018001267414166973,0.0018223957286437505,0.0018665720078213915,0.0020440684850605664,0.0021449526459426326,0.0022048163994628917,0.0023049697354613815,0.0023162357120651337,0.0023442577363128555,0.0024483890627541574,0.0024516934858812528,0.0024604920463395024,0.00250512223785344,0.002525981475911448,0.002538335318886481,0.002586841664275628,0.0026217245454121085,0.0026987751068101,0.0027860595879876946,0.002828233016656021,0.002868877202226896,0.0029464540898067096,0.0029511799862357055,0.0031160901437162656,0.003118806331040407,0.003139659788376297,0.0031478835816642265,0.0031494883049609894,0.0031860153859362165,0.0032461928431355954,0.003254680353088308,0.0032654474783426206,0.0032710000621479145,0.003339526742899683,0.0033635112379429774,0.0033938023025062354,0.0033990200035892023,0.003405195580329431,0.003407182081345414,0.003482333552874695,0.003516460844960215,0.003570321366673071,0.0035859892931830507,0.003600808659567534,0.0036474476878067446,0.0036493816069095254,0.00368846552604471,0.003725802003783413,0.003768552556886459,0.003784715040695171,0.0038002954677289072,0.003802163489673151,0.0038043969809065693,0.0038169280033565757,0.003818959799645164,0.0038779984903842117,0.003946606448942537,0.00397448575177679,0.0040169016760622615,0.004028909261502929,0.004050232414182857,0.004060191432079969,0.004104824432487141,0.004114831741554501,0.004119314962937307,0.004201134961065277,0.004203774842299296,0.004212836153827968,0.00423330433244463,0.004234124461216454,0.004276945837362378,0.004356024416255525,0.0043691831424230426,0.004402213473208316,0.004405861122534597,0.004425975604223217,0.0044286185677688055,0.004429888933609068,0.004443746677856734,0.004456626009887265,0.00447539222018665,0.0044815112814509716,0.004489260659356429,0.0045020414619427115,0.004503784313380766,0.004508326188129838,0.004513650748593146,0.0045339189422209025,0.004562852841663592,0.004651465270319194,0.0048376633000941915,0.00484194524606894,0.004874313129234862,0.004877484852677905,0.004922046242210441,0.004972127589762169,0.005011719758424932,0.005061999256740236,0.005098552190156014,0.005106197156369853,0.005107790843954723,0.005136100442240608,0.005140195589728295,0.005156960608144114,0.005395793350567434,0.005436165806497214,0.005436254450645875,0.005478701545157614,0.005529489857520674,0.00556653923969675,0.0056791611735812235,0.005686265613986271,0.005719767596859842,0.005789013357581714,0.005916916918366795,0.005939952627610043,0.005955247537884463,0.006050714513610703,0.006071487315391108,0.006081013585226785,0.006093622399365365,0.006117119853483809,0.006145873746469231,0.006156687407648123,0.006182823128507168,0.0061909852480839704,0.006512451498275803,0.006517596077579083,0.0068591622732347484,0.00692432741548513,0.007037903115429335,0.007040006218542104,0.007041067311655897,0.007341685408363284,0.007688817526614131,0.007703398246834674,0.007831161942126685,0.008213576945143984,0.008367312882065861,0.008417699247995597,0.00876656869106513,0.009191296077756475,0.009514526014374679,0.009872777464243856,0.011591779057613865,0.012796758611453197,0.013059761709219301,0.013142100661952255,0.014125886405862664,0.014516486670982714,0.020371768808988597,0.022018533023738955,0.022196149222715063,0.0231050990279795,0.024314232508090956,0.02613032473750781,0.0284044178078827,0.035876173785003566,0.04912677134340876],\"colorscale\":[[0.0,\"#440154\"],[0.1111111111111111,\"#482878\"],[0.2222222222222222,\"#3e4989\"],[0.3333333333333333,\"#31688e\"],[0.4444444444444444,\"#26828e\"],[0.5555555555555556,\"#1f9e89\"],[0.6666666666666666,\"#35b779\"],[0.7777777777777778,\"#6ece58\"],[0.8888888888888888,\"#b5de2b\"],[1.0,\"#fde725\"]],\"reversescale\":true},\"name\":\"Random Forest Feature importance\",\"orientation\":\"h\",\"type\":\"bar\",\"x\":[0.0,0.0,8.13698157341873e-05,8.714881275922585e-05,0.0001743841158121987,0.00038187074946555903,0.0007359833058787537,0.0008898338251880101,0.0010235214616130582,0.0010353650646840607,0.001097161549741486,0.0011081179697313614,0.0011563585730706997,0.001243477539760405,0.0012810076628925512,0.0013922921388539971,0.0018001267414166973,0.0018223957286437505,0.0018665720078213915,0.0020440684850605664,0.0021449526459426326,0.0022048163994628917,0.0023049697354613815,0.0023162357120651337,0.0023442577363128555,0.0024483890627541574,0.0024516934858812528,0.0024604920463395024,0.00250512223785344,0.002525981475911448,0.002538335318886481,0.002586841664275628,0.0026217245454121085,0.0026987751068101,0.0027860595879876946,0.002828233016656021,0.002868877202226896,0.0029464540898067096,0.0029511799862357055,0.0031160901437162656,0.003118806331040407,0.003139659788376297,0.0031478835816642265,0.0031494883049609894,0.0031860153859362165,0.0032461928431355954,0.003254680353088308,0.0032654474783426206,0.0032710000621479145,0.003339526742899683,0.0033635112379429774,0.0033938023025062354,0.0033990200035892023,0.003405195580329431,0.003407182081345414,0.003482333552874695,0.003516460844960215,0.003570321366673071,0.0035859892931830507,0.003600808659567534,0.0036474476878067446,0.0036493816069095254,0.00368846552604471,0.003725802003783413,0.003768552556886459,0.003784715040695171,0.0038002954677289072,0.003802163489673151,0.0038043969809065693,0.0038169280033565757,0.003818959799645164,0.0038779984903842117,0.003946606448942537,0.00397448575177679,0.0040169016760622615,0.004028909261502929,0.004050232414182857,0.004060191432079969,0.004104824432487141,0.004114831741554501,0.004119314962937307,0.004201134961065277,0.004203774842299296,0.004212836153827968,0.00423330433244463,0.004234124461216454,0.004276945837362378,0.004356024416255525,0.0043691831424230426,0.004402213473208316,0.004405861122534597,0.004425975604223217,0.0044286185677688055,0.004429888933609068,0.004443746677856734,0.004456626009887265,0.00447539222018665,0.0044815112814509716,0.004489260659356429,0.0045020414619427115,0.004503784313380766,0.004508326188129838,0.004513650748593146,0.0045339189422209025,0.004562852841663592,0.004651465270319194,0.0048376633000941915,0.00484194524606894,0.004874313129234862,0.004877484852677905,0.004922046242210441,0.004972127589762169,0.005011719758424932,0.005061999256740236,0.005098552190156014,0.005106197156369853,0.005107790843954723,0.005136100442240608,0.005140195589728295,0.005156960608144114,0.005395793350567434,0.005436165806497214,0.005436254450645875,0.005478701545157614,0.005529489857520674,0.00556653923969675,0.0056791611735812235,0.005686265613986271,0.005719767596859842,0.005789013357581714,0.005916916918366795,0.005939952627610043,0.005955247537884463,0.006050714513610703,0.006071487315391108,0.006081013585226785,0.006093622399365365,0.006117119853483809,0.006145873746469231,0.006156687407648123,0.006182823128507168,0.0061909852480839704,0.006512451498275803,0.006517596077579083,0.0068591622732347484,0.00692432741548513,0.007037903115429335,0.007040006218542104,0.007041067311655897,0.007341685408363284,0.007688817526614131,0.007703398246834674,0.007831161942126685,0.008213576945143984,0.008367312882065861,0.008417699247995597,0.00876656869106513,0.009191296077756475,0.009514526014374679,0.009872777464243856,0.011591779057613865,0.012796758611453197,0.013059761709219301,0.013142100661952255,0.014125886405862664,0.014516486670982714,0.020371768808988597,0.022018533023738955,0.022196149222715063,0.0231050990279795,0.024314232508090956,0.02613032473750781,0.0284044178078827,0.035876173785003566,0.04912677134340876],\"y\":[\"mens_before_after_pattern_sweet_spicy\",\"mens_disease_uterine_adenoma\",\"mens_before_after_pattern_heavy_makeup\",\"mens_before_after_pattern_accessory\",\"thyroid_cancer\",\"exercise_type_golf\",\"thyroid_hyperthyroidism\",\"thyroid_no\",\"mens_supplies_pad\",\"mens_cramp_symptoms_breathing_problem\",\"mens_cramp_peak_third_day\",\"mens_cramp_symptoms_dizziness\",\"mens_stress_peak_third_day\",\"mens_before_after_pattern_partying\",\"mens_disease_fibroids\",\"meal_exercise_effects_specific_same_inbody\",\"mens_cramp_symptoms_throw_up\",\"mens_supplies_cotton_pad\",\"meal_exercise_effects_specific_gain_weight\",\"mens_cramp_symptoms_digestive_upset\",\"mens_cramp_symptoms_chill\",\"mens_symptoms_3_waist_pain\",\"mens_cramp_part_below_thigh\",\"mens_cramp_symptoms_anemia\",\"mens_before_after_pattern_accommodation\",\"mens_cramp_symptoms_anxiety\",\"mens_cramps_family_younger_sister\",\"mens_symptoms_3_long_period\",\"mens_before_after_pattern_sex_nervousness\",\"mens_cramp_symptoms_belly_pain\",\"mens_supplies_cup\",\"mens_before_after_pattern_fancy\",\"mens_cramp_symptoms_muscle_pain\",\"thyroid_hypothyroidism\",\"mens_cramp_symptoms_decreased_appetite\",\"mens_cramp_symptoms_gastrointestinal_disorder\",\"mens_symptoms_3_long_cramps\",\"mens_cramps_family_older_sister\",\"mens_symptoms_3_lump\",\"mens_symptoms_3_stomachache\",\"mens_cramp_symptoms_fever\",\"mens_before_after_pattern_buy_comfy\",\"mens_cramp_symptoms_depression\",\"options_diarrhea\",\"mens_cramp_symptoms_migraine\",\"mens_cramp_symptoms_nervousness\",\"mens_symptoms_3_intense_pain\",\"meal_exercise_effects_specific_same_weight\",\"mens_cramp_symptoms_drowsiness\",\"mens_cramp_symptoms_dull_movement\",\"mens_cramp_part_belly\",\"mens_cramp_symptoms_cold_sweat\",\"mens_cramp_symptoms_nausea\",\"mens_before_after_pattern_sex_calculate_date\",\"mens_cramp_symptoms_leg_numbness\",\"mens_cramp_symptoms_orthostatic_hypotension\",\"mens_cramp_symptoms_sickness\",\"mens_cramp_symptoms_whirl\",\"mens_before_after_pattern_urgent_cancellation\",\"mens_cramps_family_mother\",\"meal_exercise_effects_specific_improved_inbody\",\"exercise_type_walking\",\"mens_before_after_pattern_work\",\"mens_before_after_pattern_throw_out_panty\",\"exercise_type_swimming\",\"mens_symptoms_3_irregular_blood\",\"mens_cramp_symptoms_excessive_sleep\",\"exercise_type_hiking\",\"meal_exercise_effects_specific_reduced_pain\",\"mens_cramp_symptoms_joint_pain\",\"options_insomnia\",\"mens_cramp_symptoms_back_pain\",\"mens_cramp_symptoms_insomnia\",\"mens_disease_no\",\"mens_cramp_symptoms_abdominal_swelling\",\"mens_cramp_symptoms_headache\",\"mens_symptoms_3_stressful\",\"mens_before_after_pattern_cancellation\",\"meal_exercise_effects_specific_no_pain\",\"mens_symptoms_3_urination\",\"improvements_hospital\",\"mens_cramp_symptoms_pimple\",\"mens_cramp_symptoms_sensitive_temperature\",\"exercise_type_running\",\"mens_cramp_symptoms_constipation\",\"mens_before_after_pattern_toilet\",\"mens_before_after_pattern_embarrassment\",\"mens_before_after_pattern_excitement\",\"mens_cramp_symptoms_sweet\",\"mens_cramp_symptoms_swelling\",\"mens_symptoms_3_abdominal_pain\",\"mens_cramp_symptoms_chest_pain\",\"mens_cramp_peak_before\",\"mens_stress_peak_first_day\",\"mens_cramp_symptoms_indigestion\",\"mens_before_after_pattern_sexual_desire\",\"mens_supplies_tampon\",\"mens_cramp_part_pelvis\",\"exercise_type_dance\",\"options_swelling\",\"exercise_type_fitness\",\"mens_before_after_pattern_panty_blood\",\"mens_symptoms_3_diarrhea\",\"mens_before_after_pattern_deceive\",\"mens_before_after_pattern_app\",\"mens_before_after_pattern_same_weight\",\"mens_before_after_pattern_comfy_clothes\",\"mens_cramp_symptoms_voracity\",\"mens_before_after_pattern_weight_changes\",\"mens_before_after_pattern_keen\",\"mens_cramp_symptoms_increased_appetite\",\"mens_before_after_pattern_buy_pads\",\"improvements_plan\",\"mens_before_after_pattern_withstand\",\"mens_before_after_pattern_dark_clothes\",\"mens_before_after_pattern_chest_lump\",\"improvements_results\",\"mens_cramp_symptoms_increased_libido\",\"meal_exercise_effects_specific_lose_weight\",\"mens_symptoms_3_cluster_blood\",\"options_cold\",\"mens_stress_peak_second_day\",\"mens_cramp_symptoms_leg_swelling\",\"improvements_1.1\",\"meal_exercise_effects_specific_reduced_cramps\",\"meal_exercise_effects_specific_no\",\"improvements_self_measurement\",\"mens_cramp_symptoms_gas\",\"mens_before_after_pattern_bulk_purchase_pads\",\"options_stiffness\",\"mens_symptoms_3_irregular_blood_amount\",\"mens_cramp_symptoms_emotion\",\"mens_disease_pms\",\"mens_cramp_peak_first_day\",\"mens_symptoms_3_gas\",\"mens_before_after_pattern_borrow_pads\",\"mens_cramp_symptoms_colic\",\"mens_before_after_pattern_help\",\"mens_cramp_peak_second_day\",\"mens_cramp_symptoms_exhaustion\",\"mens_cramp_part_waist\",\"mens_symptoms_3_pelvis_pain\",\"mens_cramp_symptoms_diarrhea\",\"mens_symptoms_3_abnormal\",\"meal_exercise_effects_specific_reduced_stress\",\"options_tension\",\"mens_cramps_family_relatives\",\"mens_symptoms_3_pressure\",\"options_abdominal_obesity\",\"mens_cramp_symptoms_lethargy\",\"exercise_type_yoga_pilates\",\"mens_stress_peak_before\",\"meal_exercise_effects_c\",\"exercise_type_bicycle\",\"meal_exercise_effects_specific_no_pms\",\"mens_cramps_family_no\",\"mens_cramp_symptoms_reduced_temperance\",\"meal_exercise_effects\",\"mens_symptoms_3_ovulation_cramps\",\"mens_meal\",\"mens_period\",\"mens_exercise\",\"pain_after\",\"menarche_age\",\"mens_cycle\",\"upper_body_size\",\"lower_body_size\",\"weight_3_1\",\"weight_1\",\"age\",\"height_1\",\"bmi\",\"mens_cramps_level_after_meal_exercise\",\"mens_stress\",\"mens_cramps_level_before_meal_exercise\"]}],                        {\"height\":2000,\"template\":{\"data\":{\"bar\":[{\"error_x\":{\"color\":\"#2a3f5f\"},\"error_y\":{\"color\":\"#2a3f5f\"},\"marker\":{\"line\":{\"color\":\"#E5ECF6\",\"width\":0.5},\"pattern\":{\"fillmode\":\"overlay\",\"size\":10,\"solidity\":0.2}},\"type\":\"bar\"}],\"barpolar\":[{\"marker\":{\"line\":{\"color\":\"#E5ECF6\",\"width\":0.5},\"pattern\":{\"fillmode\":\"overlay\",\"size\":10,\"solidity\":0.2}},\"type\":\"barpolar\"}],\"carpet\":[{\"aaxis\":{\"endlinecolor\":\"#2a3f5f\",\"gridcolor\":\"white\",\"linecolor\":\"white\",\"minorgridcolor\":\"white\",\"startlinecolor\":\"#2a3f5f\"},\"baxis\":{\"endlinecolor\":\"#2a3f5f\",\"gridcolor\":\"white\",\"linecolor\":\"white\",\"minorgridcolor\":\"white\",\"startlinecolor\":\"#2a3f5f\"},\"type\":\"carpet\"}],\"choropleth\":[{\"colorbar\":{\"outlinewidth\":0,\"ticks\":\"\"},\"type\":\"choropleth\"}],\"contour\":[{\"colorbar\":{\"outlinewidth\":0,\"ticks\":\"\"},\"colorscale\":[[0.0,\"#0d0887\"],[0.1111111111111111,\"#46039f\"],[0.2222222222222222,\"#7201a8\"],[0.3333333333333333,\"#9c179e\"],[0.4444444444444444,\"#bd3786\"],[0.5555555555555556,\"#d8576b\"],[0.6666666666666666,\"#ed7953\"],[0.7777777777777778,\"#fb9f3a\"],[0.8888888888888888,\"#fdca26\"],[1.0,\"#f0f921\"]],\"type\":\"contour\"}],\"contourcarpet\":[{\"colorbar\":{\"outlinewidth\":0,\"ticks\":\"\"},\"type\":\"contourcarpet\"}],\"heatmap\":[{\"colorbar\":{\"outlinewidth\":0,\"ticks\":\"\"},\"colorscale\":[[0.0,\"#0d0887\"],[0.1111111111111111,\"#46039f\"],[0.2222222222222222,\"#7201a8\"],[0.3333333333333333,\"#9c179e\"],[0.4444444444444444,\"#bd3786\"],[0.5555555555555556,\"#d8576b\"],[0.6666666666666666,\"#ed7953\"],[0.7777777777777778,\"#fb9f3a\"],[0.8888888888888888,\"#fdca26\"],[1.0,\"#f0f921\"]],\"type\":\"heatmap\"}],\"heatmapgl\":[{\"colorbar\":{\"outlinewidth\":0,\"ticks\":\"\"},\"colorscale\":[[0.0,\"#0d0887\"],[0.1111111111111111,\"#46039f\"],[0.2222222222222222,\"#7201a8\"],[0.3333333333333333,\"#9c179e\"],[0.4444444444444444,\"#bd3786\"],[0.5555555555555556,\"#d8576b\"],[0.6666666666666666,\"#ed7953\"],[0.7777777777777778,\"#fb9f3a\"],[0.8888888888888888,\"#fdca26\"],[1.0,\"#f0f921\"]],\"type\":\"heatmapgl\"}],\"histogram\":[{\"marker\":{\"pattern\":{\"fillmode\":\"overlay\",\"size\":10,\"solidity\":0.2}},\"type\":\"histogram\"}],\"histogram2d\":[{\"colorbar\":{\"outlinewidth\":0,\"ticks\":\"\"},\"colorscale\":[[0.0,\"#0d0887\"],[0.1111111111111111,\"#46039f\"],[0.2222222222222222,\"#7201a8\"],[0.3333333333333333,\"#9c179e\"],[0.4444444444444444,\"#bd3786\"],[0.5555555555555556,\"#d8576b\"],[0.6666666666666666,\"#ed7953\"],[0.7777777777777778,\"#fb9f3a\"],[0.8888888888888888,\"#fdca26\"],[1.0,\"#f0f921\"]],\"type\":\"histogram2d\"}],\"histogram2dcontour\":[{\"colorbar\":{\"outlinewidth\":0,\"ticks\":\"\"},\"colorscale\":[[0.0,\"#0d0887\"],[0.1111111111111111,\"#46039f\"],[0.2222222222222222,\"#7201a8\"],[0.3333333333333333,\"#9c179e\"],[0.4444444444444444,\"#bd3786\"],[0.5555555555555556,\"#d8576b\"],[0.6666666666666666,\"#ed7953\"],[0.7777777777777778,\"#fb9f3a\"],[0.8888888888888888,\"#fdca26\"],[1.0,\"#f0f921\"]],\"type\":\"histogram2dcontour\"}],\"mesh3d\":[{\"colorbar\":{\"outlinewidth\":0,\"ticks\":\"\"},\"type\":\"mesh3d\"}],\"parcoords\":[{\"line\":{\"colorbar\":{\"outlinewidth\":0,\"ticks\":\"\"}},\"type\":\"parcoords\"}],\"pie\":[{\"automargin\":true,\"type\":\"pie\"}],\"scatter\":[{\"marker\":{\"colorbar\":{\"outlinewidth\":0,\"ticks\":\"\"}},\"type\":\"scatter\"}],\"scatter3d\":[{\"line\":{\"colorbar\":{\"outlinewidth\":0,\"ticks\":\"\"}},\"marker\":{\"colorbar\":{\"outlinewidth\":0,\"ticks\":\"\"}},\"type\":\"scatter3d\"}],\"scattercarpet\":[{\"marker\":{\"colorbar\":{\"outlinewidth\":0,\"ticks\":\"\"}},\"type\":\"scattercarpet\"}],\"scattergeo\":[{\"marker\":{\"colorbar\":{\"outlinewidth\":0,\"ticks\":\"\"}},\"type\":\"scattergeo\"}],\"scattergl\":[{\"marker\":{\"colorbar\":{\"outlinewidth\":0,\"ticks\":\"\"}},\"type\":\"scattergl\"}],\"scattermapbox\":[{\"marker\":{\"colorbar\":{\"outlinewidth\":0,\"ticks\":\"\"}},\"type\":\"scattermapbox\"}],\"scatterpolar\":[{\"marker\":{\"colorbar\":{\"outlinewidth\":0,\"ticks\":\"\"}},\"type\":\"scatterpolar\"}],\"scatterpolargl\":[{\"marker\":{\"colorbar\":{\"outlinewidth\":0,\"ticks\":\"\"}},\"type\":\"scatterpolargl\"}],\"scatterternary\":[{\"marker\":{\"colorbar\":{\"outlinewidth\":0,\"ticks\":\"\"}},\"type\":\"scatterternary\"}],\"surface\":[{\"colorbar\":{\"outlinewidth\":0,\"ticks\":\"\"},\"colorscale\":[[0.0,\"#0d0887\"],[0.1111111111111111,\"#46039f\"],[0.2222222222222222,\"#7201a8\"],[0.3333333333333333,\"#9c179e\"],[0.4444444444444444,\"#bd3786\"],[0.5555555555555556,\"#d8576b\"],[0.6666666666666666,\"#ed7953\"],[0.7777777777777778,\"#fb9f3a\"],[0.8888888888888888,\"#fdca26\"],[1.0,\"#f0f921\"]],\"type\":\"surface\"}],\"table\":[{\"cells\":{\"fill\":{\"color\":\"#EBF0F8\"},\"line\":{\"color\":\"white\"}},\"header\":{\"fill\":{\"color\":\"#C8D4E3\"},\"line\":{\"color\":\"white\"}},\"type\":\"table\"}]},\"layout\":{\"annotationdefaults\":{\"arrowcolor\":\"#2a3f5f\",\"arrowhead\":0,\"arrowwidth\":1},\"autotypenumbers\":\"strict\",\"coloraxis\":{\"colorbar\":{\"outlinewidth\":0,\"ticks\":\"\"}},\"colorscale\":{\"diverging\":[[0,\"#8e0152\"],[0.1,\"#c51b7d\"],[0.2,\"#de77ae\"],[0.3,\"#f1b6da\"],[0.4,\"#fde0ef\"],[0.5,\"#f7f7f7\"],[0.6,\"#e6f5d0\"],[0.7,\"#b8e186\"],[0.8,\"#7fbc41\"],[0.9,\"#4d9221\"],[1,\"#276419\"]],\"sequential\":[[0.0,\"#0d0887\"],[0.1111111111111111,\"#46039f\"],[0.2222222222222222,\"#7201a8\"],[0.3333333333333333,\"#9c179e\"],[0.4444444444444444,\"#bd3786\"],[0.5555555555555556,\"#d8576b\"],[0.6666666666666666,\"#ed7953\"],[0.7777777777777778,\"#fb9f3a\"],[0.8888888888888888,\"#fdca26\"],[1.0,\"#f0f921\"]],\"sequentialminus\":[[0.0,\"#0d0887\"],[0.1111111111111111,\"#46039f\"],[0.2222222222222222,\"#7201a8\"],[0.3333333333333333,\"#9c179e\"],[0.4444444444444444,\"#bd3786\"],[0.5555555555555556,\"#d8576b\"],[0.6666666666666666,\"#ed7953\"],[0.7777777777777778,\"#fb9f3a\"],[0.8888888888888888,\"#fdca26\"],[1.0,\"#f0f921\"]]},\"colorway\":[\"#636efa\",\"#EF553B\",\"#00cc96\",\"#ab63fa\",\"#FFA15A\",\"#19d3f3\",\"#FF6692\",\"#B6E880\",\"#FF97FF\",\"#FECB52\"],\"font\":{\"color\":\"#2a3f5f\"},\"geo\":{\"bgcolor\":\"white\",\"lakecolor\":\"white\",\"landcolor\":\"#E5ECF6\",\"showlakes\":true,\"showland\":true,\"subunitcolor\":\"white\"},\"hoverlabel\":{\"align\":\"left\"},\"hovermode\":\"closest\",\"mapbox\":{\"style\":\"light\"},\"paper_bgcolor\":\"white\",\"plot_bgcolor\":\"#E5ECF6\",\"polar\":{\"angularaxis\":{\"gridcolor\":\"white\",\"linecolor\":\"white\",\"ticks\":\"\"},\"bgcolor\":\"#E5ECF6\",\"radialaxis\":{\"gridcolor\":\"white\",\"linecolor\":\"white\",\"ticks\":\"\"}},\"scene\":{\"xaxis\":{\"backgroundcolor\":\"#E5ECF6\",\"gridcolor\":\"white\",\"gridwidth\":2,\"linecolor\":\"white\",\"showbackground\":true,\"ticks\":\"\",\"zerolinecolor\":\"white\"},\"yaxis\":{\"backgroundcolor\":\"#E5ECF6\",\"gridcolor\":\"white\",\"gridwidth\":2,\"linecolor\":\"white\",\"showbackground\":true,\"ticks\":\"\",\"zerolinecolor\":\"white\"},\"zaxis\":{\"backgroundcolor\":\"#E5ECF6\",\"gridcolor\":\"white\",\"gridwidth\":2,\"linecolor\":\"white\",\"showbackground\":true,\"ticks\":\"\",\"zerolinecolor\":\"white\"}},\"shapedefaults\":{\"line\":{\"color\":\"#2a3f5f\"}},\"ternary\":{\"aaxis\":{\"gridcolor\":\"white\",\"linecolor\":\"white\",\"ticks\":\"\"},\"baxis\":{\"gridcolor\":\"white\",\"linecolor\":\"white\",\"ticks\":\"\"},\"bgcolor\":\"#E5ECF6\",\"caxis\":{\"gridcolor\":\"white\",\"linecolor\":\"white\",\"ticks\":\"\"}},\"title\":{\"x\":0.05},\"xaxis\":{\"automargin\":true,\"gridcolor\":\"white\",\"linecolor\":\"white\",\"ticks\":\"\",\"title\":{\"standoff\":15},\"zerolinecolor\":\"white\",\"zerolinewidth\":2},\"yaxis\":{\"automargin\":true,\"gridcolor\":\"white\",\"linecolor\":\"white\",\"ticks\":\"\",\"title\":{\"standoff\":15},\"zerolinecolor\":\"white\",\"zerolinewidth\":2}}},\"title\":{\"text\":\"Barplot of Feature importances\"},\"width\":900,\"yaxis\":{\"showgrid\":false,\"showline\":false,\"showticklabels\":true}},                        {\"responsive\": true}                    ).then(function(){\n",
       "                            \n",
       "var gd = document.getElementById('a84c15c6-36e7-49bc-af8f-28fd27e3baa5');\n",
       "var x = new MutationObserver(function (mutations, observer) {{\n",
       "        var display = window.getComputedStyle(gd).display;\n",
       "        if (!display || display === 'none') {{\n",
       "            console.log([gd, 'removed!']);\n",
       "            Plotly.purge(gd);\n",
       "            observer.disconnect();\n",
       "        }}\n",
       "}});\n",
       "\n",
       "// Listen for the removal of the full notebook cells\n",
       "var notebookContainer = gd.closest('#notebook-container');\n",
       "if (notebookContainer) {{\n",
       "    x.observe(notebookContainer, {childList: true});\n",
       "}}\n",
       "\n",
       "// Listen for the clearing of the current output cell\n",
       "var outputEl = gd.closest('.output');\n",
       "if (outputEl) {{\n",
       "    x.observe(outputEl, {childList: true});\n",
       "}}\n",
       "\n",
       "                        })                };                });            </script>        </div>"
      ]
     },
     "metadata": {},
     "output_type": "display_data"
    }
   ],
   "source": [
    "import matplotlib.pyplot as plt\n",
    "%matplotlib inline\n",
    "import plotly.offline as py\n",
    "py.init_notebook_mode(connected=True)\n",
    "import plotly.graph_objs as go\n",
    "import plotly.tools as tls\n",
    "import pandas as pd\n",
    "import numpy as np\n",
    "from matplotlib import pyplot\n",
    "from sklearn.model_selection import train_test_split\n",
    "from sklearn.ensemble import RandomForestClassifier\n",
    "from sklearn.model_selection import train_test_split # train/test\n",
    "from sklearn.datasets import load_wine # dataset \n",
    "from sklearn.metrics import accuracy_score, confusion_matrix # 평가 : 분류정확도 \n",
    "from sklearn.metrics import classification_report # 평가 : 정확률, 재현율, f1_score\n",
    "from sklearn.model_selection import train_test_split\n",
    "df = pd.read_csv(\"data/finalservey_1912_clean.csv\")\n",
    "def rating(mens_cramp):\n",
    "    if mens_cramp >= 8: return 2\n",
    "    elif mens_cramp >= 7: return 1\n",
    "    else: return 0\n",
    "df['mens_cramp_rank'] = df.apply(lambda x: rating(x['mens_cramp']),axis=1)\n",
    "\n",
    "X = df[['height_1', 'weight_1', 'bmi', 'mens_period', 'mens_cycle', 'age', 'upper_body_size', 'lower_body_size', 'options_tension', 'options_stiffness', 'options_diarrhea', 'options_insomnia', 'options_abdominal_obesity', 'options_swelling', 'options_cold', 'exercise_type_walking', 'exercise_type_running', 'exercise_type_hiking', 'exercise_type_bicycle', 'exercise_type_golf', 'exercise_type_yoga_pilates', 'exercise_type_swimming', 'exercise_type_dance', 'exercise_type_fitness', 'thyroid_no', 'thyroid_hypothyroidism', 'thyroid_hyperthyroidism', 'thyroid_cancer', 'mens_disease_no', 'mens_disease_pms', 'mens_disease_fibroids', 'mens_disease_uterine_adenoma', 'menarche_age', 'mens_supplies_pad', 'mens_supplies_cotton_pad', 'mens_supplies_tampon', 'mens_supplies_cup', 'mens_cramp_peak_before', 'mens_cramp_peak_first_day', 'mens_cramp_peak_second_day', 'mens_cramp_peak_third_day', 'mens_stress', 'mens_stress_peak_before', 'mens_stress_peak_first_day', 'mens_stress_peak_second_day', 'mens_stress_peak_third_day', 'mens_cramp_part_belly', 'mens_cramp_part_pelvis', 'mens_cramp_part_waist', 'mens_cramp_part_below_thigh', 'mens_cramp_symptoms_swelling', 'mens_cramp_symptoms_emotion', 'mens_cramp_symptoms_belly_pain', 'mens_cramp_symptoms_constipation', 'mens_cramp_symptoms_lethargy', 'mens_cramp_symptoms_nervousness', 'mens_cramp_symptoms_indigestion', 'mens_cramp_symptoms_gas', 'mens_cramp_symptoms_diarrhea', 'mens_cramp_symptoms_digestive_upset', 'mens_cramp_symptoms_back_pain', 'mens_cramp_symptoms_chest_pain', 'mens_cramp_symptoms_increased_appetite', 'mens_cramp_symptoms_headache', 'mens_cramp_symptoms_depression', 'mens_cramp_symptoms_reduced_temperance', 'mens_cramp_symptoms_migraine', 'mens_cramp_symptoms_drowsiness', 'mens_cramp_symptoms_sensitive_temperature', 'mens_cramp_symptoms_colic', 'mens_cramp_symptoms_leg_numbness', 'mens_cramp_symptoms_leg_swelling', 'mens_cramp_symptoms_voracity', 'mens_cramp_symptoms_insomnia', 'mens_cramp_symptoms_anxiety', 'mens_cramp_symptoms_nausea', 'mens_cramp_symptoms_decreased_appetite', 'mens_cramp_symptoms_excessive_sleep', 'mens_cramp_symptoms_pimple', 'mens_cramp_symptoms_sickness', 'mens_cramp_symptoms_exhaustion', 'mens_cramp_symptoms_breathing_problem', 'mens_cramp_symptoms_dull_movement', 'mens_cramp_symptoms_gastrointestinal_disorder', 'mens_cramp_symptoms_muscle_pain', 'mens_cramp_symptoms_increased_libido', 'mens_cramp_symptoms_cold_sweat', 'mens_cramp_symptoms_dizziness', 'mens_cramp_symptoms_throw_up', 'mens_cramp_symptoms_abdominal_swelling', 'mens_cramp_symptoms_anemia', 'mens_cramp_symptoms_whirl', 'mens_cramp_symptoms_joint_pain', 'mens_cramp_symptoms_sweet', 'mens_cramp_symptoms_fever', 'mens_cramp_symptoms_chill', 'mens_cramp_symptoms_orthostatic_hypotension', 'mens_cramps_family_mother', 'mens_cramps_family_older_sister', 'mens_cramps_family_younger_sister', 'mens_cramps_family_relatives', 'mens_cramps_family_no', 'mens_symptoms_3_ovulation_cramps', 'mens_symptoms_3_long_cramps', 'mens_symptoms_3_abnormal', 'mens_symptoms_3_pressure', 'mens_symptoms_3_lump', 'mens_symptoms_3_abdominal_pain', 'mens_symptoms_3_gas', 'mens_symptoms_3_pelvis_pain', 'mens_symptoms_3_long_period', 'mens_symptoms_3_irregular_blood', 'mens_symptoms_3_waist_pain', 'mens_symptoms_3_stressful', 'mens_symptoms_3_cluster_blood', 'mens_symptoms_3_diarrhea', 'mens_symptoms_3_urination', 'mens_symptoms_3_irregular_blood_amount', 'mens_symptoms_3_intense_pain', 'mens_symptoms_3_stomachache', 'mens_before_after_pattern_toilet', 'mens_before_after_pattern_app', 'mens_before_after_pattern_embarrassment', 'mens_before_after_pattern_sex_nervousness', 'mens_before_after_pattern_sex_calculate_date', 'mens_before_after_pattern_sexual_desire', 'mens_before_after_pattern_accommodation', 'mens_before_after_pattern_keen', 'mens_before_after_pattern_cancellation', 'mens_before_after_pattern_work', 'mens_before_after_pattern_withstand', 'mens_before_after_pattern_urgent_cancellation', 'mens_before_after_pattern_sweet_spicy', 'mens_before_after_pattern_buy_comfy', 'mens_before_after_pattern_fancy', 'mens_before_after_pattern_partying', 'mens_before_after_pattern_comfy_clothes', 'mens_before_after_pattern_dark_clothes', 'mens_before_after_pattern_accessory', 'mens_before_after_pattern_heavy_makeup', 'mens_before_after_pattern_deceive', 'mens_before_after_pattern_help', 'mens_before_after_pattern_buy_pads', 'mens_before_after_pattern_borrow_pads', 'mens_before_after_pattern_bulk_purchase_pads', 'mens_before_after_pattern_excitement', 'mens_before_after_pattern_panty_blood', 'mens_before_after_pattern_throw_out_panty', 'mens_before_after_pattern_chest_lump', 'mens_before_after_pattern_weight_changes', 'mens_before_after_pattern_same_weight', 'mens_meal', 'mens_exercise', 'mens_cramps_level_before_meal_exercise', 'mens_cramps_level_after_meal_exercise', 'meal_exercise_effects', 'meal_exercise_effects_specific_reduced_cramps', 'meal_exercise_effects_specific_reduced_stress', 'meal_exercise_effects_specific_reduced_pain', 'meal_exercise_effects_specific_lose_weight', 'meal_exercise_effects_specific_gain_weight', 'meal_exercise_effects_specific_same_weight', 'meal_exercise_effects_specific_improved_inbody', 'meal_exercise_effects_specific_same_inbody', 'meal_exercise_effects_specific_no_pain', 'meal_exercise_effects_specific_no_pms', 'meal_exercise_effects_specific_no', 'weight_3_1', 'improvements_self_measurement', 'improvements_plan', 'improvements_results', 'improvements_hospital', 'improvements_1.1', 'meal_exercise_effects_c', 'pain_after']]\n",
    "y = df['mens_cramp_rank']\n",
    "X_train, X_test, y_train, y_test = train_test_split(X, y, test_size = 0.3)\n",
    "\n",
    "model = RandomForestClassifier(n_estimators = 400)\n",
    "model.fit(X_train, y_train)\n",
    "\n",
    "y_pred = model.predict(X_test)\n",
    "print(\"Accuracy is: \", accuracy_score(y_pred, y_test))\n",
    "\n",
    "con_mat = confusion_matrix(y_pred, y_test)\n",
    "print(con_mat)\n",
    "\n",
    "report = classification_report(y_pred, y_test)\n",
    "print(report)\n",
    "\n",
    "features = X_train.columns.values\n",
    "print(\"---- Training Done ----\")\n",
    "\n",
    "trace = go.Scatter(\n",
    "    y = model.feature_importances_,\n",
    "    x = features,\n",
    "    mode = 'markers',\n",
    "    marker = dict(\n",
    "        sizemode = 'diameter',\n",
    "        sizeref = 1,\n",
    "        size = 13,\n",
    "        color = model.feature_importances_,\n",
    "        colorscale='Portland',\n",
    "        showscale = True\n",
    "    ),\n",
    "    text = features\n",
    ")\n",
    "data = [trace]\n",
    "\n",
    "layout = go.Layout(\n",
    "    autosize = True,\n",
    "    title = 'Random Forest Feature Importance',\n",
    "    hovermode = 'closest',\n",
    "    xaxis = dict(\n",
    "        ticklen = 5,\n",
    "        showgrid = False,\n",
    "        zeroline = False,\n",
    "        showline = False\n",
    "    ),\n",
    "    yaxis = dict(\n",
    "        title = 'Feature Importance',\n",
    "        showgrid = False,\n",
    "        zeroline = False,\n",
    "        ticklen = 5,\n",
    "        gridwidth = 2\n",
    "    ),\n",
    "    showlegend = False\n",
    ")\n",
    "fig = go.Figure(data, layout = layout)\n",
    "py.iplot(fig, filename = 'scatter2010')\n",
    "\n",
    "x, y = (list(x) for x in zip(*sorted(zip(model.feature_importances_, features), reverse = False)))\n",
    "trace2 = go.Bar(\n",
    "    x = x,\n",
    "    y = y,\n",
    "    marker = dict(\n",
    "        color = x,\n",
    "        colorscale = 'Viridis',\n",
    "        reversescale = True\n",
    "    ),\n",
    "    name = 'Random Forest Feature importance',\n",
    "    orientation = 'h'\n",
    ")\n",
    "\n",
    "layout = dict(\n",
    "    title = 'Barplot of Feature importances',\n",
    "    width = 900, height = 2000,\n",
    "    yaxis = dict(\n",
    "        showgrid = False,\n",
    "        showline = False,\n",
    "        showticklabels = True\n",
    "    )\n",
    ")\n",
    "\n",
    "fig1 = go.Figure(data = [trace2])\n",
    "fig1['layout'].update(layout)\n",
    "py.iplot(fig1, filename = 'plots')\n",
    "\n",
    "def plot_feature_importances_"
   ]
  },
  {
   "cell_type": "code",
   "execution_count": 115,
   "id": "5f479e64",
   "metadata": {
    "scrolled": true
   },
   "outputs": [
    {
     "data": {
      "text/html": [
       "        <script type=\"text/javascript\">\n",
       "        window.PlotlyConfig = {MathJaxConfig: 'local'};\n",
       "        if (window.MathJax) {MathJax.Hub.Config({SVG: {font: \"STIX-Web\"}});}\n",
       "        if (typeof require !== 'undefined') {\n",
       "        require.undef(\"plotly\");\n",
       "        requirejs.config({\n",
       "            paths: {\n",
       "                'plotly': ['https://cdn.plot.ly/plotly-2.2.0.min']\n",
       "            }\n",
       "        });\n",
       "        require(['plotly'], function(Plotly) {\n",
       "            window._Plotly = Plotly;\n",
       "        });\n",
       "        }\n",
       "        </script>\n",
       "        "
      ]
     },
     "metadata": {},
     "output_type": "display_data"
    },
    {
     "name": "stdout",
     "output_type": "stream",
     "text": [
      "Accuracy is:  0.7051282051282052\n",
      "[[ 7  0  1]\n",
      " [ 7  6  4]\n",
      " [ 4  7 42]]\n",
      "              precision    recall  f1-score   support\n",
      "\n",
      "           0       0.39      0.88      0.54         8\n",
      "           1       0.46      0.35      0.40        17\n",
      "           2       0.89      0.79      0.84        53\n",
      "\n",
      "    accuracy                           0.71        78\n",
      "   macro avg       0.58      0.67      0.59        78\n",
      "weighted avg       0.75      0.71      0.71        78\n",
      "\n",
      "---- Training Done ----\n"
     ]
    },
    {
     "data": {
      "application/vnd.plotly.v1+json": {
       "config": {
        "linkText": "Export to plot.ly",
        "plotlyServerURL": "https://plot.ly",
        "showLink": false
       },
       "data": [
        {
         "marker": {
          "color": [
           0.08202164249862909,
           0.08326528064252674,
           0.05042372985839164,
           0.06077522780385313,
           0.05178766812754372,
           0.05141544355782158,
           0.0490849894146904,
           0.044775625319542274,
           0.026451450119371583,
           0.034832766162121234,
           0.029902390289652088,
           0.021594512936196377,
           0.02709948233201281,
           0.02842250714894291,
           0.0249917961431531,
           0.013258597492140686,
           0.019435829851451772,
           0.011866685870143058,
           0.012514142320679695,
           0.012221584324840258,
           0.024278508647985416,
           0.013307360304502566,
           0.011455148168356926,
           0.01183205077791889,
           0.01450078545774026,
           0.012533744801115621,
           0.01595788850227736,
           0.011304015619998989,
           0.01389203490622839,
           0.012525922840799047,
           0.01490914943670811,
           0.011235931120527091,
           0.00841660033590803,
           0.01148193687836373,
           0.018472026731131873,
           0.012042046717680286,
           0.010926689732630897,
           0.009391938099805304,
           0.013184986553370357,
           0.012209882153246771
          ],
          "colorscale": [
           [
            0,
            "rgb(12,51,131)"
           ],
           [
            0.25,
            "rgb(10,136,186)"
           ],
           [
            0.5,
            "rgb(242,211,56)"
           ],
           [
            0.75,
            "rgb(242,143,56)"
           ],
           [
            1,
            "rgb(217,30,30)"
           ]
          ],
          "showscale": true,
          "size": 13,
          "sizemode": "diameter",
          "sizeref": 1
         },
         "mode": "markers",
         "text": [
          "mens_cramps_level_before_meal_exercise",
          "mens_stress",
          "mens_cramps_level_after_meal_exercise",
          "bmi",
          "height_1",
          "age",
          "weight_1",
          "lower_body_size",
          "upper_body_size",
          "mens_cycle",
          "menarche_age",
          "pain_after",
          "mens_exercise",
          "mens_period",
          "mens_meal",
          "mens_symptoms_3_ovulation_cramps",
          "meal_exercise_effects",
          "mens_cramp_symptoms_reduced_temperance",
          "mens_cramps_family_no",
          "meal_exercise_effects_specific_no_pms",
          "exercise_type_bicycle",
          "meal_exercise_effects_c",
          "mens_stress_peak_before",
          "exercise_type_yoga_pilates",
          "mens_cramp_symptoms_lethargy",
          "options_abdominal_obesity",
          "mens_symptoms_3_pressure",
          "mens_cramps_family_relatives",
          "options_tension",
          "meal_exercise_effects_specific_reduced_stress",
          "mens_symptoms_3_abnormal",
          "mens_cramp_symptoms_diarrhea",
          "mens_symptoms_3_pelvis_pain",
          "mens_cramp_part_waist",
          "mens_cramp_symptoms_exhaustion",
          "mens_cramp_peak_second_day",
          "mens_before_after_pattern_help",
          "mens_cramp_symptoms_colic",
          "mens_before_after_pattern_borrow_pads",
          "mens_symptoms_3_gas"
         ],
         "type": "scatter",
         "x": [
          "mens_cramps_level_before_meal_exercise",
          "mens_stress",
          "mens_cramps_level_after_meal_exercise",
          "bmi",
          "height_1",
          "age",
          "weight_1",
          "lower_body_size",
          "upper_body_size",
          "mens_cycle",
          "menarche_age",
          "pain_after",
          "mens_exercise",
          "mens_period",
          "mens_meal",
          "mens_symptoms_3_ovulation_cramps",
          "meal_exercise_effects",
          "mens_cramp_symptoms_reduced_temperance",
          "mens_cramps_family_no",
          "meal_exercise_effects_specific_no_pms",
          "exercise_type_bicycle",
          "meal_exercise_effects_c",
          "mens_stress_peak_before",
          "exercise_type_yoga_pilates",
          "mens_cramp_symptoms_lethargy",
          "options_abdominal_obesity",
          "mens_symptoms_3_pressure",
          "mens_cramps_family_relatives",
          "options_tension",
          "meal_exercise_effects_specific_reduced_stress",
          "mens_symptoms_3_abnormal",
          "mens_cramp_symptoms_diarrhea",
          "mens_symptoms_3_pelvis_pain",
          "mens_cramp_part_waist",
          "mens_cramp_symptoms_exhaustion",
          "mens_cramp_peak_second_day",
          "mens_before_after_pattern_help",
          "mens_cramp_symptoms_colic",
          "mens_before_after_pattern_borrow_pads",
          "mens_symptoms_3_gas"
         ],
         "y": [
          0.08202164249862909,
          0.08326528064252674,
          0.05042372985839164,
          0.06077522780385313,
          0.05178766812754372,
          0.05141544355782158,
          0.0490849894146904,
          0.044775625319542274,
          0.026451450119371583,
          0.034832766162121234,
          0.029902390289652088,
          0.021594512936196377,
          0.02709948233201281,
          0.02842250714894291,
          0.0249917961431531,
          0.013258597492140686,
          0.019435829851451772,
          0.011866685870143058,
          0.012514142320679695,
          0.012221584324840258,
          0.024278508647985416,
          0.013307360304502566,
          0.011455148168356926,
          0.01183205077791889,
          0.01450078545774026,
          0.012533744801115621,
          0.01595788850227736,
          0.011304015619998989,
          0.01389203490622839,
          0.012525922840799047,
          0.01490914943670811,
          0.011235931120527091,
          0.00841660033590803,
          0.01148193687836373,
          0.018472026731131873,
          0.012042046717680286,
          0.010926689732630897,
          0.009391938099805304,
          0.013184986553370357,
          0.012209882153246771
         ]
        }
       ],
       "layout": {
        "autosize": true,
        "hovermode": "closest",
        "showlegend": false,
        "template": {
         "data": {
          "bar": [
           {
            "error_x": {
             "color": "#2a3f5f"
            },
            "error_y": {
             "color": "#2a3f5f"
            },
            "marker": {
             "line": {
              "color": "#E5ECF6",
              "width": 0.5
             },
             "pattern": {
              "fillmode": "overlay",
              "size": 10,
              "solidity": 0.2
             }
            },
            "type": "bar"
           }
          ],
          "barpolar": [
           {
            "marker": {
             "line": {
              "color": "#E5ECF6",
              "width": 0.5
             },
             "pattern": {
              "fillmode": "overlay",
              "size": 10,
              "solidity": 0.2
             }
            },
            "type": "barpolar"
           }
          ],
          "carpet": [
           {
            "aaxis": {
             "endlinecolor": "#2a3f5f",
             "gridcolor": "white",
             "linecolor": "white",
             "minorgridcolor": "white",
             "startlinecolor": "#2a3f5f"
            },
            "baxis": {
             "endlinecolor": "#2a3f5f",
             "gridcolor": "white",
             "linecolor": "white",
             "minorgridcolor": "white",
             "startlinecolor": "#2a3f5f"
            },
            "type": "carpet"
           }
          ],
          "choropleth": [
           {
            "colorbar": {
             "outlinewidth": 0,
             "ticks": ""
            },
            "type": "choropleth"
           }
          ],
          "contour": [
           {
            "colorbar": {
             "outlinewidth": 0,
             "ticks": ""
            },
            "colorscale": [
             [
              0,
              "#0d0887"
             ],
             [
              0.1111111111111111,
              "#46039f"
             ],
             [
              0.2222222222222222,
              "#7201a8"
             ],
             [
              0.3333333333333333,
              "#9c179e"
             ],
             [
              0.4444444444444444,
              "#bd3786"
             ],
             [
              0.5555555555555556,
              "#d8576b"
             ],
             [
              0.6666666666666666,
              "#ed7953"
             ],
             [
              0.7777777777777778,
              "#fb9f3a"
             ],
             [
              0.8888888888888888,
              "#fdca26"
             ],
             [
              1,
              "#f0f921"
             ]
            ],
            "type": "contour"
           }
          ],
          "contourcarpet": [
           {
            "colorbar": {
             "outlinewidth": 0,
             "ticks": ""
            },
            "type": "contourcarpet"
           }
          ],
          "heatmap": [
           {
            "colorbar": {
             "outlinewidth": 0,
             "ticks": ""
            },
            "colorscale": [
             [
              0,
              "#0d0887"
             ],
             [
              0.1111111111111111,
              "#46039f"
             ],
             [
              0.2222222222222222,
              "#7201a8"
             ],
             [
              0.3333333333333333,
              "#9c179e"
             ],
             [
              0.4444444444444444,
              "#bd3786"
             ],
             [
              0.5555555555555556,
              "#d8576b"
             ],
             [
              0.6666666666666666,
              "#ed7953"
             ],
             [
              0.7777777777777778,
              "#fb9f3a"
             ],
             [
              0.8888888888888888,
              "#fdca26"
             ],
             [
              1,
              "#f0f921"
             ]
            ],
            "type": "heatmap"
           }
          ],
          "heatmapgl": [
           {
            "colorbar": {
             "outlinewidth": 0,
             "ticks": ""
            },
            "colorscale": [
             [
              0,
              "#0d0887"
             ],
             [
              0.1111111111111111,
              "#46039f"
             ],
             [
              0.2222222222222222,
              "#7201a8"
             ],
             [
              0.3333333333333333,
              "#9c179e"
             ],
             [
              0.4444444444444444,
              "#bd3786"
             ],
             [
              0.5555555555555556,
              "#d8576b"
             ],
             [
              0.6666666666666666,
              "#ed7953"
             ],
             [
              0.7777777777777778,
              "#fb9f3a"
             ],
             [
              0.8888888888888888,
              "#fdca26"
             ],
             [
              1,
              "#f0f921"
             ]
            ],
            "type": "heatmapgl"
           }
          ],
          "histogram": [
           {
            "marker": {
             "pattern": {
              "fillmode": "overlay",
              "size": 10,
              "solidity": 0.2
             }
            },
            "type": "histogram"
           }
          ],
          "histogram2d": [
           {
            "colorbar": {
             "outlinewidth": 0,
             "ticks": ""
            },
            "colorscale": [
             [
              0,
              "#0d0887"
             ],
             [
              0.1111111111111111,
              "#46039f"
             ],
             [
              0.2222222222222222,
              "#7201a8"
             ],
             [
              0.3333333333333333,
              "#9c179e"
             ],
             [
              0.4444444444444444,
              "#bd3786"
             ],
             [
              0.5555555555555556,
              "#d8576b"
             ],
             [
              0.6666666666666666,
              "#ed7953"
             ],
             [
              0.7777777777777778,
              "#fb9f3a"
             ],
             [
              0.8888888888888888,
              "#fdca26"
             ],
             [
              1,
              "#f0f921"
             ]
            ],
            "type": "histogram2d"
           }
          ],
          "histogram2dcontour": [
           {
            "colorbar": {
             "outlinewidth": 0,
             "ticks": ""
            },
            "colorscale": [
             [
              0,
              "#0d0887"
             ],
             [
              0.1111111111111111,
              "#46039f"
             ],
             [
              0.2222222222222222,
              "#7201a8"
             ],
             [
              0.3333333333333333,
              "#9c179e"
             ],
             [
              0.4444444444444444,
              "#bd3786"
             ],
             [
              0.5555555555555556,
              "#d8576b"
             ],
             [
              0.6666666666666666,
              "#ed7953"
             ],
             [
              0.7777777777777778,
              "#fb9f3a"
             ],
             [
              0.8888888888888888,
              "#fdca26"
             ],
             [
              1,
              "#f0f921"
             ]
            ],
            "type": "histogram2dcontour"
           }
          ],
          "mesh3d": [
           {
            "colorbar": {
             "outlinewidth": 0,
             "ticks": ""
            },
            "type": "mesh3d"
           }
          ],
          "parcoords": [
           {
            "line": {
             "colorbar": {
              "outlinewidth": 0,
              "ticks": ""
             }
            },
            "type": "parcoords"
           }
          ],
          "pie": [
           {
            "automargin": true,
            "type": "pie"
           }
          ],
          "scatter": [
           {
            "marker": {
             "colorbar": {
              "outlinewidth": 0,
              "ticks": ""
             }
            },
            "type": "scatter"
           }
          ],
          "scatter3d": [
           {
            "line": {
             "colorbar": {
              "outlinewidth": 0,
              "ticks": ""
             }
            },
            "marker": {
             "colorbar": {
              "outlinewidth": 0,
              "ticks": ""
             }
            },
            "type": "scatter3d"
           }
          ],
          "scattercarpet": [
           {
            "marker": {
             "colorbar": {
              "outlinewidth": 0,
              "ticks": ""
             }
            },
            "type": "scattercarpet"
           }
          ],
          "scattergeo": [
           {
            "marker": {
             "colorbar": {
              "outlinewidth": 0,
              "ticks": ""
             }
            },
            "type": "scattergeo"
           }
          ],
          "scattergl": [
           {
            "marker": {
             "colorbar": {
              "outlinewidth": 0,
              "ticks": ""
             }
            },
            "type": "scattergl"
           }
          ],
          "scattermapbox": [
           {
            "marker": {
             "colorbar": {
              "outlinewidth": 0,
              "ticks": ""
             }
            },
            "type": "scattermapbox"
           }
          ],
          "scatterpolar": [
           {
            "marker": {
             "colorbar": {
              "outlinewidth": 0,
              "ticks": ""
             }
            },
            "type": "scatterpolar"
           }
          ],
          "scatterpolargl": [
           {
            "marker": {
             "colorbar": {
              "outlinewidth": 0,
              "ticks": ""
             }
            },
            "type": "scatterpolargl"
           }
          ],
          "scatterternary": [
           {
            "marker": {
             "colorbar": {
              "outlinewidth": 0,
              "ticks": ""
             }
            },
            "type": "scatterternary"
           }
          ],
          "surface": [
           {
            "colorbar": {
             "outlinewidth": 0,
             "ticks": ""
            },
            "colorscale": [
             [
              0,
              "#0d0887"
             ],
             [
              0.1111111111111111,
              "#46039f"
             ],
             [
              0.2222222222222222,
              "#7201a8"
             ],
             [
              0.3333333333333333,
              "#9c179e"
             ],
             [
              0.4444444444444444,
              "#bd3786"
             ],
             [
              0.5555555555555556,
              "#d8576b"
             ],
             [
              0.6666666666666666,
              "#ed7953"
             ],
             [
              0.7777777777777778,
              "#fb9f3a"
             ],
             [
              0.8888888888888888,
              "#fdca26"
             ],
             [
              1,
              "#f0f921"
             ]
            ],
            "type": "surface"
           }
          ],
          "table": [
           {
            "cells": {
             "fill": {
              "color": "#EBF0F8"
             },
             "line": {
              "color": "white"
             }
            },
            "header": {
             "fill": {
              "color": "#C8D4E3"
             },
             "line": {
              "color": "white"
             }
            },
            "type": "table"
           }
          ]
         },
         "layout": {
          "annotationdefaults": {
           "arrowcolor": "#2a3f5f",
           "arrowhead": 0,
           "arrowwidth": 1
          },
          "autotypenumbers": "strict",
          "coloraxis": {
           "colorbar": {
            "outlinewidth": 0,
            "ticks": ""
           }
          },
          "colorscale": {
           "diverging": [
            [
             0,
             "#8e0152"
            ],
            [
             0.1,
             "#c51b7d"
            ],
            [
             0.2,
             "#de77ae"
            ],
            [
             0.3,
             "#f1b6da"
            ],
            [
             0.4,
             "#fde0ef"
            ],
            [
             0.5,
             "#f7f7f7"
            ],
            [
             0.6,
             "#e6f5d0"
            ],
            [
             0.7,
             "#b8e186"
            ],
            [
             0.8,
             "#7fbc41"
            ],
            [
             0.9,
             "#4d9221"
            ],
            [
             1,
             "#276419"
            ]
           ],
           "sequential": [
            [
             0,
             "#0d0887"
            ],
            [
             0.1111111111111111,
             "#46039f"
            ],
            [
             0.2222222222222222,
             "#7201a8"
            ],
            [
             0.3333333333333333,
             "#9c179e"
            ],
            [
             0.4444444444444444,
             "#bd3786"
            ],
            [
             0.5555555555555556,
             "#d8576b"
            ],
            [
             0.6666666666666666,
             "#ed7953"
            ],
            [
             0.7777777777777778,
             "#fb9f3a"
            ],
            [
             0.8888888888888888,
             "#fdca26"
            ],
            [
             1,
             "#f0f921"
            ]
           ],
           "sequentialminus": [
            [
             0,
             "#0d0887"
            ],
            [
             0.1111111111111111,
             "#46039f"
            ],
            [
             0.2222222222222222,
             "#7201a8"
            ],
            [
             0.3333333333333333,
             "#9c179e"
            ],
            [
             0.4444444444444444,
             "#bd3786"
            ],
            [
             0.5555555555555556,
             "#d8576b"
            ],
            [
             0.6666666666666666,
             "#ed7953"
            ],
            [
             0.7777777777777778,
             "#fb9f3a"
            ],
            [
             0.8888888888888888,
             "#fdca26"
            ],
            [
             1,
             "#f0f921"
            ]
           ]
          },
          "colorway": [
           "#636efa",
           "#EF553B",
           "#00cc96",
           "#ab63fa",
           "#FFA15A",
           "#19d3f3",
           "#FF6692",
           "#B6E880",
           "#FF97FF",
           "#FECB52"
          ],
          "font": {
           "color": "#2a3f5f"
          },
          "geo": {
           "bgcolor": "white",
           "lakecolor": "white",
           "landcolor": "#E5ECF6",
           "showlakes": true,
           "showland": true,
           "subunitcolor": "white"
          },
          "hoverlabel": {
           "align": "left"
          },
          "hovermode": "closest",
          "mapbox": {
           "style": "light"
          },
          "paper_bgcolor": "white",
          "plot_bgcolor": "#E5ECF6",
          "polar": {
           "angularaxis": {
            "gridcolor": "white",
            "linecolor": "white",
            "ticks": ""
           },
           "bgcolor": "#E5ECF6",
           "radialaxis": {
            "gridcolor": "white",
            "linecolor": "white",
            "ticks": ""
           }
          },
          "scene": {
           "xaxis": {
            "backgroundcolor": "#E5ECF6",
            "gridcolor": "white",
            "gridwidth": 2,
            "linecolor": "white",
            "showbackground": true,
            "ticks": "",
            "zerolinecolor": "white"
           },
           "yaxis": {
            "backgroundcolor": "#E5ECF6",
            "gridcolor": "white",
            "gridwidth": 2,
            "linecolor": "white",
            "showbackground": true,
            "ticks": "",
            "zerolinecolor": "white"
           },
           "zaxis": {
            "backgroundcolor": "#E5ECF6",
            "gridcolor": "white",
            "gridwidth": 2,
            "linecolor": "white",
            "showbackground": true,
            "ticks": "",
            "zerolinecolor": "white"
           }
          },
          "shapedefaults": {
           "line": {
            "color": "#2a3f5f"
           }
          },
          "ternary": {
           "aaxis": {
            "gridcolor": "white",
            "linecolor": "white",
            "ticks": ""
           },
           "baxis": {
            "gridcolor": "white",
            "linecolor": "white",
            "ticks": ""
           },
           "bgcolor": "#E5ECF6",
           "caxis": {
            "gridcolor": "white",
            "linecolor": "white",
            "ticks": ""
           }
          },
          "title": {
           "x": 0.05
          },
          "xaxis": {
           "automargin": true,
           "gridcolor": "white",
           "linecolor": "white",
           "ticks": "",
           "title": {
            "standoff": 15
           },
           "zerolinecolor": "white",
           "zerolinewidth": 2
          },
          "yaxis": {
           "automargin": true,
           "gridcolor": "white",
           "linecolor": "white",
           "ticks": "",
           "title": {
            "standoff": 15
           },
           "zerolinecolor": "white",
           "zerolinewidth": 2
          }
         }
        },
        "title": {
         "text": "Random Forest Feature Importance"
        },
        "xaxis": {
         "showgrid": false,
         "showline": false,
         "ticklen": 5,
         "zeroline": false
        },
        "yaxis": {
         "gridwidth": 2,
         "showgrid": false,
         "ticklen": 5,
         "title": {
          "text": "Feature Importance"
         },
         "zeroline": false
        }
       }
      },
      "text/html": [
       "<div>                            <div id=\"b495de3f-fc57-41ac-aeaa-2bd9da72984c\" class=\"plotly-graph-div\" style=\"height:525px; width:100%;\"></div>            <script type=\"text/javascript\">                require([\"plotly\"], function(Plotly) {                    window.PLOTLYENV=window.PLOTLYENV || {};                                    if (document.getElementById(\"b495de3f-fc57-41ac-aeaa-2bd9da72984c\")) {                    Plotly.newPlot(                        \"b495de3f-fc57-41ac-aeaa-2bd9da72984c\",                        [{\"marker\":{\"color\":[0.08202164249862909,0.08326528064252674,0.05042372985839164,0.06077522780385313,0.05178766812754372,0.05141544355782158,0.0490849894146904,0.044775625319542274,0.026451450119371583,0.034832766162121234,0.029902390289652088,0.021594512936196377,0.02709948233201281,0.02842250714894291,0.0249917961431531,0.013258597492140686,0.019435829851451772,0.011866685870143058,0.012514142320679695,0.012221584324840258,0.024278508647985416,0.013307360304502566,0.011455148168356926,0.01183205077791889,0.01450078545774026,0.012533744801115621,0.01595788850227736,0.011304015619998989,0.01389203490622839,0.012525922840799047,0.01490914943670811,0.011235931120527091,0.00841660033590803,0.01148193687836373,0.018472026731131873,0.012042046717680286,0.010926689732630897,0.009391938099805304,0.013184986553370357,0.012209882153246771],\"colorscale\":[[0.0,\"rgb(12,51,131)\"],[0.25,\"rgb(10,136,186)\"],[0.5,\"rgb(242,211,56)\"],[0.75,\"rgb(242,143,56)\"],[1.0,\"rgb(217,30,30)\"]],\"showscale\":true,\"size\":13,\"sizemode\":\"diameter\",\"sizeref\":1},\"mode\":\"markers\",\"text\":[\"mens_cramps_level_before_meal_exercise\",\"mens_stress\",\"mens_cramps_level_after_meal_exercise\",\"bmi\",\"height_1\",\"age\",\"weight_1\",\"lower_body_size\",\"upper_body_size\",\"mens_cycle\",\"menarche_age\",\"pain_after\",\"mens_exercise\",\"mens_period\",\"mens_meal\",\"mens_symptoms_3_ovulation_cramps\",\"meal_exercise_effects\",\"mens_cramp_symptoms_reduced_temperance\",\"mens_cramps_family_no\",\"meal_exercise_effects_specific_no_pms\",\"exercise_type_bicycle\",\"meal_exercise_effects_c\",\"mens_stress_peak_before\",\"exercise_type_yoga_pilates\",\"mens_cramp_symptoms_lethargy\",\"options_abdominal_obesity\",\"mens_symptoms_3_pressure\",\"mens_cramps_family_relatives\",\"options_tension\",\"meal_exercise_effects_specific_reduced_stress\",\"mens_symptoms_3_abnormal\",\"mens_cramp_symptoms_diarrhea\",\"mens_symptoms_3_pelvis_pain\",\"mens_cramp_part_waist\",\"mens_cramp_symptoms_exhaustion\",\"mens_cramp_peak_second_day\",\"mens_before_after_pattern_help\",\"mens_cramp_symptoms_colic\",\"mens_before_after_pattern_borrow_pads\",\"mens_symptoms_3_gas\"],\"type\":\"scatter\",\"x\":[\"mens_cramps_level_before_meal_exercise\",\"mens_stress\",\"mens_cramps_level_after_meal_exercise\",\"bmi\",\"height_1\",\"age\",\"weight_1\",\"lower_body_size\",\"upper_body_size\",\"mens_cycle\",\"menarche_age\",\"pain_after\",\"mens_exercise\",\"mens_period\",\"mens_meal\",\"mens_symptoms_3_ovulation_cramps\",\"meal_exercise_effects\",\"mens_cramp_symptoms_reduced_temperance\",\"mens_cramps_family_no\",\"meal_exercise_effects_specific_no_pms\",\"exercise_type_bicycle\",\"meal_exercise_effects_c\",\"mens_stress_peak_before\",\"exercise_type_yoga_pilates\",\"mens_cramp_symptoms_lethargy\",\"options_abdominal_obesity\",\"mens_symptoms_3_pressure\",\"mens_cramps_family_relatives\",\"options_tension\",\"meal_exercise_effects_specific_reduced_stress\",\"mens_symptoms_3_abnormal\",\"mens_cramp_symptoms_diarrhea\",\"mens_symptoms_3_pelvis_pain\",\"mens_cramp_part_waist\",\"mens_cramp_symptoms_exhaustion\",\"mens_cramp_peak_second_day\",\"mens_before_after_pattern_help\",\"mens_cramp_symptoms_colic\",\"mens_before_after_pattern_borrow_pads\",\"mens_symptoms_3_gas\"],\"y\":[0.08202164249862909,0.08326528064252674,0.05042372985839164,0.06077522780385313,0.05178766812754372,0.05141544355782158,0.0490849894146904,0.044775625319542274,0.026451450119371583,0.034832766162121234,0.029902390289652088,0.021594512936196377,0.02709948233201281,0.02842250714894291,0.0249917961431531,0.013258597492140686,0.019435829851451772,0.011866685870143058,0.012514142320679695,0.012221584324840258,0.024278508647985416,0.013307360304502566,0.011455148168356926,0.01183205077791889,0.01450078545774026,0.012533744801115621,0.01595788850227736,0.011304015619998989,0.01389203490622839,0.012525922840799047,0.01490914943670811,0.011235931120527091,0.00841660033590803,0.01148193687836373,0.018472026731131873,0.012042046717680286,0.010926689732630897,0.009391938099805304,0.013184986553370357,0.012209882153246771]}],                        {\"autosize\":true,\"hovermode\":\"closest\",\"showlegend\":false,\"template\":{\"data\":{\"bar\":[{\"error_x\":{\"color\":\"#2a3f5f\"},\"error_y\":{\"color\":\"#2a3f5f\"},\"marker\":{\"line\":{\"color\":\"#E5ECF6\",\"width\":0.5},\"pattern\":{\"fillmode\":\"overlay\",\"size\":10,\"solidity\":0.2}},\"type\":\"bar\"}],\"barpolar\":[{\"marker\":{\"line\":{\"color\":\"#E5ECF6\",\"width\":0.5},\"pattern\":{\"fillmode\":\"overlay\",\"size\":10,\"solidity\":0.2}},\"type\":\"barpolar\"}],\"carpet\":[{\"aaxis\":{\"endlinecolor\":\"#2a3f5f\",\"gridcolor\":\"white\",\"linecolor\":\"white\",\"minorgridcolor\":\"white\",\"startlinecolor\":\"#2a3f5f\"},\"baxis\":{\"endlinecolor\":\"#2a3f5f\",\"gridcolor\":\"white\",\"linecolor\":\"white\",\"minorgridcolor\":\"white\",\"startlinecolor\":\"#2a3f5f\"},\"type\":\"carpet\"}],\"choropleth\":[{\"colorbar\":{\"outlinewidth\":0,\"ticks\":\"\"},\"type\":\"choropleth\"}],\"contour\":[{\"colorbar\":{\"outlinewidth\":0,\"ticks\":\"\"},\"colorscale\":[[0.0,\"#0d0887\"],[0.1111111111111111,\"#46039f\"],[0.2222222222222222,\"#7201a8\"],[0.3333333333333333,\"#9c179e\"],[0.4444444444444444,\"#bd3786\"],[0.5555555555555556,\"#d8576b\"],[0.6666666666666666,\"#ed7953\"],[0.7777777777777778,\"#fb9f3a\"],[0.8888888888888888,\"#fdca26\"],[1.0,\"#f0f921\"]],\"type\":\"contour\"}],\"contourcarpet\":[{\"colorbar\":{\"outlinewidth\":0,\"ticks\":\"\"},\"type\":\"contourcarpet\"}],\"heatmap\":[{\"colorbar\":{\"outlinewidth\":0,\"ticks\":\"\"},\"colorscale\":[[0.0,\"#0d0887\"],[0.1111111111111111,\"#46039f\"],[0.2222222222222222,\"#7201a8\"],[0.3333333333333333,\"#9c179e\"],[0.4444444444444444,\"#bd3786\"],[0.5555555555555556,\"#d8576b\"],[0.6666666666666666,\"#ed7953\"],[0.7777777777777778,\"#fb9f3a\"],[0.8888888888888888,\"#fdca26\"],[1.0,\"#f0f921\"]],\"type\":\"heatmap\"}],\"heatmapgl\":[{\"colorbar\":{\"outlinewidth\":0,\"ticks\":\"\"},\"colorscale\":[[0.0,\"#0d0887\"],[0.1111111111111111,\"#46039f\"],[0.2222222222222222,\"#7201a8\"],[0.3333333333333333,\"#9c179e\"],[0.4444444444444444,\"#bd3786\"],[0.5555555555555556,\"#d8576b\"],[0.6666666666666666,\"#ed7953\"],[0.7777777777777778,\"#fb9f3a\"],[0.8888888888888888,\"#fdca26\"],[1.0,\"#f0f921\"]],\"type\":\"heatmapgl\"}],\"histogram\":[{\"marker\":{\"pattern\":{\"fillmode\":\"overlay\",\"size\":10,\"solidity\":0.2}},\"type\":\"histogram\"}],\"histogram2d\":[{\"colorbar\":{\"outlinewidth\":0,\"ticks\":\"\"},\"colorscale\":[[0.0,\"#0d0887\"],[0.1111111111111111,\"#46039f\"],[0.2222222222222222,\"#7201a8\"],[0.3333333333333333,\"#9c179e\"],[0.4444444444444444,\"#bd3786\"],[0.5555555555555556,\"#d8576b\"],[0.6666666666666666,\"#ed7953\"],[0.7777777777777778,\"#fb9f3a\"],[0.8888888888888888,\"#fdca26\"],[1.0,\"#f0f921\"]],\"type\":\"histogram2d\"}],\"histogram2dcontour\":[{\"colorbar\":{\"outlinewidth\":0,\"ticks\":\"\"},\"colorscale\":[[0.0,\"#0d0887\"],[0.1111111111111111,\"#46039f\"],[0.2222222222222222,\"#7201a8\"],[0.3333333333333333,\"#9c179e\"],[0.4444444444444444,\"#bd3786\"],[0.5555555555555556,\"#d8576b\"],[0.6666666666666666,\"#ed7953\"],[0.7777777777777778,\"#fb9f3a\"],[0.8888888888888888,\"#fdca26\"],[1.0,\"#f0f921\"]],\"type\":\"histogram2dcontour\"}],\"mesh3d\":[{\"colorbar\":{\"outlinewidth\":0,\"ticks\":\"\"},\"type\":\"mesh3d\"}],\"parcoords\":[{\"line\":{\"colorbar\":{\"outlinewidth\":0,\"ticks\":\"\"}},\"type\":\"parcoords\"}],\"pie\":[{\"automargin\":true,\"type\":\"pie\"}],\"scatter\":[{\"marker\":{\"colorbar\":{\"outlinewidth\":0,\"ticks\":\"\"}},\"type\":\"scatter\"}],\"scatter3d\":[{\"line\":{\"colorbar\":{\"outlinewidth\":0,\"ticks\":\"\"}},\"marker\":{\"colorbar\":{\"outlinewidth\":0,\"ticks\":\"\"}},\"type\":\"scatter3d\"}],\"scattercarpet\":[{\"marker\":{\"colorbar\":{\"outlinewidth\":0,\"ticks\":\"\"}},\"type\":\"scattercarpet\"}],\"scattergeo\":[{\"marker\":{\"colorbar\":{\"outlinewidth\":0,\"ticks\":\"\"}},\"type\":\"scattergeo\"}],\"scattergl\":[{\"marker\":{\"colorbar\":{\"outlinewidth\":0,\"ticks\":\"\"}},\"type\":\"scattergl\"}],\"scattermapbox\":[{\"marker\":{\"colorbar\":{\"outlinewidth\":0,\"ticks\":\"\"}},\"type\":\"scattermapbox\"}],\"scatterpolar\":[{\"marker\":{\"colorbar\":{\"outlinewidth\":0,\"ticks\":\"\"}},\"type\":\"scatterpolar\"}],\"scatterpolargl\":[{\"marker\":{\"colorbar\":{\"outlinewidth\":0,\"ticks\":\"\"}},\"type\":\"scatterpolargl\"}],\"scatterternary\":[{\"marker\":{\"colorbar\":{\"outlinewidth\":0,\"ticks\":\"\"}},\"type\":\"scatterternary\"}],\"surface\":[{\"colorbar\":{\"outlinewidth\":0,\"ticks\":\"\"},\"colorscale\":[[0.0,\"#0d0887\"],[0.1111111111111111,\"#46039f\"],[0.2222222222222222,\"#7201a8\"],[0.3333333333333333,\"#9c179e\"],[0.4444444444444444,\"#bd3786\"],[0.5555555555555556,\"#d8576b\"],[0.6666666666666666,\"#ed7953\"],[0.7777777777777778,\"#fb9f3a\"],[0.8888888888888888,\"#fdca26\"],[1.0,\"#f0f921\"]],\"type\":\"surface\"}],\"table\":[{\"cells\":{\"fill\":{\"color\":\"#EBF0F8\"},\"line\":{\"color\":\"white\"}},\"header\":{\"fill\":{\"color\":\"#C8D4E3\"},\"line\":{\"color\":\"white\"}},\"type\":\"table\"}]},\"layout\":{\"annotationdefaults\":{\"arrowcolor\":\"#2a3f5f\",\"arrowhead\":0,\"arrowwidth\":1},\"autotypenumbers\":\"strict\",\"coloraxis\":{\"colorbar\":{\"outlinewidth\":0,\"ticks\":\"\"}},\"colorscale\":{\"diverging\":[[0,\"#8e0152\"],[0.1,\"#c51b7d\"],[0.2,\"#de77ae\"],[0.3,\"#f1b6da\"],[0.4,\"#fde0ef\"],[0.5,\"#f7f7f7\"],[0.6,\"#e6f5d0\"],[0.7,\"#b8e186\"],[0.8,\"#7fbc41\"],[0.9,\"#4d9221\"],[1,\"#276419\"]],\"sequential\":[[0.0,\"#0d0887\"],[0.1111111111111111,\"#46039f\"],[0.2222222222222222,\"#7201a8\"],[0.3333333333333333,\"#9c179e\"],[0.4444444444444444,\"#bd3786\"],[0.5555555555555556,\"#d8576b\"],[0.6666666666666666,\"#ed7953\"],[0.7777777777777778,\"#fb9f3a\"],[0.8888888888888888,\"#fdca26\"],[1.0,\"#f0f921\"]],\"sequentialminus\":[[0.0,\"#0d0887\"],[0.1111111111111111,\"#46039f\"],[0.2222222222222222,\"#7201a8\"],[0.3333333333333333,\"#9c179e\"],[0.4444444444444444,\"#bd3786\"],[0.5555555555555556,\"#d8576b\"],[0.6666666666666666,\"#ed7953\"],[0.7777777777777778,\"#fb9f3a\"],[0.8888888888888888,\"#fdca26\"],[1.0,\"#f0f921\"]]},\"colorway\":[\"#636efa\",\"#EF553B\",\"#00cc96\",\"#ab63fa\",\"#FFA15A\",\"#19d3f3\",\"#FF6692\",\"#B6E880\",\"#FF97FF\",\"#FECB52\"],\"font\":{\"color\":\"#2a3f5f\"},\"geo\":{\"bgcolor\":\"white\",\"lakecolor\":\"white\",\"landcolor\":\"#E5ECF6\",\"showlakes\":true,\"showland\":true,\"subunitcolor\":\"white\"},\"hoverlabel\":{\"align\":\"left\"},\"hovermode\":\"closest\",\"mapbox\":{\"style\":\"light\"},\"paper_bgcolor\":\"white\",\"plot_bgcolor\":\"#E5ECF6\",\"polar\":{\"angularaxis\":{\"gridcolor\":\"white\",\"linecolor\":\"white\",\"ticks\":\"\"},\"bgcolor\":\"#E5ECF6\",\"radialaxis\":{\"gridcolor\":\"white\",\"linecolor\":\"white\",\"ticks\":\"\"}},\"scene\":{\"xaxis\":{\"backgroundcolor\":\"#E5ECF6\",\"gridcolor\":\"white\",\"gridwidth\":2,\"linecolor\":\"white\",\"showbackground\":true,\"ticks\":\"\",\"zerolinecolor\":\"white\"},\"yaxis\":{\"backgroundcolor\":\"#E5ECF6\",\"gridcolor\":\"white\",\"gridwidth\":2,\"linecolor\":\"white\",\"showbackground\":true,\"ticks\":\"\",\"zerolinecolor\":\"white\"},\"zaxis\":{\"backgroundcolor\":\"#E5ECF6\",\"gridcolor\":\"white\",\"gridwidth\":2,\"linecolor\":\"white\",\"showbackground\":true,\"ticks\":\"\",\"zerolinecolor\":\"white\"}},\"shapedefaults\":{\"line\":{\"color\":\"#2a3f5f\"}},\"ternary\":{\"aaxis\":{\"gridcolor\":\"white\",\"linecolor\":\"white\",\"ticks\":\"\"},\"baxis\":{\"gridcolor\":\"white\",\"linecolor\":\"white\",\"ticks\":\"\"},\"bgcolor\":\"#E5ECF6\",\"caxis\":{\"gridcolor\":\"white\",\"linecolor\":\"white\",\"ticks\":\"\"}},\"title\":{\"x\":0.05},\"xaxis\":{\"automargin\":true,\"gridcolor\":\"white\",\"linecolor\":\"white\",\"ticks\":\"\",\"title\":{\"standoff\":15},\"zerolinecolor\":\"white\",\"zerolinewidth\":2},\"yaxis\":{\"automargin\":true,\"gridcolor\":\"white\",\"linecolor\":\"white\",\"ticks\":\"\",\"title\":{\"standoff\":15},\"zerolinecolor\":\"white\",\"zerolinewidth\":2}}},\"title\":{\"text\":\"Random Forest Feature Importance\"},\"xaxis\":{\"showgrid\":false,\"showline\":false,\"ticklen\":5,\"zeroline\":false},\"yaxis\":{\"gridwidth\":2,\"showgrid\":false,\"ticklen\":5,\"title\":{\"text\":\"Feature Importance\"},\"zeroline\":false}},                        {\"responsive\": true}                    ).then(function(){\n",
       "                            \n",
       "var gd = document.getElementById('b495de3f-fc57-41ac-aeaa-2bd9da72984c');\n",
       "var x = new MutationObserver(function (mutations, observer) {{\n",
       "        var display = window.getComputedStyle(gd).display;\n",
       "        if (!display || display === 'none') {{\n",
       "            console.log([gd, 'removed!']);\n",
       "            Plotly.purge(gd);\n",
       "            observer.disconnect();\n",
       "        }}\n",
       "}});\n",
       "\n",
       "// Listen for the removal of the full notebook cells\n",
       "var notebookContainer = gd.closest('#notebook-container');\n",
       "if (notebookContainer) {{\n",
       "    x.observe(notebookContainer, {childList: true});\n",
       "}}\n",
       "\n",
       "// Listen for the clearing of the current output cell\n",
       "var outputEl = gd.closest('.output');\n",
       "if (outputEl) {{\n",
       "    x.observe(outputEl, {childList: true});\n",
       "}}\n",
       "\n",
       "                        })                };                });            </script>        </div>"
      ]
     },
     "metadata": {},
     "output_type": "display_data"
    },
    {
     "data": {
      "application/vnd.plotly.v1+json": {
       "config": {
        "linkText": "Export to plot.ly",
        "plotlyServerURL": "https://plot.ly",
        "showLink": false
       },
       "data": [
        {
         "marker": {
          "color": [
           0.00841660033590803,
           0.009391938099805304,
           0.010926689732630897,
           0.011235931120527091,
           0.011304015619998989,
           0.011455148168356926,
           0.01148193687836373,
           0.01183205077791889,
           0.011866685870143058,
           0.012042046717680286,
           0.012209882153246771,
           0.012221584324840258,
           0.012514142320679695,
           0.012525922840799047,
           0.012533744801115621,
           0.013184986553370357,
           0.013258597492140686,
           0.013307360304502566,
           0.01389203490622839,
           0.01450078545774026,
           0.01490914943670811,
           0.01595788850227736,
           0.018472026731131873,
           0.019435829851451772,
           0.021594512936196377,
           0.024278508647985416,
           0.0249917961431531,
           0.026451450119371583,
           0.02709948233201281,
           0.02842250714894291,
           0.029902390289652088,
           0.034832766162121234,
           0.044775625319542274,
           0.0490849894146904,
           0.05042372985839164,
           0.05141544355782158,
           0.05178766812754372,
           0.06077522780385313,
           0.08202164249862909,
           0.08326528064252674
          ],
          "colorscale": [
           [
            0,
            "#440154"
           ],
           [
            0.1111111111111111,
            "#482878"
           ],
           [
            0.2222222222222222,
            "#3e4989"
           ],
           [
            0.3333333333333333,
            "#31688e"
           ],
           [
            0.4444444444444444,
            "#26828e"
           ],
           [
            0.5555555555555556,
            "#1f9e89"
           ],
           [
            0.6666666666666666,
            "#35b779"
           ],
           [
            0.7777777777777778,
            "#6ece58"
           ],
           [
            0.8888888888888888,
            "#b5de2b"
           ],
           [
            1,
            "#fde725"
           ]
          ],
          "reversescale": true
         },
         "name": "Random Forest Feature importance",
         "orientation": "h",
         "type": "bar",
         "x": [
          0.00841660033590803,
          0.009391938099805304,
          0.010926689732630897,
          0.011235931120527091,
          0.011304015619998989,
          0.011455148168356926,
          0.01148193687836373,
          0.01183205077791889,
          0.011866685870143058,
          0.012042046717680286,
          0.012209882153246771,
          0.012221584324840258,
          0.012514142320679695,
          0.012525922840799047,
          0.012533744801115621,
          0.013184986553370357,
          0.013258597492140686,
          0.013307360304502566,
          0.01389203490622839,
          0.01450078545774026,
          0.01490914943670811,
          0.01595788850227736,
          0.018472026731131873,
          0.019435829851451772,
          0.021594512936196377,
          0.024278508647985416,
          0.0249917961431531,
          0.026451450119371583,
          0.02709948233201281,
          0.02842250714894291,
          0.029902390289652088,
          0.034832766162121234,
          0.044775625319542274,
          0.0490849894146904,
          0.05042372985839164,
          0.05141544355782158,
          0.05178766812754372,
          0.06077522780385313,
          0.08202164249862909,
          0.08326528064252674
         ],
         "y": [
          "mens_symptoms_3_pelvis_pain",
          "mens_cramp_symptoms_colic",
          "mens_before_after_pattern_help",
          "mens_cramp_symptoms_diarrhea",
          "mens_cramps_family_relatives",
          "mens_stress_peak_before",
          "mens_cramp_part_waist",
          "exercise_type_yoga_pilates",
          "mens_cramp_symptoms_reduced_temperance",
          "mens_cramp_peak_second_day",
          "mens_symptoms_3_gas",
          "meal_exercise_effects_specific_no_pms",
          "mens_cramps_family_no",
          "meal_exercise_effects_specific_reduced_stress",
          "options_abdominal_obesity",
          "mens_before_after_pattern_borrow_pads",
          "mens_symptoms_3_ovulation_cramps",
          "meal_exercise_effects_c",
          "options_tension",
          "mens_cramp_symptoms_lethargy",
          "mens_symptoms_3_abnormal",
          "mens_symptoms_3_pressure",
          "mens_cramp_symptoms_exhaustion",
          "meal_exercise_effects",
          "pain_after",
          "exercise_type_bicycle",
          "mens_meal",
          "upper_body_size",
          "mens_exercise",
          "mens_period",
          "menarche_age",
          "mens_cycle",
          "lower_body_size",
          "weight_1",
          "mens_cramps_level_after_meal_exercise",
          "age",
          "height_1",
          "bmi",
          "mens_cramps_level_before_meal_exercise",
          "mens_stress"
         ]
        }
       ],
       "layout": {
        "height": 2000,
        "template": {
         "data": {
          "bar": [
           {
            "error_x": {
             "color": "#2a3f5f"
            },
            "error_y": {
             "color": "#2a3f5f"
            },
            "marker": {
             "line": {
              "color": "#E5ECF6",
              "width": 0.5
             },
             "pattern": {
              "fillmode": "overlay",
              "size": 10,
              "solidity": 0.2
             }
            },
            "type": "bar"
           }
          ],
          "barpolar": [
           {
            "marker": {
             "line": {
              "color": "#E5ECF6",
              "width": 0.5
             },
             "pattern": {
              "fillmode": "overlay",
              "size": 10,
              "solidity": 0.2
             }
            },
            "type": "barpolar"
           }
          ],
          "carpet": [
           {
            "aaxis": {
             "endlinecolor": "#2a3f5f",
             "gridcolor": "white",
             "linecolor": "white",
             "minorgridcolor": "white",
             "startlinecolor": "#2a3f5f"
            },
            "baxis": {
             "endlinecolor": "#2a3f5f",
             "gridcolor": "white",
             "linecolor": "white",
             "minorgridcolor": "white",
             "startlinecolor": "#2a3f5f"
            },
            "type": "carpet"
           }
          ],
          "choropleth": [
           {
            "colorbar": {
             "outlinewidth": 0,
             "ticks": ""
            },
            "type": "choropleth"
           }
          ],
          "contour": [
           {
            "colorbar": {
             "outlinewidth": 0,
             "ticks": ""
            },
            "colorscale": [
             [
              0,
              "#0d0887"
             ],
             [
              0.1111111111111111,
              "#46039f"
             ],
             [
              0.2222222222222222,
              "#7201a8"
             ],
             [
              0.3333333333333333,
              "#9c179e"
             ],
             [
              0.4444444444444444,
              "#bd3786"
             ],
             [
              0.5555555555555556,
              "#d8576b"
             ],
             [
              0.6666666666666666,
              "#ed7953"
             ],
             [
              0.7777777777777778,
              "#fb9f3a"
             ],
             [
              0.8888888888888888,
              "#fdca26"
             ],
             [
              1,
              "#f0f921"
             ]
            ],
            "type": "contour"
           }
          ],
          "contourcarpet": [
           {
            "colorbar": {
             "outlinewidth": 0,
             "ticks": ""
            },
            "type": "contourcarpet"
           }
          ],
          "heatmap": [
           {
            "colorbar": {
             "outlinewidth": 0,
             "ticks": ""
            },
            "colorscale": [
             [
              0,
              "#0d0887"
             ],
             [
              0.1111111111111111,
              "#46039f"
             ],
             [
              0.2222222222222222,
              "#7201a8"
             ],
             [
              0.3333333333333333,
              "#9c179e"
             ],
             [
              0.4444444444444444,
              "#bd3786"
             ],
             [
              0.5555555555555556,
              "#d8576b"
             ],
             [
              0.6666666666666666,
              "#ed7953"
             ],
             [
              0.7777777777777778,
              "#fb9f3a"
             ],
             [
              0.8888888888888888,
              "#fdca26"
             ],
             [
              1,
              "#f0f921"
             ]
            ],
            "type": "heatmap"
           }
          ],
          "heatmapgl": [
           {
            "colorbar": {
             "outlinewidth": 0,
             "ticks": ""
            },
            "colorscale": [
             [
              0,
              "#0d0887"
             ],
             [
              0.1111111111111111,
              "#46039f"
             ],
             [
              0.2222222222222222,
              "#7201a8"
             ],
             [
              0.3333333333333333,
              "#9c179e"
             ],
             [
              0.4444444444444444,
              "#bd3786"
             ],
             [
              0.5555555555555556,
              "#d8576b"
             ],
             [
              0.6666666666666666,
              "#ed7953"
             ],
             [
              0.7777777777777778,
              "#fb9f3a"
             ],
             [
              0.8888888888888888,
              "#fdca26"
             ],
             [
              1,
              "#f0f921"
             ]
            ],
            "type": "heatmapgl"
           }
          ],
          "histogram": [
           {
            "marker": {
             "pattern": {
              "fillmode": "overlay",
              "size": 10,
              "solidity": 0.2
             }
            },
            "type": "histogram"
           }
          ],
          "histogram2d": [
           {
            "colorbar": {
             "outlinewidth": 0,
             "ticks": ""
            },
            "colorscale": [
             [
              0,
              "#0d0887"
             ],
             [
              0.1111111111111111,
              "#46039f"
             ],
             [
              0.2222222222222222,
              "#7201a8"
             ],
             [
              0.3333333333333333,
              "#9c179e"
             ],
             [
              0.4444444444444444,
              "#bd3786"
             ],
             [
              0.5555555555555556,
              "#d8576b"
             ],
             [
              0.6666666666666666,
              "#ed7953"
             ],
             [
              0.7777777777777778,
              "#fb9f3a"
             ],
             [
              0.8888888888888888,
              "#fdca26"
             ],
             [
              1,
              "#f0f921"
             ]
            ],
            "type": "histogram2d"
           }
          ],
          "histogram2dcontour": [
           {
            "colorbar": {
             "outlinewidth": 0,
             "ticks": ""
            },
            "colorscale": [
             [
              0,
              "#0d0887"
             ],
             [
              0.1111111111111111,
              "#46039f"
             ],
             [
              0.2222222222222222,
              "#7201a8"
             ],
             [
              0.3333333333333333,
              "#9c179e"
             ],
             [
              0.4444444444444444,
              "#bd3786"
             ],
             [
              0.5555555555555556,
              "#d8576b"
             ],
             [
              0.6666666666666666,
              "#ed7953"
             ],
             [
              0.7777777777777778,
              "#fb9f3a"
             ],
             [
              0.8888888888888888,
              "#fdca26"
             ],
             [
              1,
              "#f0f921"
             ]
            ],
            "type": "histogram2dcontour"
           }
          ],
          "mesh3d": [
           {
            "colorbar": {
             "outlinewidth": 0,
             "ticks": ""
            },
            "type": "mesh3d"
           }
          ],
          "parcoords": [
           {
            "line": {
             "colorbar": {
              "outlinewidth": 0,
              "ticks": ""
             }
            },
            "type": "parcoords"
           }
          ],
          "pie": [
           {
            "automargin": true,
            "type": "pie"
           }
          ],
          "scatter": [
           {
            "marker": {
             "colorbar": {
              "outlinewidth": 0,
              "ticks": ""
             }
            },
            "type": "scatter"
           }
          ],
          "scatter3d": [
           {
            "line": {
             "colorbar": {
              "outlinewidth": 0,
              "ticks": ""
             }
            },
            "marker": {
             "colorbar": {
              "outlinewidth": 0,
              "ticks": ""
             }
            },
            "type": "scatter3d"
           }
          ],
          "scattercarpet": [
           {
            "marker": {
             "colorbar": {
              "outlinewidth": 0,
              "ticks": ""
             }
            },
            "type": "scattercarpet"
           }
          ],
          "scattergeo": [
           {
            "marker": {
             "colorbar": {
              "outlinewidth": 0,
              "ticks": ""
             }
            },
            "type": "scattergeo"
           }
          ],
          "scattergl": [
           {
            "marker": {
             "colorbar": {
              "outlinewidth": 0,
              "ticks": ""
             }
            },
            "type": "scattergl"
           }
          ],
          "scattermapbox": [
           {
            "marker": {
             "colorbar": {
              "outlinewidth": 0,
              "ticks": ""
             }
            },
            "type": "scattermapbox"
           }
          ],
          "scatterpolar": [
           {
            "marker": {
             "colorbar": {
              "outlinewidth": 0,
              "ticks": ""
             }
            },
            "type": "scatterpolar"
           }
          ],
          "scatterpolargl": [
           {
            "marker": {
             "colorbar": {
              "outlinewidth": 0,
              "ticks": ""
             }
            },
            "type": "scatterpolargl"
           }
          ],
          "scatterternary": [
           {
            "marker": {
             "colorbar": {
              "outlinewidth": 0,
              "ticks": ""
             }
            },
            "type": "scatterternary"
           }
          ],
          "surface": [
           {
            "colorbar": {
             "outlinewidth": 0,
             "ticks": ""
            },
            "colorscale": [
             [
              0,
              "#0d0887"
             ],
             [
              0.1111111111111111,
              "#46039f"
             ],
             [
              0.2222222222222222,
              "#7201a8"
             ],
             [
              0.3333333333333333,
              "#9c179e"
             ],
             [
              0.4444444444444444,
              "#bd3786"
             ],
             [
              0.5555555555555556,
              "#d8576b"
             ],
             [
              0.6666666666666666,
              "#ed7953"
             ],
             [
              0.7777777777777778,
              "#fb9f3a"
             ],
             [
              0.8888888888888888,
              "#fdca26"
             ],
             [
              1,
              "#f0f921"
             ]
            ],
            "type": "surface"
           }
          ],
          "table": [
           {
            "cells": {
             "fill": {
              "color": "#EBF0F8"
             },
             "line": {
              "color": "white"
             }
            },
            "header": {
             "fill": {
              "color": "#C8D4E3"
             },
             "line": {
              "color": "white"
             }
            },
            "type": "table"
           }
          ]
         },
         "layout": {
          "annotationdefaults": {
           "arrowcolor": "#2a3f5f",
           "arrowhead": 0,
           "arrowwidth": 1
          },
          "autotypenumbers": "strict",
          "coloraxis": {
           "colorbar": {
            "outlinewidth": 0,
            "ticks": ""
           }
          },
          "colorscale": {
           "diverging": [
            [
             0,
             "#8e0152"
            ],
            [
             0.1,
             "#c51b7d"
            ],
            [
             0.2,
             "#de77ae"
            ],
            [
             0.3,
             "#f1b6da"
            ],
            [
             0.4,
             "#fde0ef"
            ],
            [
             0.5,
             "#f7f7f7"
            ],
            [
             0.6,
             "#e6f5d0"
            ],
            [
             0.7,
             "#b8e186"
            ],
            [
             0.8,
             "#7fbc41"
            ],
            [
             0.9,
             "#4d9221"
            ],
            [
             1,
             "#276419"
            ]
           ],
           "sequential": [
            [
             0,
             "#0d0887"
            ],
            [
             0.1111111111111111,
             "#46039f"
            ],
            [
             0.2222222222222222,
             "#7201a8"
            ],
            [
             0.3333333333333333,
             "#9c179e"
            ],
            [
             0.4444444444444444,
             "#bd3786"
            ],
            [
             0.5555555555555556,
             "#d8576b"
            ],
            [
             0.6666666666666666,
             "#ed7953"
            ],
            [
             0.7777777777777778,
             "#fb9f3a"
            ],
            [
             0.8888888888888888,
             "#fdca26"
            ],
            [
             1,
             "#f0f921"
            ]
           ],
           "sequentialminus": [
            [
             0,
             "#0d0887"
            ],
            [
             0.1111111111111111,
             "#46039f"
            ],
            [
             0.2222222222222222,
             "#7201a8"
            ],
            [
             0.3333333333333333,
             "#9c179e"
            ],
            [
             0.4444444444444444,
             "#bd3786"
            ],
            [
             0.5555555555555556,
             "#d8576b"
            ],
            [
             0.6666666666666666,
             "#ed7953"
            ],
            [
             0.7777777777777778,
             "#fb9f3a"
            ],
            [
             0.8888888888888888,
             "#fdca26"
            ],
            [
             1,
             "#f0f921"
            ]
           ]
          },
          "colorway": [
           "#636efa",
           "#EF553B",
           "#00cc96",
           "#ab63fa",
           "#FFA15A",
           "#19d3f3",
           "#FF6692",
           "#B6E880",
           "#FF97FF",
           "#FECB52"
          ],
          "font": {
           "color": "#2a3f5f"
          },
          "geo": {
           "bgcolor": "white",
           "lakecolor": "white",
           "landcolor": "#E5ECF6",
           "showlakes": true,
           "showland": true,
           "subunitcolor": "white"
          },
          "hoverlabel": {
           "align": "left"
          },
          "hovermode": "closest",
          "mapbox": {
           "style": "light"
          },
          "paper_bgcolor": "white",
          "plot_bgcolor": "#E5ECF6",
          "polar": {
           "angularaxis": {
            "gridcolor": "white",
            "linecolor": "white",
            "ticks": ""
           },
           "bgcolor": "#E5ECF6",
           "radialaxis": {
            "gridcolor": "white",
            "linecolor": "white",
            "ticks": ""
           }
          },
          "scene": {
           "xaxis": {
            "backgroundcolor": "#E5ECF6",
            "gridcolor": "white",
            "gridwidth": 2,
            "linecolor": "white",
            "showbackground": true,
            "ticks": "",
            "zerolinecolor": "white"
           },
           "yaxis": {
            "backgroundcolor": "#E5ECF6",
            "gridcolor": "white",
            "gridwidth": 2,
            "linecolor": "white",
            "showbackground": true,
            "ticks": "",
            "zerolinecolor": "white"
           },
           "zaxis": {
            "backgroundcolor": "#E5ECF6",
            "gridcolor": "white",
            "gridwidth": 2,
            "linecolor": "white",
            "showbackground": true,
            "ticks": "",
            "zerolinecolor": "white"
           }
          },
          "shapedefaults": {
           "line": {
            "color": "#2a3f5f"
           }
          },
          "ternary": {
           "aaxis": {
            "gridcolor": "white",
            "linecolor": "white",
            "ticks": ""
           },
           "baxis": {
            "gridcolor": "white",
            "linecolor": "white",
            "ticks": ""
           },
           "bgcolor": "#E5ECF6",
           "caxis": {
            "gridcolor": "white",
            "linecolor": "white",
            "ticks": ""
           }
          },
          "title": {
           "x": 0.05
          },
          "xaxis": {
           "automargin": true,
           "gridcolor": "white",
           "linecolor": "white",
           "ticks": "",
           "title": {
            "standoff": 15
           },
           "zerolinecolor": "white",
           "zerolinewidth": 2
          },
          "yaxis": {
           "automargin": true,
           "gridcolor": "white",
           "linecolor": "white",
           "ticks": "",
           "title": {
            "standoff": 15
           },
           "zerolinecolor": "white",
           "zerolinewidth": 2
          }
         }
        },
        "title": {
         "text": "Barplot of Feature importances"
        },
        "width": 900,
        "yaxis": {
         "showgrid": false,
         "showline": false,
         "showticklabels": true
        }
       }
      },
      "text/html": [
       "<div>                            <div id=\"8336d290-c001-4e09-9687-02cc271986b0\" class=\"plotly-graph-div\" style=\"height:2000px; width:900px;\"></div>            <script type=\"text/javascript\">                require([\"plotly\"], function(Plotly) {                    window.PLOTLYENV=window.PLOTLYENV || {};                                    if (document.getElementById(\"8336d290-c001-4e09-9687-02cc271986b0\")) {                    Plotly.newPlot(                        \"8336d290-c001-4e09-9687-02cc271986b0\",                        [{\"marker\":{\"color\":[0.00841660033590803,0.009391938099805304,0.010926689732630897,0.011235931120527091,0.011304015619998989,0.011455148168356926,0.01148193687836373,0.01183205077791889,0.011866685870143058,0.012042046717680286,0.012209882153246771,0.012221584324840258,0.012514142320679695,0.012525922840799047,0.012533744801115621,0.013184986553370357,0.013258597492140686,0.013307360304502566,0.01389203490622839,0.01450078545774026,0.01490914943670811,0.01595788850227736,0.018472026731131873,0.019435829851451772,0.021594512936196377,0.024278508647985416,0.0249917961431531,0.026451450119371583,0.02709948233201281,0.02842250714894291,0.029902390289652088,0.034832766162121234,0.044775625319542274,0.0490849894146904,0.05042372985839164,0.05141544355782158,0.05178766812754372,0.06077522780385313,0.08202164249862909,0.08326528064252674],\"colorscale\":[[0.0,\"#440154\"],[0.1111111111111111,\"#482878\"],[0.2222222222222222,\"#3e4989\"],[0.3333333333333333,\"#31688e\"],[0.4444444444444444,\"#26828e\"],[0.5555555555555556,\"#1f9e89\"],[0.6666666666666666,\"#35b779\"],[0.7777777777777778,\"#6ece58\"],[0.8888888888888888,\"#b5de2b\"],[1.0,\"#fde725\"]],\"reversescale\":true},\"name\":\"Random Forest Feature importance\",\"orientation\":\"h\",\"type\":\"bar\",\"x\":[0.00841660033590803,0.009391938099805304,0.010926689732630897,0.011235931120527091,0.011304015619998989,0.011455148168356926,0.01148193687836373,0.01183205077791889,0.011866685870143058,0.012042046717680286,0.012209882153246771,0.012221584324840258,0.012514142320679695,0.012525922840799047,0.012533744801115621,0.013184986553370357,0.013258597492140686,0.013307360304502566,0.01389203490622839,0.01450078545774026,0.01490914943670811,0.01595788850227736,0.018472026731131873,0.019435829851451772,0.021594512936196377,0.024278508647985416,0.0249917961431531,0.026451450119371583,0.02709948233201281,0.02842250714894291,0.029902390289652088,0.034832766162121234,0.044775625319542274,0.0490849894146904,0.05042372985839164,0.05141544355782158,0.05178766812754372,0.06077522780385313,0.08202164249862909,0.08326528064252674],\"y\":[\"mens_symptoms_3_pelvis_pain\",\"mens_cramp_symptoms_colic\",\"mens_before_after_pattern_help\",\"mens_cramp_symptoms_diarrhea\",\"mens_cramps_family_relatives\",\"mens_stress_peak_before\",\"mens_cramp_part_waist\",\"exercise_type_yoga_pilates\",\"mens_cramp_symptoms_reduced_temperance\",\"mens_cramp_peak_second_day\",\"mens_symptoms_3_gas\",\"meal_exercise_effects_specific_no_pms\",\"mens_cramps_family_no\",\"meal_exercise_effects_specific_reduced_stress\",\"options_abdominal_obesity\",\"mens_before_after_pattern_borrow_pads\",\"mens_symptoms_3_ovulation_cramps\",\"meal_exercise_effects_c\",\"options_tension\",\"mens_cramp_symptoms_lethargy\",\"mens_symptoms_3_abnormal\",\"mens_symptoms_3_pressure\",\"mens_cramp_symptoms_exhaustion\",\"meal_exercise_effects\",\"pain_after\",\"exercise_type_bicycle\",\"mens_meal\",\"upper_body_size\",\"mens_exercise\",\"mens_period\",\"menarche_age\",\"mens_cycle\",\"lower_body_size\",\"weight_1\",\"mens_cramps_level_after_meal_exercise\",\"age\",\"height_1\",\"bmi\",\"mens_cramps_level_before_meal_exercise\",\"mens_stress\"]}],                        {\"height\":2000,\"template\":{\"data\":{\"bar\":[{\"error_x\":{\"color\":\"#2a3f5f\"},\"error_y\":{\"color\":\"#2a3f5f\"},\"marker\":{\"line\":{\"color\":\"#E5ECF6\",\"width\":0.5},\"pattern\":{\"fillmode\":\"overlay\",\"size\":10,\"solidity\":0.2}},\"type\":\"bar\"}],\"barpolar\":[{\"marker\":{\"line\":{\"color\":\"#E5ECF6\",\"width\":0.5},\"pattern\":{\"fillmode\":\"overlay\",\"size\":10,\"solidity\":0.2}},\"type\":\"barpolar\"}],\"carpet\":[{\"aaxis\":{\"endlinecolor\":\"#2a3f5f\",\"gridcolor\":\"white\",\"linecolor\":\"white\",\"minorgridcolor\":\"white\",\"startlinecolor\":\"#2a3f5f\"},\"baxis\":{\"endlinecolor\":\"#2a3f5f\",\"gridcolor\":\"white\",\"linecolor\":\"white\",\"minorgridcolor\":\"white\",\"startlinecolor\":\"#2a3f5f\"},\"type\":\"carpet\"}],\"choropleth\":[{\"colorbar\":{\"outlinewidth\":0,\"ticks\":\"\"},\"type\":\"choropleth\"}],\"contour\":[{\"colorbar\":{\"outlinewidth\":0,\"ticks\":\"\"},\"colorscale\":[[0.0,\"#0d0887\"],[0.1111111111111111,\"#46039f\"],[0.2222222222222222,\"#7201a8\"],[0.3333333333333333,\"#9c179e\"],[0.4444444444444444,\"#bd3786\"],[0.5555555555555556,\"#d8576b\"],[0.6666666666666666,\"#ed7953\"],[0.7777777777777778,\"#fb9f3a\"],[0.8888888888888888,\"#fdca26\"],[1.0,\"#f0f921\"]],\"type\":\"contour\"}],\"contourcarpet\":[{\"colorbar\":{\"outlinewidth\":0,\"ticks\":\"\"},\"type\":\"contourcarpet\"}],\"heatmap\":[{\"colorbar\":{\"outlinewidth\":0,\"ticks\":\"\"},\"colorscale\":[[0.0,\"#0d0887\"],[0.1111111111111111,\"#46039f\"],[0.2222222222222222,\"#7201a8\"],[0.3333333333333333,\"#9c179e\"],[0.4444444444444444,\"#bd3786\"],[0.5555555555555556,\"#d8576b\"],[0.6666666666666666,\"#ed7953\"],[0.7777777777777778,\"#fb9f3a\"],[0.8888888888888888,\"#fdca26\"],[1.0,\"#f0f921\"]],\"type\":\"heatmap\"}],\"heatmapgl\":[{\"colorbar\":{\"outlinewidth\":0,\"ticks\":\"\"},\"colorscale\":[[0.0,\"#0d0887\"],[0.1111111111111111,\"#46039f\"],[0.2222222222222222,\"#7201a8\"],[0.3333333333333333,\"#9c179e\"],[0.4444444444444444,\"#bd3786\"],[0.5555555555555556,\"#d8576b\"],[0.6666666666666666,\"#ed7953\"],[0.7777777777777778,\"#fb9f3a\"],[0.8888888888888888,\"#fdca26\"],[1.0,\"#f0f921\"]],\"type\":\"heatmapgl\"}],\"histogram\":[{\"marker\":{\"pattern\":{\"fillmode\":\"overlay\",\"size\":10,\"solidity\":0.2}},\"type\":\"histogram\"}],\"histogram2d\":[{\"colorbar\":{\"outlinewidth\":0,\"ticks\":\"\"},\"colorscale\":[[0.0,\"#0d0887\"],[0.1111111111111111,\"#46039f\"],[0.2222222222222222,\"#7201a8\"],[0.3333333333333333,\"#9c179e\"],[0.4444444444444444,\"#bd3786\"],[0.5555555555555556,\"#d8576b\"],[0.6666666666666666,\"#ed7953\"],[0.7777777777777778,\"#fb9f3a\"],[0.8888888888888888,\"#fdca26\"],[1.0,\"#f0f921\"]],\"type\":\"histogram2d\"}],\"histogram2dcontour\":[{\"colorbar\":{\"outlinewidth\":0,\"ticks\":\"\"},\"colorscale\":[[0.0,\"#0d0887\"],[0.1111111111111111,\"#46039f\"],[0.2222222222222222,\"#7201a8\"],[0.3333333333333333,\"#9c179e\"],[0.4444444444444444,\"#bd3786\"],[0.5555555555555556,\"#d8576b\"],[0.6666666666666666,\"#ed7953\"],[0.7777777777777778,\"#fb9f3a\"],[0.8888888888888888,\"#fdca26\"],[1.0,\"#f0f921\"]],\"type\":\"histogram2dcontour\"}],\"mesh3d\":[{\"colorbar\":{\"outlinewidth\":0,\"ticks\":\"\"},\"type\":\"mesh3d\"}],\"parcoords\":[{\"line\":{\"colorbar\":{\"outlinewidth\":0,\"ticks\":\"\"}},\"type\":\"parcoords\"}],\"pie\":[{\"automargin\":true,\"type\":\"pie\"}],\"scatter\":[{\"marker\":{\"colorbar\":{\"outlinewidth\":0,\"ticks\":\"\"}},\"type\":\"scatter\"}],\"scatter3d\":[{\"line\":{\"colorbar\":{\"outlinewidth\":0,\"ticks\":\"\"}},\"marker\":{\"colorbar\":{\"outlinewidth\":0,\"ticks\":\"\"}},\"type\":\"scatter3d\"}],\"scattercarpet\":[{\"marker\":{\"colorbar\":{\"outlinewidth\":0,\"ticks\":\"\"}},\"type\":\"scattercarpet\"}],\"scattergeo\":[{\"marker\":{\"colorbar\":{\"outlinewidth\":0,\"ticks\":\"\"}},\"type\":\"scattergeo\"}],\"scattergl\":[{\"marker\":{\"colorbar\":{\"outlinewidth\":0,\"ticks\":\"\"}},\"type\":\"scattergl\"}],\"scattermapbox\":[{\"marker\":{\"colorbar\":{\"outlinewidth\":0,\"ticks\":\"\"}},\"type\":\"scattermapbox\"}],\"scatterpolar\":[{\"marker\":{\"colorbar\":{\"outlinewidth\":0,\"ticks\":\"\"}},\"type\":\"scatterpolar\"}],\"scatterpolargl\":[{\"marker\":{\"colorbar\":{\"outlinewidth\":0,\"ticks\":\"\"}},\"type\":\"scatterpolargl\"}],\"scatterternary\":[{\"marker\":{\"colorbar\":{\"outlinewidth\":0,\"ticks\":\"\"}},\"type\":\"scatterternary\"}],\"surface\":[{\"colorbar\":{\"outlinewidth\":0,\"ticks\":\"\"},\"colorscale\":[[0.0,\"#0d0887\"],[0.1111111111111111,\"#46039f\"],[0.2222222222222222,\"#7201a8\"],[0.3333333333333333,\"#9c179e\"],[0.4444444444444444,\"#bd3786\"],[0.5555555555555556,\"#d8576b\"],[0.6666666666666666,\"#ed7953\"],[0.7777777777777778,\"#fb9f3a\"],[0.8888888888888888,\"#fdca26\"],[1.0,\"#f0f921\"]],\"type\":\"surface\"}],\"table\":[{\"cells\":{\"fill\":{\"color\":\"#EBF0F8\"},\"line\":{\"color\":\"white\"}},\"header\":{\"fill\":{\"color\":\"#C8D4E3\"},\"line\":{\"color\":\"white\"}},\"type\":\"table\"}]},\"layout\":{\"annotationdefaults\":{\"arrowcolor\":\"#2a3f5f\",\"arrowhead\":0,\"arrowwidth\":1},\"autotypenumbers\":\"strict\",\"coloraxis\":{\"colorbar\":{\"outlinewidth\":0,\"ticks\":\"\"}},\"colorscale\":{\"diverging\":[[0,\"#8e0152\"],[0.1,\"#c51b7d\"],[0.2,\"#de77ae\"],[0.3,\"#f1b6da\"],[0.4,\"#fde0ef\"],[0.5,\"#f7f7f7\"],[0.6,\"#e6f5d0\"],[0.7,\"#b8e186\"],[0.8,\"#7fbc41\"],[0.9,\"#4d9221\"],[1,\"#276419\"]],\"sequential\":[[0.0,\"#0d0887\"],[0.1111111111111111,\"#46039f\"],[0.2222222222222222,\"#7201a8\"],[0.3333333333333333,\"#9c179e\"],[0.4444444444444444,\"#bd3786\"],[0.5555555555555556,\"#d8576b\"],[0.6666666666666666,\"#ed7953\"],[0.7777777777777778,\"#fb9f3a\"],[0.8888888888888888,\"#fdca26\"],[1.0,\"#f0f921\"]],\"sequentialminus\":[[0.0,\"#0d0887\"],[0.1111111111111111,\"#46039f\"],[0.2222222222222222,\"#7201a8\"],[0.3333333333333333,\"#9c179e\"],[0.4444444444444444,\"#bd3786\"],[0.5555555555555556,\"#d8576b\"],[0.6666666666666666,\"#ed7953\"],[0.7777777777777778,\"#fb9f3a\"],[0.8888888888888888,\"#fdca26\"],[1.0,\"#f0f921\"]]},\"colorway\":[\"#636efa\",\"#EF553B\",\"#00cc96\",\"#ab63fa\",\"#FFA15A\",\"#19d3f3\",\"#FF6692\",\"#B6E880\",\"#FF97FF\",\"#FECB52\"],\"font\":{\"color\":\"#2a3f5f\"},\"geo\":{\"bgcolor\":\"white\",\"lakecolor\":\"white\",\"landcolor\":\"#E5ECF6\",\"showlakes\":true,\"showland\":true,\"subunitcolor\":\"white\"},\"hoverlabel\":{\"align\":\"left\"},\"hovermode\":\"closest\",\"mapbox\":{\"style\":\"light\"},\"paper_bgcolor\":\"white\",\"plot_bgcolor\":\"#E5ECF6\",\"polar\":{\"angularaxis\":{\"gridcolor\":\"white\",\"linecolor\":\"white\",\"ticks\":\"\"},\"bgcolor\":\"#E5ECF6\",\"radialaxis\":{\"gridcolor\":\"white\",\"linecolor\":\"white\",\"ticks\":\"\"}},\"scene\":{\"xaxis\":{\"backgroundcolor\":\"#E5ECF6\",\"gridcolor\":\"white\",\"gridwidth\":2,\"linecolor\":\"white\",\"showbackground\":true,\"ticks\":\"\",\"zerolinecolor\":\"white\"},\"yaxis\":{\"backgroundcolor\":\"#E5ECF6\",\"gridcolor\":\"white\",\"gridwidth\":2,\"linecolor\":\"white\",\"showbackground\":true,\"ticks\":\"\",\"zerolinecolor\":\"white\"},\"zaxis\":{\"backgroundcolor\":\"#E5ECF6\",\"gridcolor\":\"white\",\"gridwidth\":2,\"linecolor\":\"white\",\"showbackground\":true,\"ticks\":\"\",\"zerolinecolor\":\"white\"}},\"shapedefaults\":{\"line\":{\"color\":\"#2a3f5f\"}},\"ternary\":{\"aaxis\":{\"gridcolor\":\"white\",\"linecolor\":\"white\",\"ticks\":\"\"},\"baxis\":{\"gridcolor\":\"white\",\"linecolor\":\"white\",\"ticks\":\"\"},\"bgcolor\":\"#E5ECF6\",\"caxis\":{\"gridcolor\":\"white\",\"linecolor\":\"white\",\"ticks\":\"\"}},\"title\":{\"x\":0.05},\"xaxis\":{\"automargin\":true,\"gridcolor\":\"white\",\"linecolor\":\"white\",\"ticks\":\"\",\"title\":{\"standoff\":15},\"zerolinecolor\":\"white\",\"zerolinewidth\":2},\"yaxis\":{\"automargin\":true,\"gridcolor\":\"white\",\"linecolor\":\"white\",\"ticks\":\"\",\"title\":{\"standoff\":15},\"zerolinecolor\":\"white\",\"zerolinewidth\":2}}},\"title\":{\"text\":\"Barplot of Feature importances\"},\"width\":900,\"yaxis\":{\"showgrid\":false,\"showline\":false,\"showticklabels\":true}},                        {\"responsive\": true}                    ).then(function(){\n",
       "                            \n",
       "var gd = document.getElementById('8336d290-c001-4e09-9687-02cc271986b0');\n",
       "var x = new MutationObserver(function (mutations, observer) {{\n",
       "        var display = window.getComputedStyle(gd).display;\n",
       "        if (!display || display === 'none') {{\n",
       "            console.log([gd, 'removed!']);\n",
       "            Plotly.purge(gd);\n",
       "            observer.disconnect();\n",
       "        }}\n",
       "}});\n",
       "\n",
       "// Listen for the removal of the full notebook cells\n",
       "var notebookContainer = gd.closest('#notebook-container');\n",
       "if (notebookContainer) {{\n",
       "    x.observe(notebookContainer, {childList: true});\n",
       "}}\n",
       "\n",
       "// Listen for the clearing of the current output cell\n",
       "var outputEl = gd.closest('.output');\n",
       "if (outputEl) {{\n",
       "    x.observe(outputEl, {childList: true});\n",
       "}}\n",
       "\n",
       "                        })                };                });            </script>        </div>"
      ]
     },
     "metadata": {},
     "output_type": "display_data"
    }
   ],
   "source": [
    "import matplotlib.pyplot as plt\n",
    "%matplotlib inline\n",
    "import plotly.offline as py\n",
    "py.init_notebook_mode(connected=True)\n",
    "import plotly.graph_objs as go\n",
    "import plotly.tools as tls\n",
    "import pandas as pd\n",
    "import numpy as np\n",
    "from matplotlib import pyplot\n",
    "from sklearn.model_selection import train_test_split\n",
    "from sklearn.ensemble import RandomForestClassifier\n",
    "from sklearn.model_selection import train_test_split # train/test\n",
    "from sklearn.datasets import load_wine # dataset \n",
    "from sklearn.metrics import accuracy_score, confusion_matrix # 평가 : 분류정확도 \n",
    "from sklearn.metrics import classification_report # 평가 : 정확률, 재현율, f1_score\n",
    "from sklearn.model_selection import train_test_split\n",
    "df = pd.read_csv(\"data/finalservey_1912_clean.csv\")\n",
    "def rating(mens_cramp):\n",
    "    if mens_cramp >= 8: return 2\n",
    "    elif mens_cramp >= 7: return 1\n",
    "    else: return 0\n",
    "df['mens_cramp_rank'] = df.apply(lambda x: rating(x['mens_cramp']),axis=1)\n",
    "\n",
    "X = df[['mens_cramps_level_before_meal_exercise', 'mens_stress', 'mens_cramps_level_after_meal_exercise', 'bmi', 'height_1', 'age', 'weight_1', 'lower_body_size', 'upper_body_size', 'mens_cycle', 'menarche_age', 'pain_after', 'mens_exercise', 'mens_period', 'mens_meal', 'mens_symptoms_3_ovulation_cramps', 'meal_exercise_effects', 'mens_cramp_symptoms_reduced_temperance', 'mens_cramps_family_no', 'meal_exercise_effects_specific_no_pms', 'exercise_type_bicycle', 'meal_exercise_effects_c', 'mens_stress_peak_before', 'exercise_type_yoga_pilates', 'mens_cramp_symptoms_lethargy', 'options_abdominal_obesity', 'mens_symptoms_3_pressure', 'mens_cramps_family_relatives', 'options_tension', 'meal_exercise_effects_specific_reduced_stress', 'mens_symptoms_3_abnormal', 'mens_cramp_symptoms_diarrhea', 'mens_symptoms_3_pelvis_pain', 'mens_cramp_part_waist', 'mens_cramp_symptoms_exhaustion', 'mens_cramp_peak_second_day', 'mens_before_after_pattern_help', 'mens_cramp_symptoms_colic', 'mens_before_after_pattern_borrow_pads', 'mens_symptoms_3_gas']]\n",
    "y = df['mens_cramp_rank']\n",
    "X_train, X_test, y_train, y_test = train_test_split(X, y, test_size = 0.3)\n",
    "\n",
    "model = RandomForestClassifier(n_estimators = 400)\n",
    "model.fit(X_train, y_train)\n",
    "\n",
    "y_pred = model.predict(X_test)\n",
    "print(\"Accuracy is: \", accuracy_score(y_pred, y_test))\n",
    "\n",
    "con_mat = confusion_matrix(y_pred, y_test)\n",
    "print(con_mat)\n",
    "\n",
    "report = classification_report(y_pred, y_test)\n",
    "print(report)\n",
    "\n",
    "features = X_train.columns.values\n",
    "print(\"---- Training Done ----\")\n",
    "\n",
    "trace = go.Scatter(\n",
    "    y = model.feature_importances_,\n",
    "    x = features,\n",
    "    mode = 'markers',\n",
    "    marker = dict(\n",
    "        sizemode = 'diameter',\n",
    "        sizeref = 1,\n",
    "        size = 13,\n",
    "        color = model.feature_importances_,\n",
    "        colorscale='Portland',\n",
    "        showscale = True\n",
    "    ),\n",
    "    text = features\n",
    ")\n",
    "data = [trace]\n",
    "\n",
    "layout = go.Layout(\n",
    "    autosize = True,\n",
    "    title = 'Random Forest Feature Importance',\n",
    "    hovermode = 'closest',\n",
    "    xaxis = dict(\n",
    "        ticklen = 5,\n",
    "        showgrid = False,\n",
    "        zeroline = False,\n",
    "        showline = False\n",
    "    ),\n",
    "    yaxis = dict(\n",
    "        title = 'Feature Importance',\n",
    "        showgrid = False,\n",
    "        zeroline = False,\n",
    "        ticklen = 5,\n",
    "        gridwidth = 2\n",
    "    ),\n",
    "    showlegend = False\n",
    ")\n",
    "fig = go.Figure(data, layout = layout)\n",
    "py.iplot(fig, filename = 'scatter2010')\n",
    "\n",
    "x, y = (list(x) for x in zip(*sorted(zip(model.feature_importances_, features), reverse = False)))\n",
    "trace2 = go.Bar(\n",
    "    x = x,\n",
    "    y = y,\n",
    "    marker = dict(\n",
    "        color = x,\n",
    "        colorscale = 'Viridis',\n",
    "        reversescale = True\n",
    "    ),\n",
    "    name = 'Random Forest Feature importance',\n",
    "    orientation = 'h'\n",
    ")\n",
    "\n",
    "layout = dict(\n",
    "    title = 'Barplot of Feature importances',\n",
    "    width = 900, height = 2000,\n",
    "    yaxis = dict(\n",
    "        showgrid = False,\n",
    "        showline = False,\n",
    "        showticklabels = True\n",
    "    )\n",
    ")\n",
    "\n",
    "fig1 = go.Figure(data = [trace2])\n",
    "fig1['layout'].update(layout)\n",
    "py.iplot(fig1, filename = 'plots')"
   ]
  },
  {
   "cell_type": "code",
   "execution_count": 26,
   "id": "6f61a59e",
   "metadata": {
    "scrolled": true
   },
   "outputs": [
    {
     "data": {
      "application/vnd.plotly.v1+json": {
       "config": {
        "plotlyServerURL": "https://plot.ly"
       },
       "data": [
        {
         "marker": {
          "color": [
           0,
           0,
           8.13698157341873e-05,
           8.714881275922585e-05,
           0.0001743841158121987,
           0.00038187074946555903,
           0.0007359833058787537,
           0.0008898338251880101,
           0.0010235214616130582,
           0.0010353650646840607,
           0.001097161549741486,
           0.0011081179697313614,
           0.0011563585730706997,
           0.001243477539760405,
           0.0012810076628925512,
           0.0013922921388539971,
           0.0018001267414166973,
           0.0018223957286437505,
           0.0018665720078213915,
           0.0020440684850605664,
           0.0021449526459426326,
           0.0022048163994628917,
           0.0023049697354613815,
           0.0023162357120651337,
           0.0023442577363128555,
           0.0024483890627541574,
           0.0024516934858812528,
           0.0024604920463395024,
           0.00250512223785344,
           0.002525981475911448,
           0.002538335318886481,
           0.002586841664275628,
           0.0026217245454121085,
           0.0026987751068101,
           0.0027860595879876946,
           0.002828233016656021,
           0.002868877202226896,
           0.0029464540898067096,
           0.0029511799862357055,
           0.0031160901437162656,
           0.003118806331040407,
           0.003139659788376297,
           0.0031478835816642265,
           0.0031494883049609894,
           0.0031860153859362165,
           0.0032461928431355954,
           0.003254680353088308,
           0.0032654474783426206,
           0.0032710000621479145,
           0.003339526742899683,
           0.0033635112379429774,
           0.0033938023025062354,
           0.0033990200035892023,
           0.003405195580329431,
           0.003407182081345414,
           0.003482333552874695,
           0.003516460844960215,
           0.003570321366673071,
           0.0035859892931830507,
           0.003600808659567534,
           0.0036474476878067446,
           0.0036493816069095254,
           0.00368846552604471,
           0.003725802003783413,
           0.003768552556886459,
           0.003784715040695171,
           0.0038002954677289072,
           0.003802163489673151,
           0.0038043969809065693,
           0.0038169280033565757,
           0.003818959799645164,
           0.0038779984903842117,
           0.003946606448942537,
           0.00397448575177679,
           0.0040169016760622615,
           0.004028909261502929,
           0.004050232414182857,
           0.004060191432079969,
           0.004104824432487141,
           0.004114831741554501,
           0.004119314962937307,
           0.004201134961065277,
           0.004203774842299296,
           0.004212836153827968,
           0.00423330433244463,
           0.004234124461216454,
           0.004276945837362378,
           0.004356024416255525,
           0.0043691831424230426,
           0.004402213473208316,
           0.004405861122534597,
           0.004425975604223217,
           0.0044286185677688055,
           0.004429888933609068,
           0.004443746677856734,
           0.004456626009887265,
           0.00447539222018665,
           0.0044815112814509716,
           0.004489260659356429,
           0.0045020414619427115,
           0.004503784313380766,
           0.004508326188129838,
           0.004513650748593146,
           0.0045339189422209025,
           0.004562852841663592,
           0.004651465270319194,
           0.0048376633000941915,
           0.00484194524606894,
           0.004874313129234862,
           0.004877484852677905,
           0.004922046242210441,
           0.004972127589762169,
           0.005011719758424932,
           0.005061999256740236,
           0.005098552190156014,
           0.005106197156369853,
           0.005107790843954723,
           0.005136100442240608,
           0.005140195589728295,
           0.005156960608144114,
           0.005395793350567434,
           0.005436165806497214,
           0.005436254450645875,
           0.005478701545157614,
           0.005529489857520674,
           0.00556653923969675,
           0.0056791611735812235,
           0.005686265613986271,
           0.005719767596859842,
           0.005789013357581714,
           0.005916916918366795,
           0.005939952627610043,
           0.005955247537884463,
           0.006050714513610703,
           0.006071487315391108,
           0.006081013585226785,
           0.006093622399365365,
           0.006117119853483809,
           0.006145873746469231,
           0.006156687407648123,
           0.006182823128507168,
           0.0061909852480839704,
           0.006512451498275803,
           0.006517596077579083,
           0.0068591622732347484,
           0.00692432741548513,
           0.007037903115429335,
           0.007040006218542104,
           0.007041067311655897,
           0.007341685408363284,
           0.007688817526614131,
           0.007703398246834674,
           0.007831161942126685,
           0.008213576945143984,
           0.008367312882065861,
           0.008417699247995597,
           0.00876656869106513,
           0.009191296077756475,
           0.009514526014374679,
           0.009872777464243856,
           0.011591779057613865,
           0.012796758611453197,
           0.013059761709219301,
           0.013142100661952255,
           0.014125886405862664,
           0.014516486670982714,
           0.020371768808988597,
           0.022018533023738955,
           0.022196149222715063,
           0.0231050990279795,
           0.024314232508090956,
           0.02613032473750781,
           0.0284044178078827,
           0.035876173785003566,
           0.04912677134340876
          ],
          "colorscale": [
           [
            0,
            "#440154"
           ],
           [
            0.1111111111111111,
            "#482878"
           ],
           [
            0.2222222222222222,
            "#3e4989"
           ],
           [
            0.3333333333333333,
            "#31688e"
           ],
           [
            0.4444444444444444,
            "#26828e"
           ],
           [
            0.5555555555555556,
            "#1f9e89"
           ],
           [
            0.6666666666666666,
            "#35b779"
           ],
           [
            0.7777777777777778,
            "#6ece58"
           ],
           [
            0.8888888888888888,
            "#b5de2b"
           ],
           [
            1,
            "#fde725"
           ]
          ],
          "reversescale": true
         },
         "name": "Random Forest Feature importance",
         "orientation": "h",
         "type": "bar",
         "x": [
          0,
          0,
          8.13698157341873e-05,
          8.714881275922585e-05,
          0.0001743841158121987,
          0.00038187074946555903,
          0.0007359833058787537,
          0.0008898338251880101,
          0.0010235214616130582,
          0.0010353650646840607,
          0.001097161549741486,
          0.0011081179697313614,
          0.0011563585730706997,
          0.001243477539760405,
          0.0012810076628925512,
          0.0013922921388539971,
          0.0018001267414166973,
          0.0018223957286437505,
          0.0018665720078213915,
          0.0020440684850605664,
          0.0021449526459426326,
          0.0022048163994628917,
          0.0023049697354613815,
          0.0023162357120651337,
          0.0023442577363128555,
          0.0024483890627541574,
          0.0024516934858812528,
          0.0024604920463395024,
          0.00250512223785344,
          0.002525981475911448,
          0.002538335318886481,
          0.002586841664275628,
          0.0026217245454121085,
          0.0026987751068101,
          0.0027860595879876946,
          0.002828233016656021,
          0.002868877202226896,
          0.0029464540898067096,
          0.0029511799862357055,
          0.0031160901437162656,
          0.003118806331040407,
          0.003139659788376297,
          0.0031478835816642265,
          0.0031494883049609894,
          0.0031860153859362165,
          0.0032461928431355954,
          0.003254680353088308,
          0.0032654474783426206,
          0.0032710000621479145,
          0.003339526742899683,
          0.0033635112379429774,
          0.0033938023025062354,
          0.0033990200035892023,
          0.003405195580329431,
          0.003407182081345414,
          0.003482333552874695,
          0.003516460844960215,
          0.003570321366673071,
          0.0035859892931830507,
          0.003600808659567534,
          0.0036474476878067446,
          0.0036493816069095254,
          0.00368846552604471,
          0.003725802003783413,
          0.003768552556886459,
          0.003784715040695171,
          0.0038002954677289072,
          0.003802163489673151,
          0.0038043969809065693,
          0.0038169280033565757,
          0.003818959799645164,
          0.0038779984903842117,
          0.003946606448942537,
          0.00397448575177679,
          0.0040169016760622615,
          0.004028909261502929,
          0.004050232414182857,
          0.004060191432079969,
          0.004104824432487141,
          0.004114831741554501,
          0.004119314962937307,
          0.004201134961065277,
          0.004203774842299296,
          0.004212836153827968,
          0.00423330433244463,
          0.004234124461216454,
          0.004276945837362378,
          0.004356024416255525,
          0.0043691831424230426,
          0.004402213473208316,
          0.004405861122534597,
          0.004425975604223217,
          0.0044286185677688055,
          0.004429888933609068,
          0.004443746677856734,
          0.004456626009887265,
          0.00447539222018665,
          0.0044815112814509716,
          0.004489260659356429,
          0.0045020414619427115,
          0.004503784313380766,
          0.004508326188129838,
          0.004513650748593146,
          0.0045339189422209025,
          0.004562852841663592,
          0.004651465270319194,
          0.0048376633000941915,
          0.00484194524606894,
          0.004874313129234862,
          0.004877484852677905,
          0.004922046242210441,
          0.004972127589762169,
          0.005011719758424932,
          0.005061999256740236,
          0.005098552190156014,
          0.005106197156369853,
          0.005107790843954723,
          0.005136100442240608,
          0.005140195589728295,
          0.005156960608144114,
          0.005395793350567434,
          0.005436165806497214,
          0.005436254450645875,
          0.005478701545157614,
          0.005529489857520674,
          0.00556653923969675,
          0.0056791611735812235,
          0.005686265613986271,
          0.005719767596859842,
          0.005789013357581714,
          0.005916916918366795,
          0.005939952627610043,
          0.005955247537884463,
          0.006050714513610703,
          0.006071487315391108,
          0.006081013585226785,
          0.006093622399365365,
          0.006117119853483809,
          0.006145873746469231,
          0.006156687407648123,
          0.006182823128507168,
          0.0061909852480839704,
          0.006512451498275803,
          0.006517596077579083,
          0.0068591622732347484,
          0.00692432741548513,
          0.007037903115429335,
          0.007040006218542104,
          0.007041067311655897,
          0.007341685408363284,
          0.007688817526614131,
          0.007703398246834674,
          0.007831161942126685,
          0.008213576945143984,
          0.008367312882065861,
          0.008417699247995597,
          0.00876656869106513,
          0.009191296077756475,
          0.009514526014374679,
          0.009872777464243856,
          0.011591779057613865,
          0.012796758611453197,
          0.013059761709219301,
          0.013142100661952255,
          0.014125886405862664,
          0.014516486670982714,
          0.020371768808988597,
          0.022018533023738955,
          0.022196149222715063,
          0.0231050990279795,
          0.024314232508090956,
          0.02613032473750781,
          0.0284044178078827,
          0.035876173785003566,
          0.04912677134340876
         ],
         "y": [
          "mens_before_after_pattern_sweet_spicy",
          "mens_disease_uterine_adenoma",
          "mens_before_after_pattern_heavy_makeup",
          "mens_before_after_pattern_accessory",
          "thyroid_cancer",
          "exercise_type_golf",
          "thyroid_hyperthyroidism",
          "thyroid_no",
          "mens_supplies_pad",
          "mens_cramp_symptoms_breathing_problem",
          "mens_cramp_peak_third_day",
          "mens_cramp_symptoms_dizziness",
          "mens_stress_peak_third_day",
          "mens_before_after_pattern_partying",
          "mens_disease_fibroids",
          "meal_exercise_effects_specific_same_inbody",
          "mens_cramp_symptoms_throw_up",
          "mens_supplies_cotton_pad",
          "meal_exercise_effects_specific_gain_weight",
          "mens_cramp_symptoms_digestive_upset",
          "mens_cramp_symptoms_chill",
          "mens_symptoms_3_waist_pain",
          "mens_cramp_part_below_thigh",
          "mens_cramp_symptoms_anemia",
          "mens_before_after_pattern_accommodation",
          "mens_cramp_symptoms_anxiety",
          "mens_cramps_family_younger_sister",
          "mens_symptoms_3_long_period",
          "mens_before_after_pattern_sex_nervousness",
          "mens_cramp_symptoms_belly_pain",
          "mens_supplies_cup",
          "mens_before_after_pattern_fancy",
          "mens_cramp_symptoms_muscle_pain",
          "thyroid_hypothyroidism",
          "mens_cramp_symptoms_decreased_appetite",
          "mens_cramp_symptoms_gastrointestinal_disorder",
          "mens_symptoms_3_long_cramps",
          "mens_cramps_family_older_sister",
          "mens_symptoms_3_lump",
          "mens_symptoms_3_stomachache",
          "mens_cramp_symptoms_fever",
          "mens_before_after_pattern_buy_comfy",
          "mens_cramp_symptoms_depression",
          "options_diarrhea",
          "mens_cramp_symptoms_migraine",
          "mens_cramp_symptoms_nervousness",
          "mens_symptoms_3_intense_pain",
          "meal_exercise_effects_specific_same_weight",
          "mens_cramp_symptoms_drowsiness",
          "mens_cramp_symptoms_dull_movement",
          "mens_cramp_part_belly",
          "mens_cramp_symptoms_cold_sweat",
          "mens_cramp_symptoms_nausea",
          "mens_before_after_pattern_sex_calculate_date",
          "mens_cramp_symptoms_leg_numbness",
          "mens_cramp_symptoms_orthostatic_hypotension",
          "mens_cramp_symptoms_sickness",
          "mens_cramp_symptoms_whirl",
          "mens_before_after_pattern_urgent_cancellation",
          "mens_cramps_family_mother",
          "meal_exercise_effects_specific_improved_inbody",
          "exercise_type_walking",
          "mens_before_after_pattern_work",
          "mens_before_after_pattern_throw_out_panty",
          "exercise_type_swimming",
          "mens_symptoms_3_irregular_blood",
          "mens_cramp_symptoms_excessive_sleep",
          "exercise_type_hiking",
          "meal_exercise_effects_specific_reduced_pain",
          "mens_cramp_symptoms_joint_pain",
          "options_insomnia",
          "mens_cramp_symptoms_back_pain",
          "mens_cramp_symptoms_insomnia",
          "mens_disease_no",
          "mens_cramp_symptoms_abdominal_swelling",
          "mens_cramp_symptoms_headache",
          "mens_symptoms_3_stressful",
          "mens_before_after_pattern_cancellation",
          "meal_exercise_effects_specific_no_pain",
          "mens_symptoms_3_urination",
          "improvements_hospital",
          "mens_cramp_symptoms_pimple",
          "mens_cramp_symptoms_sensitive_temperature",
          "exercise_type_running",
          "mens_cramp_symptoms_constipation",
          "mens_before_after_pattern_toilet",
          "mens_before_after_pattern_embarrassment",
          "mens_before_after_pattern_excitement",
          "mens_cramp_symptoms_sweet",
          "mens_cramp_symptoms_swelling",
          "mens_symptoms_3_abdominal_pain",
          "mens_cramp_symptoms_chest_pain",
          "mens_cramp_peak_before",
          "mens_stress_peak_first_day",
          "mens_cramp_symptoms_indigestion",
          "mens_before_after_pattern_sexual_desire",
          "mens_supplies_tampon",
          "mens_cramp_part_pelvis",
          "exercise_type_dance",
          "options_swelling",
          "exercise_type_fitness",
          "mens_before_after_pattern_panty_blood",
          "mens_symptoms_3_diarrhea",
          "mens_before_after_pattern_deceive",
          "mens_before_after_pattern_app",
          "mens_before_after_pattern_same_weight",
          "mens_before_after_pattern_comfy_clothes",
          "mens_cramp_symptoms_voracity",
          "mens_before_after_pattern_weight_changes",
          "mens_before_after_pattern_keen",
          "mens_cramp_symptoms_increased_appetite",
          "mens_before_after_pattern_buy_pads",
          "improvements_plan",
          "mens_before_after_pattern_withstand",
          "mens_before_after_pattern_dark_clothes",
          "mens_before_after_pattern_chest_lump",
          "improvements_results",
          "mens_cramp_symptoms_increased_libido",
          "meal_exercise_effects_specific_lose_weight",
          "mens_symptoms_3_cluster_blood",
          "options_cold",
          "mens_stress_peak_second_day",
          "mens_cramp_symptoms_leg_swelling",
          "improvements_1.1",
          "meal_exercise_effects_specific_reduced_cramps",
          "meal_exercise_effects_specific_no",
          "improvements_self_measurement",
          "mens_cramp_symptoms_gas",
          "mens_before_after_pattern_bulk_purchase_pads",
          "options_stiffness",
          "mens_symptoms_3_irregular_blood_amount",
          "mens_cramp_symptoms_emotion",
          "mens_disease_pms",
          "mens_cramp_peak_first_day",
          "mens_symptoms_3_gas",
          "mens_before_after_pattern_borrow_pads",
          "mens_cramp_symptoms_colic",
          "mens_before_after_pattern_help",
          "mens_cramp_peak_second_day",
          "mens_cramp_symptoms_exhaustion",
          "mens_cramp_part_waist",
          "mens_symptoms_3_pelvis_pain",
          "mens_cramp_symptoms_diarrhea",
          "mens_symptoms_3_abnormal",
          "meal_exercise_effects_specific_reduced_stress",
          "options_tension",
          "mens_cramps_family_relatives",
          "mens_symptoms_3_pressure",
          "options_abdominal_obesity",
          "mens_cramp_symptoms_lethargy",
          "exercise_type_yoga_pilates",
          "mens_stress_peak_before",
          "meal_exercise_effects_c",
          "exercise_type_bicycle",
          "meal_exercise_effects_specific_no_pms",
          "mens_cramps_family_no",
          "mens_cramp_symptoms_reduced_temperance",
          "meal_exercise_effects",
          "mens_symptoms_3_ovulation_cramps",
          "mens_meal",
          "mens_period",
          "mens_exercise",
          "pain_after",
          "menarche_age",
          "mens_cycle",
          "upper_body_size",
          "lower_body_size",
          "weight_3_1",
          "weight_1",
          "age",
          "height_1",
          "bmi",
          "mens_cramps_level_after_meal_exercise",
          "mens_stress",
          "mens_cramps_level_before_meal_exercise"
         ]
        }
       ],
       "layout": {
        "height": 2000,
        "template": {
         "data": {
          "bar": [
           {
            "error_x": {
             "color": "#2a3f5f"
            },
            "error_y": {
             "color": "#2a3f5f"
            },
            "marker": {
             "line": {
              "color": "#E5ECF6",
              "width": 0.5
             },
             "pattern": {
              "fillmode": "overlay",
              "size": 10,
              "solidity": 0.2
             }
            },
            "type": "bar"
           }
          ],
          "barpolar": [
           {
            "marker": {
             "line": {
              "color": "#E5ECF6",
              "width": 0.5
             },
             "pattern": {
              "fillmode": "overlay",
              "size": 10,
              "solidity": 0.2
             }
            },
            "type": "barpolar"
           }
          ],
          "carpet": [
           {
            "aaxis": {
             "endlinecolor": "#2a3f5f",
             "gridcolor": "white",
             "linecolor": "white",
             "minorgridcolor": "white",
             "startlinecolor": "#2a3f5f"
            },
            "baxis": {
             "endlinecolor": "#2a3f5f",
             "gridcolor": "white",
             "linecolor": "white",
             "minorgridcolor": "white",
             "startlinecolor": "#2a3f5f"
            },
            "type": "carpet"
           }
          ],
          "choropleth": [
           {
            "colorbar": {
             "outlinewidth": 0,
             "ticks": ""
            },
            "type": "choropleth"
           }
          ],
          "contour": [
           {
            "colorbar": {
             "outlinewidth": 0,
             "ticks": ""
            },
            "colorscale": [
             [
              0,
              "#0d0887"
             ],
             [
              0.1111111111111111,
              "#46039f"
             ],
             [
              0.2222222222222222,
              "#7201a8"
             ],
             [
              0.3333333333333333,
              "#9c179e"
             ],
             [
              0.4444444444444444,
              "#bd3786"
             ],
             [
              0.5555555555555556,
              "#d8576b"
             ],
             [
              0.6666666666666666,
              "#ed7953"
             ],
             [
              0.7777777777777778,
              "#fb9f3a"
             ],
             [
              0.8888888888888888,
              "#fdca26"
             ],
             [
              1,
              "#f0f921"
             ]
            ],
            "type": "contour"
           }
          ],
          "contourcarpet": [
           {
            "colorbar": {
             "outlinewidth": 0,
             "ticks": ""
            },
            "type": "contourcarpet"
           }
          ],
          "heatmap": [
           {
            "colorbar": {
             "outlinewidth": 0,
             "ticks": ""
            },
            "colorscale": [
             [
              0,
              "#0d0887"
             ],
             [
              0.1111111111111111,
              "#46039f"
             ],
             [
              0.2222222222222222,
              "#7201a8"
             ],
             [
              0.3333333333333333,
              "#9c179e"
             ],
             [
              0.4444444444444444,
              "#bd3786"
             ],
             [
              0.5555555555555556,
              "#d8576b"
             ],
             [
              0.6666666666666666,
              "#ed7953"
             ],
             [
              0.7777777777777778,
              "#fb9f3a"
             ],
             [
              0.8888888888888888,
              "#fdca26"
             ],
             [
              1,
              "#f0f921"
             ]
            ],
            "type": "heatmap"
           }
          ],
          "heatmapgl": [
           {
            "colorbar": {
             "outlinewidth": 0,
             "ticks": ""
            },
            "colorscale": [
             [
              0,
              "#0d0887"
             ],
             [
              0.1111111111111111,
              "#46039f"
             ],
             [
              0.2222222222222222,
              "#7201a8"
             ],
             [
              0.3333333333333333,
              "#9c179e"
             ],
             [
              0.4444444444444444,
              "#bd3786"
             ],
             [
              0.5555555555555556,
              "#d8576b"
             ],
             [
              0.6666666666666666,
              "#ed7953"
             ],
             [
              0.7777777777777778,
              "#fb9f3a"
             ],
             [
              0.8888888888888888,
              "#fdca26"
             ],
             [
              1,
              "#f0f921"
             ]
            ],
            "type": "heatmapgl"
           }
          ],
          "histogram": [
           {
            "marker": {
             "pattern": {
              "fillmode": "overlay",
              "size": 10,
              "solidity": 0.2
             }
            },
            "type": "histogram"
           }
          ],
          "histogram2d": [
           {
            "colorbar": {
             "outlinewidth": 0,
             "ticks": ""
            },
            "colorscale": [
             [
              0,
              "#0d0887"
             ],
             [
              0.1111111111111111,
              "#46039f"
             ],
             [
              0.2222222222222222,
              "#7201a8"
             ],
             [
              0.3333333333333333,
              "#9c179e"
             ],
             [
              0.4444444444444444,
              "#bd3786"
             ],
             [
              0.5555555555555556,
              "#d8576b"
             ],
             [
              0.6666666666666666,
              "#ed7953"
             ],
             [
              0.7777777777777778,
              "#fb9f3a"
             ],
             [
              0.8888888888888888,
              "#fdca26"
             ],
             [
              1,
              "#f0f921"
             ]
            ],
            "type": "histogram2d"
           }
          ],
          "histogram2dcontour": [
           {
            "colorbar": {
             "outlinewidth": 0,
             "ticks": ""
            },
            "colorscale": [
             [
              0,
              "#0d0887"
             ],
             [
              0.1111111111111111,
              "#46039f"
             ],
             [
              0.2222222222222222,
              "#7201a8"
             ],
             [
              0.3333333333333333,
              "#9c179e"
             ],
             [
              0.4444444444444444,
              "#bd3786"
             ],
             [
              0.5555555555555556,
              "#d8576b"
             ],
             [
              0.6666666666666666,
              "#ed7953"
             ],
             [
              0.7777777777777778,
              "#fb9f3a"
             ],
             [
              0.8888888888888888,
              "#fdca26"
             ],
             [
              1,
              "#f0f921"
             ]
            ],
            "type": "histogram2dcontour"
           }
          ],
          "mesh3d": [
           {
            "colorbar": {
             "outlinewidth": 0,
             "ticks": ""
            },
            "type": "mesh3d"
           }
          ],
          "parcoords": [
           {
            "line": {
             "colorbar": {
              "outlinewidth": 0,
              "ticks": ""
             }
            },
            "type": "parcoords"
           }
          ],
          "pie": [
           {
            "automargin": true,
            "type": "pie"
           }
          ],
          "scatter": [
           {
            "marker": {
             "colorbar": {
              "outlinewidth": 0,
              "ticks": ""
             }
            },
            "type": "scatter"
           }
          ],
          "scatter3d": [
           {
            "line": {
             "colorbar": {
              "outlinewidth": 0,
              "ticks": ""
             }
            },
            "marker": {
             "colorbar": {
              "outlinewidth": 0,
              "ticks": ""
             }
            },
            "type": "scatter3d"
           }
          ],
          "scattercarpet": [
           {
            "marker": {
             "colorbar": {
              "outlinewidth": 0,
              "ticks": ""
             }
            },
            "type": "scattercarpet"
           }
          ],
          "scattergeo": [
           {
            "marker": {
             "colorbar": {
              "outlinewidth": 0,
              "ticks": ""
             }
            },
            "type": "scattergeo"
           }
          ],
          "scattergl": [
           {
            "marker": {
             "colorbar": {
              "outlinewidth": 0,
              "ticks": ""
             }
            },
            "type": "scattergl"
           }
          ],
          "scattermapbox": [
           {
            "marker": {
             "colorbar": {
              "outlinewidth": 0,
              "ticks": ""
             }
            },
            "type": "scattermapbox"
           }
          ],
          "scatterpolar": [
           {
            "marker": {
             "colorbar": {
              "outlinewidth": 0,
              "ticks": ""
             }
            },
            "type": "scatterpolar"
           }
          ],
          "scatterpolargl": [
           {
            "marker": {
             "colorbar": {
              "outlinewidth": 0,
              "ticks": ""
             }
            },
            "type": "scatterpolargl"
           }
          ],
          "scatterternary": [
           {
            "marker": {
             "colorbar": {
              "outlinewidth": 0,
              "ticks": ""
             }
            },
            "type": "scatterternary"
           }
          ],
          "surface": [
           {
            "colorbar": {
             "outlinewidth": 0,
             "ticks": ""
            },
            "colorscale": [
             [
              0,
              "#0d0887"
             ],
             [
              0.1111111111111111,
              "#46039f"
             ],
             [
              0.2222222222222222,
              "#7201a8"
             ],
             [
              0.3333333333333333,
              "#9c179e"
             ],
             [
              0.4444444444444444,
              "#bd3786"
             ],
             [
              0.5555555555555556,
              "#d8576b"
             ],
             [
              0.6666666666666666,
              "#ed7953"
             ],
             [
              0.7777777777777778,
              "#fb9f3a"
             ],
             [
              0.8888888888888888,
              "#fdca26"
             ],
             [
              1,
              "#f0f921"
             ]
            ],
            "type": "surface"
           }
          ],
          "table": [
           {
            "cells": {
             "fill": {
              "color": "#EBF0F8"
             },
             "line": {
              "color": "white"
             }
            },
            "header": {
             "fill": {
              "color": "#C8D4E3"
             },
             "line": {
              "color": "white"
             }
            },
            "type": "table"
           }
          ]
         },
         "layout": {
          "annotationdefaults": {
           "arrowcolor": "#2a3f5f",
           "arrowhead": 0,
           "arrowwidth": 1
          },
          "autotypenumbers": "strict",
          "coloraxis": {
           "colorbar": {
            "outlinewidth": 0,
            "ticks": ""
           }
          },
          "colorscale": {
           "diverging": [
            [
             0,
             "#8e0152"
            ],
            [
             0.1,
             "#c51b7d"
            ],
            [
             0.2,
             "#de77ae"
            ],
            [
             0.3,
             "#f1b6da"
            ],
            [
             0.4,
             "#fde0ef"
            ],
            [
             0.5,
             "#f7f7f7"
            ],
            [
             0.6,
             "#e6f5d0"
            ],
            [
             0.7,
             "#b8e186"
            ],
            [
             0.8,
             "#7fbc41"
            ],
            [
             0.9,
             "#4d9221"
            ],
            [
             1,
             "#276419"
            ]
           ],
           "sequential": [
            [
             0,
             "#0d0887"
            ],
            [
             0.1111111111111111,
             "#46039f"
            ],
            [
             0.2222222222222222,
             "#7201a8"
            ],
            [
             0.3333333333333333,
             "#9c179e"
            ],
            [
             0.4444444444444444,
             "#bd3786"
            ],
            [
             0.5555555555555556,
             "#d8576b"
            ],
            [
             0.6666666666666666,
             "#ed7953"
            ],
            [
             0.7777777777777778,
             "#fb9f3a"
            ],
            [
             0.8888888888888888,
             "#fdca26"
            ],
            [
             1,
             "#f0f921"
            ]
           ],
           "sequentialminus": [
            [
             0,
             "#0d0887"
            ],
            [
             0.1111111111111111,
             "#46039f"
            ],
            [
             0.2222222222222222,
             "#7201a8"
            ],
            [
             0.3333333333333333,
             "#9c179e"
            ],
            [
             0.4444444444444444,
             "#bd3786"
            ],
            [
             0.5555555555555556,
             "#d8576b"
            ],
            [
             0.6666666666666666,
             "#ed7953"
            ],
            [
             0.7777777777777778,
             "#fb9f3a"
            ],
            [
             0.8888888888888888,
             "#fdca26"
            ],
            [
             1,
             "#f0f921"
            ]
           ]
          },
          "colorway": [
           "#636efa",
           "#EF553B",
           "#00cc96",
           "#ab63fa",
           "#FFA15A",
           "#19d3f3",
           "#FF6692",
           "#B6E880",
           "#FF97FF",
           "#FECB52"
          ],
          "font": {
           "color": "#2a3f5f"
          },
          "geo": {
           "bgcolor": "white",
           "lakecolor": "white",
           "landcolor": "#E5ECF6",
           "showlakes": true,
           "showland": true,
           "subunitcolor": "white"
          },
          "hoverlabel": {
           "align": "left"
          },
          "hovermode": "closest",
          "mapbox": {
           "style": "light"
          },
          "paper_bgcolor": "white",
          "plot_bgcolor": "#E5ECF6",
          "polar": {
           "angularaxis": {
            "gridcolor": "white",
            "linecolor": "white",
            "ticks": ""
           },
           "bgcolor": "#E5ECF6",
           "radialaxis": {
            "gridcolor": "white",
            "linecolor": "white",
            "ticks": ""
           }
          },
          "scene": {
           "xaxis": {
            "backgroundcolor": "#E5ECF6",
            "gridcolor": "white",
            "gridwidth": 2,
            "linecolor": "white",
            "showbackground": true,
            "ticks": "",
            "zerolinecolor": "white"
           },
           "yaxis": {
            "backgroundcolor": "#E5ECF6",
            "gridcolor": "white",
            "gridwidth": 2,
            "linecolor": "white",
            "showbackground": true,
            "ticks": "",
            "zerolinecolor": "white"
           },
           "zaxis": {
            "backgroundcolor": "#E5ECF6",
            "gridcolor": "white",
            "gridwidth": 2,
            "linecolor": "white",
            "showbackground": true,
            "ticks": "",
            "zerolinecolor": "white"
           }
          },
          "shapedefaults": {
           "line": {
            "color": "#2a3f5f"
           }
          },
          "ternary": {
           "aaxis": {
            "gridcolor": "white",
            "linecolor": "white",
            "ticks": ""
           },
           "baxis": {
            "gridcolor": "white",
            "linecolor": "white",
            "ticks": ""
           },
           "bgcolor": "#E5ECF6",
           "caxis": {
            "gridcolor": "white",
            "linecolor": "white",
            "ticks": ""
           }
          },
          "title": {
           "x": 0.05
          },
          "xaxis": {
           "automargin": true,
           "gridcolor": "white",
           "linecolor": "white",
           "ticks": "",
           "title": {
            "standoff": 15
           },
           "zerolinecolor": "white",
           "zerolinewidth": 2
          },
          "yaxis": {
           "automargin": true,
           "gridcolor": "white",
           "linecolor": "white",
           "ticks": "",
           "title": {
            "standoff": 15
           },
           "zerolinecolor": "white",
           "zerolinewidth": 2
          }
         }
        },
        "title": {
         "text": "Barplot of Feature importances"
        },
        "width": 900,
        "yaxis": {
         "showgrid": false,
         "showline": false,
         "showticklabels": true
        }
       }
      },
      "text/html": [
       "<div>                            <div id=\"ad95b6fa-3687-4443-b8f7-c944e8d1d972\" class=\"plotly-graph-div\" style=\"height:2000px; width:900px;\"></div>            <script type=\"text/javascript\">                require([\"plotly\"], function(Plotly) {                    window.PLOTLYENV=window.PLOTLYENV || {};                                    if (document.getElementById(\"ad95b6fa-3687-4443-b8f7-c944e8d1d972\")) {                    Plotly.newPlot(                        \"ad95b6fa-3687-4443-b8f7-c944e8d1d972\",                        [{\"marker\":{\"color\":[0.0,0.0,8.13698157341873e-05,8.714881275922585e-05,0.0001743841158121987,0.00038187074946555903,0.0007359833058787537,0.0008898338251880101,0.0010235214616130582,0.0010353650646840607,0.001097161549741486,0.0011081179697313614,0.0011563585730706997,0.001243477539760405,0.0012810076628925512,0.0013922921388539971,0.0018001267414166973,0.0018223957286437505,0.0018665720078213915,0.0020440684850605664,0.0021449526459426326,0.0022048163994628917,0.0023049697354613815,0.0023162357120651337,0.0023442577363128555,0.0024483890627541574,0.0024516934858812528,0.0024604920463395024,0.00250512223785344,0.002525981475911448,0.002538335318886481,0.002586841664275628,0.0026217245454121085,0.0026987751068101,0.0027860595879876946,0.002828233016656021,0.002868877202226896,0.0029464540898067096,0.0029511799862357055,0.0031160901437162656,0.003118806331040407,0.003139659788376297,0.0031478835816642265,0.0031494883049609894,0.0031860153859362165,0.0032461928431355954,0.003254680353088308,0.0032654474783426206,0.0032710000621479145,0.003339526742899683,0.0033635112379429774,0.0033938023025062354,0.0033990200035892023,0.003405195580329431,0.003407182081345414,0.003482333552874695,0.003516460844960215,0.003570321366673071,0.0035859892931830507,0.003600808659567534,0.0036474476878067446,0.0036493816069095254,0.00368846552604471,0.003725802003783413,0.003768552556886459,0.003784715040695171,0.0038002954677289072,0.003802163489673151,0.0038043969809065693,0.0038169280033565757,0.003818959799645164,0.0038779984903842117,0.003946606448942537,0.00397448575177679,0.0040169016760622615,0.004028909261502929,0.004050232414182857,0.004060191432079969,0.004104824432487141,0.004114831741554501,0.004119314962937307,0.004201134961065277,0.004203774842299296,0.004212836153827968,0.00423330433244463,0.004234124461216454,0.004276945837362378,0.004356024416255525,0.0043691831424230426,0.004402213473208316,0.004405861122534597,0.004425975604223217,0.0044286185677688055,0.004429888933609068,0.004443746677856734,0.004456626009887265,0.00447539222018665,0.0044815112814509716,0.004489260659356429,0.0045020414619427115,0.004503784313380766,0.004508326188129838,0.004513650748593146,0.0045339189422209025,0.004562852841663592,0.004651465270319194,0.0048376633000941915,0.00484194524606894,0.004874313129234862,0.004877484852677905,0.004922046242210441,0.004972127589762169,0.005011719758424932,0.005061999256740236,0.005098552190156014,0.005106197156369853,0.005107790843954723,0.005136100442240608,0.005140195589728295,0.005156960608144114,0.005395793350567434,0.005436165806497214,0.005436254450645875,0.005478701545157614,0.005529489857520674,0.00556653923969675,0.0056791611735812235,0.005686265613986271,0.005719767596859842,0.005789013357581714,0.005916916918366795,0.005939952627610043,0.005955247537884463,0.006050714513610703,0.006071487315391108,0.006081013585226785,0.006093622399365365,0.006117119853483809,0.006145873746469231,0.006156687407648123,0.006182823128507168,0.0061909852480839704,0.006512451498275803,0.006517596077579083,0.0068591622732347484,0.00692432741548513,0.007037903115429335,0.007040006218542104,0.007041067311655897,0.007341685408363284,0.007688817526614131,0.007703398246834674,0.007831161942126685,0.008213576945143984,0.008367312882065861,0.008417699247995597,0.00876656869106513,0.009191296077756475,0.009514526014374679,0.009872777464243856,0.011591779057613865,0.012796758611453197,0.013059761709219301,0.013142100661952255,0.014125886405862664,0.014516486670982714,0.020371768808988597,0.022018533023738955,0.022196149222715063,0.0231050990279795,0.024314232508090956,0.02613032473750781,0.0284044178078827,0.035876173785003566,0.04912677134340876],\"colorscale\":[[0.0,\"#440154\"],[0.1111111111111111,\"#482878\"],[0.2222222222222222,\"#3e4989\"],[0.3333333333333333,\"#31688e\"],[0.4444444444444444,\"#26828e\"],[0.5555555555555556,\"#1f9e89\"],[0.6666666666666666,\"#35b779\"],[0.7777777777777778,\"#6ece58\"],[0.8888888888888888,\"#b5de2b\"],[1.0,\"#fde725\"]],\"reversescale\":true},\"name\":\"Random Forest Feature importance\",\"orientation\":\"h\",\"type\":\"bar\",\"x\":[0.0,0.0,8.13698157341873e-05,8.714881275922585e-05,0.0001743841158121987,0.00038187074946555903,0.0007359833058787537,0.0008898338251880101,0.0010235214616130582,0.0010353650646840607,0.001097161549741486,0.0011081179697313614,0.0011563585730706997,0.001243477539760405,0.0012810076628925512,0.0013922921388539971,0.0018001267414166973,0.0018223957286437505,0.0018665720078213915,0.0020440684850605664,0.0021449526459426326,0.0022048163994628917,0.0023049697354613815,0.0023162357120651337,0.0023442577363128555,0.0024483890627541574,0.0024516934858812528,0.0024604920463395024,0.00250512223785344,0.002525981475911448,0.002538335318886481,0.002586841664275628,0.0026217245454121085,0.0026987751068101,0.0027860595879876946,0.002828233016656021,0.002868877202226896,0.0029464540898067096,0.0029511799862357055,0.0031160901437162656,0.003118806331040407,0.003139659788376297,0.0031478835816642265,0.0031494883049609894,0.0031860153859362165,0.0032461928431355954,0.003254680353088308,0.0032654474783426206,0.0032710000621479145,0.003339526742899683,0.0033635112379429774,0.0033938023025062354,0.0033990200035892023,0.003405195580329431,0.003407182081345414,0.003482333552874695,0.003516460844960215,0.003570321366673071,0.0035859892931830507,0.003600808659567534,0.0036474476878067446,0.0036493816069095254,0.00368846552604471,0.003725802003783413,0.003768552556886459,0.003784715040695171,0.0038002954677289072,0.003802163489673151,0.0038043969809065693,0.0038169280033565757,0.003818959799645164,0.0038779984903842117,0.003946606448942537,0.00397448575177679,0.0040169016760622615,0.004028909261502929,0.004050232414182857,0.004060191432079969,0.004104824432487141,0.004114831741554501,0.004119314962937307,0.004201134961065277,0.004203774842299296,0.004212836153827968,0.00423330433244463,0.004234124461216454,0.004276945837362378,0.004356024416255525,0.0043691831424230426,0.004402213473208316,0.004405861122534597,0.004425975604223217,0.0044286185677688055,0.004429888933609068,0.004443746677856734,0.004456626009887265,0.00447539222018665,0.0044815112814509716,0.004489260659356429,0.0045020414619427115,0.004503784313380766,0.004508326188129838,0.004513650748593146,0.0045339189422209025,0.004562852841663592,0.004651465270319194,0.0048376633000941915,0.00484194524606894,0.004874313129234862,0.004877484852677905,0.004922046242210441,0.004972127589762169,0.005011719758424932,0.005061999256740236,0.005098552190156014,0.005106197156369853,0.005107790843954723,0.005136100442240608,0.005140195589728295,0.005156960608144114,0.005395793350567434,0.005436165806497214,0.005436254450645875,0.005478701545157614,0.005529489857520674,0.00556653923969675,0.0056791611735812235,0.005686265613986271,0.005719767596859842,0.005789013357581714,0.005916916918366795,0.005939952627610043,0.005955247537884463,0.006050714513610703,0.006071487315391108,0.006081013585226785,0.006093622399365365,0.006117119853483809,0.006145873746469231,0.006156687407648123,0.006182823128507168,0.0061909852480839704,0.006512451498275803,0.006517596077579083,0.0068591622732347484,0.00692432741548513,0.007037903115429335,0.007040006218542104,0.007041067311655897,0.007341685408363284,0.007688817526614131,0.007703398246834674,0.007831161942126685,0.008213576945143984,0.008367312882065861,0.008417699247995597,0.00876656869106513,0.009191296077756475,0.009514526014374679,0.009872777464243856,0.011591779057613865,0.012796758611453197,0.013059761709219301,0.013142100661952255,0.014125886405862664,0.014516486670982714,0.020371768808988597,0.022018533023738955,0.022196149222715063,0.0231050990279795,0.024314232508090956,0.02613032473750781,0.0284044178078827,0.035876173785003566,0.04912677134340876],\"y\":[\"mens_before_after_pattern_sweet_spicy\",\"mens_disease_uterine_adenoma\",\"mens_before_after_pattern_heavy_makeup\",\"mens_before_after_pattern_accessory\",\"thyroid_cancer\",\"exercise_type_golf\",\"thyroid_hyperthyroidism\",\"thyroid_no\",\"mens_supplies_pad\",\"mens_cramp_symptoms_breathing_problem\",\"mens_cramp_peak_third_day\",\"mens_cramp_symptoms_dizziness\",\"mens_stress_peak_third_day\",\"mens_before_after_pattern_partying\",\"mens_disease_fibroids\",\"meal_exercise_effects_specific_same_inbody\",\"mens_cramp_symptoms_throw_up\",\"mens_supplies_cotton_pad\",\"meal_exercise_effects_specific_gain_weight\",\"mens_cramp_symptoms_digestive_upset\",\"mens_cramp_symptoms_chill\",\"mens_symptoms_3_waist_pain\",\"mens_cramp_part_below_thigh\",\"mens_cramp_symptoms_anemia\",\"mens_before_after_pattern_accommodation\",\"mens_cramp_symptoms_anxiety\",\"mens_cramps_family_younger_sister\",\"mens_symptoms_3_long_period\",\"mens_before_after_pattern_sex_nervousness\",\"mens_cramp_symptoms_belly_pain\",\"mens_supplies_cup\",\"mens_before_after_pattern_fancy\",\"mens_cramp_symptoms_muscle_pain\",\"thyroid_hypothyroidism\",\"mens_cramp_symptoms_decreased_appetite\",\"mens_cramp_symptoms_gastrointestinal_disorder\",\"mens_symptoms_3_long_cramps\",\"mens_cramps_family_older_sister\",\"mens_symptoms_3_lump\",\"mens_symptoms_3_stomachache\",\"mens_cramp_symptoms_fever\",\"mens_before_after_pattern_buy_comfy\",\"mens_cramp_symptoms_depression\",\"options_diarrhea\",\"mens_cramp_symptoms_migraine\",\"mens_cramp_symptoms_nervousness\",\"mens_symptoms_3_intense_pain\",\"meal_exercise_effects_specific_same_weight\",\"mens_cramp_symptoms_drowsiness\",\"mens_cramp_symptoms_dull_movement\",\"mens_cramp_part_belly\",\"mens_cramp_symptoms_cold_sweat\",\"mens_cramp_symptoms_nausea\",\"mens_before_after_pattern_sex_calculate_date\",\"mens_cramp_symptoms_leg_numbness\",\"mens_cramp_symptoms_orthostatic_hypotension\",\"mens_cramp_symptoms_sickness\",\"mens_cramp_symptoms_whirl\",\"mens_before_after_pattern_urgent_cancellation\",\"mens_cramps_family_mother\",\"meal_exercise_effects_specific_improved_inbody\",\"exercise_type_walking\",\"mens_before_after_pattern_work\",\"mens_before_after_pattern_throw_out_panty\",\"exercise_type_swimming\",\"mens_symptoms_3_irregular_blood\",\"mens_cramp_symptoms_excessive_sleep\",\"exercise_type_hiking\",\"meal_exercise_effects_specific_reduced_pain\",\"mens_cramp_symptoms_joint_pain\",\"options_insomnia\",\"mens_cramp_symptoms_back_pain\",\"mens_cramp_symptoms_insomnia\",\"mens_disease_no\",\"mens_cramp_symptoms_abdominal_swelling\",\"mens_cramp_symptoms_headache\",\"mens_symptoms_3_stressful\",\"mens_before_after_pattern_cancellation\",\"meal_exercise_effects_specific_no_pain\",\"mens_symptoms_3_urination\",\"improvements_hospital\",\"mens_cramp_symptoms_pimple\",\"mens_cramp_symptoms_sensitive_temperature\",\"exercise_type_running\",\"mens_cramp_symptoms_constipation\",\"mens_before_after_pattern_toilet\",\"mens_before_after_pattern_embarrassment\",\"mens_before_after_pattern_excitement\",\"mens_cramp_symptoms_sweet\",\"mens_cramp_symptoms_swelling\",\"mens_symptoms_3_abdominal_pain\",\"mens_cramp_symptoms_chest_pain\",\"mens_cramp_peak_before\",\"mens_stress_peak_first_day\",\"mens_cramp_symptoms_indigestion\",\"mens_before_after_pattern_sexual_desire\",\"mens_supplies_tampon\",\"mens_cramp_part_pelvis\",\"exercise_type_dance\",\"options_swelling\",\"exercise_type_fitness\",\"mens_before_after_pattern_panty_blood\",\"mens_symptoms_3_diarrhea\",\"mens_before_after_pattern_deceive\",\"mens_before_after_pattern_app\",\"mens_before_after_pattern_same_weight\",\"mens_before_after_pattern_comfy_clothes\",\"mens_cramp_symptoms_voracity\",\"mens_before_after_pattern_weight_changes\",\"mens_before_after_pattern_keen\",\"mens_cramp_symptoms_increased_appetite\",\"mens_before_after_pattern_buy_pads\",\"improvements_plan\",\"mens_before_after_pattern_withstand\",\"mens_before_after_pattern_dark_clothes\",\"mens_before_after_pattern_chest_lump\",\"improvements_results\",\"mens_cramp_symptoms_increased_libido\",\"meal_exercise_effects_specific_lose_weight\",\"mens_symptoms_3_cluster_blood\",\"options_cold\",\"mens_stress_peak_second_day\",\"mens_cramp_symptoms_leg_swelling\",\"improvements_1.1\",\"meal_exercise_effects_specific_reduced_cramps\",\"meal_exercise_effects_specific_no\",\"improvements_self_measurement\",\"mens_cramp_symptoms_gas\",\"mens_before_after_pattern_bulk_purchase_pads\",\"options_stiffness\",\"mens_symptoms_3_irregular_blood_amount\",\"mens_cramp_symptoms_emotion\",\"mens_disease_pms\",\"mens_cramp_peak_first_day\",\"mens_symptoms_3_gas\",\"mens_before_after_pattern_borrow_pads\",\"mens_cramp_symptoms_colic\",\"mens_before_after_pattern_help\",\"mens_cramp_peak_second_day\",\"mens_cramp_symptoms_exhaustion\",\"mens_cramp_part_waist\",\"mens_symptoms_3_pelvis_pain\",\"mens_cramp_symptoms_diarrhea\",\"mens_symptoms_3_abnormal\",\"meal_exercise_effects_specific_reduced_stress\",\"options_tension\",\"mens_cramps_family_relatives\",\"mens_symptoms_3_pressure\",\"options_abdominal_obesity\",\"mens_cramp_symptoms_lethargy\",\"exercise_type_yoga_pilates\",\"mens_stress_peak_before\",\"meal_exercise_effects_c\",\"exercise_type_bicycle\",\"meal_exercise_effects_specific_no_pms\",\"mens_cramps_family_no\",\"mens_cramp_symptoms_reduced_temperance\",\"meal_exercise_effects\",\"mens_symptoms_3_ovulation_cramps\",\"mens_meal\",\"mens_period\",\"mens_exercise\",\"pain_after\",\"menarche_age\",\"mens_cycle\",\"upper_body_size\",\"lower_body_size\",\"weight_3_1\",\"weight_1\",\"age\",\"height_1\",\"bmi\",\"mens_cramps_level_after_meal_exercise\",\"mens_stress\",\"mens_cramps_level_before_meal_exercise\"]}],                        {\"height\":2000,\"template\":{\"data\":{\"bar\":[{\"error_x\":{\"color\":\"#2a3f5f\"},\"error_y\":{\"color\":\"#2a3f5f\"},\"marker\":{\"line\":{\"color\":\"#E5ECF6\",\"width\":0.5},\"pattern\":{\"fillmode\":\"overlay\",\"size\":10,\"solidity\":0.2}},\"type\":\"bar\"}],\"barpolar\":[{\"marker\":{\"line\":{\"color\":\"#E5ECF6\",\"width\":0.5},\"pattern\":{\"fillmode\":\"overlay\",\"size\":10,\"solidity\":0.2}},\"type\":\"barpolar\"}],\"carpet\":[{\"aaxis\":{\"endlinecolor\":\"#2a3f5f\",\"gridcolor\":\"white\",\"linecolor\":\"white\",\"minorgridcolor\":\"white\",\"startlinecolor\":\"#2a3f5f\"},\"baxis\":{\"endlinecolor\":\"#2a3f5f\",\"gridcolor\":\"white\",\"linecolor\":\"white\",\"minorgridcolor\":\"white\",\"startlinecolor\":\"#2a3f5f\"},\"type\":\"carpet\"}],\"choropleth\":[{\"colorbar\":{\"outlinewidth\":0,\"ticks\":\"\"},\"type\":\"choropleth\"}],\"contour\":[{\"colorbar\":{\"outlinewidth\":0,\"ticks\":\"\"},\"colorscale\":[[0.0,\"#0d0887\"],[0.1111111111111111,\"#46039f\"],[0.2222222222222222,\"#7201a8\"],[0.3333333333333333,\"#9c179e\"],[0.4444444444444444,\"#bd3786\"],[0.5555555555555556,\"#d8576b\"],[0.6666666666666666,\"#ed7953\"],[0.7777777777777778,\"#fb9f3a\"],[0.8888888888888888,\"#fdca26\"],[1.0,\"#f0f921\"]],\"type\":\"contour\"}],\"contourcarpet\":[{\"colorbar\":{\"outlinewidth\":0,\"ticks\":\"\"},\"type\":\"contourcarpet\"}],\"heatmap\":[{\"colorbar\":{\"outlinewidth\":0,\"ticks\":\"\"},\"colorscale\":[[0.0,\"#0d0887\"],[0.1111111111111111,\"#46039f\"],[0.2222222222222222,\"#7201a8\"],[0.3333333333333333,\"#9c179e\"],[0.4444444444444444,\"#bd3786\"],[0.5555555555555556,\"#d8576b\"],[0.6666666666666666,\"#ed7953\"],[0.7777777777777778,\"#fb9f3a\"],[0.8888888888888888,\"#fdca26\"],[1.0,\"#f0f921\"]],\"type\":\"heatmap\"}],\"heatmapgl\":[{\"colorbar\":{\"outlinewidth\":0,\"ticks\":\"\"},\"colorscale\":[[0.0,\"#0d0887\"],[0.1111111111111111,\"#46039f\"],[0.2222222222222222,\"#7201a8\"],[0.3333333333333333,\"#9c179e\"],[0.4444444444444444,\"#bd3786\"],[0.5555555555555556,\"#d8576b\"],[0.6666666666666666,\"#ed7953\"],[0.7777777777777778,\"#fb9f3a\"],[0.8888888888888888,\"#fdca26\"],[1.0,\"#f0f921\"]],\"type\":\"heatmapgl\"}],\"histogram\":[{\"marker\":{\"pattern\":{\"fillmode\":\"overlay\",\"size\":10,\"solidity\":0.2}},\"type\":\"histogram\"}],\"histogram2d\":[{\"colorbar\":{\"outlinewidth\":0,\"ticks\":\"\"},\"colorscale\":[[0.0,\"#0d0887\"],[0.1111111111111111,\"#46039f\"],[0.2222222222222222,\"#7201a8\"],[0.3333333333333333,\"#9c179e\"],[0.4444444444444444,\"#bd3786\"],[0.5555555555555556,\"#d8576b\"],[0.6666666666666666,\"#ed7953\"],[0.7777777777777778,\"#fb9f3a\"],[0.8888888888888888,\"#fdca26\"],[1.0,\"#f0f921\"]],\"type\":\"histogram2d\"}],\"histogram2dcontour\":[{\"colorbar\":{\"outlinewidth\":0,\"ticks\":\"\"},\"colorscale\":[[0.0,\"#0d0887\"],[0.1111111111111111,\"#46039f\"],[0.2222222222222222,\"#7201a8\"],[0.3333333333333333,\"#9c179e\"],[0.4444444444444444,\"#bd3786\"],[0.5555555555555556,\"#d8576b\"],[0.6666666666666666,\"#ed7953\"],[0.7777777777777778,\"#fb9f3a\"],[0.8888888888888888,\"#fdca26\"],[1.0,\"#f0f921\"]],\"type\":\"histogram2dcontour\"}],\"mesh3d\":[{\"colorbar\":{\"outlinewidth\":0,\"ticks\":\"\"},\"type\":\"mesh3d\"}],\"parcoords\":[{\"line\":{\"colorbar\":{\"outlinewidth\":0,\"ticks\":\"\"}},\"type\":\"parcoords\"}],\"pie\":[{\"automargin\":true,\"type\":\"pie\"}],\"scatter\":[{\"marker\":{\"colorbar\":{\"outlinewidth\":0,\"ticks\":\"\"}},\"type\":\"scatter\"}],\"scatter3d\":[{\"line\":{\"colorbar\":{\"outlinewidth\":0,\"ticks\":\"\"}},\"marker\":{\"colorbar\":{\"outlinewidth\":0,\"ticks\":\"\"}},\"type\":\"scatter3d\"}],\"scattercarpet\":[{\"marker\":{\"colorbar\":{\"outlinewidth\":0,\"ticks\":\"\"}},\"type\":\"scattercarpet\"}],\"scattergeo\":[{\"marker\":{\"colorbar\":{\"outlinewidth\":0,\"ticks\":\"\"}},\"type\":\"scattergeo\"}],\"scattergl\":[{\"marker\":{\"colorbar\":{\"outlinewidth\":0,\"ticks\":\"\"}},\"type\":\"scattergl\"}],\"scattermapbox\":[{\"marker\":{\"colorbar\":{\"outlinewidth\":0,\"ticks\":\"\"}},\"type\":\"scattermapbox\"}],\"scatterpolar\":[{\"marker\":{\"colorbar\":{\"outlinewidth\":0,\"ticks\":\"\"}},\"type\":\"scatterpolar\"}],\"scatterpolargl\":[{\"marker\":{\"colorbar\":{\"outlinewidth\":0,\"ticks\":\"\"}},\"type\":\"scatterpolargl\"}],\"scatterternary\":[{\"marker\":{\"colorbar\":{\"outlinewidth\":0,\"ticks\":\"\"}},\"type\":\"scatterternary\"}],\"surface\":[{\"colorbar\":{\"outlinewidth\":0,\"ticks\":\"\"},\"colorscale\":[[0.0,\"#0d0887\"],[0.1111111111111111,\"#46039f\"],[0.2222222222222222,\"#7201a8\"],[0.3333333333333333,\"#9c179e\"],[0.4444444444444444,\"#bd3786\"],[0.5555555555555556,\"#d8576b\"],[0.6666666666666666,\"#ed7953\"],[0.7777777777777778,\"#fb9f3a\"],[0.8888888888888888,\"#fdca26\"],[1.0,\"#f0f921\"]],\"type\":\"surface\"}],\"table\":[{\"cells\":{\"fill\":{\"color\":\"#EBF0F8\"},\"line\":{\"color\":\"white\"}},\"header\":{\"fill\":{\"color\":\"#C8D4E3\"},\"line\":{\"color\":\"white\"}},\"type\":\"table\"}]},\"layout\":{\"annotationdefaults\":{\"arrowcolor\":\"#2a3f5f\",\"arrowhead\":0,\"arrowwidth\":1},\"autotypenumbers\":\"strict\",\"coloraxis\":{\"colorbar\":{\"outlinewidth\":0,\"ticks\":\"\"}},\"colorscale\":{\"diverging\":[[0,\"#8e0152\"],[0.1,\"#c51b7d\"],[0.2,\"#de77ae\"],[0.3,\"#f1b6da\"],[0.4,\"#fde0ef\"],[0.5,\"#f7f7f7\"],[0.6,\"#e6f5d0\"],[0.7,\"#b8e186\"],[0.8,\"#7fbc41\"],[0.9,\"#4d9221\"],[1,\"#276419\"]],\"sequential\":[[0.0,\"#0d0887\"],[0.1111111111111111,\"#46039f\"],[0.2222222222222222,\"#7201a8\"],[0.3333333333333333,\"#9c179e\"],[0.4444444444444444,\"#bd3786\"],[0.5555555555555556,\"#d8576b\"],[0.6666666666666666,\"#ed7953\"],[0.7777777777777778,\"#fb9f3a\"],[0.8888888888888888,\"#fdca26\"],[1.0,\"#f0f921\"]],\"sequentialminus\":[[0.0,\"#0d0887\"],[0.1111111111111111,\"#46039f\"],[0.2222222222222222,\"#7201a8\"],[0.3333333333333333,\"#9c179e\"],[0.4444444444444444,\"#bd3786\"],[0.5555555555555556,\"#d8576b\"],[0.6666666666666666,\"#ed7953\"],[0.7777777777777778,\"#fb9f3a\"],[0.8888888888888888,\"#fdca26\"],[1.0,\"#f0f921\"]]},\"colorway\":[\"#636efa\",\"#EF553B\",\"#00cc96\",\"#ab63fa\",\"#FFA15A\",\"#19d3f3\",\"#FF6692\",\"#B6E880\",\"#FF97FF\",\"#FECB52\"],\"font\":{\"color\":\"#2a3f5f\"},\"geo\":{\"bgcolor\":\"white\",\"lakecolor\":\"white\",\"landcolor\":\"#E5ECF6\",\"showlakes\":true,\"showland\":true,\"subunitcolor\":\"white\"},\"hoverlabel\":{\"align\":\"left\"},\"hovermode\":\"closest\",\"mapbox\":{\"style\":\"light\"},\"paper_bgcolor\":\"white\",\"plot_bgcolor\":\"#E5ECF6\",\"polar\":{\"angularaxis\":{\"gridcolor\":\"white\",\"linecolor\":\"white\",\"ticks\":\"\"},\"bgcolor\":\"#E5ECF6\",\"radialaxis\":{\"gridcolor\":\"white\",\"linecolor\":\"white\",\"ticks\":\"\"}},\"scene\":{\"xaxis\":{\"backgroundcolor\":\"#E5ECF6\",\"gridcolor\":\"white\",\"gridwidth\":2,\"linecolor\":\"white\",\"showbackground\":true,\"ticks\":\"\",\"zerolinecolor\":\"white\"},\"yaxis\":{\"backgroundcolor\":\"#E5ECF6\",\"gridcolor\":\"white\",\"gridwidth\":2,\"linecolor\":\"white\",\"showbackground\":true,\"ticks\":\"\",\"zerolinecolor\":\"white\"},\"zaxis\":{\"backgroundcolor\":\"#E5ECF6\",\"gridcolor\":\"white\",\"gridwidth\":2,\"linecolor\":\"white\",\"showbackground\":true,\"ticks\":\"\",\"zerolinecolor\":\"white\"}},\"shapedefaults\":{\"line\":{\"color\":\"#2a3f5f\"}},\"ternary\":{\"aaxis\":{\"gridcolor\":\"white\",\"linecolor\":\"white\",\"ticks\":\"\"},\"baxis\":{\"gridcolor\":\"white\",\"linecolor\":\"white\",\"ticks\":\"\"},\"bgcolor\":\"#E5ECF6\",\"caxis\":{\"gridcolor\":\"white\",\"linecolor\":\"white\",\"ticks\":\"\"}},\"title\":{\"x\":0.05},\"xaxis\":{\"automargin\":true,\"gridcolor\":\"white\",\"linecolor\":\"white\",\"ticks\":\"\",\"title\":{\"standoff\":15},\"zerolinecolor\":\"white\",\"zerolinewidth\":2},\"yaxis\":{\"automargin\":true,\"gridcolor\":\"white\",\"linecolor\":\"white\",\"ticks\":\"\",\"title\":{\"standoff\":15},\"zerolinecolor\":\"white\",\"zerolinewidth\":2}}},\"title\":{\"text\":\"Barplot of Feature importances\"},\"width\":900,\"yaxis\":{\"showgrid\":false,\"showline\":false,\"showticklabels\":true}},                        {\"responsive\": true}                    ).then(function(){\n",
       "                            \n",
       "var gd = document.getElementById('ad95b6fa-3687-4443-b8f7-c944e8d1d972');\n",
       "var x = new MutationObserver(function (mutations, observer) {{\n",
       "        var display = window.getComputedStyle(gd).display;\n",
       "        if (!display || display === 'none') {{\n",
       "            console.log([gd, 'removed!']);\n",
       "            Plotly.purge(gd);\n",
       "            observer.disconnect();\n",
       "        }}\n",
       "}});\n",
       "\n",
       "// Listen for the removal of the full notebook cells\n",
       "var notebookContainer = gd.closest('#notebook-container');\n",
       "if (notebookContainer) {{\n",
       "    x.observe(notebookContainer, {childList: true});\n",
       "}}\n",
       "\n",
       "// Listen for the clearing of the current output cell\n",
       "var outputEl = gd.closest('.output');\n",
       "if (outputEl) {{\n",
       "    x.observe(outputEl, {childList: true});\n",
       "}}\n",
       "\n",
       "                        })                };                });            </script>        </div>"
      ]
     },
     "metadata": {},
     "output_type": "display_data"
    }
   ],
   "source": [
    "fig1"
   ]
  },
  {
   "cell_type": "code",
   "execution_count": 110,
   "id": "4bdc9c83",
   "metadata": {},
   "outputs": [
    {
     "name": "stdout",
     "output_type": "stream",
     "text": [
      "Accuracy is:  0.7051282051282052\n",
      "[[ 9  4  1]\n",
      " [ 3  6  2]\n",
      " [ 2 11 40]]\n",
      "              precision    recall  f1-score   support\n",
      "\n",
      "           0       0.64      0.64      0.64        14\n",
      "           1       0.29      0.55      0.37        11\n",
      "           2       0.93      0.75      0.83        53\n",
      "\n",
      "    accuracy                           0.71        78\n",
      "   macro avg       0.62      0.65      0.62        78\n",
      "weighted avg       0.79      0.71      0.73        78\n",
      "\n",
      "Feature: 0, Score: 0.07792\n",
      "Feature: 1, Score: 0.07970\n",
      "Feature: 2, Score: 0.04949\n",
      "Feature: 3, Score: 0.05609\n",
      "Feature: 4, Score: 0.05123\n",
      "Feature: 5, Score: 0.05108\n",
      "Feature: 6, Score: 0.05143\n",
      "Feature: 7, Score: 0.04051\n",
      "Feature: 8, Score: 0.03159\n",
      "Feature: 9, Score: 0.03203\n",
      "Feature: 10, Score: 0.02829\n",
      "Feature: 11, Score: 0.02410\n",
      "Feature: 12, Score: 0.02611\n",
      "Feature: 13, Score: 0.03269\n",
      "Feature: 14, Score: 0.02338\n",
      "Feature: 15, Score: 0.01267\n",
      "Feature: 16, Score: 0.02004\n",
      "Feature: 17, Score: 0.01364\n",
      "Feature: 18, Score: 0.01758\n",
      "Feature: 19, Score: 0.01110\n",
      "Feature: 20, Score: 0.01459\n",
      "Feature: 21, Score: 0.01358\n",
      "Feature: 22, Score: 0.01239\n",
      "Feature: 23, Score: 0.01329\n",
      "Feature: 24, Score: 0.01322\n",
      "Feature: 25, Score: 0.01415\n",
      "Feature: 26, Score: 0.01743\n",
      "Feature: 27, Score: 0.01336\n",
      "Feature: 28, Score: 0.01175\n",
      "Feature: 29, Score: 0.01391\n",
      "Feature: 30, Score: 0.01396\n",
      "Feature: 31, Score: 0.01394\n",
      "Feature: 32, Score: 0.01031\n",
      "Feature: 33, Score: 0.01355\n",
      "Feature: 34, Score: 0.01833\n",
      "Feature: 35, Score: 0.01132\n",
      "Feature: 36, Score: 0.01370\n",
      "Feature: 37, Score: 0.01055\n",
      "Feature: 38, Score: 0.01421\n",
      "Feature: 39, Score: 0.01178\n"
     ]
    },
    {
     "data": {
      "image/png": "[encoded data removed]",
      "text/plain": [
       "<Figure size 432x288 with 1 Axes>"
      ]
     },
     "metadata": {
      "needs_background": "light"
     },
     "output_type": "display_data"
    }
   ],
   "source": [
    "import pandas as pd\n",
    "import numpy as np\n",
    "from matplotlib import pyplot\n",
    "from sklearn.model_selection import train_test_split\n",
    "from sklearn.ensemble import RandomForestClassifier\n",
    "from sklearn.model_selection import train_test_split # train/test\n",
    "from sklearn.datasets import load_wine # dataset \n",
    "from sklearn.metrics import accuracy_score, confusion_matrix # 평가 : 분류정확도 \n",
    "from sklearn.metrics import classification_report # 평가 : 정확률, 재현율, f1_score\n",
    "\n",
    "df = pd.read_csv(\"data/finalservey_1912_clean.csv\")\n",
    "def rating(mens_cramp):\n",
    "    if mens_cramp >= 8: return 2\n",
    "    elif mens_cramp >= 7: return 1\n",
    "    else: return 0\n",
    "df['mens_cramp_rank'] = df.apply(lambda x: rating(x['mens_cramp']),axis=1)\n",
    "\n",
    "x = df[['mens_cramps_level_before_meal_exercise', 'mens_stress', 'mens_cramps_level_after_meal_exercise', 'bmi', 'height_1', 'age', 'weight_1', 'lower_body_size', 'upper_body_size', 'mens_cycle', 'menarche_age', 'pain_after', 'mens_exercise', 'mens_period', 'mens_meal', 'mens_symptoms_3_ovulation_cramps', 'meal_exercise_effects', 'mens_cramp_symptoms_reduced_temperance', 'mens_cramps_family_no', 'meal_exercise_effects_specific_no_pms', 'exercise_type_bicycle', 'meal_exercise_effects_c', 'mens_stress_peak_before', 'exercise_type_yoga_pilates', 'mens_cramp_symptoms_lethargy', 'options_abdominal_obesity', 'mens_symptoms_3_pressure', 'mens_cramps_family_relatives', 'options_tension', 'meal_exercise_effects_specific_reduced_stress', 'mens_symptoms_3_abnormal', 'mens_cramp_symptoms_diarrhea', 'mens_symptoms_3_pelvis_pain', 'mens_cramp_part_waist', 'mens_cramp_symptoms_exhaustion', 'mens_cramp_peak_second_day', 'mens_before_after_pattern_help', 'mens_cramp_symptoms_colic', 'mens_before_after_pattern_borrow_pads', 'mens_symptoms_3_gas']]\n",
    "y = df['mens_cramp_rank']\n",
    "\n",
    "x_train, x_test, y_train, y_test = train_test_split(x, y, test_size = 0.3)\n",
    "\n",
    "model = RandomForestClassifier(n_estimators = 400)\n",
    "model.fit(x_train, y_train)\n",
    "\n",
    "y_pred = model.predict(x_test)\n",
    "print(\"Accuracy is: \", accuracy_score(y_pred, y_test))\n",
    "\n",
    "con_mat = confusion_matrix(y_pred, y_test)\n",
    "print(con_mat)\n",
    "\n",
    "report = classification_report(y_pred, y_test)\n",
    "print(report)\n",
    "\n",
    "result = pd.DataFrame({'pred' : y_pred, 'real' : y_test})\n",
    "result\n",
    "\n",
    "# get importance\n",
    "importance = model.feature_importances_\n",
    "# summarize feature importance\n",
    "for i,v in enumerate(importance):\n",
    "\tprint('Feature: %0d, Score: %.5f' % (i,v))\n",
    "# plot feature importance\n",
    "pyplot.bar([x for x in range(len(importance))], importance)\n",
    "pyplot.show()\n"
   ]
  },
  {
   "cell_type": "code",
   "execution_count": 47,
   "id": "545a3b59",
   "metadata": {
    "scrolled": true
   },
   "outputs": [
    {
     "data": {
      "text/plain": [
       "height_1                                          float64\n",
       "weight_1                                          float64\n",
       "bmi                                               float64\n",
       "mens_period                                       float64\n",
       "mens_cycle                                          int64\n",
       "age                                                 int64\n",
       "upper_body_size                                     int64\n",
       "lower_body_size                                     int64\n",
       "options_tension                                     int64\n",
       "options_stiffness                                   int64\n",
       "options_diarrhea                                    int64\n",
       "options_insomnia                                    int64\n",
       "options_abdominal_obesity                           int64\n",
       "options_swelling                                    int64\n",
       "options_cold                                        int64\n",
       "exercise_type_walking                               int64\n",
       "exercise_type_running                               int64\n",
       "exercise_type_hiking                                int64\n",
       "exercise_type_bicycle                               int64\n",
       "exercise_type_golf                                  int64\n",
       "exercise_type_yoga_pilates                          int64\n",
       "exercise_type_swimming                              int64\n",
       "exercise_type_dance                                 int64\n",
       "exercise_type_fitness                               int64\n",
       "thyroid_no                                          int64\n",
       "thyroid_hypothyroidism                              int64\n",
       "thyroid_hyperthyroidism                             int64\n",
       "thyroid_cancer                                      int64\n",
       "mens_disease_no                                     int64\n",
       "mens_disease_pms                                    int64\n",
       "mens_disease_fibroids                               int64\n",
       "mens_disease_uterine_adenoma                        int64\n",
       "menarche_age                                        int64\n",
       "mens_supplies_pad                                   int64\n",
       "mens_supplies_cotton_pad                            int64\n",
       "mens_supplies_tampon                                int64\n",
       "mens_supplies_cup                                   int64\n",
       "mens_cramp_peak_before                              int64\n",
       "mens_cramp_peak_first_day                           int64\n",
       "mens_cramp_peak_second_day                          int64\n",
       "mens_cramp_peak_third_day                           int64\n",
       "mens_stress                                         int64\n",
       "mens_stress_peak_before                             int64\n",
       "mens_stress_peak_first_day                          int64\n",
       "mens_stress_peak_second_day                         int64\n",
       "mens_stress_peak_third_day                          int64\n",
       "mens_cramp_part_belly                               int64\n",
       "mens_cramp_part_pelvis                              int64\n",
       "mens_cramp_part_waist                               int64\n",
       "mens_cramp_part_below_thigh                         int64\n",
       "mens_cramp_symptoms_swelling                        int64\n",
       "mens_cramp_symptoms_emotion                         int64\n",
       "mens_cramp_symptoms_belly_pain                      int64\n",
       "mens_cramp_symptoms_constipation                    int64\n",
       "mens_cramp_symptoms_lethargy                        int64\n",
       "mens_cramp_symptoms_nervousness                     int64\n",
       "mens_cramp_symptoms_indigestion                     int64\n",
       "mens_cramp_symptoms_gas                             int64\n",
       "mens_cramp_symptoms_diarrhea                        int64\n",
       "mens_cramp_symptoms_digestive_upset                 int64\n",
       "mens_cramp_symptoms_back_pain                       int64\n",
       "mens_cramp_symptoms_chest_pain                      int64\n",
       "mens_cramp_symptoms_increased_appetite              int64\n",
       "mens_cramp_symptoms_headache                        int64\n",
       "mens_cramp_symptoms_depression                      int64\n",
       "mens_cramp_symptoms_reduced_temperance              int64\n",
       "mens_cramp_symptoms_migraine                        int64\n",
       "mens_cramp_symptoms_drowsiness                      int64\n",
       "mens_cramp_symptoms_sensitive_temperature           int64\n",
       "mens_cramp_symptoms_colic                           int64\n",
       "mens_cramp_symptoms_leg_numbness                    int64\n",
       "mens_cramp_symptoms_leg_swelling                    int64\n",
       "mens_cramp_symptoms_voracity                        int64\n",
       "mens_cramp_symptoms_insomnia                        int64\n",
       "mens_cramp_symptoms_anxiety                         int64\n",
       "mens_cramp_symptoms_nausea                          int64\n",
       "mens_cramp_symptoms_decreased_appetite              int64\n",
       "mens_cramp_symptoms_excessive_sleep                 int64\n",
       "mens_cramp_symptoms_pimple                          int64\n",
       "mens_cramp_symptoms_sickness                        int64\n",
       "mens_cramp_symptoms_exhaustion                      int64\n",
       "mens_cramp_symptoms_breathing_problem               int64\n",
       "mens_cramp_symptoms_dull_movement                   int64\n",
       "mens_cramp_symptoms_gastrointestinal_disorder       int64\n",
       "mens_cramp_symptoms_muscle_pain                     int64\n",
       "mens_cramp_symptoms_increased_libido                int64\n",
       "mens_cramp_symptoms_cold_sweat                      int64\n",
       "mens_cramp_symptoms_dizziness                       int64\n",
       "mens_cramp_symptoms_throw_up                        int64\n",
       "mens_cramp_symptoms_abdominal_swelling              int64\n",
       "mens_cramp_symptoms_anemia                          int64\n",
       "mens_cramp_symptoms_whirl                           int64\n",
       "mens_cramp_symptoms_joint_pain                      int64\n",
       "mens_cramp_symptoms_sweet                           int64\n",
       "mens_cramp_symptoms_fever                           int64\n",
       "mens_cramp_symptoms_chill                           int64\n",
       "mens_cramp_symptoms_orthostatic_hypotension         int64\n",
       "mens_cramps_family_mother                           int64\n",
       "mens_cramps_family_older_sister                     int64\n",
       "mens_cramps_family_younger_sister                   int64\n",
       "mens_cramps_family_relatives                        int64\n",
       "mens_cramps_family_no                               int64\n",
       "mens_symptoms_3_ovulation_cramps                    int64\n",
       "mens_symptoms_3_long_cramps                         int64\n",
       "mens_symptoms_3_abnormal                            int64\n",
       "mens_symptoms_3_pressure                            int64\n",
       "mens_symptoms_3_lump                                int64\n",
       "mens_symptoms_3_abdominal_pain                      int64\n",
       "mens_symptoms_3_gas                                 int64\n",
       "mens_symptoms_3_pelvis_pain                         int64\n",
       "mens_symptoms_3_long_period                         int64\n",
       "mens_symptoms_3_irregular_blood                     int64\n",
       "mens_symptoms_3_waist_pain                          int64\n",
       "mens_symptoms_3_stressful                           int64\n",
       "mens_symptoms_3_cluster_blood                       int64\n",
       "mens_symptoms_3_diarrhea                            int64\n",
       "mens_symptoms_3_urination                           int64\n",
       "mens_symptoms_3_irregular_blood_amount              int64\n",
       "mens_symptoms_3_intense_pain                        int64\n",
       "mens_symptoms_3_stomachache                         int64\n",
       "mens_before_after_pattern_toilet                    int64\n",
       "mens_before_after_pattern_app                       int64\n",
       "mens_before_after_pattern_embarrassment             int64\n",
       "mens_before_after_pattern_sex_nervousness           int64\n",
       "mens_before_after_pattern_sex_calculate_date        int64\n",
       "mens_before_after_pattern_sexual_desire             int64\n",
       "mens_before_after_pattern_accommodation             int64\n",
       "mens_before_after_pattern_keen                      int64\n",
       "mens_before_after_pattern_cancellation              int64\n",
       "mens_before_after_pattern_work                      int64\n",
       "mens_before_after_pattern_withstand                 int64\n",
       "mens_before_after_pattern_urgent_cancellation       int64\n",
       "mens_before_after_pattern_sweet_spicy               int64\n",
       "mens_before_after_pattern_buy_comfy                 int64\n",
       "mens_before_after_pattern_fancy                     int64\n",
       "mens_before_after_pattern_partying                  int64\n",
       "mens_before_after_pattern_comfy_clothes             int64\n",
       "mens_before_after_pattern_dark_clothes              int64\n",
       "mens_before_after_pattern_accessory                 int64\n",
       "mens_before_after_pattern_heavy_makeup              int64\n",
       "mens_before_after_pattern_deceive                   int64\n",
       "mens_before_after_pattern_help                      int64\n",
       "mens_before_after_pattern_buy_pads                  int64\n",
       "mens_before_after_pattern_borrow_pads               int64\n",
       "mens_before_after_pattern_bulk_purchase_pads        int64\n",
       "mens_before_after_pattern_excitement                int64\n",
       "mens_before_after_pattern_panty_blood               int64\n",
       "mens_before_after_pattern_throw_out_panty           int64\n",
       "mens_before_after_pattern_chest_lump                int64\n",
       "mens_before_after_pattern_weight_changes            int64\n",
       "mens_before_after_pattern_same_weight               int64\n",
       "mens_meal                                           int64\n",
       "mens_exercise                                       int64\n",
       "mens_cramps_level_before_meal_exercise              int64\n",
       "mens_cramps_level_after_meal_exercise               int64\n",
       "meal_exercise_effects                               int64\n",
       "meal_exercise_effects_specific_reduced_cramps       int64\n",
       "meal_exercise_effects_specific_reduced_stress       int64\n",
       "meal_exercise_effects_specific_reduced_pain         int64\n",
       "meal_exercise_effects_specific_lose_weight          int64\n",
       "meal_exercise_effects_specific_gain_weight          int64\n",
       "meal_exercise_effects_specific_same_weight          int64\n",
       "meal_exercise_effects_specific_improved_inbody      int64\n",
       "meal_exercise_effects_specific_same_inbody          int64\n",
       "meal_exercise_effects_specific_no_pain              int64\n",
       "meal_exercise_effects_specific_no_pms               int64\n",
       "meal_exercise_effects_specific_no                   int64\n",
       "weight_3_1                                        float64\n",
       "improvements_self_measurement                       int64\n",
       "improvements_plan                                   int64\n",
       "improvements_results                                int64\n",
       "improvements_hospital                               int64\n",
       "improvements_1.1                                    int64\n",
       "meal_exercise_effects_c                             int64\n",
       "pain_after                                          int64\n",
       "dtype: object"
      ]
     },
     "execution_count": 47,
     "metadata": {},
     "output_type": "execute_result"
    }
   ],
   "source": [
    "pd.set_option('display.max_rows', 400)\n",
    "pd.set_option('display.max_columns', 400)\n",
    "x.dtypes"
   ]
  },
  {
   "cell_type": "code",
   "execution_count": 25,
   "id": "2aedbbdd",
   "metadata": {},
   "outputs": [
    {
     "name": "stdout",
     "output_type": "stream",
     "text": [
      "Accuracy is:  0.45454545454545453\n"
     ]
    },
    {
     "data": {
      "text/html": [
       "<div>\n",
       "<style scoped>\n",
       "    .dataframe tbody tr th:only-of-type {\n",
       "        vertical-align: middle;\n",
       "    }\n",
       "\n",
       "    .dataframe tbody tr th {\n",
       "        vertical-align: top;\n",
       "    }\n",
       "\n",
       "    .dataframe thead th {\n",
       "        text-align: right;\n",
       "    }\n",
       "</style>\n",
       "<table border=\"1\" class=\"dataframe\">\n",
       "  <thead>\n",
       "    <tr style=\"text-align: right;\">\n",
       "      <th></th>\n",
       "      <th>pred</th>\n",
       "      <th>real</th>\n",
       "    </tr>\n",
       "  </thead>\n",
       "  <tbody>\n",
       "    <tr>\n",
       "      <th>56</th>\n",
       "      <td>2</td>\n",
       "      <td>2</td>\n",
       "    </tr>\n",
       "    <tr>\n",
       "      <th>44</th>\n",
       "      <td>1</td>\n",
       "      <td>1</td>\n",
       "    </tr>\n",
       "    <tr>\n",
       "      <th>29</th>\n",
       "      <td>1</td>\n",
       "      <td>1</td>\n",
       "    </tr>\n",
       "    <tr>\n",
       "      <th>32</th>\n",
       "      <td>0</td>\n",
       "      <td>0</td>\n",
       "    </tr>\n",
       "    <tr>\n",
       "      <th>12</th>\n",
       "      <td>0</td>\n",
       "      <td>0</td>\n",
       "    </tr>\n",
       "    <tr>\n",
       "      <th>46</th>\n",
       "      <td>0</td>\n",
       "      <td>1</td>\n",
       "    </tr>\n",
       "    <tr>\n",
       "      <th>63</th>\n",
       "      <td>0</td>\n",
       "      <td>1</td>\n",
       "    </tr>\n",
       "    <tr>\n",
       "      <th>55</th>\n",
       "      <td>1</td>\n",
       "      <td>0</td>\n",
       "    </tr>\n",
       "    <tr>\n",
       "      <th>11</th>\n",
       "      <td>1</td>\n",
       "      <td>2</td>\n",
       "    </tr>\n",
       "    <tr>\n",
       "      <th>27</th>\n",
       "      <td>1</td>\n",
       "      <td>0</td>\n",
       "    </tr>\n",
       "    <tr>\n",
       "      <th>47</th>\n",
       "      <td>0</td>\n",
       "      <td>0</td>\n",
       "    </tr>\n",
       "    <tr>\n",
       "      <th>24</th>\n",
       "      <td>2</td>\n",
       "      <td>2</td>\n",
       "    </tr>\n",
       "    <tr>\n",
       "      <th>64</th>\n",
       "      <td>0</td>\n",
       "      <td>2</td>\n",
       "    </tr>\n",
       "    <tr>\n",
       "      <th>53</th>\n",
       "      <td>0</td>\n",
       "      <td>0</td>\n",
       "    </tr>\n",
       "    <tr>\n",
       "      <th>58</th>\n",
       "      <td>2</td>\n",
       "      <td>2</td>\n",
       "    </tr>\n",
       "    <tr>\n",
       "      <th>15</th>\n",
       "      <td>2</td>\n",
       "      <td>0</td>\n",
       "    </tr>\n",
       "    <tr>\n",
       "      <th>54</th>\n",
       "      <td>1</td>\n",
       "      <td>0</td>\n",
       "    </tr>\n",
       "    <tr>\n",
       "      <th>60</th>\n",
       "      <td>1</td>\n",
       "      <td>0</td>\n",
       "    </tr>\n",
       "    <tr>\n",
       "      <th>30</th>\n",
       "      <td>2</td>\n",
       "      <td>0</td>\n",
       "    </tr>\n",
       "    <tr>\n",
       "      <th>66</th>\n",
       "      <td>0</td>\n",
       "      <td>0</td>\n",
       "    </tr>\n",
       "    <tr>\n",
       "      <th>19</th>\n",
       "      <td>1</td>\n",
       "      <td>0</td>\n",
       "    </tr>\n",
       "    <tr>\n",
       "      <th>2</th>\n",
       "      <td>1</td>\n",
       "      <td>2</td>\n",
       "    </tr>\n",
       "  </tbody>\n",
       "</table>\n",
       "</div>"
      ],
      "text/plain": [
       "    pred  real\n",
       "56     2     2\n",
       "44     1     1\n",
       "29     1     1\n",
       "32     0     0\n",
       "12     0     0\n",
       "46     0     1\n",
       "63     0     1\n",
       "55     1     0\n",
       "11     1     2\n",
       "27     1     0\n",
       "47     0     0\n",
       "24     2     2\n",
       "64     0     2\n",
       "53     0     0\n",
       "58     2     2\n",
       "15     2     0\n",
       "54     1     0\n",
       "60     1     0\n",
       "30     2     0\n",
       "66     0     0\n",
       "19     1     0\n",
       "2      1     2"
      ]
     },
     "execution_count": 25,
     "metadata": {},
     "output_type": "execute_result"
    }
   ],
   "source": [
    "import pandas as pd\n",
    "import numpy as np\n",
    "from sklearn.model_selection import train_test_split\n",
    "from sklearn.ensemble import RandomForestClassifier\n",
    "df = pd.read_csv(\"data/test1.csv\")\n",
    "def rating(mens_cramp):\n",
    "    if mens_cramp >= 8: return 2\n",
    "    elif mens_cramp >= 7: return 1\n",
    "    else: return 0\n",
    "df['mens_cramp_rank'] = df.apply(lambda x: rating(x['mens_cramp']),axis=1)\n",
    "\n",
    "x = df[['height', 'weight', 'mens_cycle', 'mens_period', 'menarche_age', 'bmi', 'thyroid_hyperthyroidism', 'thyroid_cancer', 'mens_cramp_symptoms_emotion', 'mens_cramp_symptoms_lethargy', 'mens_cramp_symptoms_nervousness', 'mens_cramp_symptoms_gas', 'mens_cramp_symptoms_digestive_upset', 'mens_cramp_symptoms_headache', 'mens_cramp_symptoms_depression', 'mens_cramp_symptoms_migraine',  'mens_cramp_symptoms_drowsiness', 'mens_cramp_symptoms_sensitive_temperature', 'mens_cramp_symptoms_leg_numbness', 'mens_cramp_symptoms_leg_swelling', 'mens_cramp_symptoms_voracity', 'mens_cramp_symptoms_insomnia', 'mens_cramp_symptoms_excessive_sleep', 'mens_cramp_symptoms_pimple', 'mens_cramp_symptoms_sickness', 'mens_cramp_symptoms_gastrointestinal_disorder', 'mens_cramp_symptoms_muscle_pain', 'mens_cramp_symptoms_increased_libido', 'mens_cramp_symptoms_dizziness', 'mens_cramp_symptoms_throw_up', 'mens_cramp_symptoms_anemia', 'mens_cramp_symptoms_whirl', 'mens_cramp_symptoms_joint_pain', 'mens_cramp_symptoms_fever', 'mens_cramp_symptoms_chill', 'mens_cramp_symptoms_orthostatic_hypotension', 'mens_symptoms_3_gas', 'mens_before_after_pattern_keen', 'mens_before_after_pattern_partying', 'mens_before_after_pattern_comfy_clothes', 'mens_before_after_pattern_dark_clothes', 'mens_before_after_pattern_accessory']]\n",
    "y = df['mens_cramp_rank']\n",
    "x_train, x_test, y_train, y_test = train_test_split(x, y, test_size = 0.3)\n",
    "\n",
    "model = RandomForestClassifier(n_estimators = 400)\n",
    "model.fit(x_train, y_train)\n",
    "\n",
    "y_pred = model.predict(x_test)\n",
    "print(\"Accuracy is: \", accuracy_score(y_pred, y_test))\n",
    "\n",
    "result = pd.DataFrame({'pred' : y_pred, 'real' : y_test})\n",
    "\n",
    "result"
   ]
  },
  {
   "cell_type": "code",
   "execution_count": null,
   "id": "5db2d22c",
   "metadata": {},
   "outputs": [],
   "source": []
  }
 ],
 "metadata": {
  "kernelspec": {
   "display_name": "Python 3",
   "language": "python",
   "name": "python3"
  },
  "language_info": {
   "codemirror_mode": {
    "name": "ipython",
    "version": 3
   },
   "file_extension": ".py",
   "mimetype": "text/x-python",
   "name": "python",
   "nbconvert_exporter": "python",
   "pygments_lexer": "ipython3",
   "version": "3.8.8"
  }
 },
 "nbformat": 4,
 "nbformat_minor": 5
}
